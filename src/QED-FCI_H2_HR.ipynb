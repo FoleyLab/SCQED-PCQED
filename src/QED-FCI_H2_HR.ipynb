{
 "cells": [
  {
   "cell_type": "code",
   "execution_count": null,
   "id": "57746595",
   "metadata": {},
   "outputs": [],
   "source": [
    "# import libraries\n",
    "import numpy as np\n",
    "import sys\n",
    "import psi4\n",
    "from helper_PFCI import PFHamiltonianGenerator\n",
    "np.set_printoptions(threshold=sys.maxsize)\n",
    "import scipy\n",
    "from scipy.optimize import curve_fit\n",
    "from scipy import interpolate\n",
    "from matplotlib import pyplot as plt\n",
    "from scipy import constants\n",
    "from numpy.polynomial import Polynomial\n",
    "import pandas"
   ]
  },
  {
   "cell_type": "code",
   "execution_count": null,
   "id": "fab14536",
   "metadata": {},
   "outputs": [],
   "source": [
    "mol_str = \"\"\"\n",
    "H\n",
    "H 1 0.74\n",
    "symmetry c1\n",
    "\"\"\"\n",
    "\n",
    "# options for the PFHamiltonian Generator class - include cavity effects\n",
    "cavity_dict = {\n",
    "    'omega_value' : 0.7320720628787358,\n",
    "    'lambda_vector' : np.array([0, 0, 0.000]),\n",
    "    'ci_level' : 'fci',   \n",
    "    'full_diagonalization' : True,\n",
    "    'number_of_photons' : 1, #<== this is a minimal photon basis, should explore increasing this \n",
    "}\n",
    "\n",
    "# options for PFHamiltonian Generator class - exclude cavity effects\n",
    "cavity_free_dict = {\n",
    "    'omega_value' : 0.0,\n",
    "    'lambda_vector' : np.array([0, 0, 0.0]),\n",
    "    'ci_level' : 'fci',   \n",
    "    'full_diagonalization' : True,\n",
    "    'number_of_photons' : 0, \n",
    "}\n",
    "\n"
   ]
  },
  {
   "cell_type": "markdown",
   "id": "ae96dfcc",
   "metadata": {},
   "source": [
    "##  Scan centered around ground state PES minimum"
   ]
  },
  {
   "cell_type": "code",
   "execution_count": null,
   "id": "eed3a998",
   "metadata": {},
   "outputs": [],
   "source": [
    "mol_tmpl = \"\"\"\n",
    "H\n",
    "H 1 **R**\n",
    "symmetry c1\n",
    "\"\"\"\n",
    "options_dict = {\n",
    "    \"basis\": \"sto-3g\",\n",
    "    \"scf_type\": \"pk\",\n",
    "    \"e_convergence\": 1e-10,\n",
    "    \"d_convergence\": 1e-10,\n",
    "    'num_roots' : 2\n",
    "}\n",
    "\n",
    "# number of bondlengths in the scan\n",
    "N_R = 200\n",
    "\n",
    "# number of electronic states to save\n",
    "N_el = 8\n",
    "\n",
    "# array  for energies inside the cavity\n",
    "cavity_E_array = np.zeros((N_R, N_el))\n",
    "\n",
    "r_data = np.linspace(0.5, 2.0, N_R)\n",
    "psi4.set_options(options_dict)\n",
    "fci_S0 = []\n",
    "fci_S1 = []\n",
    "r_idx = 0\n",
    "for r in r_data:\n",
    "    mol_str = mol_tmpl.replace(\"**R**\", str(r))\n",
    "    mol = psi4.geometry(mol_str)\n",
    "    scf_e, wfn = psi4.energy('SCF', return_wfn=True)\n",
    "    fci_energy, wfn = psi4.energy('fci',ref_wfn=wfn, return_wfn=True)\n",
    "    fci_S0.append(wfn.variable(\"CI ROOT 0 TOTAL ENERGY\"))\n",
    "    fci_S1.append(wfn.variable(\"CI ROOT 1 TOTAL ENERGY\"))\n",
    "    cav = PFHamiltonianGenerator(mol_str, options_dict, cavity_dict)\n",
    "    cavity_E_array[r_idx,:] = cav.CIeigs[:N_el]\n",
    "    r_idx += 1"
   ]
  },
  {
   "cell_type": "markdown",
   "id": "832e332e",
   "metadata": {},
   "source": [
    "## Scan centered around excited state PES minimum"
   ]
  },
  {
   "cell_type": "code",
   "execution_count": null,
   "id": "cd9dc25a",
   "metadata": {},
   "outputs": [],
   "source": [
    "mol_tmpl_e = \"\"\"\n",
    "H\n",
    "H 1 **R**\n",
    "symmetry c1\n",
    "\"\"\"\n",
    "\n",
    "r_data_e = np.linspace(0.50, 2.0, 50)\n",
    "psi4.set_options(options_dict)\n",
    "fci_S0_e = []\n",
    "fci_S1_e = []\n",
    "for r in r_data_e:\n",
    "    mol_str_e = mol_tmpl.replace(\"**R**\", str(r))\n",
    "    mol_e = psi4.geometry(mol_str_e)\n",
    "    scf_e, wfn = psi4.energy('SCF', return_wfn=True)\n",
    "    fci_energy, wfn = psi4.energy('fci',ref_wfn=wfn, return_wfn=True)\n",
    "    fci_S0_e.append(wfn.variable(\"CI ROOT 0 TOTAL ENERGY\"))\n",
    "    fci_S1_e.append(wfn.variable(\"CI ROOT 1 TOTAL ENERGY\"))"
   ]
  },
  {
   "cell_type": "markdown",
   "id": "352360c7",
   "metadata": {},
   "source": [
    "## Permanent Dipole Moment Calculations"
   ]
  },
  {
   "cell_type": "code",
   "execution_count": null,
   "id": "f29e389c",
   "metadata": {},
   "outputs": [],
   "source": [
    "g_string = \"\"\"\n",
    "H        0.0000000000      0.0000000000      0.0000000000                 \n",
    "H        0.0000000000      0.0000000000      0.746498\n",
    "symmetry c1\n",
    "\"\"\"\n",
    "\n",
    "g = psi4.geometry(g_string)\n",
    "\n",
    "psi4.set_options(options_dict)\n",
    "\n",
    "E, wfn_g = psi4.energy('SCF', return_wfn=True,molecule=g)\n",
    "psi4.oeprop(wfn, 'DIPOLE', molecule=g)"
   ]
  },
  {
   "cell_type": "code",
   "execution_count": null,
   "id": "65299b98",
   "metadata": {},
   "outputs": [],
   "source": [
    "# z-matrix for first excited state state LIH\n",
    "e_string = \"\"\"\n",
    "H        0.0000000000      0.0000000000      0.0000000000                 \n",
    "H        0.0000000000      0.0000000000      0.746498\n",
    "symmetry c1\n",
    "\"\"\"\n",
    "\n",
    "options_dict1 = {\n",
    "    \"basis\": \"sto-3g\",\n",
    "    \"scf_type\": \"pk\",\n",
    "    \"e_convergence\": 1e-10,\n",
    "    \"d_convergence\": 1e-10,\n",
    "    'TDSCF_STATES' : 1\n",
    "}\n",
    "\n",
    "e_geom = psi4.geometry(e_string)\n",
    "\n",
    "psi4.set_options(options_dict1)\n",
    "\n",
    "E, wfn_e = psi4.energy('TD-SCF', return_wfn=True, molecule=e_geom,)\n",
    "#psi4.oeprop(wfn, 'DIPOLE', molecule=LiH_e)"
   ]
  },
  {
   "cell_type": "markdown",
   "id": "3edaef63",
   "metadata": {},
   "source": [
    "## Calculation of k\n",
    "Fit ground state PES of H2 to a quintic polynomial"
   ]
  },
  {
   "cell_type": "code",
   "execution_count": null,
   "id": "9a682bbf",
   "metadata": {},
   "outputs": [],
   "source": [
    "def find_crossover(array1, array2):\n",
    "    idx = (np.abs(array1 - array2)).argmin()\n",
    "\n",
    "    return idx\n",
    "index_LP = find_crossover(cavity_E_array[:,1], cavity_E_array[:,2])\n",
    "index_UP = find_crossover(cavity_E_array[:,3], cavity_E_array[:,4])\n",
    "\n",
    "UP_array_1 = cavity_E_array[:index_UP,3]\n",
    "UP_array_2 = cavity_E_array[index_UP:,4]\n",
    "UP_array_full = np.concatenate((UP_array_1, UP_array_2), axis=0)\n",
    "    \n",
    "LP_array_1 = cavity_E_array[index_LP:,2]\n",
    "LP_array_2 = cavity_E_array[:index_LP,1]\n",
    "LP_array_full = np.concatenate((LP_array_2, LP_array_1), axis=0)\n",
    "\n",
    "au_to_SI = (4.35974 * 10 ** (-18)) * 10 ** 20\n",
    "min_S0_loc = np.argmin(fci_S0[:])\n",
    "min_S1_loc = np.argmin(fci_S1_e[:])\n",
    "min_LP_loc = np.argmin(LP_array_full)\n",
    "min_UP_loc = np.argmin(cavity_E_array[:,4])\n",
    "r_eq_ang = r_data[min_S0_loc]\n",
    "print(f'Min on S0 is {r_data[min_S0_loc]}')\n",
    "print(f'Min on S1 is {r_data_e[min_S1_loc]}')\n",
    "print(f'Min on LP is {r_data[min_LP_loc]}')\n",
    "print(f'Min on UP is {r_data[min_UP_loc]}')\n",
    "\n",
    "# Fitting S0 PES to a quintic polynomial\n",
    "poly = np.poly1d(np.polyfit(r_data, fci_S0, 8))\n",
    "print(poly)\n",
    "\n",
    "#Taking first and second derivative of S0 PES and evaluating at r_eq\n",
    "first_derivative = poly.deriv()\n",
    "second_derivative = first_derivative.deriv()\n",
    "k_test_au = second_derivative(r_eq_ang)\n",
    "k_test_SI = k_test_au * au_to_SI\n",
    "print(k_test_SI)\n",
    "\n",
    "#plotting S0 PES and quintic fit\n",
    "plt.plot(r_data, poly(r_data), 'm-', label='fit')\n",
    "plt.plot(r_data, fci_S0[:], 'bo', label='cavity free |g>')\n",
    "plt.show"
   ]
  },
  {
   "cell_type": "markdown",
   "id": "2c595ad2",
   "metadata": {},
   "source": [
    "## Calculation of $ \\text{x}_0 $\n",
    "\n",
    "$$ \\frac{\\hbar}{2}\\sqrt{\\frac{k}{\\mu}} = \\frac{k}{2}(x_0 - x_{eq})^2 + V_0 $$\n",
    "\n",
    "Expanded, solved for $ x_o $, and found zeros using quadratic formula"
   ]
  },
  {
   "cell_type": "code",
   "execution_count": null,
   "id": "5e921ac8",
   "metadata": {},
   "outputs": [],
   "source": [
    "mu_amu = 1.00784 * 1.00784 / (1.00784 + 1.00784)\n",
    "mu_kg = mu_amu  * 10 ** (-3) / (6.022 * 10 ** 23) \n",
    "r_eq_SI = r_eq_ang * 10 ** (-10)\n",
    "h_bar = constants.hbar\n",
    "V_0_loc = np.argmin(fci_S0)\n",
    "V_0 = fci_S0[V_0_loc] * 4.35974 * 10 ** (-18)\n",
    "left = (h_bar / 2) * np.sqrt(k_test_SI / mu_kg)\n",
    "a = 0.5 * k_test_SI \n",
    "b = -k_test_SI * r_eq_SI\n",
    "c = 0.5 * k_test_SI * (r_eq_SI ** 2) - left\n",
    "zeros_n = (-b - np.sqrt((b ** 2) - 4 * a * c)) / (2 * a)\n",
    "zeros_p = (-b + np.sqrt((b ** 2) - 4 * a * c)) / (2 * a)\n",
    "x0_angstrom = zeros_n * 10 ** 10\n",
    "x0_au = x0_angstrom / psi4.constants.bohr2angstroms\n",
    "print(x0_angstrom)"
   ]
  },
  {
   "cell_type": "markdown",
   "id": "378388b2",
   "metadata": {},
   "source": [
    "## Calculation of the Huang-Rhys Factor\n",
    "Huang Rhys factor can be calculated by both\n",
    "\n",
    "$$ S = 1/2(\\Delta x / x_0)^2 \\tag{Turner}$$\n",
    "\n",
    "from the mode anharmonicity paper\n",
    "\n",
    "and \n",
    "\n",
    "$$ S = \\frac{m\\omega_{vib} \\Delta x^2}{2 \\hbar} \\tag{Hsu}$$\n",
    "\n",
    "from the polaritonic Huang-Rhys factor paper"
   ]
  },
  {
   "cell_type": "code",
   "execution_count": null,
   "id": "c247fbde",
   "metadata": {
    "scrolled": true
   },
   "outputs": [],
   "source": [
    "# Constants and Variables\n",
    "delta_au = (r_data_e[min_S1_loc] - r_data[min_S0_loc]) / psi4.constants.bohr2angstroms\n",
    "delta_LP_au = (r_data[min_LP_loc] - r_data[min_S0_loc]) / psi4.constants.bohr2angstroms\n",
    "delta_UP_au = (r_data[min_UP_loc] - r_data[min_S0_loc]) / psi4.constants.bohr2angstroms\n",
    "delta_m = (r_data_e[min_S1_loc] - r_data[min_S0_loc]) * 10 ** (-10)\n",
    "delta_angstrom = (r_data_e[min_S1_loc] - r_data[min_S0_loc])\n",
    "omega_vib = np.sqrt(k_test_SI / mu_kg)\n",
    "h_bar = constants.hbar\n",
    "x0_test = np.sqrt(h_bar * omega_vib / k_test_SI)\n",
    "x0_test_au = (x0_test * 10 ** (10))  / psi4.constants.bohr2angstroms\n",
    "\n",
    "# Turner\n",
    "S_Turner = 0.5 * (delta_au / x0_test_au) ** 2\n",
    "\n",
    "# Hsu\n",
    "S_Hsu = mu_kg * omega_vib * delta_m ** 2 / (2 * h_bar)\n",
    "\n",
    "#g and LP \n",
    "\n",
    "HR_LP = 0.5 * (delta_LP_au / x0_test_au) ** 2\n",
    "HR_UP = 0.5 * (delta_UP_au / x0_test_au) ** 2\n",
    "\n",
    "print('|g> and |e> HR Factor')\n",
    "print(S_Turner)\n",
    "print(S_Hsu)\n",
    "\n",
    "print('LP and UP HR Factor')\n",
    "print(HR_LP)\n",
    "print(HR_UP)"
   ]
  },
  {
   "cell_type": "markdown",
   "id": "1c4317c9",
   "metadata": {},
   "source": [
    "## Polaritonic Huang-Rhys Factor\n",
    "\n",
    "$$ S_{pol} = \\frac{|\\Delta\\mu \\epsilon_s|^2}{2\\epsilon_0 V_{eff,s} \\hbar \\omega_s} \\tag{Hsu} $$\n",
    "Where:\n",
    "\n",
    "$\\Delta\\mu \\equiv \\text{Permanant Dipole Difference} = \\mu_g - \\mu_e$\n",
    "\n",
    "$\\epsilon_s \\equiv \\text{Unit Vector}$\n",
    "\n",
    "$V_{eff,s} \\equiv \\text{Effective Mode Volume}$\n",
    "\n",
    "$\\omega_s \\equiv \\text{Frequency of a single photonic mode}$"
   ]
  },
  {
   "cell_type": "code",
   "execution_count": null,
   "id": "3621476e",
   "metadata": {},
   "outputs": [],
   "source": [
    "mu_g = 1.9066253 * 3.335 * 10 ** (-30)\n",
    "mu_e = 1.9450498 * 3.335 * 10 ** (-30)\n",
    "d_mu_squared = (mu_g - mu_e) ** 2\n",
    "epsilon_s = 1\n",
    "epsilon_0 = constants.epsilon_0\n",
    "lambda_mag = 0.05 #ask about units\n",
    "V_eff = h_bar / (epsilon_0 * lambda_mag ** 2)  \n",
    "omega_s = 0.12086  #ask about units\n",
    "S_pol = d_mu_squared / (2 * epsilon_0 * V_eff * h_bar * omega_s)\n",
    "print(S_pol)"
   ]
  },
  {
   "cell_type": "markdown",
   "id": "66994e19-bf39-4e81-9e46-b6ad75c797f9",
   "metadata": {},
   "source": [
    "First plot the ground-state potential energy surfaces for $ \\text{LiH} $ inside and outisde the cavity.  The effect of the cavity will raise the energy slightly."
   ]
  },
  {
   "cell_type": "code",
   "execution_count": null,
   "id": "be6ca631-25f0-4ed9-8701-682e1e336cd4",
   "metadata": {},
   "outputs": [],
   "source": [
    "fci_S0_omega = np.zeros((1, N_R))\n",
    "for i in range(N_R):\n",
    "    #fci_S0_omega[0,i] = cavity_E_array[i,0] + 0.12086\n",
    "    fci_S0_omega[0,i] = fci_S0[i] + 0.7320720628787358\n",
    "fci_S0_plusw = np.ndarray.flatten(fci_S0_omega)\n",
    "\n",
    "\n",
    "\n",
    "\n",
    "plt.plot(r_data, fci_S0_plusw, 'r-', label='cavity free |g + $\\omega$>')\n",
    "plt.plot(r_data, fci_S1, 'b-', label='cavity free |e>')\n",
    "#plt.plot(r_data, LP_array_full, 'm-', label='cavity LiH |LP>')\n",
    "#plt.plot(r_data, cavity_E_array[:,1], 'g-', label='cavity LiH |TRIPLET>')\n",
    "#plt.plot(r_data, cavity_E_array[:,3], 'c-', label='cavity LiH |UP>')\n",
    "plt.plot(r_data, UP_array_full, 'g', label='LP')\n",
    "plt.plot(r_data, LP_array_full, 'm', label='UP')\n",
    "plt.xlabel('r (Angstrom)')\n",
    "plt.ylabel('E (Hartree)')\n",
    "\n",
    "\n",
    "#plt.xlim(1.5, 2)\n",
    "#plt.ylim(-7.76, -7.72)\n",
    "plt.legend()\n",
    "plt.show()"
   ]
  },
  {
   "cell_type": "code",
   "execution_count": null,
   "id": "f892c384",
   "metadata": {},
   "outputs": [],
   "source": [
    "#pd.DataFrame(matrix).to_clipboard()\n",
    "\n",
    "omega_test = np.abs(fci_S0[70] - fci_S1[70])\n",
    "print(omega_test)\n",
    "print(r_data[70])\n"
   ]
  },
  {
   "cell_type": "code",
   "execution_count": null,
   "id": "6d601c50",
   "metadata": {},
   "outputs": [],
   "source": []
  }
 ],
 "metadata": {
  "kernelspec": {
   "display_name": "Python 3 (ipykernel)",
   "language": "python",
   "name": "python3"
  },
  "language_info": {
   "codemirror_mode": {
    "name": "ipython",
    "version": 3
   },
   "file_extension": ".py",
   "mimetype": "text/x-python",
   "name": "python",
   "nbconvert_exporter": "python",
   "pygments_lexer": "ipython3",
   "version": "3.11.7"
  }
 },
 "nbformat": 4,
 "nbformat_minor": 5
}
