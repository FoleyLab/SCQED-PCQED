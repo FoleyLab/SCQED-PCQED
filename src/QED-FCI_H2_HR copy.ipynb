{
 "cells": [
  {
   "cell_type": "code",
   "execution_count": 1,
   "id": "57746595",
   "metadata": {},
   "outputs": [
    {
     "name": "stderr",
     "output_type": "stream",
     "text": [
      "/var/folders/ss/883k4s4x7qj7sr5ypdpszg9n7510f8/T/ipykernel_65606/4003142107.py:13: DeprecationWarning: \n",
      "Pyarrow will become a required dependency of pandas in the next major release of pandas (pandas 3.0),\n",
      "(to allow more performant data types, such as the Arrow string type, and better interoperability with other libraries)\n",
      "but was not found to be installed on your system.\n",
      "If this would cause problems for you,\n",
      "please provide us feedback at https://github.com/pandas-dev/pandas/issues/54466\n",
      "        \n",
      "  import pandas as pd\n"
     ]
    }
   ],
   "source": [
    "# import libraries\n",
    "import numpy as np\n",
    "import sys\n",
    "import psi4\n",
    "from helper_PFCI import PFHamiltonianGenerator\n",
    "np.set_printoptions(threshold=sys.maxsize)\n",
    "import scipy\n",
    "from scipy.optimize import curve_fit\n",
    "from scipy import interpolate\n",
    "from matplotlib import pyplot as plt\n",
    "from scipy import constants\n",
    "from numpy.polynomial import Polynomial\n",
    "import pandas as pd"
   ]
  },
  {
   "cell_type": "code",
   "execution_count": 2,
   "id": "a93e9eea",
   "metadata": {},
   "outputs": [],
   "source": [
    "array_data = \"/Users/ptolley1/Documents/Github/SCQED-PCQED/array_data\"\n",
    "cavity_E_array_0_00 = np.load(array_data + \"/LiH/fci_cavity_arrays_LiH_6311G0.npy\")\n",
    "cavity_E_array_0_001 = np.load(array_data + \"/LiH/fci_cavity_arrays_LiH_6311G0_001.npy\")\n",
    "cavity_E_array_0_005 = np.load(array_data + \"/LiH/fci_cavity_arrays_LiH_6311G0_005.npy\")\n",
    "cavity_E_array_0_01 = np.load(array_data + \"/LiH/fci_cavity_arrays_LiH_6311G0_01.npy\")\n",
    "cavity_E_array_0_02 = np.load(array_data + \"/LiH/fci_cavity_arrays_LiH_6311G0_02.npy\")\n",
    "cavity_E_array_0_03 = np.load(array_data + \"/LiH/fci_cavity_arrays_LiH_6311G0_03.npy\")\n",
    "cavity_E_array_0_04 = np.load(array_data + \"/LiH/fci_cavity_arrays_LiH_6311G0_04.npy\")\n",
    "cavity_E_array_0_05 = np.load(array_data + \"/LiH/fci_cavity_arrays_LiH_6311G0_05.npy\")\n",
    "r_data = np.load(array_data + \"/LiH/fci_r_array_LiH.npy\")\n",
    "N_R = r_data.shape[0]"
   ]
  },
  {
   "cell_type": "markdown",
   "id": "3edaef63",
   "metadata": {},
   "source": [
    "## Calculation of k\n",
    "Fit ground state PES of H2 to a quintic polynomial"
   ]
  },
  {
   "cell_type": "code",
   "execution_count": 3,
   "id": "9a682bbf",
   "metadata": {},
   "outputs": [
    {
     "name": "stdout",
     "output_type": "stream",
     "text": [
      "[[-7.79887375 -7.80819347 -7.8168038  -7.8247522  -7.83208291 -7.83883721\n",
      "  -7.84505355 -7.85076782 -7.85992961 -7.8647905  -7.86932245 -7.87354815\n",
      "  -7.87748872 -7.88116384 -7.88459185 -7.88778983 -7.89077369 -7.89355826\n",
      "  -7.89615737 -7.89858389 -7.90084985 -7.90296645 -7.90494412 -7.90679262\n",
      "  -7.90852102 -7.9101378  -7.91165086 -7.91306759 -7.91439485 -7.91563906\n",
      "  -7.9168062  -7.91790185 -7.9189312  -7.91989912 -7.9208101  -7.92166835\n",
      "  -7.9224778  -7.92324208 -7.92396459 -7.92464848 -7.92529667 -7.92591189\n",
      "  -7.92649665 -7.9270533  -7.927584   -7.92809075 -7.9285754  -7.92903967\n",
      "  -7.92948512 -7.92991322]\n",
      " [-7.79887315 -7.80819255 -7.81680267 -7.82475094 -7.83208157 -7.83883582\n",
      "  -7.84505216 -7.85076646 -7.85992803 -7.86478892 -7.86932087 -7.87354657\n",
      "  -7.87748713 -7.88116225 -7.88459026 -7.88778823 -7.89077209 -7.89355665\n",
      "  -7.89615575 -7.89858227 -7.90084823 -7.90296482 -7.90494249 -7.90679098\n",
      "  -7.90851938 -7.91013615 -7.91164921 -7.91306594 -7.91439319 -7.9156374\n",
      "  -7.91680453 -7.91790018 -7.91892953 -7.91989744 -7.92080842 -7.92166667\n",
      "  -7.92247611 -7.92324039 -7.9239629  -7.92464678 -7.92529497 -7.92591019\n",
      "  -7.92649495 -7.92705159 -7.92758229 -7.92808903 -7.92857369 -7.92903795\n",
      "  -7.9294834  -7.9299115 ]\n",
      " [-7.79885805 -7.80817022 -7.81677552 -7.82472059 -7.83204925 -7.83880249\n",
      "  -7.84501862 -7.85073346 -7.85989025 -7.86475105 -7.86928291 -7.8735085\n",
      "  -7.87744897 -7.88112399 -7.8845519  -7.88774976 -7.89073351 -7.89351797\n",
      "  -7.89611697 -7.89854338 -7.90080923 -7.90292571 -7.90490327 -7.90675166\n",
      "  -7.90847995 -7.91009662 -7.91160958 -7.9130262  -7.91435335 -7.91559746\n",
      "  -7.9167645  -7.91786005 -7.91888931 -7.91985713 -7.92076802 -7.92162619\n",
      "  -7.92243556 -7.92319976 -7.92392219 -7.924606   -7.92525412 -7.92586927\n",
      "  -7.92645397 -7.92701055 -7.92754119 -7.92804788 -7.92853248 -7.9289967\n",
      "  -7.92944211 -7.92987016]\n",
      " [-7.79880521 -7.8080967  -7.81668794 -7.82462363 -7.83194644 -7.83869665\n",
      "  -7.84491217 -7.85062859 -7.85977148 -7.864632   -7.86916356 -7.87338886\n",
      "  -7.87732902 -7.88100372 -7.8844313  -7.88762884 -7.89061226 -7.89339638\n",
      "  -7.89599504 -7.89842112 -7.90068663 -7.90280277 -7.90478    -7.90662805\n",
      "  -7.90835601 -7.90997236 -7.911485   -7.9129013  -7.91422815 -7.91547195\n",
      "  -7.9166387  -7.91773396 -7.91876294 -7.91973048 -7.92064111 -7.92149902\n",
      "  -7.92230814 -7.9230721  -7.9237943  -7.9244779  -7.92512581 -7.92574076\n",
      "  -7.92632526 -7.92688167 -7.92741213 -7.92791867 -7.92840311 -7.92886719\n",
      "  -7.92931247 -7.9297404 ]\n",
      " [-7.79852773 -7.80775668 -7.81630344 -7.82420852 -7.83151175 -7.83825159\n",
      "  -7.84446476 -7.85018612 -7.85928655 -7.86414585 -7.86867617 -7.87290018\n",
      "  -7.87683903 -7.8805124  -7.88393864 -7.88713482 -7.89011687 -7.89289963\n",
      "  -7.89549692 -7.89792163 -7.90018578 -7.90230058 -7.90427647 -7.90612321\n",
      "  -7.90784987 -7.90946494 -7.91097633 -7.91239141 -7.91371706 -7.9149597\n",
      "  -7.91612531 -7.91721947 -7.91824738 -7.9192139  -7.92012353 -7.92098049\n",
      "  -7.92178869 -7.92255178 -7.92327315 -7.92395595 -7.92460311 -7.92521734\n",
      "  -7.92580118 -7.92635695 -7.92688683 -7.92739281 -7.92787675 -7.92834035\n",
      "  -7.92878519 -7.92921273]\n",
      " [-7.79791619 -7.80707932 -7.81557628 -7.82344544 -7.83072478 -7.83745132\n",
      "  -7.84366067 -7.84938692 -7.8584467  -7.8633037  -7.86783168 -7.87205333\n",
      "  -7.8759898  -7.87966078 -7.88308462 -7.88627841 -7.88925808 -7.89203847\n",
      "  -7.89463342 -7.89705581 -7.89931768 -7.90143024 -7.90340393 -7.90524851\n",
      "  -7.90697307 -7.9085861  -7.9100955  -7.91150866 -7.91283245 -7.91407329\n",
      "  -7.91523718 -7.91632969 -7.91735602 -7.91832103 -7.91922923 -7.92008484\n",
      "  -7.92089176 -7.92165364 -7.92237388 -7.92305563 -7.92370181 -7.92431515\n",
      "  -7.92489815 -7.92545317 -7.92598236 -7.92648773 -7.92697112 -7.92743425\n",
      "  -7.92787867 -7.92830586]\n",
      " [-7.79688676 -7.80599302 -7.81444479 -7.82227989 -7.82953552 -7.83624787\n",
      "  -7.84245181 -7.84818075 -7.85346654 -7.8620687  -7.86659299 -7.87081096\n",
      "  -7.87474376 -7.8784111  -7.88183133 -7.88502155 -7.88799771 -7.89077465\n",
      "  -7.89336621 -7.8957853  -7.89804396 -7.90015338 -7.90212405 -7.9039657\n",
      "  -7.90568745 -7.90729776 -7.90880457 -7.91021524 -7.91153668 -7.91277529\n",
      "  -7.91393706 -7.91502758 -7.91605206 -7.91701533 -7.91792193 -7.91877605\n",
      "  -7.91958161 -7.92034226 -7.92106139 -7.92174214 -7.92238745 -7.92300002\n",
      "  -7.92358238 -7.92413686 -7.92466562 -7.92517066 -7.92565382 -7.92611681\n",
      "  -7.92656119 -7.92698842]\n",
      " [-7.79539942 -7.80445889 -7.81287204 -7.82067687 -7.82791034 -7.83460824\n",
      "  -7.84080497 -7.84653344 -7.85182498 -7.86040648 -7.8649255  -7.86913825\n",
      "  -7.8730659  -7.87672818 -7.88014344 -7.88332881 -7.88630024 -7.88907258\n",
      "  -7.89165969 -7.89407448 -7.89632898 -7.89843443 -7.90040129 -7.90223931\n",
      "  -7.90395761 -7.90556466 -7.90706839 -7.90847619 -7.90979494 -7.91103105\n",
      "  -7.91219053 -7.91327895 -7.91430151 -7.91526306 -7.91616813 -7.9170209\n",
      "  -7.9178253  -7.91858497 -7.91930329 -7.91998341 -7.92062824 -7.92124051\n",
      "  -7.92182271 -7.92237719 -7.92290609 -7.92341141 -7.92389498 -7.9243585\n",
      "  -7.92480354 -7.92523154]]\n"
     ]
    }
   ],
   "source": [
    "def find_crossover(array1, array2):\n",
    "    idx = (np.abs(array1 - array2)).argmin()\n",
    "\n",
    "    return idx\n",
    "\n",
    "def compute_full_array(array1, array2, idx1, idx2):\n",
    "    index = find_crossover(array1[idx1,:], array2[idx2,:])\n",
    "    array_1 = array1[idx1,:index]\n",
    "    array_2 = array2[idx2,index:]\n",
    "    array_full = np.concatenate((array_1, array_2), axis=0)    \n",
    "\n",
    "    return array_full\n",
    "\n",
    "S0_array = cavity_E_array_0_00[0,:]\n",
    "S1_array = compute_full_array(cavity_E_array_0_00, cavity_E_array_0_00, 2, 3)\n",
    "\n",
    "LP_0_00 = compute_full_array(cavity_E_array_0_00, cavity_E_array_0_00, 2, 1)\n",
    "LP_0_001 = compute_full_array(cavity_E_array_0_001, cavity_E_array_0_001, 2, 1)\n",
    "LP_0_005 = compute_full_array(cavity_E_array_0_005, cavity_E_array_0_005, 2, 1)\n",
    "LP_0_01 = compute_full_array(cavity_E_array_0_01, cavity_E_array_0_01, 2, 1)\n",
    "LP_0_02 = compute_full_array(cavity_E_array_0_02, cavity_E_array_0_02, 2, 1)\n",
    "LP_0_03 = compute_full_array(cavity_E_array_0_03, cavity_E_array_0_03, 2, 1)\n",
    "LP_0_04 = compute_full_array(cavity_E_array_0_04, cavity_E_array_0_04, 2, 1)\n",
    "LP_0_05 = compute_full_array(cavity_E_array_0_05, cavity_E_array_0_05, 2, 1)\n",
    "\n",
    "UP_0_00 = compute_full_array(cavity_E_array_0_00, cavity_E_array_0_00, 4, 3)\n",
    "UP_0_001 = compute_full_array(cavity_E_array_0_001, cavity_E_array_0_001, 4, 3)\n",
    "UP_0_005 = compute_full_array(cavity_E_array_0_005, cavity_E_array_0_005, 4, 3)\n",
    "UP_0_01 = compute_full_array(cavity_E_array_0_01, cavity_E_array_0_01, 4, 3)\n",
    "UP_0_02 = compute_full_array(cavity_E_array_0_02, cavity_E_array_0_02, 4, 3)\n",
    "UP_0_03 = compute_full_array(cavity_E_array_0_03, cavity_E_array_0_03, 4, 3)\n",
    "UP_0_04 = compute_full_array(cavity_E_array_0_04, cavity_E_array_0_04, 4, 3)\n",
    "UP_0_05 = compute_full_array(cavity_E_array_0_05, cavity_E_array_0_05, 4, 3)\n",
    "\n",
    "LP_arrays = np.array([LP_0_00, \n",
    "            LP_0_001,\n",
    "            LP_0_005,\n",
    "            LP_0_01,\n",
    "            LP_0_02,\n",
    "            LP_0_03,\n",
    "            LP_0_04,\n",
    "            LP_0_05]\n",
    "             )\n",
    "\n",
    "UP_arrays = np.array([UP_0_00, \n",
    "            UP_0_001,\n",
    "            UP_0_005,\n",
    "            UP_0_01,\n",
    "            UP_0_02,\n",
    "            UP_0_03,\n",
    "            UP_0_04,\n",
    "            UP_0_05]\n",
    "             )\n",
    "print(LP_arrays)"
   ]
  },
  {
   "cell_type": "code",
   "execution_count": 4,
   "id": "17ea8b98",
   "metadata": {},
   "outputs": [
    {
     "name": "stdout",
     "output_type": "stream",
     "text": [
      "Min on S0 is 1.6326530612244898\n",
      "Min on S1 is 1.6326530612244898\n",
      "         8          7         6         5         4         3         2\n",
      "0.01309 x - 0.1936 x + 1.274 x - 4.897 x + 12.12 x - 19.96 x + 21.66 x - 14.29 x - 3.647\n",
      "91.3584174472607\n"
     ]
    },
    {
     "data": {
      "text/plain": [
       "<function matplotlib.pyplot.show(close=None, block=None)>"
      ]
     },
     "execution_count": 4,
     "metadata": {},
     "output_type": "execute_result"
    },
    {
     "data": {
      "image/png": "[encoded data removed]",
      "text/plain": [
       "<Figure size 640x480 with 1 Axes>"
      ]
     },
     "metadata": {},
     "output_type": "display_data"
    }
   ],
   "source": [
    "\n",
    "min_S0_loc = np.argmin(S0_array[:])\n",
    "min_S1_loc = np.argmin(S1_array[:])\n",
    "\n",
    "min_LP_array = np.zeros((1,8))\n",
    "min_UP_array = np.zeros((1,8))\n",
    "\n",
    "for i in range(8):\n",
    "    min_LP_array[0,i] = np.argmin(LP_arrays[i])\n",
    "    min_UP_array[0,i] = np.argmin(UP_arrays[i])\n",
    "\n",
    "\n",
    "\n",
    "r_eq_ang = r_data[min_S0_loc]\n",
    "print(f'Min on S0 is {r_data[min_S0_loc]}')\n",
    "print(f'Min on S1 is {r_data[min_S1_loc]}')\n",
    "#print(f'Min on LP is {r_data[min_LP_loc]}')\n",
    "#print(f'Min on UP is {r_data[min_UP_loc]}')\n",
    "\n",
    "# Fitting S0 PES to a quintic polynomial\n",
    "au_to_SI = (4.35974 * 10 ** (-18)) * 10 ** 20\n",
    "poly = np.poly1d(np.polyfit(r_data, S0_array, 8))\n",
    "print(poly)\n",
    "\n",
    "#Taking first and second derivative of S0 PES and evaluating at r_eq\n",
    "first_derivative = poly.deriv()\n",
    "second_derivative = first_derivative.deriv()\n",
    "k_test_au = second_derivative(r_eq_ang)\n",
    "k_test_SI = k_test_au * au_to_SI\n",
    "print(k_test_SI)\n",
    "\n",
    "#plotting S0 PES and quintic fit\n",
    "plt.plot(r_data, poly(r_data), 'm-', label='fit')\n",
    "plt.plot(r_data, S0_array[:], 'bo', label='cavity free |g>')\n",
    "plt.show"
   ]
  },
  {
   "cell_type": "markdown",
   "id": "2c595ad2",
   "metadata": {},
   "source": [
    "## Calculation of $ \\text{x}_0 $\n",
    "\n",
    "$$ \\frac{\\hbar}{2}\\sqrt{\\frac{k}{\\mu}} = \\frac{k}{2}(x_0 - x_{eq})^2 + V_0 $$\n",
    "\n",
    "Expanded, solved for $ x_o $, and found zeros using quadratic formula"
   ]
  },
  {
   "cell_type": "code",
   "execution_count": 5,
   "id": "5e921ac8",
   "metadata": {},
   "outputs": [
    {
     "name": "stdout",
     "output_type": "stream",
     "text": [
      "1.4373559913113807\n"
     ]
    }
   ],
   "source": [
    "mu_amu = 1.00784 * 1.00784 / (1.00784 + 1.00784)\n",
    "mu_kg = mu_amu  * 10 ** (-3) / (6.022 * 10 ** 23) \n",
    "r_eq_SI = r_eq_ang * 10 ** (-10)\n",
    "h_bar = constants.hbar\n",
    "V_0_loc = np.argmin(S0_array)\n",
    "V_0 = S0_array[V_0_loc] * 4.35974 * 10 ** (-18)\n",
    "left = (h_bar / 2) * np.sqrt(k_test_SI / mu_kg)\n",
    "a = 0.5 * k_test_SI \n",
    "b = -k_test_SI * r_eq_SI\n",
    "c = 0.5 * k_test_SI * (r_eq_SI ** 2) - left\n",
    "zeros_n = (-b - np.sqrt((b ** 2) - 4 * a * c)) / (2 * a)\n",
    "zeros_p = (-b + np.sqrt((b ** 2) - 4 * a * c)) / (2 * a)\n",
    "x0_angstrom = zeros_n * 10 ** 10\n",
    "x0_au = x0_angstrom / psi4.constants.bohr2angstroms\n",
    "print(x0_angstrom)"
   ]
  },
  {
   "cell_type": "markdown",
   "id": "378388b2",
   "metadata": {},
   "source": [
    "## Calculation of the Huang-Rhys Factor\n",
    "Huang Rhys factor can be calculated by both\n",
    "\n",
    "$$ S = 1/2(\\Delta x / x_0)^2 \\tag{Turner}$$\n",
    "\n",
    "from the mode anharmonicity paper\n",
    "\n",
    "and \n",
    "\n",
    "$$ S = \\frac{m\\omega_{vib} \\Delta x^2}{2 \\hbar} \\tag{Hsu}$$\n",
    "\n",
    "from the polaritonic Huang-Rhys factor paper"
   ]
  },
  {
   "cell_type": "code",
   "execution_count": 6,
   "id": "c247fbde",
   "metadata": {
    "scrolled": true
   },
   "outputs": [
    {
     "name": "stdout",
     "output_type": "stream",
     "text": [
      "|g> and |e> HR Factor\n",
      "0.0\n",
      "0.0\n",
      "LP and UP HR Factor\n",
      "[[1.76901453 1.76901453 1.76901453 1.76901453 1.76901453 1.76901453\n",
      "  1.76901453 1.76901453]]\n",
      "[[1.76901453 1.76901453 1.76901453 1.76901453 1.76901453 1.76901453\n",
      "  1.76901453 1.76901453]]\n"
     ]
    }
   ],
   "source": [
    "# Constants and Variables\n",
    "delta_au = (r_data[min_S1_loc] - r_data[min_S0_loc]) / psi4.constants.bohr2angstroms\n",
    "\n",
    "delta_LP_au = np.zeros((1,8))\n",
    "delta_UP_au = np.zeros((1,8))\n",
    "\n",
    "for i in range(8):\n",
    "    delta_LP_au[0,i] = (r_data[int(min_LP_array[0,i])] - r_data[min_S0_loc]) / psi4.constants.bohr2angstroms\n",
    "    delta_UP_au[0,i] = (r_data[int(min_UP_array[0,i])] - r_data[min_S0_loc]) / psi4.constants.bohr2angstroms\n",
    "\n",
    "\n",
    "delta_m = (r_data[min_S1_loc] - r_data[min_S0_loc]) * 10 ** (-10)\n",
    "delta_angstrom = (r_data[min_S1_loc] - r_data[min_S0_loc])\n",
    "omega_vib = np.sqrt(k_test_SI / mu_kg)\n",
    "h_bar = constants.hbar\n",
    "x0_test = np.sqrt(h_bar * omega_vib / k_test_SI)\n",
    "x0_test_au = (x0_test * 10 ** (10))  / psi4.constants.bohr2angstroms\n",
    "\n",
    "# Turner\n",
    "S_Turner = 0.5 * (delta_au / x0_test_au) ** 2\n",
    "\n",
    "# Hsu\n",
    "S_Hsu = mu_kg * omega_vib * delta_m ** 2 / (2 * h_bar)\n",
    "\n",
    "#g and LP \n",
    "\n",
    "HR_LP_array = np.zeros((1,8))\n",
    "HR_UP_array = np.zeros((1,8))\n",
    "\n",
    "for i in range(8):\n",
    "    HR_LP_array[0,i] = 0.5 * (delta_LP_au[0,i] / x0_test_au) ** 2\n",
    "    HR_UP_array[0,i] = 0.5 * (delta_UP_au[0,i] / x0_test_au) ** 2\n",
    "\n",
    "print('|g> and |e> HR Factor')\n",
    "print(S_Turner)\n",
    "print(S_Hsu)\n",
    "\n",
    "print('LP and UP HR Factor')\n",
    "print(HR_LP_array)\n",
    "print(HR_UP_array)\n",
    "\n",
    "\n",
    "df = pd.DataFrame(HR_UP_array.reshape(-1,1))\n",
    "df.to_clipboard()"
   ]
  },
  {
   "cell_type": "markdown",
   "id": "66994e19-bf39-4e81-9e46-b6ad75c797f9",
   "metadata": {},
   "source": [
    "First plot the ground-state potential energy surfaces for $ \\text{H2} $ inside and outisde the cavity.  The effect of the cavity will raise the energy slightly."
   ]
  },
  {
   "cell_type": "code",
   "execution_count": 11,
   "id": "be6ca631-25f0-4ed9-8701-682e1e336cd4",
   "metadata": {},
   "outputs": [
    {
     "data": {
      "image/png": "[encoded data removed]",
      "text/plain": [
       "<Figure size 640x480 with 1 Axes>"
      ]
     },
     "metadata": {},
     "output_type": "display_data"
    }
   ],
   "source": [
    "fci_S0_omega = np.zeros((1, N_R))\n",
    "for i in range(N_R):\n",
    "    fci_S0_omega[0,i] = S0_array[i] + 0.12086\n",
    "fci_S0_plusw = np.ndarray.flatten(fci_S0_omega)\n",
    "\n",
    "plt.plot(r_data, fci_S0_plusw, 'r-', label='cavity free |g + $\\omega$>')\n",
    "plt.plot(r_data, S1_array, 'b-', label='cavity free |e>')\n",
    "plt.plot(r_data, cavity_E_array_0_00[4,:])\n",
    "#for i in range(8):\n",
    "#    plt.plot(r_data, LP_arrays[i,:])\n",
    "#    plt.plot(r_data, UP_arrays[i,:])\n",
    "plt.xlabel('r (Angstrom)')\n",
    "plt.ylabel('E (Hartree)')\n",
    "\n",
    "\n",
    "#plt.xlim(1.5, 2)\n",
    "#plt.ylim(-7.76, -7.72)\n",
    "plt.legend()\n",
    "plt.show()"
   ]
  },
  {
   "cell_type": "code",
   "execution_count": null,
   "id": "f892c384",
   "metadata": {},
   "outputs": [],
   "source": [
    "#pd.DataFrame(matrix).to_clipboard()\n",
    "\n",
    "omega_test = np.abs(fci_S0[100] - fci_S1[100])\n",
    "print(omega_test)\n",
    "print(r_data[100])\n"
   ]
  },
  {
   "cell_type": "code",
   "execution_count": null,
   "id": "6d601c50",
   "metadata": {},
   "outputs": [],
   "source": []
  }
 ],
 "metadata": {
  "kernelspec": {
   "display_name": "Python 3 (ipykernel)",
   "language": "python",
   "name": "python3"
  },
  "language_info": {
   "codemirror_mode": {
    "name": "ipython",
    "version": 3
   },
   "file_extension": ".py",
   "mimetype": "text/x-python",
   "name": "python",
   "nbconvert_exporter": "python",
   "pygments_lexer": "ipython3",
   "version": "3.11.7"
  }
 },
 "nbformat": 4,
 "nbformat_minor": 5
}
