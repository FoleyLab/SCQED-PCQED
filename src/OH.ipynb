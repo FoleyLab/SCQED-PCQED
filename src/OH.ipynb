{
 "cells": [
  {
   "cell_type": "code",
   "execution_count": 1,
   "id": "4f7008d6",
   "metadata": {},
   "outputs": [],
   "source": [
    "# import libraries\n",
    "import numpy as np\n",
    "import sys\n",
    "import psi4\n",
    "from helper_PFCI import PFHamiltonianGenerator\n",
    "np.set_printoptions(threshold=sys.maxsize)\n",
    "psi4.core.set_output_file('output.dat', False)\n",
    "import time\n",
    "import json\n",
    "import matplotlib.pyplot as plt"
   ]
  },
  {
   "cell_type": "code",
   "execution_count": 2,
   "id": "19465767-2198-4be7-8f9d-6cb158ebc7bb",
   "metadata": {},
   "outputs": [
    {
     "data": {
      "text/plain": [
       "' for r_val in r_angstrom:\\n    mol_str = mol_tmpl.replace(\"**R**\", str(r_val))\\n    mol = psi4.geometry(mol_str)\\n    ccsdt_e = psi4.energy(\\'ccsd\\')\\n    ccsdt_energy_new.append(ccsdt_e) '"
      ]
     },
     "execution_count": 2,
     "metadata": {},
     "output_type": "execute_result"
    }
   ],
   "source": [
    "import psi4 \n",
    "mol_tmpl = \"\"\"\n",
    "O\n",
    "H 1 1\n",
    "-1 1\n",
    "\"\"\"\n",
    "\n",
    "# ****R**** is bondlength which is given later as r_angstrom. \n",
    "# r_ccsd = np.linspace(0.2, 2.5 * equ_bond_length, 100)\n",
    "#r_angstrom = np.array([equ_r_ang - 2*delta, equ_r_ang - delta, equ_r_ang, equ_r_ang + delta,equ_r_ang + 2*delta])\n",
    "# options_dict = {\n",
    "#     \"basis\": \"cc-pVTZ\",\n",
    "#     \"e_convergence\": 1e-10,\n",
    "#     \"d_convergence\": 1e-10,\n",
    "# }\n",
    "\n",
    "\n",
    "# psi4.set_options(options_dict)\n",
    "mol = psi4.geometry(mol_tmpl)\n",
    "\n",
    "#ccsdt_e = psi4.energy('ccsd')\n",
    "\n",
    "# ccsdt_energy_new = []\n",
    "\n",
    "''' for r_val in r_angstrom:\n",
    "    mol_str = mol_tmpl.replace(\"**R**\", str(r_val))\n",
    "    mol = psi4.geometry(mol_str)\n",
    "    ccsdt_e = psi4.energy('ccsd')\n",
    "    ccsdt_energy_new.append(ccsdt_e) '''\n"
   ]
  },
  {
   "cell_type": "code",
   "execution_count": 3,
   "id": "1d9ee7a3",
   "metadata": {},
   "outputs": [
    {
     "ename": "FileNotFoundError",
     "evalue": "[Errno 2] No such file or directory: '/Users/rmandern/code/SCQED-PCQED/OH/OH_origin_scan_631g_updated_Energies.npy'",
     "output_type": "error",
     "traceback": [
      "\u001b[0;31m---------------------------------------------------------------------------\u001b[0m",
      "\u001b[0;31mFileNotFoundError\u001b[0m                         Traceback (most recent call last)",
      "Cell \u001b[0;32mIn[3], line 11\u001b[0m\n\u001b[1;32m      8\u001b[0m Mu_npy_file \u001b[38;5;241m=\u001b[39m npy_folder \u001b[38;5;241m+\u001b[39m \u001b[38;5;124m\"\u001b[39m\u001b[38;5;124mOH_origin_scan_631g_updated_Dipoles.npy\u001b[39m\u001b[38;5;124m\"\u001b[39m\n\u001b[1;32m     10\u001b[0m \u001b[38;5;66;03m# store energy eigenvalues in E_array\u001b[39;00m\n\u001b[0;32m---> 11\u001b[0m E_array \u001b[38;5;241m=\u001b[39m \u001b[43mnp\u001b[49m\u001b[38;5;241;43m.\u001b[39;49m\u001b[43mload\u001b[49m\u001b[43m(\u001b[49m\u001b[43mE_npy_file\u001b[49m\u001b[43m)\u001b[49m\n\u001b[1;32m     12\u001b[0m \u001b[38;5;66;03m# store dipole matrix elements in Mu_array\u001b[39;00m\n\u001b[1;32m     13\u001b[0m Mu_array \u001b[38;5;241m=\u001b[39m np\u001b[38;5;241m.\u001b[39mload(Mu_npy_file)\n",
      "File \u001b[0;32m~/miniforge3/envs/p4env/lib/python3.9/site-packages/numpy/lib/npyio.py:427\u001b[0m, in \u001b[0;36mload\u001b[0;34m(file, mmap_mode, allow_pickle, fix_imports, encoding, max_header_size)\u001b[0m\n\u001b[1;32m    425\u001b[0m     own_fid \u001b[38;5;241m=\u001b[39m \u001b[38;5;28;01mFalse\u001b[39;00m\n\u001b[1;32m    426\u001b[0m \u001b[38;5;28;01melse\u001b[39;00m:\n\u001b[0;32m--> 427\u001b[0m     fid \u001b[38;5;241m=\u001b[39m stack\u001b[38;5;241m.\u001b[39menter_context(\u001b[38;5;28;43mopen\u001b[39;49m\u001b[43m(\u001b[49m\u001b[43mos_fspath\u001b[49m\u001b[43m(\u001b[49m\u001b[43mfile\u001b[49m\u001b[43m)\u001b[49m\u001b[43m,\u001b[49m\u001b[43m \u001b[49m\u001b[38;5;124;43m\"\u001b[39;49m\u001b[38;5;124;43mrb\u001b[39;49m\u001b[38;5;124;43m\"\u001b[39;49m\u001b[43m)\u001b[49m)\n\u001b[1;32m    428\u001b[0m     own_fid \u001b[38;5;241m=\u001b[39m \u001b[38;5;28;01mTrue\u001b[39;00m\n\u001b[1;32m    430\u001b[0m \u001b[38;5;66;03m# Code to distinguish from NumPy binary files and pickles.\u001b[39;00m\n",
      "\u001b[0;31mFileNotFoundError\u001b[0m: [Errno 2] No such file or directory: '/Users/rmandern/code/SCQED-PCQED/OH/OH_origin_scan_631g_updated_Energies.npy'"
     ]
    }
   ],
   "source": [
    "# read data from .npy files for formaldehyde casci(8,8) calculations\n",
    "\n",
    "# !!! Change this to the correct path on your computer!\n",
    "npy_folder = \"/Users/rmandern/code/SCQED-PCQED/OH/\"\n",
    "\n",
    "# these file names should still be good\n",
    "E_npy_file = npy_folder + \"OH_origin_scan_631g_updated_Energies.npy\"\n",
    "Mu_npy_file = npy_folder + \"OH_origin_scan_631g_updated_Dipoles.npy\"\n",
    "\n",
    "# store energy eigenvalues in E_array\n",
    "E_array = np.load(E_npy_file)\n",
    "# store dipole matrix elements in Mu_array\n",
    "Mu_array = np.load(Mu_npy_file)\n",
    "\n",
    "\n",
    "# print(np.shape(E_array))\n",
    "# print(np.shape(Mu_array))\n",
    "# print(E_array)"
   ]
  },
  {
   "cell_type": "code",
   "execution_count": 3,
   "id": "df004c4c",
   "metadata": {},
   "outputs": [
    {
     "name": "stdout",
     "output_type": "stream",
     "text": [
      "\n",
      "Start SCF iterations:\n",
      "\n",
      "Canonical RHF One-electron energy = -121.6767825482576910\n",
      "CQED-RHF One-electron energy      = -121.6764763272477694\n",
      "Nuclear repulsion energy          = 8.8014655645634061\n",
      "Dipole energy                     = 0.0000065684191898\n",
      "SCF Iteration   1: Energy = -74.9644797826130116   dE = -7.49645E+01   dRMS = 5.97076E-06\n",
      "SCF Iteration   2: Energy = -74.9644797845251247   dE = -1.91211E-09   dRMS = 2.02758E-06\n",
      "SCF Iteration   3: Energy = -74.9644797847503526   dE = -2.25228E-10   dRMS = 7.08594E-07\n",
      "SCF Iteration   4: Energy = -74.9644797847895461   dE = -3.91935E-11   dRMS = 1.22037E-07\n",
      "SCF Iteration   5: Energy = -74.9644797847905977   dE = -1.05160E-12   dRMS = 1.31335E-09\n",
      "SCF Iteration   6: Energy = -74.9644797847906261   dE = -2.84217E-14   dRMS = 7.78960E-14\n",
      "Total time for SCF iterations: 0.001 seconds \n",
      "\n",
      "QED-RHF   energy: -74.96447978 hartree\n",
      "Psi4  SCF energy: -74.96466254 hartree\n",
      " Completed QED-RHF in 0.39823484420776367 seconds\n",
      " Completed 1HSO Build in 8.296966552734375e-05 seconds\n",
      " Completed ERI Build in 0.0020952224731445312 seconds \n",
      " Completed 2D build in 0.00021886825561523438 seconds\n",
      " Completed 1G build in 1.9788742065429688e-05 seconds\n",
      " Completed the Dipole Matrix Build in 4.8160552978515625e-05 seconds\n",
      " Completed determinant list in 0.0012731552124023438 seconds \n",
      " Completed constant offset matrix in 0.0007829666137695312 seconds\n",
      " Completed Hamiltonian build in 2.907460927963257 seconds\n"
     ]
    }
   ],
   "source": [
    "# setup basic arguments to create an instance of the PFHamiltonianGenerator class\n",
    "mol_str = \"\"\"\n",
    "    O            0.000000000000     0.000000000000     -0.068516219320\n",
    "    H            0.000000000000    -0.790689573744    0.543701060715\n",
    "    H            0.000000000000     0.790689573744    0.543701060715\n",
    "    0 1\n",
    "    symmetry c1\n",
    "    no_reorient\n",
    "    no_com\n",
    "\"\"\"\n",
    "\n",
    "\n",
    "options_dict = {\n",
    "    \"basis\": \"sto-3g\",\n",
    "    \"scf_type\": \"pk\",\n",
    "    \"e_convergence\": 1e-10,\n",
    "    \"d_convergence\": 1e-10,\n",
    "}\n",
    "\n",
    "\n",
    "cavity_free_dict = {\n",
    "    'omega_value' : 0.36749303600696764,\n",
    "    'lambda_vector' : np.array([0, 0, 0.01]),\n",
    "    'ci_level' : 'fci',   \n",
    "    'full_diagonalization' : True,\n",
    "    'number_of_photons' : 0, \n",
    "}\n",
    "\n",
    "# create the instance of our PFHamiltonianGenerator class\n",
    "instance = PFHamiltonianGenerator(mol_str, options_dict, cavity_free_dict)"
   ]
  },
  {
   "cell_type": "code",
   "execution_count": 11,
   "id": "41a94c9a",
   "metadata": {},
   "outputs": [],
   "source": [
    "N_R = 21\n",
    "d_array = np.linspace(1.4, 2.2, N_R)\n",
    "N_l = len(d_array)\n",
    "N_el = 2\n",
    "N_ph = 4\n",
    "omega = 0.12086\n",
    "lambda_vector = np.array([0, 0, 0.01])\n",
    "\n",
    "# create an array of zeros to store the PCQED eigenvalues for each value of d\n",
    "_pcqed_22 = np.zeros((N_l, N_el * N_ph))\n",
    "# loop over values of d, build Hamiltonian, capture eigenvalues\n",
    "ctr = 0\n",
    "for d in d_array:\n",
    "    instance.fast_build_pcqed_pf_hamiltonian(N_el, N_ph, omega, lambda_vector , E_array[:,ctr], Mu_array[:,:,:,ctr])      # E_array[:,ctr]: 20 energy values for fisrt displacement and so on... \n",
    "    _pcqed_22[ctr, :] = instance.PCQED_pf_eigs\n",
    "    ctr += 1"
   ]
  },
  {
   "cell_type": "code",
   "execution_count": 12,
   "id": "3c0d82d6",
   "metadata": {},
   "outputs": [
    {
     "data": {
      "text/plain": [
       "<matplotlib.legend.Legend at 0x138673c10>"
      ]
     },
     "execution_count": 12,
     "metadata": {},
     "output_type": "execute_result"
    },
    {
     "data": {
      "image/png": "[encoded data removed]",
      "text/plain": [
       "<Figure size 640x480 with 1 Axes>"
      ]
     },
     "metadata": {},
     "output_type": "display_data"
    }
   ],
   "source": [
    "# plt.plot(d_array, _pcqed_cs_22[:,0],'ro-', label=\"ground-state_cs\")\n",
    "# plt.plot(d_array,_pcqed_22[:,0], label='ground-state')\n",
    "# plt.plot(d_array,_pcqed_cs_22[:,1], 'bo-', label='excited_cs')\n",
    "plt.plot(d_array,_pcqed_22[:,0], 'ro' , label='excited')\n",
    "\n",
    "# plt.plot(lambda_val[:,2],_pcqed_502[:,2],'ro-', label='2nd')\n",
    "# plt.plot(lambda_val[:,2],_pcqed_502[:,3],'b', label='3rd')\n",
    "# plt.plot(lambda_val[:,2],_pcqed_502[:,4],'y', label='4th')\n",
    "\n",
    "plt.xlabel('Displacement')\n",
    "plt.ylabel('Energy')\n",
    "# plt.ylim(-113.556, -113.50)\n",
    "# plt.grid()\n",
    "plt.legend()\n"
   ]
  },
  {
   "cell_type": "code",
   "execution_count": null,
   "id": "185e5812",
   "metadata": {},
   "outputs": [],
   "source": []
  }
 ],
 "metadata": {
  "kernelspec": {
   "display_name": "Python 3 (ipykernel)",
   "language": "python",
   "name": "python3"
  },
  "language_info": {
   "codemirror_mode": {
    "name": "ipython",
    "version": 3
   },
   "file_extension": ".py",
   "mimetype": "text/x-python",
   "name": "python",
   "nbconvert_exporter": "python",
   "pygments_lexer": "ipython3",
   "version": "3.9.18"
  }
 },
 "nbformat": 4,
 "nbformat_minor": 5
}
