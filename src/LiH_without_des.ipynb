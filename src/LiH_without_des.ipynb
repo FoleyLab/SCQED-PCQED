{
 "cells": [
  {
   "cell_type": "code",
   "execution_count": 1,
   "id": "57746595",
   "metadata": {},
   "outputs": [],
   "source": [
    "# import libraries\n",
    "import numpy as np\n",
    "import sys\n",
    "import psi4\n",
    "from helper_PFCI import PFHamiltonianGenerator\n",
    "np.set_printoptions(threshold=sys.maxsize)\n",
    "psi4.core.set_output_file('output.dat', False)\n",
    "import time\n",
    "import json\n",
    "import matplotlib.pyplot as plt"
   ]
  },
  {
   "cell_type": "markdown",
   "id": "a625f560",
   "metadata": {},
   "source": [
    "We are going to read the energy eigenvalues and dipole matrix elements from .npy files.  We will also still create an instance of the PFHamiltonianGenerator class so we can use its build_pcqed_pf_hamiltonian() method, but it is not really important what details we use to instantiate this class... so we will use LiH in a minimal basis since this is a fast way to instantiate the class!"
   ]
  },
  {
   "cell_type": "code",
   "execution_count": 2,
   "id": "12202c36",
   "metadata": {},
   "outputs": [
    {
     "name": "stdout",
     "output_type": "stream",
     "text": [
      "(500, 25)\n",
      "(500, 500, 3, 25)\n"
     ]
    }
   ],
   "source": [
    "# read data from .npy files for formaldehyde casci(8,8) calculations\n",
    "\n",
    "# !!! Change this to the correct path on your computer!\n",
    "npy_folder = \"/Users/rmandern/code/SCQED-PCQED/LiH_data/\"\n",
    "\n",
    "# these file names should still be good\n",
    "E_npy_file = npy_folder + \"LiH_r_scan_6311g_fci_tight_davidson_Energies.npy\"\n",
    "Mu_npy_file = npy_folder + \"LiH_r_scan_6311g_fci_tight_davidson_Dipoles.npy\"\n",
    "\n",
    "# store energy eigenvalues in E_array\n",
    "E_array = np.load(E_npy_file)\n",
    "# store dipole matrix elements in Mu_array\n",
    "Mu_array = np.load(Mu_npy_file)\n",
    "\n",
    "# print their shape so we know how many elements we have\n",
    "print(np.shape(E_array))\n",
    "print(np.shape(Mu_array))\n",
    "# print(E_array)"
   ]
  },
  {
   "cell_type": "code",
   "execution_count": 3,
   "id": "674328dc",
   "metadata": {},
   "outputs": [
    {
     "name": "stdout",
     "output_type": "stream",
     "text": [
      "\n",
      "Start SCF iterations:\n",
      "\n",
      "Canonical RHF One-electron energy = -12.6946346236296037\n",
      "CQED-RHF One-electron energy      = -12.6946346236296037\n",
      "Nuclear repulsion energy          = 1.1339511657214287\n",
      "Dipole energy                     = 0.0000000000000000\n",
      "SCF Iteration   1: Energy = -7.8605386610570473   dE = -7.86054E+00   dRMS = 1.78805E-13\n",
      "SCF Iteration   2: Energy = -7.8605386610570385   dE =  8.88178E-15   dRMS = 3.97663E-14\n",
      "Total time for SCF iterations: 0.000 seconds \n",
      "\n",
      "QED-RHF   energy: -7.86053866 hartree\n",
      "Psi4  SCF energy: -7.86053866 hartree\n",
      " Completed QED-RHF in 0.27187609672546387 seconds\n",
      " Completed 1HSO Build in 5.7220458984375e-05 seconds\n",
      " Completed ERI Build in 0.0011336803436279297 seconds \n",
      " Completed 2D build in 9.5367431640625e-05 seconds\n",
      " Completed 1G build in 1.3828277587890625e-05 seconds\n",
      " Completed the Dipole Matrix Build in 4.00543212890625e-05 seconds\n",
      " Completed determinant list in 0.00045108795166015625 seconds \n",
      " Completed constant offset matrix in 0.0001270771026611328 seconds\n",
      " Completed Hamiltonian build in 0.6770298480987549 seconds\n"
     ]
    }
   ],
   "source": [
    "# setup basic arguments to create an instance of the PFHamiltonianGenerator class\n",
    "mol_str = \"\"\"\n",
    "    Li\n",
    "    H 1 1.4\n",
    "    symmetry c1\n",
    "\"\"\"\n",
    "\n",
    "\n",
    "options_dict = {\n",
    "    \"basis\": \"sto-3g\",\n",
    "    \"scf_type\": \"pk\",\n",
    "    \"e_convergence\": 1e-10,\n",
    "    \"d_convergence\": 1e-10,\n",
    "}\n",
    "\n",
    "\n",
    "cavity_free_dict = {\n",
    "    'omega_value' : 0.12086,\n",
    "    'lambda_vector' : np.array([0, 0, 0.0]),\n",
    "    'ci_level' : 'fci',   \n",
    "    'full_diagonalization' : True,\n",
    "    'number_of_photons' : 10, \n",
    "}\n",
    "\n",
    "# create the instance of our PFHamiltonianGenerator class\n",
    "instance = PFHamiltonianGenerator(mol_str, options_dict, cavity_free_dict)"
   ]
  },
  {
   "cell_type": "code",
   "execution_count": 4,
   "id": "5be3eeef",
   "metadata": {},
   "outputs": [],
   "source": [
    "N_R = 25\n",
    "d_array = np.linspace(0, 20, N_R)\n",
    "N_l = len(d_array)\n",
    "N_el = 500\n",
    "N_ph = 10\n",
    "omega = 0.12086\n",
    "lambda_vector = np.array([0, 0, 0])\n",
    "\n",
    "# create an array of zeros to store the PCQED eigenvalues for each value of d\n",
    "_pcqed_20 = np.zeros((N_l, N_el * N_ph))\n",
    "# loop over values of d, build Hamiltonian, capture eigenvalues\n",
    "ctr = 0\n",
    "for d in d_array:\n",
    "    instance.fast_build_pcqed_pf_hamiltonian(N_el, N_ph, omega, lambda_vector , E_array[:,ctr], Mu_array[:,:,:,ctr], neglect_DSE=True)      # E_array[:,ctr]: 20 energy values for fisrt displacement and so on... \n",
    "    _pcqed_20[ctr, :] = instance.PCQED_pf_eigs\n",
    "    ctr += 1"
   ]
  },
  {
   "cell_type": "code",
   "execution_count": 5,
   "id": "b12f190f",
   "metadata": {},
   "outputs": [
    {
     "name": "stdout",
     "output_type": "stream",
     "text": [
      "Ground state-8.012194758187\n"
     ]
    }
   ],
   "source": [
    "print(f\"Ground state{_pcqed_20[0,0]:.12f}\")"
   ]
  },
  {
   "cell_type": "code",
   "execution_count": 6,
   "id": "72c9fc3f",
   "metadata": {},
   "outputs": [],
   "source": [
    "N_R = 25\n",
    "d_array = np.linspace(0, 20, N_R)\n",
    "N_l = len(d_array)\n",
    "N_el = 500\n",
    "N_ph = 10\n",
    "omega = 0.12086\n",
    "lambda_vector = np.array([0, 0, 0.01])\n",
    "\n",
    "# create an array of zeros to store the PCQED eigenvalues for each value of d\n",
    "_pcqed_21 = np.zeros((N_l, N_el * N_ph))\n",
    "# loop over values of d, build Hamiltonian, capture eigenvalues\n",
    "ctr = 0\n",
    "for d in d_array:\n",
    "    instance.fast_build_pcqed_pf_hamiltonian(N_el, N_ph, omega, lambda_vector , E_array[:,ctr], Mu_array[:,:,:,ctr], neglect_DSE=True)      # E_array[:,ctr]: 20 energy values for fisrt displacement and so on... \n",
    "    _pcqed_21[ctr, :] = instance.PCQED_pf_eigs\n",
    "    ctr += 1"
   ]
  },
  {
   "cell_type": "code",
   "execution_count": 7,
   "id": "8ecb9df6",
   "metadata": {},
   "outputs": [
    {
     "name": "stdout",
     "output_type": "stream",
     "text": [
      "Ground state-8.012459429311\n"
     ]
    }
   ],
   "source": [
    "print(f\"Ground state{_pcqed_21[0,0]:.12f}\")"
   ]
  },
  {
   "cell_type": "code",
   "execution_count": 8,
   "id": "9da11be7",
   "metadata": {},
   "outputs": [],
   "source": [
    "N_R = 25\n",
    "d_array = np.linspace(0, 20, N_R)\n",
    "N_l = len(d_array)\n",
    "N_el = 500\n",
    "N_ph = 10\n",
    "omega = 0.12086\n",
    "lambda_vector = np.array([0, 0, 0.015])\n",
    "\n",
    "# create an array of zeros to store the PCQED eigenvalues for each value of d\n",
    "_pcqed_22 = np.zeros((N_l, N_el * N_ph))\n",
    "# loop over values of d, build Hamiltonian, capture eigenvalues\n",
    "ctr = 0\n",
    "for d in d_array:\n",
    "    instance.fast_build_pcqed_pf_hamiltonian(N_el, N_ph, omega, lambda_vector , E_array[:,ctr], Mu_array[:,:,:,ctr], neglect_DSE=True)      # E_array[:,ctr]: 20 energy values for fisrt displacement and so on... \n",
    "    _pcqed_22[ctr, :] = instance.PCQED_pf_eigs\n",
    "    ctr += 1"
   ]
  },
  {
   "cell_type": "code",
   "execution_count": 9,
   "id": "c1181a81",
   "metadata": {},
   "outputs": [
    {
     "name": "stdout",
     "output_type": "stream",
     "text": [
      "Ground state-8.012791474599\n"
     ]
    }
   ],
   "source": [
    "print(f\"Ground state{_pcqed_22[0,0]:.12f}\")"
   ]
  },
  {
   "cell_type": "code",
   "execution_count": 10,
   "id": "214819f5",
   "metadata": {},
   "outputs": [],
   "source": [
    "N_R = 25\n",
    "d_array = np.linspace(0, 20, N_R)\n",
    "N_l = len(d_array)\n",
    "N_el = 500\n",
    "N_ph = 10\n",
    "omega = 0.12086\n",
    "lambda_vector = np.array([0, 0, 0.02])\n",
    "\n",
    "# create an array of zeros to store the PCQED eigenvalues for each value of d\n",
    "_pcqed_23 = np.zeros((N_l, N_el * N_ph))\n",
    "# loop over values of d, build Hamiltonian, capture eigenvalues\n",
    "ctr = 0\n",
    "for d in d_array:\n",
    "    instance.fast_build_pcqed_pf_hamiltonian(N_el, N_ph, omega, lambda_vector , E_array[:,ctr], Mu_array[:,:,:,ctr], neglect_DSE=True)      # E_array[:,ctr]: 20 energy values for fisrt displacement and so on... \n",
    "    _pcqed_23[ctr, :] = instance.PCQED_pf_eigs\n",
    "    ctr += 1"
   ]
  },
  {
   "cell_type": "code",
   "execution_count": 11,
   "id": "ddb2ae9e",
   "metadata": {},
   "outputs": [
    {
     "name": "stdout",
     "output_type": "stream",
     "text": [
      "Ground state-8.013258607462\n"
     ]
    }
   ],
   "source": [
    "print(f\"Ground state{_pcqed_23[0,0]:.12f}\")"
   ]
  },
  {
   "cell_type": "code",
   "execution_count": 12,
   "id": "2b430e7a",
   "metadata": {},
   "outputs": [],
   "source": [
    "N_R = 25\n",
    "d_array = np.linspace(0, 20, N_R)\n",
    "N_l = len(d_array)\n",
    "N_el = 500\n",
    "N_ph = 10\n",
    "omega = 0.12086\n",
    "lambda_vector = np.array([0, 0, 0.025])\n",
    "\n",
    "# create an array of zeros to store the PCQED eigenvalues for each value of d\n",
    "_pcqed_24 = np.zeros((N_l, N_el * N_ph))\n",
    "# loop over values of d, build Hamiltonian, capture eigenvalues\n",
    "ctr = 0\n",
    "for d in d_array:\n",
    "    instance.fast_build_pcqed_pf_hamiltonian(N_el, N_ph, omega, lambda_vector , E_array[:,ctr], Mu_array[:,:,:,ctr], neglect_DSE=True)      # E_array[:,ctr]: 20 energy values for fisrt displacement and so on... \n",
    "    _pcqed_24[ctr, :] = instance.PCQED_pf_eigs\n",
    "    ctr += 1"
   ]
  },
  {
   "cell_type": "code",
   "execution_count": 13,
   "id": "2409be19",
   "metadata": {},
   "outputs": [
    {
     "name": "stdout",
     "output_type": "stream",
     "text": [
      "Ground state-8.013863137434\n"
     ]
    }
   ],
   "source": [
    "# E_pcqed_22 = instance.PCQED_pf_eigs\n",
    "print(f\"Ground state{_pcqed_24[0,0]:.12f}\")\n",
    "# print(_pcqed_22)"
   ]
  },
  {
   "cell_type": "code",
   "execution_count": 14,
   "id": "8e2c49b2",
   "metadata": {},
   "outputs": [],
   "source": [
    "# Define parameters\n",
    "N_R = 25  \n",
    "d_array = np.linspace(1.4, 2.2, N_R)\n",
    "N_l = len(d_array)\n",
    "N_el = 500\n",
    "N_ph = 10\n",
    "omega = 0.12086\n",
    "lambda_values = np.linspace(0.001, 0.005, 5)  # Array of lambda values\n",
    "\n",
    "# Create an array of zeros to store the PCQED eigenvalues for each value of d and lambda\n",
    "_pcqed_40010_dse = np.zeros((len(lambda_values), N_l, N_el * N_ph))\n",
    "\n",
    "# Loop over lambda values\n",
    "for i, lambda_val in enumerate(lambda_values):\n",
    "    lambda_vector = np.array([0, 0, lambda_val])\n",
    "    ctr = 0\n",
    "    # Loop over values of d, build Hamiltonian, capture eigenvalues\n",
    "    for d in d_array:\n",
    "        instance.fast_build_pcqed_pf_hamiltonian(N_el, N_ph, omega, lambda_vector, E_array[:,ctr], Mu_array[:,:,:,ctr], neglect_DSE=True)       \n",
    "        _pcqed_40010_dse[i, ctr, :] = instance.PCQED_pf_eigs\n",
    "        ctr += 1 \n",
    "\n",
    "# Now _pcqed_40010_dse contains eigenvalues for different lambda values\n"
   ]
  },
  {
   "cell_type": "code",
   "execution_count": 19,
   "id": "83de107c",
   "metadata": {
    "scrolled": true
   },
   "outputs": [
    {
     "name": "stdout",
     "output_type": "stream",
     "text": [
      "(1, 25, 5000)\n",
      "-8.012197400669853\n"
     ]
    }
   ],
   "source": [
    "print(np.shape(_pcqed_40010_dse[0:1:1]))\n",
    "print(_pcqed_40010_dse[0][0,0])\n",
    "# print(_pcqed_40010_dse[4])\n",
    "# print(f\"Ground state{_pcqed_40010_dse[0]:.12f}\")\n"
   ]
  },
  {
   "cell_type": "code",
   "execution_count": null,
   "id": "fef8392e",
   "metadata": {},
   "outputs": [],
   "source": []
  }
 ],
 "metadata": {
  "kernelspec": {
   "display_name": "Python 3 (ipykernel)",
   "language": "python",
   "name": "python3"
  },
  "language_info": {
   "codemirror_mode": {
    "name": "ipython",
    "version": 3
   },
   "file_extension": ".py",
   "mimetype": "text/x-python",
   "name": "python",
   "nbconvert_exporter": "python",
   "pygments_lexer": "ipython3",
   "version": "3.9.15"
  }
 },
 "nbformat": 4,
 "nbformat_minor": 5
}
