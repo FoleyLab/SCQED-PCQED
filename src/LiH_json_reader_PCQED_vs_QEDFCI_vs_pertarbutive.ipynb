{
 "cells": [
  {
   "cell_type": "code",
   "execution_count": 1,
   "id": "cf72ce2b",
   "metadata": {},
   "outputs": [],
   "source": [
    "# import libraries\n",
    "import numpy as np\n",
    "import sys\n",
    "import psi4\n",
    "from helper_PFCI import PFHamiltonianGenerator\n",
    "np.set_printoptions(threshold=sys.maxsize)\n",
    "psi4.core.set_output_file('output.dat', False)\n",
    "import time\n",
    "import json\n",
    "import matplotlib.pyplot as plt\n",
    "import json\n",
    "import os"
   ]
  },
  {
   "cell_type": "code",
   "execution_count": 2,
   "id": "e32b33c9",
   "metadata": {},
   "outputs": [
    {
     "name": "stdout",
     "output_type": "stream",
     "text": [
      "(500, 25)\n",
      "(500, 500, 3, 25)\n"
     ]
    }
   ],
   "source": [
    "# read data from .npy files for formaldehyde casci(8,8) calculations\n",
    "#Drive link for .npy files of LiH\n",
    "\n",
    "# https://drive.google.com/drive/folders/1NQvqQ4KiXTmZZ3OjCM5nA2dqIs5ete9X?usp=sharing\n",
    "\n",
    "# !!! Change this to the correct path on your computer!\n",
    "npy_folder = \"/Users/rmandern/code/SCQED-PCQED/LiH/\"\n",
    "\n",
    "# these file names should still be good\n",
    "E_npy_file = npy_folder + \"LiH_r_scan_6311g_fci_tight_davidson_Energies.npy\"\n",
    "Mu_npy_file = npy_folder + \"LiH_r_scan_6311g_fci_tight_davidson_Dipoles.npy\"\n",
    "\n",
    "# store energy eigenvalues in E_array\n",
    "E_array = np.load(E_npy_file)\n",
    "# store dipole matrix elements in Mu_array\n",
    "Mu_array = np.load(Mu_npy_file)\n",
    "\n",
    "# print their shape so we know how many elements we have\n",
    "print(np.shape(E_array))\n",
    "print(np.shape(Mu_array))\n",
    "# print(E_array)"
   ]
  },
  {
   "cell_type": "code",
   "execution_count": 3,
   "id": "b1b75a74",
   "metadata": {},
   "outputs": [
    {
     "name": "stdout",
     "output_type": "stream",
     "text": [
      "\n",
      "Start SCF iterations:\n",
      "\n",
      "Canonical RHF One-electron energy = -12.6946346236295895\n",
      "CQED-RHF One-electron energy      = -12.6946346236295895\n",
      "Nuclear repulsion energy          = 1.1339511657214287\n",
      "Dipole energy                     = 0.0000000000000000\n",
      "SCF Iteration   1: Energy = -7.8605386610570402   dE = -7.86054E+00   dRMS = 1.78708E-13\n",
      "SCF Iteration   2: Energy = -7.8605386610570491   dE = -8.88178E-15   dRMS = 3.96912E-14\n",
      "Total time for SCF iterations: 0.000 seconds \n",
      "\n",
      "QED-RHF   energy: -7.86053866 hartree\n",
      "Psi4  SCF energy: -7.86053866 hartree\n",
      " Completed QED-RHF in 0.20605206489562988 seconds\n",
      " Completed 1HSO Build in 4.57763671875e-05 seconds\n",
      " Completed ERI Build in 0.0009949207305908203 seconds \n",
      " Completed 2D build in 0.00012230873107910156 seconds\n",
      " Completed 1G build in 1.4781951904296875e-05 seconds\n",
      " Completed the Dipole Matrix Build in 3.409385681152344e-05 seconds\n",
      " Completed determinant list in 0.000431060791015625 seconds \n",
      " Completed constant offset matrix in 0.00010895729064941406 seconds\n",
      " Completed Hamiltonian build in 0.7460741996765137 seconds\n"
     ]
    }
   ],
   "source": [
    "# setup basic arguments to create an instance of the PFHamiltonianGenerator class\n",
    "mol_str = \"\"\"\n",
    "    Li\n",
    "    H 1 1.4\n",
    "    symmetry c1\n",
    "\"\"\"\n",
    "\n",
    "\n",
    "options_dict = {\n",
    "    \"basis\": \"sto-3g\",\n",
    "    \"scf_type\": \"pk\",\n",
    "    \"e_convergence\": 1e-10,\n",
    "    \"d_convergence\": 1e-10,\n",
    "}\n",
    "\n",
    "\n",
    "cavity_free_dict = {\n",
    "    'omega_value' : 0.12086,\n",
    "    'lambda_vector' : np.array([0, 0, 0.0]),\n",
    "    'ci_level' : 'fci',   \n",
    "    'full_diagonalization' : True,\n",
    "    'number_of_photons' : 10, \n",
    "}\n",
    "\n",
    "# create the instance of our PFHamiltonianGenerator class\n",
    "instance = PFHamiltonianGenerator(mol_str, options_dict, cavity_free_dict)"
   ]
  },
  {
   "cell_type": "code",
   "execution_count": 2,
   "id": "5cbf22f4",
   "metadata": {},
   "outputs": [
    {
     "ename": "NameError",
     "evalue": "name 'json' is not defined",
     "output_type": "error",
     "traceback": [
      "\u001b[0;31m---------------------------------------------------------------------------\u001b[0m",
      "\u001b[0;31mNameError\u001b[0m                                 Traceback (most recent call last)",
      "Cell \u001b[0;32mIn[2], line 14\u001b[0m\n\u001b[1;32m     11\u001b[0m np10_001_no_dse \u001b[38;5;241m=\u001b[39m new_cs \u001b[38;5;241m+\u001b[39m \u001b[38;5;124m\"\u001b[39m\u001b[38;5;124mLiH_qed-fci_6-311g_photon_number_basis_no_dse_10_lambda_0.0_0.0_0.01_omega_0.12086.json\u001b[39m\u001b[38;5;124m\"\u001b[39m\n\u001b[1;32m     12\u001b[0m np10_005_no_dse \u001b[38;5;241m=\u001b[39m new_cs \u001b[38;5;241m+\u001b[39m \u001b[38;5;124m\"\u001b[39m\u001b[38;5;124mLiH_qed-fci_6-311g_photon_number_basis_no_dse_10_lambda_0.0_0.0_0.05_omega_0.12086.json\u001b[39m\u001b[38;5;124m\"\u001b[39m\n\u001b[0;32m---> 14\u001b[0m new_np10_001_dse \u001b[38;5;241m=\u001b[39m \u001b[43mjson\u001b[49m\u001b[38;5;241m.\u001b[39mload(\u001b[38;5;28mopen\u001b[39m(np10_001_dse))\n\u001b[1;32m     15\u001b[0m new_np10_005_dse \u001b[38;5;241m=\u001b[39m json\u001b[38;5;241m.\u001b[39mload(\u001b[38;5;28mopen\u001b[39m(np10_005_dse))\n\u001b[1;32m     16\u001b[0m new_np10_001_no_dse \u001b[38;5;241m=\u001b[39m json\u001b[38;5;241m.\u001b[39mload(\u001b[38;5;28mopen\u001b[39m(np10_001_no_dse))\n",
      "\u001b[0;31mNameError\u001b[0m: name 'json' is not defined"
     ]
    }
   ],
   "source": [
    "# json file name\n",
    "cs_dir = \"/Users/rmandern/code/data_repository/mapol/LiH/qed_fci/bond_stretch_25_points/\"\n",
    "new_cs = \"/Users/rmandern/code/data_repository/mapol/LiH/qed_fci/bond_stretch_25_points/\"\n",
    "\n",
    "pn_dir = \"/Users/rmandern/code/data_repository/mapol/LiH/qed_fci/bond_stretch_25_points/\"\n",
    "\n",
    "ref_file = \"/Users/rmandern/code/data_repository/mapol/LiH/qed_fci/bond_stretch_25_points/\"\n",
    "np10_001_dse = new_cs + \"LiH_qed-fci_6-311g_photon_number_basis_w_dse_10_lambda_0.0_0.0_0.01_omega_0.12086.json\"\n",
    "np10_005_dse = new_cs + \"LiH_qed-fci_6-311g_photon_number_basis_w_dse_10_lambda_0.0_0.0_0.05_omega_0.12086.json\"\n",
    "\n",
    "np10_001_no_dse = new_cs + \"LiH_qed-fci_6-311g_photon_number_basis_no_dse_10_lambda_0.0_0.0_0.01_omega_0.12086.json\"\n",
    "np10_005_no_dse = new_cs + \"LiH_qed-fci_6-311g_photon_number_basis_no_dse_10_lambda_0.0_0.0_0.05_omega_0.12086.json\"\n",
    "\n",
    "new_np10_001_dse = json.load(open(np10_001_dse))\n",
    "new_np10_005_dse = json.load(open(np10_005_dse))\n",
    "new_np10_001_no_dse = json.load(open(np10_001_no_dse))\n",
    "new_np10_005_no_dse = json.load(open(np10_005_no_dse))\n",
    "\n",
    "# reff1 = open(ref_file)\n",
    "# rdata = json.load(reff1)\n",
    "# ref_data = np.array(rdata[\"return_result\"])\n",
    "r_data = np.linspace(1.4, 2.2, 25)\n",
    "\n",
    "eig_np10_001_dse = np.array(new_np10_001_dse[\"return_result\"])\n",
    "eig_np10_005_dse = np.array(new_np10_005_dse[\"return_result\"])\n",
    "eig_np10_001_no_dse = np.array(new_np10_001_no_dse[\"return_result\"])\n",
    "eig_np10_005_no_dse = np.array(new_np10_005_no_dse[\"return_result\"])\n",
    "\n",
    "#npth = \"C10H8_number_basis_np_0.json\"\n",
    "#npth_data = json.load(open(npth))\n",
    "\n",
    "#coords = npth_data[\"molecule\"][\"coordinates\"]\n",
    "#print(coords)\n",
    "print(np.shape(eig_np10_001_dse))\n",
    "print(eig_np10_001_dse)"
   ]
  },
  {
   "cell_type": "code",
   "execution_count": 5,
   "id": "453b50cc",
   "metadata": {},
   "outputs": [],
   "source": [
    "N_R = 25\n",
    "\n",
    "d_array = np.linspace(1.4, 2.2, N_R)\n",
    "N_l = len(d_array)\n",
    "N_el = 500\n",
    "N_ph = 2\n",
    "omega = 0.12086\n",
    "lambda_vector = np.array([0, 0, 0.05])\n",
    "\n",
    "# create an array of zeros to store the PCQED eigenvalues for each value of d\n",
    "_pcqed_5002_dse = np.zeros((N_l, N_el * N_ph))\n",
    "# loop over values of d, build Hamiltonian, capture eigenvalues\n",
    "ctr = 0\n",
    "for d in d_array:\n",
    "    instance.fast_build_pcqed_pf_hamiltonian(N_el, N_ph, omega, lambda_vector , E_array[:,ctr], Mu_array[:,:,:,ctr], neglect_DSE=False)      # E_array[:,ctr]: 20 energy values for fisrt displacement and so on... \n",
    "    _pcqed_5002_dse[ctr, :] = instance.PCQED_pf_eigs\n",
    "    ctr += 1"
   ]
  },
  {
   "cell_type": "code",
   "execution_count": 6,
   "id": "f1f00553-2c0e-491c-b911-1574306c00c1",
   "metadata": {},
   "outputs": [],
   "source": [
    "N_R = 25\n",
    "\n",
    "d_array = np.linspace(1.4, 2.2, N_R)\n",
    "N_l = len(d_array)\n",
    "N_el = 500\n",
    "N_ph = 2\n",
    "omega = 0.12086\n",
    "lambda_vector = np.array([0, 0, 0.05])\n",
    "\n",
    "# create an array of zeros to store the PCQED eigenvalues for each value of d\n",
    "_pcqed_5002_cs = np.zeros((N_l, N_el * N_ph))\n",
    "# loop over values of d, build Hamiltonian, capture eigenvalues\n",
    "ctr = 0\n",
    "for d in d_array:\n",
    "    instance.fast_build_pcqed_cs_hamiltonian(N_el, N_ph, omega, lambda_vector , E_array[:,ctr], Mu_array[:,:,:,ctr], neglect_DSE=False)      # E_array[:,ctr]: 20 energy values for fisrt displacement and so on... \n",
    "    _pcqed_5002_cs[ctr, :] = instance.PCQED_cs_eigs\n",
    "    ctr += 1"
   ]
  },
  {
   "cell_type": "code",
   "execution_count": 50,
   "id": "ea8ba0e7-7075-4374-9878-ae88bc8a35a5",
   "metadata": {},
   "outputs": [],
   "source": [
    "N_R = 25\n",
    "d_array = np.linspace(1.4, 2.2, N_R)\n",
    "N_l = len(d_array)\n",
    "N_el = 500\n",
    "omega = 0.12086\n",
    "lambda_vector = np.array([0, 0, 0.05])\n",
    "\n",
    "# Loop over values of N_ph\n",
    "for N_ph in range(2, 4):\n",
    "    # create an array of zeros to store the PCQED eigenvalues for each value of d\n",
    "    _pcqed_500_dse = np.zeros((N_l, N_el * N_ph))\n",
    "    # loop over values of d, build Hamiltonian, capture eigenvalues\n",
    "    ctr = 0\n",
    "    for d in d_array:\n",
    "        instance.fast_build_pcqed_pf_hamiltonian(N_el, N_ph, omega, lambda_vector, E_array[:, ctr], Mu_array[:, :, :, ctr], neglect_DSE=False)\n",
    "        _pcqed_500_dse[ctr, :] = instance.PCQED_pf_eigs\n",
    "        ctr += 1\n"
   ]
  },
  {
   "cell_type": "code",
   "execution_count": 1,
   "id": "9e295b86-42f7-4496-85a1-0c6a5160fa18",
   "metadata": {},
   "outputs": [],
   "source": [
    "# print(_pcqed_500_dse[4])"
   ]
  },
  {
   "cell_type": "code",
   "execution_count": 8,
   "id": "2f038522-bdf9-4882-a208-dbec50847ea4",
   "metadata": {},
   "outputs": [
    {
     "name": "stdout",
     "output_type": "stream",
     "text": [
      "[-0.00037363 -0.00036587 -0.00036011 -0.00035619 -0.00035396 -0.00035327\n",
      " -0.000354   -0.00035596 -0.00035914 -0.00036337 -0.00036857 -0.00037462\n",
      " -0.00038144 -0.00038928 -0.00039733 -0.0004059  -0.00041492 -0.00042432\n",
      " -0.00043407 -0.00044402 -0.00045404 -0.00046403 -0.00047432 -0.0004847\n",
      " -0.0004951 ]\n",
      "0.0004000873820326234\n"
     ]
    }
   ],
   "source": [
    "Error = _pcqed_5002_cs[:,0] - eig_np10_005_dse[:,0]\n",
    "print(Error)\n",
    "\n",
    "abs_error = np.abs(Error)\n",
    "mae_2 = np.mean(abs_error)\n",
    "print(mae_2)"
   ]
  },
  {
   "cell_type": "code",
   "execution_count": 9,
   "id": "fa1614b9",
   "metadata": {},
   "outputs": [],
   "source": [
    "# # write to json file\n",
    "# file_name = generate_file_name(dictionary)\n",
    "# json_object = json.dumps(dictionary, indent=4)\n",
    "# with open(file_name, \"w\") as outfile:\n",
    "#     outfile.write(json_object)"
   ]
  },
  {
   "cell_type": "code",
   "execution_count": 10,
   "id": "8f3e0d34",
   "metadata": {},
   "outputs": [],
   "source": [
    "\n",
    "# d_array = np.linspace(1.4, 2.2, N_R)\n",
    "# N_l = len(d_array)\n",
    "# N_el = 100\n",
    "# N_ph = 10\n",
    "# omega = 0.12086\n",
    "# lambda_values = np.linspace(0.001, 0.005, 5)  # Array of lambda values\n",
    "\n",
    "# # Create an array of zeros to store the PCQED eigenvalues for each value of d and lambda\n",
    "# _pcqed_40010_dse = np.zeros((len(lambda_values), N_l, N_el * N_ph))\n",
    "\n",
    "# # Loop over lambda values\n",
    "# for i, lambda_val in enumerate(lambda_values):\n",
    "#     lambda_vector = np.array([0, 0, lambda_val])\n",
    "#     ctr = 0\n",
    "#     # Loop over values of d, build Hamiltonian, capture eigenvalues\n",
    "#     for d in d_array:\n",
    "#         instance.fast_build_pcqed_pf_hamiltonian(N_el, N_ph, omega, lambda_vector, E_array[:,ctr], Mu_array[:,:,:,ctr], neglect_DSE=True)       \n",
    "#         _pcqed_40010_dse[i, ctr, :] = instance.PCQED_pf_eigs\n",
    "#         ctr += 1 \n",
    "\n",
    "# # Now _pcqed_40010_dse contains eigenvalues for different lambda values\n"
   ]
  },
  {
   "cell_type": "code",
   "execution_count": null,
   "id": "f586e479",
   "metadata": {},
   "outputs": [],
   "source": [
    "# N_R = 25\n",
    "# d_array = np.linspace(1.4, 2.2, N_R)\n",
    "# N_l = len(d_array)\n",
    "# N_el = 500\n",
    "# N_ph = 3\n",
    "# omega = 0.12086\n",
    "# lambda_vector = np.array([0, 0, 0.05])\n",
    "\n",
    "# # create an array of zeros to store the PCQED eigenvalues for each value of d\n",
    "# _pcqed_5003_dse = np.zeros((N_l, N_el * N_ph))\n",
    "# # loop over values of d, build Hamiltonian, capture eigenvalues\n",
    "# ctr = 0\n",
    "# for d in d_array:\n",
    "#     instance.fast_build_pcqed_pf_hamiltonian(N_el, N_ph, omega, lambda_vector ,E_array[:,ctr], Mu_array[:,:,:,ctr], neglect_DSE=False)      # E_array[:,ctr]: 20 energy values for fisrt displacement and so on... \n",
    "#     _pcqed_5003_dse[ctr, :] = instance.PCQED_pf_eigs\n",
    "#     ctr += 1"
   ]
  },
  {
   "cell_type": "code",
   "execution_count": 11,
   "id": "268eae74-19c0-449d-9dad-b4085d6a7180",
   "metadata": {},
   "outputs": [],
   "source": [
    "N_R = 25\n",
    "\n",
    "d_array = np.linspace(1.4, 2.2, N_R)\n",
    "N_l = len(d_array)\n",
    "N_el = 500\n",
    "N_ph = 3\n",
    "omega = 0.12086\n",
    "lambda_vector = np.array([0, 0, 0.05])\n",
    "\n",
    "# create an array of zeros to store the PCQED eigenvalues for each value of d\n",
    "_pcqed_5003_cs = np.zeros((N_l, N_el * N_ph))\n",
    "# loop over values of d, build Hamiltonian, capture eigenvalues\n",
    "ctr = 0\n",
    "for d in d_array:\n",
    "    instance.fast_build_pcqed_cs_hamiltonian(N_el, N_ph, omega, lambda_vector , E_array[:,ctr], Mu_array[:,:,:,ctr], neglect_DSE=False)      # E_array[:,ctr]: 20 energy values for fisrt displacement and so on... \n",
    "    _pcqed_5003_cs[ctr, :] = instance.PCQED_cs_eigs\n",
    "    ctr += 1"
   ]
  },
  {
   "cell_type": "code",
   "execution_count": 12,
   "id": "f0b975d0",
   "metadata": {},
   "outputs": [
    {
     "name": "stdout",
     "output_type": "stream",
     "text": [
      "[-0.00039906 -0.00039277 -0.00038859 -0.00038636 -0.00038595 -0.00038722\n",
      " -0.00039004 -0.00039424 -0.00039982 -0.00040662 -0.00041456 -0.00042355\n",
      " -0.0004335  -0.00044469 -0.0004563  -0.00046868 -0.00048176 -0.00049549\n",
      " -0.00050985 -0.00052471 -0.00053997 -0.00055552 -0.00057174 -0.00058841\n",
      " -0.00060552]\n",
      "0.00045779735577781364\n"
     ]
    }
   ],
   "source": [
    "Error = _pcqed_5003_cs[:,0] - eig_np10_005_dse[:,0]\n",
    "print(Error)\n",
    "\n",
    "abs_error = np.abs(Error)\n",
    "mae_3 = np.mean(abs_error)\n",
    "print(mae_3)"
   ]
  },
  {
   "cell_type": "code",
   "execution_count": 13,
   "id": "37693047",
   "metadata": {},
   "outputs": [],
   "source": [
    "# N_R = 25\n",
    "# d_array = np.linspace(1.4, 2.2, N_R)\n",
    "# N_l = len(d_array)\n",
    "# N_el = 500\n",
    "# N_ph = 4\n",
    "# omega = 0.12086\n",
    "# lambda_vector = np.array([0, 0, 0.05])\n",
    "\n",
    "# # create an array of zeros to store the PCQED eigenvalues for each value of d\n",
    "# _pcqed_5004_dse = np.zeros((N_l, N_el * N_ph))\n",
    "# # loop over values of d, build Hamiltonian, capture eigenvalues\n",
    "# ctr = 0\n",
    "# for d in d_array:\n",
    "#     instance.fast_build_pcqed_pf_hamiltonian(N_el, N_ph, omega, lambda_vector ,E_array[:,ctr], Mu_array[:,:,:,ctr], neglect_DSE=False)      # E_array[:,ctr]: 20 energy values for fisrt displacement and so on... \n",
    "#     _pcqed_5004_dse[ctr, :] = instance.PCQED_pf_eigs\n",
    "#     ctr += 1"
   ]
  },
  {
   "cell_type": "code",
   "execution_count": 14,
   "id": "1a234686-c339-417e-89a5-6d2031ec04e0",
   "metadata": {},
   "outputs": [],
   "source": [
    "N_R = 25\n",
    "\n",
    "d_array = np.linspace(1.4, 2.2, N_R)\n",
    "N_l = len(d_array)\n",
    "N_el = 500\n",
    "N_ph = 4\n",
    "omega = 0.12086\n",
    "lambda_vector = np.array([0, 0, 0.05])\n",
    "\n",
    "# create an array of zeros to store the PCQED eigenvalues for each value of d\n",
    "_pcqed_5004_cs = np.zeros((N_l, N_el * N_ph))\n",
    "# loop over values of d, build Hamiltonian, capture eigenvalues\n",
    "ctr = 0\n",
    "for d in d_array:\n",
    "    instance.fast_build_pcqed_cs_hamiltonian(N_el, N_ph, omega, lambda_vector , E_array[:,ctr], Mu_array[:,:,:,ctr], neglect_DSE=False)      # E_array[:,ctr]: 20 energy values for fisrt displacement and so on... \n",
    "    _pcqed_5004_cs[ctr, :] = instance.PCQED_cs_eigs\n",
    "    ctr += 1"
   ]
  },
  {
   "cell_type": "code",
   "execution_count": 15,
   "id": "26189640-33e3-468d-9247-0da628ed4324",
   "metadata": {},
   "outputs": [
    {
     "name": "stdout",
     "output_type": "stream",
     "text": [
      "[-0.00040024 -0.00039404 -0.00038996 -0.00038785 -0.00038756 -0.00038896\n",
      " -0.00039193 -0.0003963  -0.00040205 -0.00040905 -0.0004172  -0.00042641\n",
      " -0.00043662 -0.00044807 -0.00045998 -0.00047268 -0.0004861  -0.0005002\n",
      " -0.00051496 -0.00053026 -0.00054599 -0.00056205 -0.00057881 -0.00059607\n",
      " -0.00061381]\n",
      "0.000461485431715154\n"
     ]
    }
   ],
   "source": [
    "Error = _pcqed_5004_cs[:,0] - eig_np10_005_dse[:,0]\n",
    "print(Error)\n",
    "\n",
    "abs_error = np.abs(Error)\n",
    "mae_4 = np.mean(abs_error)\n",
    "print(mae_4)"
   ]
  },
  {
   "cell_type": "code",
   "execution_count": 16,
   "id": "4216d774",
   "metadata": {},
   "outputs": [],
   "source": [
    "# N_R = 25\n",
    "# d_array = np.linspace(1.4, 2.2, N_R)\n",
    "# N_l = len(d_array)\n",
    "# N_el = 500\n",
    "# N_ph = 5\n",
    "# omega = 0.12086\n",
    "# lambda_vector = np.array([0, 0, 0.05])\n",
    "\n",
    "# # create an array of zeros to store the PCQED eigenvalues for each value of d\n",
    "# _pcqed_5005_dse = np.zeros((N_l, N_el * N_ph))\n",
    "# # loop over values of d, build Hamiltonian, capture eigenvalues\n",
    "# ctr = 0\n",
    "# for d in d_array:\n",
    "#     instance.fast_build_pcqed_pf_hamiltonian(N_el, N_ph, omega, lambda_vector ,E_array[:,ctr], Mu_array[:,:,:,ctr], neglect_DSE=False)      # E_array[:,ctr]: 20 energy values for fisrt displacement and so on... \n",
    "#     _pcqed_5005_dse[ctr, :] = instance.PCQED_pf_eigs\n",
    "#     ctr += 1"
   ]
  },
  {
   "cell_type": "code",
   "execution_count": 17,
   "id": "7ad0559d-1815-4764-888d-59f60272ca51",
   "metadata": {},
   "outputs": [],
   "source": [
    "N_R = 25\n",
    "d_array = np.linspace(1.4, 2.2, N_R)\n",
    "N_l = len(d_array)\n",
    "N_el = 500\n",
    "N_ph = 5\n",
    "omega = 0.12086\n",
    "lambda_vector = np.array([0, 0, 0.05])\n",
    "\n",
    "# create an array of zeros to store the PCQED eigenvalues for each value of d\n",
    "_pcqed_5005_cs = np.zeros((N_l, N_el * N_ph))\n",
    "# loop over values of d, build Hamiltonian, capture eigenvalues\n",
    "ctr = 0\n",
    "for d in d_array:\n",
    "    instance.fast_build_pcqed_cs_hamiltonian(N_el, N_ph, omega, lambda_vector ,E_array[:,ctr], Mu_array[:,:,:,ctr], neglect_DSE=False)      # E_array[:,ctr]: 20 energy values for fisrt displacement and so on... \n",
    "    _pcqed_5005_cs[ctr, :] = instance.PCQED_cs_eigs\n",
    "    ctr += 1"
   ]
  },
  {
   "cell_type": "code",
   "execution_count": 18,
   "id": "52392c0a-3d16-457b-be77-92e803c40250",
   "metadata": {},
   "outputs": [
    {
     "name": "stdout",
     "output_type": "stream",
     "text": [
      "[-0.0004003  -0.0003941  -0.00039003 -0.00038793 -0.00038765 -0.00038906\n",
      " -0.00039204 -0.00039642 -0.00040219 -0.0004092  -0.00041736 -0.0004266\n",
      " -0.00043682 -0.00044829 -0.00046022 -0.00047295 -0.0004864  -0.00050053\n",
      " -0.00051533 -0.00053066 -0.00054643 -0.00056253 -0.00057934 -0.00059665\n",
      " -0.00061444]\n",
      "0.0004617394105568451\n"
     ]
    }
   ],
   "source": [
    "Error = _pcqed_5005_cs[:,0] - eig_np10_005_dse[:,0]\n",
    "print(Error)\n",
    "\n",
    "abs_error = np.abs(Error)\n",
    "mae_5 = np.mean(abs_error)\n",
    "print(mae_5)"
   ]
  },
  {
   "cell_type": "code",
   "execution_count": 19,
   "id": "5126cdc7",
   "metadata": {},
   "outputs": [],
   "source": [
    "# N_R = 25\n",
    "# d_array = np.linspace(1.4, 2.2, N_R)\n",
    "# N_l = len(d_array)\n",
    "# N_el = 500\n",
    "# N_ph = 6\n",
    "# omega = 0.12086\n",
    "# lambda_vector = np.array([0, 0, 0.05])\n",
    "\n",
    "# # create an array of zeros to store the PCQED eigenvalues for each value of d\n",
    "# _pcqed_5006_dse = np.zeros((N_l, N_el * N_ph))\n",
    "# # loop over values of d, build Hamiltonian, capture eigenvalues\n",
    "# ctr = 0\n",
    "# for d in d_array:\n",
    "#     instance.fast_build_pcqed_pf_hamiltonian(N_el, N_ph, omega, lambda_vector ,E_array[:,ctr], Mu_array[:,:,:,ctr], neglect_DSE=False)      # E_array[:,ctr]: 20 energy values for fisrt displacement and so on... \n",
    "#     _pcqed_5006_dse[ctr, :] = instance.PCQED_pf_eigs\n",
    "#     ctr += 1"
   ]
  },
  {
   "cell_type": "code",
   "execution_count": 20,
   "id": "98210e7e-2af7-43ea-bb8d-cff3e64a17a8",
   "metadata": {},
   "outputs": [],
   "source": [
    "N_R = 25\n",
    "\n",
    "d_array = np.linspace(1.4, 2.2, N_R)\n",
    "N_l = len(d_array)\n",
    "N_el = 500\n",
    "N_ph = 6\n",
    "omega = 0.12086\n",
    "lambda_vector = np.array([0, 0, 0.05])\n",
    "\n",
    "# create an array of zeros to store the PCQED eigenvalues for each value of d\n",
    "_pcqed_5006_cs = np.zeros((N_l, N_el * N_ph))\n",
    "# loop over values of d, build Hamiltonian, capture eigenvalues\n",
    "ctr = 0\n",
    "for d in d_array:\n",
    "    instance.fast_build_pcqed_cs_hamiltonian(N_el, N_ph, omega, lambda_vector , E_array[:,ctr], Mu_array[:,:,:,ctr], neglect_DSE=False)      # E_array[:,ctr]: 20 energy values for fisrt displacement and so on... \n",
    "    _pcqed_5006_cs[ctr, :] = instance.PCQED_cs_eigs\n",
    "    ctr += 1"
   ]
  },
  {
   "cell_type": "code",
   "execution_count": 21,
   "id": "5bec895a-f6d3-405a-ac23-28bd8ad981d2",
   "metadata": {},
   "outputs": [
    {
     "name": "stdout",
     "output_type": "stream",
     "text": [
      "[-0.00040031 -0.00039411 -0.00039004 -0.00038794 -0.00038766 -0.00038907\n",
      " -0.00039205 -0.00039643 -0.00040219 -0.00040921 -0.00041737 -0.00042661\n",
      " -0.00043683 -0.0004483  -0.00046024 -0.00047296 -0.00048642 -0.00050055\n",
      " -0.00051535 -0.00053069 -0.00054646 -0.00056256 -0.00057938 -0.00059669\n",
      " -0.00061448]\n",
      "0.00046175615285466877\n"
     ]
    }
   ],
   "source": [
    "Error = _pcqed_5006_cs[:,0] - eig_np10_005_dse[:,0]\n",
    "print(Error)\n",
    "\n",
    "abs_error = np.abs(Error)\n",
    "mae_6 = np.mean(abs_error)\n",
    "print(mae_6)"
   ]
  },
  {
   "cell_type": "code",
   "execution_count": 22,
   "id": "e7c7cd75",
   "metadata": {},
   "outputs": [],
   "source": [
    "# N_R = 25\n",
    "# d_array = np.linspace(1.4, 2.2, N_R)\n",
    "# N_l = len(d_array)\n",
    "# N_el = 500\n",
    "# N_ph = 7\n",
    "# omega = 0.12086\n",
    "# lambda_vector = np.array([0, 0, 0.05])\n",
    "\n",
    "# # create an array of zeros to store the PCQED eigenvalues for each value of d\n",
    "# _pcqed_5007_dse = np.zeros((N_l, N_el * N_ph))\n",
    "# # loop over values of d, build Hamiltonian, capture eigenvalues\n",
    "# ctr = 0\n",
    "# for d in d_array:\n",
    "#     instance.fast_build_pcqed_pf_hamiltonian(N_el, N_ph, omega, lambda_vector ,E_array[:,ctr], Mu_array[:,:,:,ctr], neglect_DSE=False)      # E_array[:,ctr]: 20 energy values for fisrt displacement and so on... \n",
    "#     _pcqed_5007_dse[ctr, :] = instance.PCQED_pf_eigs\n",
    "#     ctr += 1"
   ]
  },
  {
   "cell_type": "code",
   "execution_count": 23,
   "id": "7e4e2af3-f1ed-469f-b3f8-9d96736a21e3",
   "metadata": {},
   "outputs": [],
   "source": [
    "N_R = 25\n",
    "\n",
    "d_array = np.linspace(1.4, 2.2, N_R)\n",
    "N_l = len(d_array)\n",
    "N_el = 500\n",
    "N_ph = 8\n",
    "omega = 0.12086\n",
    "lambda_vector = np.array([0, 0, 0.05])\n",
    "\n",
    "# create an array of zeros to store the PCQED eigenvalues for each value of d\n",
    "_pcqed_5008_cs = np.zeros((N_l, N_el * N_ph))\n",
    "# loop over values of d, build Hamiltonian, capture eigenvalues\n",
    "ctr = 0\n",
    "for d in d_array:\n",
    "    instance.fast_build_pcqed_cs_hamiltonian(N_el, N_ph, omega, lambda_vector , E_array[:,ctr], Mu_array[:,:,:,ctr], neglect_DSE=False)      # E_array[:,ctr]: 20 energy values for fisrt displacement and so on... \n",
    "    _pcqed_5008_cs[ctr, :] = instance.PCQED_cs_eigs\n",
    "    ctr += 1"
   ]
  },
  {
   "cell_type": "code",
   "execution_count": 24,
   "id": "3e13bcfb-a1ac-43a7-adc2-fd97934cbd6e",
   "metadata": {},
   "outputs": [
    {
     "name": "stdout",
     "output_type": "stream",
     "text": [
      "[-0.00040031 -0.00039411 -0.00039004 -0.00038794 -0.00038766 -0.00038907\n",
      " -0.00039205 -0.00039643 -0.00040219 -0.00040921 -0.00041737 -0.00042661\n",
      " -0.00043683 -0.00044831 -0.00046024 -0.00047297 -0.00048642 -0.00050055\n",
      " -0.00051535 -0.00053069 -0.00054646 -0.00056257 -0.00057938 -0.0005967\n",
      " -0.00061449]\n",
      "0.00046175724180912424\n"
     ]
    }
   ],
   "source": [
    "Error = _pcqed_5008_cs[:,0] - eig_np10_005_dse[:,0]\n",
    "print(Error)\n",
    "\n",
    "abs_error = np.abs(Error)\n",
    "mae_7 = np.mean(abs_error)\n",
    "print(mae_7)"
   ]
  },
  {
   "cell_type": "code",
   "execution_count": 25,
   "id": "9d3e9e50",
   "metadata": {},
   "outputs": [],
   "source": [
    "# N_R = 25\n",
    "# d_array = np.linspace(1.4, 2.2, N_R)\n",
    "# N_l = len(d_array)\n",
    "# N_el = 500\n",
    "# N_ph = 8\n",
    "# omega = 0.12086\n",
    "# lambda_vector = np.array([0, 0, 0.05])\n",
    "\n",
    "# # create an array of zeros to store the PCQED eigenvalues for each value of d\n",
    "# _pcqed_5008_dse = np.zeros((N_l, N_el * N_ph))\n",
    "# # loop over values of d, build Hamiltonian, capture eigenvalues\n",
    "# ctr = 0\n",
    "# for d in d_array:\n",
    "#     instance.fast_build_pcqed_pf_hamiltonian(N_el, N_ph, omega, lambda_vector ,E_array[:,ctr], Mu_array[:,:,:,ctr], neglect_DSE=False)      # E_array[:,ctr]: 20 energy values for fisrt displacement and so on... \n",
    "#     _pcqed_5008_dse[ctr, :] = instance.PCQED_pf_eigs\n",
    "#     ctr += 1"
   ]
  },
  {
   "cell_type": "code",
   "execution_count": 26,
   "id": "7fccf143-4bb5-4a5f-9d8d-b7559cde1cfb",
   "metadata": {},
   "outputs": [],
   "source": [
    "# Error = _pcqed_5008_dse[:,0] - eig_np10_005_dse[:,0]\n",
    "# print(Error)\n",
    "\n",
    "# abs_error = np.abs(Error)\n",
    "# mae_8 = np.mean(abs_error)\n",
    "# print(mae_8)"
   ]
  },
  {
   "cell_type": "code",
   "execution_count": 27,
   "id": "7ecba9c0",
   "metadata": {},
   "outputs": [],
   "source": [
    "# N_R = 25\n",
    "# d_array = np.linspace(1.4, 2.2, N_R)\n",
    "# N_l = len(d_array)\n",
    "# N_el = 500\n",
    "# N_ph = 10\n",
    "# omega = 0.12086\n",
    "# lambda_vector = np.array([0, 0, 0.05])\n",
    "\n",
    "# # create an array of zeros to store the PCQED eigenvalues for each value of d\n",
    "# _pcqed_50010_dse = np.zeros((N_l, N_el * N_ph))\n",
    "# # loop over values of d, build Hamiltonian, capture eigenvalues\n",
    "# ctr = 0\n",
    "# for d in d_array:\n",
    "#     instance.fast_build_pcqed_pf_hamiltonian(N_el, N_ph, omega, lambda_vector ,E_array[:,ctr], Mu_array[:,:,:,ctr], neglect_DSE=False)      # E_array[:,ctr]: 20 energy values for fisrt displacement and so on... \n",
    "#     _pcqed_50010_dse[ctr, :] = instance.PCQED_pf_eigs\n",
    "#     ctr += 1"
   ]
  },
  {
   "cell_type": "code",
   "execution_count": 28,
   "id": "bec0f96c-d75d-4d94-b5a8-790ebbcdfb8b",
   "metadata": {},
   "outputs": [],
   "source": [
    "N_R = 25\n",
    "\n",
    "d_array = np.linspace(1.4, 2.2, N_R)\n",
    "N_l = len(d_array)\n",
    "N_el = 500\n",
    "N_ph = 10\n",
    "omega = 0.12086\n",
    "lambda_vector = np.array([0, 0, 0.05])\n",
    "\n",
    "# create an array of zeros to store the PCQED eigenvalues for each value of d\n",
    "_pcqed_50010_cs = np.zeros((N_l, N_el * N_ph))\n",
    "# loop over values of d, build Hamiltonian, capture eigenvalues\n",
    "ctr = 0\n",
    "for d in d_array:\n",
    "    instance.fast_build_pcqed_cs_hamiltonian(N_el, N_ph, omega, lambda_vector , E_array[:,ctr], Mu_array[:,:,:,ctr], neglect_DSE=False)      # E_array[:,ctr]: 20 energy values for fisrt displacement and so on... \n",
    "    _pcqed_50010_cs[ctr, :] = instance.PCQED_cs_eigs\n",
    "    ctr += 1"
   ]
  },
  {
   "cell_type": "code",
   "execution_count": 29,
   "id": "1d895bb1-34aa-4973-94bc-1611e8fbd232",
   "metadata": {},
   "outputs": [
    {
     "name": "stdout",
     "output_type": "stream",
     "text": [
      "[-0.00040031 -0.00039411 -0.00039004 -0.00038794 -0.00038766 -0.00038907\n",
      " -0.00039205 -0.00039643 -0.00040219 -0.00040921 -0.00041737 -0.00042661\n",
      " -0.00043683 -0.00044831 -0.00046024 -0.00047297 -0.00048642 -0.00050055\n",
      " -0.00051535 -0.00053069 -0.00054646 -0.00056257 -0.00057938 -0.0005967\n",
      " -0.00061449]\n",
      "0.0004617572451355656\n"
     ]
    }
   ],
   "source": [
    "Error = _pcqed_50010_cs[:,0] - eig_np10_005_dse[:,0]\n",
    "print(Error)\n",
    "\n",
    "abs_error = np.abs(Error)\n",
    "mae_10 = np.mean(abs_error)\n",
    "print(mae_10)"
   ]
  },
  {
   "cell_type": "code",
   "execution_count": 33,
   "id": "7133f3f1-344a-4155-b92d-9d041a68b5df",
   "metadata": {},
   "outputs": [],
   "source": [
    "N_R = 25\n",
    "\n",
    "d_array = np.linspace(1.4, 2.2, N_R)\n",
    "N_l = len(d_array)\n",
    "N_el = 500\n",
    "N_ph = 7\n",
    "omega = 0.12086\n",
    "lambda_vector = np.array([0, 0, 0.05])\n",
    "\n",
    "# create an array of zeros to store the PCQED eigenvalues for each value of d\n",
    "_pcqed_5007_cs = np.zeros((N_l, N_el * N_ph))\n",
    "# loop over values of d, build Hamiltonian, capture eigenvalues\n",
    "ctr = 0\n",
    "for d in d_array:\n",
    "    instance.fast_build_pcqed_cs_hamiltonian(N_el, N_ph, omega, lambda_vector , E_array[:,ctr], Mu_array[:,:,:,ctr], neglect_DSE=False)      # E_array[:,ctr]: 20 energy values for fisrt displacement and so on... \n",
    "    _pcqed_5007_cs[ctr, :] = instance.PCQED_cs_eigs"
   ]
  },
  {
   "cell_type": "code",
   "execution_count": 34,
   "id": "a9157d29-780e-423c-82b1-31a4195df72c",
   "metadata": {},
   "outputs": [
    {
     "name": "stdout",
     "output_type": "stream",
     "text": [
      "[-4.00305662e-04  8.01134442e+00  8.01308217e+00  8.01440057e+00\n",
      "  8.01534515e+00  8.01595686e+00  8.01627249e+00  8.01632521e+00\n",
      "  8.01614486e+00  8.01575833e+00  8.01518988e+00  8.01446134e+00\n",
      "  8.01359241e+00  8.01260085e+00  8.01150264e+00  8.01031218e+00\n",
      "  8.00904244e+00  8.00770507e+00  8.00631054e+00  8.00486828e+00\n",
      "  8.00338673e+00  8.00187346e+00  8.00033527e+00  7.99877825e+00\n",
      "  7.99720787e+00]\n",
      "7.6896879026436\n"
     ]
    }
   ],
   "source": [
    "Error = _pcqed_5007_cs[:,0] - eig_np10_005_dse[:,0]\n",
    "print(Error)\n",
    "\n",
    "abs_error = np.abs(Error)\n",
    "mae_8 = np.mean(abs_error)\n",
    "print(mae_8)"
   ]
  },
  {
   "cell_type": "code",
   "execution_count": null,
   "id": "13c1a385-f22f-4cf1-8e38-21e6aff4803e",
   "metadata": {},
   "outputs": [],
   "source": []
  },
  {
   "cell_type": "code",
   "execution_count": 84,
   "id": "5948971a-f3ff-4542-8ab9-3d5aefb5955c",
   "metadata": {},
   "outputs": [
    {
     "data": {
      "image/png": "[encoded data removed]",
      "text/plain": [
       "<Figure size 640x480 with 1 Axes>"
      ]
     },
     "metadata": {},
     "output_type": "display_data"
    }
   ],
   "source": [
    "from matplotlib import pyplot as plt\n",
    "from matplotlib import cm\n",
    "from matplotlib import rcParams\n",
    "# from mpl_toolkits.mplot3d import Axes3D\n",
    "\n",
    "Energy_difference_cs = [0.0004000873820326234, 0.00045779735577781364, 0.000461485431715154, 0.0004617394105568451, 0.00046175615285466877, 0.00046175724180912424, 0.0004617572451355656]\n",
    "photons = [2,3,4,5,6,9,10]\n",
    "# Energy_diff = [mae_2, mae_3,mae_4, mae_5, mae_6, mae_7, mae_10] \n",
    "Energy_diff_p = [0.0002261021048540357, 0.00041934116279861654, 0.0004597249911168433, 0.0004616757103613622, 0.0004617543915363598,  0.00046175724261846794, 0.0004617572451422447]\n",
    "\n",
    "plt.semilogy(photons, Energy_diff_p,color='r',marker=\"s\", ms=\"4\",linewidth=1.5, label= \" Photon number basis\")\n",
    "plt.semilogy(photons, Energy_difference_cs,color='b',marker=\"o\", ms=\"4\",linewidth=1.5, label= \" Coherent state basis\")\n",
    "# plt.errorbar(photons, Energy_difference_cs,color='b',marker=\"o\", ms=\"4\",linewidth=1.5, label= \" Coherent state basis\")\n",
    "plt.xlabel(\"No. of Photons\")\n",
    "plt.ylabel(\" Mean absolute error (Hartrees)\")\n",
    "plt.xlim(2, 10)\n",
    "# plt.ylim(-7.9970, -7.9966)\n",
    "rcParams['font.family'] = 'serif'\n",
    "rcParams['font.size'] = 12\n",
    "plt.gca().yaxis.set_major_formatter('{:.12f}'.format)\n",
    "plt.legend()\n",
    "plt.tight_layout()\n",
    "plt.savefig(\"LiH_QEDFCI_vs_PCQED_mae_error_log.png\", dpi=150)\n",
    "plt.show()\n"
   ]
  },
  {
   "cell_type": "code",
   "execution_count": 48,
   "id": "f54a1c5c",
   "metadata": {},
   "outputs": [],
   "source": [
    "\n",
    "# # perturbative_energy_vals = []\n",
    "# perturbative_energy_vals_no_dse = []\n",
    "# for i in range(0, 25):\n",
    "\n",
    "\n",
    "#     # store energy eigenvalues in E_array\n",
    "#     E_array_i = E_array[:, i]\n",
    "#     # store dipole matrix elements in Mu_array\n",
    "#     Mu_array_i = Mu_array[:,:,:,i]\n",
    "\n",
    "\n",
    "# #     energy = instance.compute_energy_to_second_order(E_array_i, lambda_vector, Mu_array_i)\n",
    "\n",
    "\n",
    "#     #scan_nums.append(i)\n",
    "# #     perturbative_energy_vals.append(energy)\n",
    "    \n",
    "#     energy = instance.compute_energy_to_second_order(E_array_i, lambda_vector, Mu_array_i, neglected_DSE_option = False)\n",
    "\n",
    "    \n",
    "    \n",
    "#     perturbative_energy_vals_no_dse.append(energy)\n",
    "\n",
    "# # print(np.shape(perturbative_energy_vals))"
   ]
  },
  {
   "cell_type": "code",
   "execution_count": null,
   "id": "f30c5bb7",
   "metadata": {},
   "outputs": [],
   "source": [
    "# perturbative_energy_vals_cs = []\n",
    "# # perturbative_energy_vals_no_dse = []\n",
    "# for i in range(0, 25):\n",
    "\n",
    "\n",
    "#     # store energy eigenvalues in E_array\n",
    "#     E_array_i = E_array[:, i]\n",
    "#     # store dipole matrix elements in Mu_array\n",
    "#     Mu_array_i = Mu_array[:,:,:,i]\n",
    "\n",
    "\n",
    "#     energy = instance.compute_energy_to_second_order(E_array_i, lambda_vector, Mu_array_i, coherent_state=True,neglected_DSE_option = False)\n",
    "\n",
    "\n",
    "#     #scan_nums.append(i)\n",
    "#     perturbative_energy_vals_cs.append(energy)\n",
    "    \n",
    "# #     energy = instance.compute_energy_to_second_order(E_array_i, lambda_vector, Mu_array_i, neglected_DSE_option = True)\n",
    "\n",
    "    \n",
    "    \n",
    "# #     perturbative_energy_vals_no_dse.append(energy)\n",
    "\n",
    "# print(np.shape(perturbative_energy_vals_cs))"
   ]
  },
  {
   "cell_type": "code",
   "execution_count": null,
   "id": "3d736384",
   "metadata": {},
   "outputs": [],
   "source": [
    "# plt.plot(d_array, _pcqed_10010_dse[:,0],'ro-', label=\"Dse_nocs(200,10)\")\n",
    "# # plt.plot(d_array,_pcqed_22_cs[:,0], label='Dse_cs')\n",
    "# plt.plot(d_array,_pcqed_10010_withoutdse[:,0], 'bo-', label='no_Dse(200,10)')\n",
    "# # plt.plot(d_array,_pcqed_22_withoutdse_cs[:,0], label='noDse_cs')\n",
    "\n",
    "# # plt.plot(lambda_val[:,2],_pcqed_502[:,2],'ro-', label='2nd')\n",
    "# # plt.plot(lambda_val[:,2],_pcqed_502[:,3],'b', label='3rd')\n",
    "# # plt.plot(lambda_val[:,2],_pcqed_502[:,4],'y', label='4th')\n",
    "\n",
    "# plt.xlabel('Bondlength')\n",
    "# plt.ylabel('Energy')\n",
    "# # plt.ylim(-0.0003, -0.0001)\n",
    "# plt.grid()\n",
    "# plt.legend()\n",
    "# # plt.savefig('LiH_0.03.png')"
   ]
  },
  {
   "cell_type": "code",
   "execution_count": null,
   "id": "8b524b32",
   "metadata": {},
   "outputs": [],
   "source": [
    "from matplotlib import pyplot as plt\n",
    "from matplotlib import cm\n",
    "from matplotlib import rcParams\n",
    "from mpl_toolkits.mplot3d import Axes3D\n",
    "\n",
    "plt.plot(d_array, _pcqed_50010_dse[:,0],color='r',marker=\"s\", ms=\"4\",linewidth=1.5, label=\"PN-pPF(500,10)\")\n",
    "plt.plot(d_array,_pcqed_1002_dse[:,0], color='b', marker=\"s\", ms=\"4\",linewidth=1.5, label='PN-pPF(500,2)')\n",
    "plt.plot(d_array,_pcqed_10021_dse_cs[:,0], color='g', marker=\"o\", ms=\"6\", mfc=\"none\",markeredgewidth =1,linewidth=1.5, label='CS-pPF(500,2)')\n",
    "\n",
    "# plt.plot(d_array, _pcqed_50010_dse[:,0],color='r',marker=\"s\", ms=\"4\",linewidth=1.5, label=\"pRabi(500,10)\")\n",
    "# plt.plot(d_array,_pcqed_1002_dse[:,0], color='b', marker=\"s\", ms=\"4\",linewidth=1.5, label='pRabi(500,2)')\n",
    "\n",
    "\n",
    "# plt.plot(r_data, eig_np10_001_dse[:,0], \"blue\", marker=\"s\", ms=\"5\", mfc=\"none\", label='QED-FCI(10,0.01,DSE)')\n",
    "# plt.plot(r_data, eig_np10_001_no_dse[:,0], 'red', marker=\"s\", ms=\"5\", mfc=\"none\", label='QED-FCI(10,0.01,No_DSE')\n",
    "plt.plot(r_data, eig_np10_005_dse[:,0],  'black',linestyle='--',linewidth=2,label='PF-FCI-10')\n",
    "# plt.plot(r_data, eig_np10_005_no_dse[:,0], 'black',linestyle='--', linewidth=2.5, label='PF-FCI-10')\n",
    "\n",
    "# plt.plot(r_data, perturbative_energy_vals_cs,'orange', marker=\"*\", ms=\"10\", mfc=\"none\",label='DSE perturbative Cs')\n",
    "# plt.plot(r_data, perturbative_energy_vals_no_dse,'black', marker=\"*\", ms=\"5\", mfc=\"none\",label=' DSE perturbative')\n",
    "\n",
    "# plt.plot(d_array, _pcqed_1002_dse[:,2],color='k',linestyle='--',linewidth=1.5, label=\"PCQED Dse(500,10)\")\n",
    "# plt.plot(d_array,_pcqed_10023_dse[:,2], color='y',linestyle='--',linewidth=1.5, label='PCQED Dse(500,2)')\n",
    "# plt.plot(d_array, _pcqed_5002_dse_cs[:,0], color='m', linestyle='--',linewidth=1.5,label=\"PCQED Dse Cs(500,2)\")\n",
    "\n",
    "\n",
    "\n",
    "\n",
    "plt.xlabel(\"Bondlength (Angstroms)\")\n",
    "plt.ylabel(\"Energy (Hartrees)\")\n",
    "plt.xlim(1.4, 2.2)\n",
    "# plt.ylim(-7.9970, -7.9966)\n",
    "rcParams['font.family'] = 'serif'\n",
    "rcParams['font.size'] = 12\n",
    "plt.gca().yaxis.set_major_formatter('{:.3f}'.format)\n",
    "plt.legend()\n",
    "plt.tight_layout()\n",
    "plt.savefig(\"LiH_QEDFCI_vs_PCQED_vs_pertrubative_nodse_0052_19febfinal.png\", dpi=150)\n",
    "plt.show()\n",
    "\n",
    "\n",
    "\n",
    "# diff_cs_1 = eig6[:,0]-ref_data[:,0]\n",
    "# max_cs_1 = max(diff_cs_1)\n",
    "# min_cs_1 = min(diff_cs_1)\n",
    "# print(F'CS-1: Max diff {max_cs_1}, Min diff {min_cs_1}, NPE {max_cs_1 - min_cs_1}')\n",
    "\n",
    "\n",
    "# diff_cs_10 = eig610[:,0]-ref_data[:,0]\n",
    "# max_cs_10 = max(diff_cs_10)\n",
    "# min_cs_10 = min(diff_cs_10)\n",
    "# print(F'CS-10: Max diff {max_cs_10}, Min diff {min_cs_10}, NPE {max_cs_10 - min_cs_10}')\n",
    "\n",
    "# diff_pn_1 = peig6[:,0]-ref_data[:,0]\n",
    "# max_pn_1 = max(diff_pn_1)\n",
    "# min_pn_1 = min(diff_pn_1)\n",
    "# print(F'PN-1: Max diff {max_pn_1}, Min diff {min_pn_1}, NPE {max_pn_1 - min_pn_1}')\n",
    "\n",
    "# diff_pn_10 = peig610[:,0]-ref_data[:,0]\n",
    "# max_pn_10 = max(diff_pn_10)\n",
    "# min_pn_10 = min(diff_pn_10)\n",
    "# print(F'PN-10: Max diff {max_pn_10}, Min diff {min_pn_10}, NPE {max_pn_10 - min_pn_10}')\n",
    "\n",
    "\n",
    "# print(np_mae[3], np_mae10[3], cs_mae[3], cs_mae10[3])"
   ]
  },
  {
   "cell_type": "code",
   "execution_count": null,
   "id": "10e3020b",
   "metadata": {},
   "outputs": [],
   "source": [
    "def mae(array, reference):\n",
    "    diff = np.abs(array - reference)\n",
    "    mae = np.mean(diff)\n",
    "    mx = np.max(diff)\n",
    "    mn = np.min(diff)\n",
    "    \n",
    "    return mx-mn\n",
    "    #return mae\n"
   ]
  },
  {
   "cell_type": "code",
   "execution_count": null,
   "id": "1f80f6a5",
   "metadata": {},
   "outputs": [],
   "source": [
    "cs_mae10[11] = mae(eig1410[:,0], ref_data[:,0])\n",
    "cs_mae10[12] = mae(eig1510[:,0], ref_data[:,0])\n",
    "cs_mae10[13] = mae(eig1610[:,0], ref_data[:,0])\n",
    "\n",
    "np_mae10[0] = mae(peig310[:,0], ref_data[:,0])\n",
    "np_mae10[1] = mae(peig410[:,0], ref_data[:,0])\n",
    "np_mae10[2] = mae(peig510[:,0], ref_data[:,0])"
   ]
  },
  {
   "cell_type": "code",
   "execution_count": null,
   "id": "7777e2aa",
   "metadata": {},
   "outputs": [],
   "source": [
    "from matplotlib import pyplot as plt\n",
    "from matplotlib import cm\n",
    "from matplotlib import rcParams\n",
    "plt.plot(r_data, eig6[:,0], \"blue\", marker=\"s\", ms=\"5\", mfc=\"none\", label='CS-QEDCAS(4,6)-1')\n",
    "plt.plot(r_data, eig610[:,0],  'blue',label='CS-QEDCAS(4,6)-10')\n",
    "plt.plot(r_data, peig6[:,0], 'red', marker=\"s\", ms=\"5\", mfc=\"none\", label='PN-QEDCAS(4,6)-1')\n",
    "plt.plot(r_data, peig610[:,0], 'red', label='PN-QEDCAS(4,6)-10')\n",
    "plt.xlabel(\"Bondlength (Angstroms)\")\n",
    "plt.ylabel(\"Energy (Hartrees)\")\n",
    "plt.xlim(1.4, 2.0)\n",
    "plt.ylim(-7.982, -7.965)\n",
    "plt.legend()\n",
    "plt.tight_layout()\n",
    "plt.savefig(\"LiH_46_zoom.png\", dpi=150)\n",
    "plt.show()\n"
   ]
  },
  {
   "cell_type": "code",
   "execution_count": null,
   "id": "f0a9f4f7",
   "metadata": {},
   "outputs": [],
   "source": [
    "print(_pcqed_5002_dse_cs)\n",
    "# print(_pcqed_5002_dse)"
   ]
  },
  {
   "cell_type": "code",
   "execution_count": null,
   "id": "6d7f49d3",
   "metadata": {},
   "outputs": [],
   "source": []
  },
  {
   "cell_type": "code",
   "execution_count": null,
   "id": "81e52aa4",
   "metadata": {},
   "outputs": [],
   "source": [
    "# print(np.shape(_pcqed_50010_dse[:,0]))\n",
    "X = d_array\n",
    "Y = d_array\n",
    "# Z = _pcqed_50010_dse[:,0]\n",
    "# print(Z)\n",
    "X, Y = np.meshgrid(X, Y)\n",
    "# Z = Z.reshape(len(X), len(Y))\n",
    "print(np.shape(Z))\n",
    "fig = plt.figure()\n",
    "ax = fig.add_subplot(111, projection='3d')\n",
    "surf = ax.plot_surface(X, Y, cmap='viridis')\n",
    "\n",
    "print(np.shape(Z))"
   ]
  },
  {
   "cell_type": "code",
   "execution_count": null,
   "id": "d99b1cc6",
   "metadata": {},
   "outputs": [],
   "source": [
    "plt.plot(r_data, _pcqed_10010_withoutdse[:,0]-eig_np10_005_no_dse[:,0],\"bo-\", label='No DSE Difference, PCQED vs QED-FCI')\n",
    "plt.plot(r_data, _pcqed_10010_dse[:,0]-eig_np10_005_dse[:,0],\"black\", marker=\"s\", ms=\"5\", mfc=\"none\", label='DSE Difference, PCQED vs QED-FCI')\n",
    "\n",
    "\n",
    "plt.plot(r_data, eig_np10_005_no_dse[:,0]-perturbative_energy_vals[:,0],\"red\", marker=\"s\", ms=\"5\", mfc=\"none\", label='No DSE Difference, PCQED vs QED-FCI')\n",
    "# plt.plot(r_data, eig_np10_005_dse[:,0]-perturbative_energy_vals_no_dse[:,0],\"blue\", marker=\"s\", ms=\"5\", mfc=\"none\", label='DSE_Difference(0.05)')\n",
    "# plt.plot(r_data, _pcqed_10010_withoutdse[:,0]-eig_np10_005_no_dse[:,0], \"red\", marker=\"s\", ms=\"5\", mfc=\"none\",label='No_DSE_Difference(0.05)')\n",
    "\n",
    "\n",
    "plt.xlabel(\"Bondlength (Angstroms)\")\n",
    "plt.ylabel(\"Error (Hartrees)\")\n",
    "# plt.xlim(1.4, 2.0)\n",
    "# plt.ylim(-7.982, -7.965)\n",
    "plt.legend()\n",
    "plt.tight_layout()\n",
    "plt.savefig(\"LiH_QEDFCI_vs_PCQED_400_vs_5000.png\", dpi=150)\n",
    "plt.show()\n"
   ]
  },
  {
   "cell_type": "code",
   "execution_count": null,
   "id": "037bf9a3",
   "metadata": {},
   "outputs": [],
   "source": [
    "import matplotlib.pyplot as plt\n",
    "import numpy as np\n",
    "\n",
    "from matplotlib import cm\n",
    "from mpl_toolkits.mplot3d.axes3d import get_test_data\n",
    "\n",
    "# set up a figure twice as wide as it is tall\n",
    "fig = plt.figure(figsize=plt.figaspect(0.5))\n",
    "\n",
    "# =============\n",
    "# First subplot\n",
    "# =============\n",
    "# set up the axes for the first plot\n",
    "ax = fig.add_subplot(1, 2, 1, projection='3d')\n",
    "\n",
    "# plot a 3D surface like in the example mplot3d/surface3d_demo\n",
    "X = np.arange(-5, 5, 0.25)\n",
    "Y = np.arange(-5, 5, 0.25)\n",
    "X, Y = np.meshgrid(X, Y)\n",
    "R = np.sqrt(X**2 + Y**2)\n",
    "Z = np.sin(R)\n",
    "surf = ax.plot_surface(X, Y, Z, rstride=1, cstride=1, cmap=cm.coolwarm,\n",
    "                       linewidth=0, antialiased=False)\n",
    "ax.set_zlim(-1.01, 1.01)\n",
    "fig.colorbar(surf, shrink=0.5, aspect=10)\n",
    "\n",
    "# ==============\n",
    "# Second subplot\n",
    "# ==============\n",
    "# set up the axes for the second plot\n",
    "ax = fig.add_subplot(1, 2, 2, projection='3d')\n",
    "\n",
    "# plot a 3D wireframe like in the example mplot3d/wire3d_demo\n",
    "X, Y, Z = get_test_data(0.05)\n",
    "ax.plot_wireframe(X, Y, Z, rstride=10, cstride=10)\n",
    "\n",
    "plt.show()"
   ]
  },
  {
   "cell_type": "code",
   "execution_count": null,
   "id": "2d9bc021",
   "metadata": {},
   "outputs": [],
   "source": []
  },
  {
   "cell_type": "code",
   "execution_count": null,
   "id": "1a3d18a9",
   "metadata": {},
   "outputs": [],
   "source": [
    "# np.allclose(new_eig5_pnnp_10, peig510)"
   ]
  },
  {
   "cell_type": "code",
   "execution_count": null,
   "id": "bccc1a89",
   "metadata": {},
   "outputs": [],
   "source": []
  }
 ],
 "metadata": {
  "kernelspec": {
   "display_name": "Python 3 (ipykernel)",
   "language": "python",
   "name": "python3"
  },
  "language_info": {
   "codemirror_mode": {
    "name": "ipython",
    "version": 3
   },
   "file_extension": ".py",
   "mimetype": "text/x-python",
   "name": "python",
   "nbconvert_exporter": "python",
   "pygments_lexer": "ipython3",
   "version": "3.9.18"
  }
 },
 "nbformat": 4,
 "nbformat_minor": 5
}
