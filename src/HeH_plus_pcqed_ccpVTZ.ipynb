{
 "cells": [
  {
   "cell_type": "code",
   "execution_count": 1,
   "id": "4f7008d6",
   "metadata": {},
   "outputs": [],
   "source": [
    "# import libraries\n",
    "import numpy as np\n",
    "import sys\n",
    "import psi4\n",
    "from helper_PFCI import PFHamiltonianGenerator\n",
    "np.set_printoptions(threshold=sys.maxsize)\n",
    "psi4.core.set_output_file('output.dat', False)\n",
    "import time\n",
    "import json\n",
    "import matplotlib.pyplot as plt"
   ]
  },
  {
   "cell_type": "code",
   "execution_count": 2,
   "id": "1d9ee7a3",
   "metadata": {},
   "outputs": [
    {
     "name": "stdout",
     "output_type": "stream",
     "text": [
      "(784,)\n",
      "(784, 784, 3)\n"
     ]
    }
   ],
   "source": [
    "# read data from .npy files for formaldehyde casci(8,8) calculations\n",
    "\n",
    "# !!! Change this to the correct path on your computer!\n",
    "npy_folder = \"/Users/rmandern/code/SCQED-PCQED/data/\"\n",
    "\n",
    "# these file names should still be good\n",
    "E_npy_file = npy_folder + \"HHep_fci_cc_pVTZ_Energies.npy\"\n",
    "Mu_npy_file = npy_folder + \"HHep_fci_cc_pVTZ_Dipoles.npy\"\n",
    "\n",
    "# store energy eigenvalues in E_array \n",
    "E_array = np.load(E_npy_file)\n",
    "# store dipole matrix elements in Mu_array\n",
    "Mu_array = np.load(Mu_npy_file)\n",
    "\n",
    "\n",
    "print(np.shape(E_array))\n",
    "print(np.shape(Mu_array))\n",
    "# print(Mu_array[1,1,:,:])\n",
    "# print(E_array)\n",
    "# print(Mu_array)"
   ]
  },
  {
   "cell_type": "code",
   "execution_count": 3,
   "id": "df004c4c",
   "metadata": {},
   "outputs": [
    {
     "name": "stdout",
     "output_type": "stream",
     "text": [
      "\n",
      "Start SCF iterations:\n",
      "\n",
      "Canonical RHF One-electron energy = -5.3268552796232527\n",
      "CQED-RHF One-electron energy      = -5.3268095075551702\n",
      "Nuclear repulsion energy          = 1.3638394576107813\n",
      "Dipole energy                     = 0.0000007721741060\n",
      "SCF Iteration   1: Energy = -2.9321956581445554   dE = -2.93220E+00   dRMS = 1.91850E-06\n",
      "SCF Iteration   2: Energy = -2.9321956599609442   dE = -1.81639E-09   dRMS = 3.52323E-07\n",
      "SCF Iteration   3: Energy = -2.9321956600202186   dE = -5.92744E-11   dRMS = 1.82852E-08\n",
      "SCF Iteration   4: Energy = -2.9321956600203554   dE = -1.36779E-13   dRMS = 1.59803E-09\n",
      "SCF Iteration   5: Energy = -2.9321956600203563   dE = -8.88178E-16   dRMS = 6.36875E-11\n",
      "Total time for SCF iterations: 0.012 seconds \n",
      "\n",
      "QED-RHF   energy: -2.93219566 hartree\n",
      "Psi4  SCF energy: -2.93224104 hartree\n",
      " Completed QED-RHF in 0.22968792915344238 seconds\n",
      " Completed 1HSO Build in 0.0017693042755126953 seconds\n",
      " Completed ERI Build in 0.03801679611206055 seconds \n",
      " Completed 2D build in 0.04840588569641113 seconds\n",
      " Completed 1G build in 0.00010919570922851562 seconds\n",
      " Completed the Dipole Matrix Build in 0.0015988349914550781 seconds\n",
      " Completed determinant list in 0.0013949871063232422 seconds \n",
      " Completed constant offset matrix in 0.002644777297973633 seconds\n",
      " Completed Hamiltonian build in 18.283051013946533 seconds\n"
     ]
    }
   ],
   "source": [
    "# setup basic arguments to create an instance of the PFHamiltonianGenerator class\n",
    "mol_str = \"\"\"          \n",
    "    H            \n",
    "    He 1 0.776011            \n",
    "    1 1\n",
    "    symmetry c1  \n",
    "\"\"\"\n",
    "\n",
    "\n",
    "options_dict = {\n",
    "    \"basis\": \"cc-pVTZ\",\n",
    "    \"scf_type\": \"pk\",\n",
    "    \"e_convergence\": 1e-10,\n",
    "    \"d_convergence\": 1e-10,\n",
    "}\n",
    "\n",
    "\n",
    "cavity_free_dict = {\n",
    "    'omega_value' : 0.9760568251,\n",
    "    'lambda_vector' : np.array([0, 0, 0.01]),\n",
    "    'ci_level' : 'fci',   \n",
    "    'full_diagonalization' : True,\n",
    "    'number_of_photons' : 0, \n",
    "}\n",
    "\n",
    "# create the instance of our PFHamiltonianGenerator class\n",
    "instance = PFHamiltonianGenerator(mol_str, options_dict, cavity_free_dict)"
   ]
  },
  {
   "cell_type": "code",
   "execution_count": 4,
   "id": "956160c5-fc18-4410-be2a-4cba8e4bc4bb",
   "metadata": {},
   "outputs": [],
   "source": [
    "# print(E_array)"
   ]
  },
  {
   "cell_type": "code",
   "execution_count": 5,
   "id": "a75ffe5e-d6a3-4f8f-8f11-a455401cd884",
   "metadata": {},
   "outputs": [],
   "source": [
    "# Define the range and increment\n",
    "start = 0.025\n",
    "stop = 0.1\n",
    "increment = 0.005\n",
    "\n",
    "# Create the array using numpy's arange function\n",
    "lambda_array = np.arange(start, stop + increment, increment)\n",
    "# print(lambda_array)\n",
    "# print(len(lambda_array))\n",
    "\n",
    "\n",
    "N_l = len(lambda_array)\n",
    "N_el = 468\n",
    "N_ph = 10\n",
    "omega = 0.9654959009 \n",
    "\n",
    "# create an array of zeros to store the PCQED eigenvalues for each value of d\n",
    "_pcqed_22 = np.zeros((N_l, N_el * N_ph))\n",
    "\n",
    "ctr = 0\n",
    "# loop over the lambda values\n",
    "for i, lambda_val in enumerate(lambda_array):\n",
    "    lambda_vector = np.array([0, 0, lambda_val])\n",
    "    instance.fast_build_pcqed_pf_hamiltonian(N_el, N_ph, omega, lambda_vector, E_array, Mu_array)      # E_array[:,ctr]: 20 energy values for fisrt displacement and so on... \n",
    "    _pcqed_22[ctr, :] = instance.PCQED_pf_eigs\n",
    "    ctr += 1\n"
   ]
  },
  {
   "cell_type": "code",
   "execution_count": 6,
   "id": "43a7b536-f530-4774-8ba0-afadc1e80668",
   "metadata": {},
   "outputs": [
    {
     "name": "stdout",
     "output_type": "stream",
     "text": [
      "[-2.97504814 -2.97498764 -2.97491615 -2.97483366 -2.97474018 -2.97463571\n",
      " -2.97452026 -2.97439383 -2.97425642 -2.97410805 -2.9739487  -2.9737784\n",
      " -2.97359714 -2.97340493 -2.97320178 -2.9729877  -2.97276268]\n"
     ]
    }
   ],
   "source": [
    "# dim = np.ndim(_pcqed_22)\n",
    "# print(np.shape(_pcqed_22))\n",
    "# print(np.shape(_pcqed_22[1,:]))\n",
    "# print(np.ndim(_pcqed_22[:,1]))\n",
    "# print(_pcqed_22)\n",
    "# print(_pcqed_22[0,:])\n",
    "print(_pcqed_22[:,0])\n"
   ]
  },
  {
   "cell_type": "code",
   "execution_count": 13,
   "id": "d38628df-f8c9-4bf2-8624-e1a24fc4f8d4",
   "metadata": {},
   "outputs": [
    {
     "data": {
      "image/png": "[encoded data removed]",
      "text/plain": [
       "<Figure size 640x480 with 1 Axes>"
      ]
     },
     "metadata": {},
     "output_type": "display_data"
    }
   ],
   "source": [
    "from matplotlib import cm\n",
    "from matplotlib import rcParams\n",
    "\n",
    "\n",
    "\n",
    "plt.plot(lambda_array, _pcqed_22[:,0],'k-', marker=\"*\", label= \"Ground State\")\n",
    "plt.plot(lambda_array, _pcqed_22[:,1], 'm-', marker=\"*\",label = \"1st excited state\")\n",
    "plt.plot(lambda_array, _pcqed_22[:,2],'b-', marker=\"*\", label = \"LP(2nd state-cc-pVTZ))\")\n",
    "plt.plot(lambda_array, _pcqed_22[:,3],'r-', marker=\"*\", label = \"UP(3rd state-cc-pVTZ))\")\n",
    "plt.ylabel('Energy (Hartrees)')\n",
    "plt.xlabel('Coupling Strength')\n",
    "plt.legend()\n",
    "plt.savefig(\"Energy vs Coupling strength cc-pVTZ new lambda\", dpi=150,bbox_inches='tight')\n",
    "rcParams['font.family'] = 'serif'\n",
    "rcParams['font.size'] = 10\n",
    "# plt.gca().yaxis.set_major_formatter('{:.12f}'.format)\n",
    "#plt.plot(A0_list, e4, label = \"E4\")\n",
    "plt.title(\"Energy vs Coupling strength (0.1)\")\n",
    "plt.show()"
   ]
  },
  {
   "cell_type": "code",
   "execution_count": 9,
   "id": "f1a94dea-27cd-4526-abec-1ee8d28da13d",
   "metadata": {},
   "outputs": [],
   "source": [
    "# Saving energies in numpy array form\n",
    "E_pcqed_array = np.array(_pcqed_22)\n",
    "\n",
    "# Making list from the array\n",
    "E_list = E_pcqed_array.tolist()\n",
    "\n",
    "# Making list of lambda value from array\n",
    "lamda_val = lambda_array.tolist()\n",
    "\n",
    "# Giving [x, y, z] form to the list\n",
    "lambda_values = [[0, 0, round(val,3)] for val in lamda_val]\n",
    "\n",
    "\n",
    "# set up base dictionary - some of this will be updated with each calculation\n",
    "dictionary = {   \n",
    "    \"molecule\": {\n",
    "        \"molecule_name\": \"HHe+\",\n",
    "        \"geometry\": [\n",
    "            \"\\nH       \\nHE            1    0.776011\\n1 1\\nsymmetry c1\\n\"\n",
    "        ],\n",
    "        \"symbols\": [\n",
    "            \"H\",\n",
    "            \"He\"\n",
    "        ]\n",
    "    },\n",
    "       \n",
    "        \"basis_set\" : \"cc-pVTZ\",\n",
    "        \"Photon basis\" : \"photon_number_basis\", \n",
    "        \"Number Photon States\" : 10,\n",
    "        \"driver\": \"energy\",\n",
    "        \"method\" : \"PCQED\",\n",
    "        \"lambda\" : lambda_values,\n",
    "         \"omega_value\" : '0.9654959009',\n",
    "    \n",
    "        \"return_result\" : E_list,\n",
    "}\n",
    "\n",
    "\n",
    "# function to generate file names based on system details\n",
    "def generate_file_name(dic):\n",
    "    \n",
    "    file_name = dic[\"molecule\"][\"molecule_name\"] + \"_\"\n",
    "    file_name += str(dictionary[\"basis_set\"]) + \"_\"\n",
    "    file_name += str(dictionary[\"method\"]) + \"_\"\n",
    "    file_name += str(dictionary[\"Number Photon States\"]) + \"_\"\n",
    "    file_name += str(dictionary[\"omega_value\"]) + \".json\"\n",
    "    return file_name\n",
    "\n",
    "\n",
    "\n",
    "# write to json file\n",
    "file_name = generate_file_name(dictionary)\n",
    "json_object = json.dumps(dictionary, indent=4)\n",
    "with open(file_name, \"w\") as outfile:\n",
    "    outfile.write(json_object)"
   ]
  },
  {
   "cell_type": "code",
   "execution_count": null,
   "id": "3f0727ac-1ef0-44f9-ba2b-180d027b697b",
   "metadata": {},
   "outputs": [],
   "source": []
  },
  {
   "cell_type": "code",
   "execution_count": null,
   "id": "61486898-8fd5-48c0-8807-aea1d7079a51",
   "metadata": {},
   "outputs": [],
   "source": []
  },
  {
   "cell_type": "code",
   "execution_count": null,
   "id": "3c5f9390-9e07-4dff-9669-da5d48b6fdea",
   "metadata": {},
   "outputs": [],
   "source": [
    "# # Define the range and increment\n",
    "# start = 0.0\n",
    "# stop = 0.02\n",
    "# increment = 0.001\n",
    "\n",
    "# # Create the array using numpy's arange function\n",
    "# lambda_array = np.arange(start, stop + increment, increment)\n",
    "# print(lambda_array)\n",
    "# print(len(lambda_array))\n",
    "\n",
    "\n",
    "# N_R = 21\n",
    "# d_array = np.linspace(1.4,2.2,N_R)\n",
    "# N_l = len(lambda_array)\n",
    "# N_el = 10\n",
    "# N_ph = 2\n",
    "# omega = 0.9760568251\n",
    "\n",
    "# # create an array of zeros to store the PCQED eigenvalues for each value of d\n",
    "# _pcqed_22 = np.zeros((len(lambda_array),N_l, N_el * N_ph))\n",
    "\n",
    "# # loop over the lambda values\n",
    "# for i, lambda_val in enumerate(lambda_array):\n",
    "#     lambda_vector = np.array([0, 0, lambda_val])\n",
    "#     ctr = 0\n",
    "#     for d in d_array:\n",
    "#         instance.fast_build_pcqed_pf_hamiltonian(N_el, N_ph, omega, lambda_vector , E_array[:,ctr], Mu_array[:,:,:,ctr])      # E_array[:,ctr]: 20 energy values for fisrt displacement and so on... \n",
    "#         _pcqed_22[ctr, :] = instance.PCQED_pf_eigs\n",
    "#         ctr += 1\n"
   ]
  },
  {
   "cell_type": "code",
   "execution_count": null,
   "id": "e016b5a5-3fc2-4749-a7f9-6822daa9f3c6",
   "metadata": {},
   "outputs": [],
   "source": []
  },
  {
   "cell_type": "code",
   "execution_count": null,
   "id": "deb36d59-53d1-4b9e-8759-96fb87299557",
   "metadata": {},
   "outputs": [],
   "source": []
  }
 ],
 "metadata": {
  "kernelspec": {
   "display_name": "Python 3 (ipykernel)",
   "language": "python",
   "name": "python3"
  },
  "language_info": {
   "codemirror_mode": {
    "name": "ipython",
    "version": 3
   },
   "file_extension": ".py",
   "mimetype": "text/x-python",
   "name": "python",
   "nbconvert_exporter": "python",
   "pygments_lexer": "ipython3",
   "version": "3.9.18"
  }
 },
 "nbformat": 4,
 "nbformat_minor": 5
}
