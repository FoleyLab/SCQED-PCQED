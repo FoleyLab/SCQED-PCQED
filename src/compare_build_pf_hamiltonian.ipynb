{
 "cells": [
  {
   "cell_type": "code",
   "execution_count": 2,
   "id": "57746595",
   "metadata": {},
   "outputs": [],
   "source": [
    "# import libraries\n",
    "import numpy as np\n",
    "import sys\n",
    "import psi4\n",
    "from helper_PFCI import PFHamiltonianGenerator\n",
    "np.set_printoptions(threshold=sys.maxsize)\n",
    "psi4.core.set_output_file('output.dat', False)\n",
    "import time\n"
   ]
  },
  {
   "cell_type": "code",
   "execution_count": 3,
   "id": "fab14536",
   "metadata": {},
   "outputs": [],
   "source": [
    "# setup basic arguments for qed-ci calculation\n",
    "mol_str = \"\"\"\n",
    "Li\n",
    "H 1 1.8\n",
    "symmetry c1\n",
    "\"\"\"\n",
    "\n",
    "options_dict = {\n",
    "    \"basis\": \"sto-3g\",\n",
    "    \"scf_type\": \"pk\",\n",
    "    \"e_convergence\": 1e-10,\n",
    "    \"d_convergence\": 1e-10,\n",
    "}\n",
    "\n",
    "cavity_dict = {\n",
    "    'omega_value' : 0.12086,\n",
    "    'lambda_vector' : np.array([0, 0, 0.05]),\n",
    "    'ci_level' : 'fci',   \n",
    "    'full_diagonalization' : True,\n",
    "    'number_of_photons' : 0, \n",
    "}\n",
    "\n",
    "\n",
    "cavity_free_dict = {\n",
    "    'omega_value' : 0.0,\n",
    "    'lambda_vector' : np.array([0, 0, 0.0]),\n",
    "    'ci_level' : 'fci',   \n",
    "    'full_diagonalization' : True,\n",
    "    'number_of_photons' : 0, \n",
    "}\n",
    "\n"
   ]
  },
  {
   "cell_type": "code",
   "execution_count": 4,
   "id": "14ad5bb0",
   "metadata": {},
   "outputs": [
    {
     "name": "stdout",
     "output_type": "stream",
     "text": [
      "\n",
      "Start SCF iterations:\n",
      "\n",
      "Canonical RHF One-electron energy = -12.2195250859902966\n",
      "CQED-RHF One-electron energy      = -12.2195250859902966\n",
      "Nuclear repulsion energy          = 0.8819620177833333\n",
      "Dipole energy                     = 0.0000000000000000\n",
      "SCF Iteration   1: Energy = -7.8500186970978643   dE = -7.85002E+00   dRMS = 5.02710E-15\n",
      "SCF Iteration   2: Energy = -7.8500186970978643   dE =  0.00000E+00   dRMS = 1.21935E-15\n",
      "Total time for SCF iterations: 0.000 seconds \n",
      "\n",
      "QED-RHF   energy: -7.85001870 hartree\n",
      "Psi4  SCF energy: -7.85001870 hartree\n",
      " Completed QED-RHF in 0.35631680488586426 seconds\n",
      " Completed 1HSO Build in 8.0108642578125e-05 seconds\n",
      " Completed ERI Build in 0.0012390613555908203 seconds \n",
      " Completed 2D build in 0.00010585784912109375 seconds\n",
      " Completed 1G build in 1.6927719116210938e-05 seconds\n",
      " Completed the Dipole Matrix Build in 4.601478576660156e-05 seconds\n",
      " Completed determinant list in 0.0004999637603759766 seconds \n",
      " Completed constant offset matrix in 0.00021600723266601562 seconds\n",
      " Completed Hamiltonian build in 0.7425720691680908 seconds\n"
     ]
    },
    {
     "ename": "NameError",
     "evalue": "name 'lam_array' is not defined",
     "output_type": "error",
     "traceback": [
      "\u001b[0;31m---------------------------------------------------------------------------\u001b[0m",
      "\u001b[0;31mNameError\u001b[0m                                 Traceback (most recent call last)",
      "Cell \u001b[0;32mIn[4], line 17\u001b[0m\n\u001b[1;32m     14\u001b[0m slow_eigs \u001b[38;5;241m=\u001b[39m np\u001b[38;5;241m.\u001b[39mcopy(LiH\u001b[38;5;241m.\u001b[39mPCQED_eigs)\n\u001b[1;32m     16\u001b[0m fast_start \u001b[38;5;241m=\u001b[39m time\u001b[38;5;241m.\u001b[39mtime()\n\u001b[0;32m---> 17\u001b[0m \u001b[43mLiH\u001b[49m\u001b[38;5;241;43m.\u001b[39;49m\u001b[43mfast_build_pcqed_pf_hamiltonian\u001b[49m\u001b[43m(\u001b[49m\u001b[43mN_el\u001b[49m\u001b[43m,\u001b[49m\u001b[43m \u001b[49m\u001b[43mN_ph\u001b[49m\u001b[43m,\u001b[49m\u001b[43m \u001b[49m\u001b[43momega\u001b[49m\u001b[43m,\u001b[49m\u001b[43m \u001b[49m\u001b[43mlambda_vector\u001b[49m\u001b[43m)\u001b[49m\n\u001b[1;32m     18\u001b[0m fast_end \u001b[38;5;241m=\u001b[39m time\u001b[38;5;241m.\u001b[39mtime()\n\u001b[1;32m     19\u001b[0m fast_eigs \u001b[38;5;241m=\u001b[39m np\u001b[38;5;241m.\u001b[39mcopy(LiH\u001b[38;5;241m.\u001b[39mPCQED_eigs)\n",
      "File \u001b[0;32m~/Code/SCQED-PCQED/src/helper_PFCI.py:1980\u001b[0m, in \u001b[0;36mPFHamiltonianGenerator.fast_build_pcqed_pf_hamiltonian\u001b[0;34m(self, n_el, n_ph, omega, lambda_vector)\u001b[0m\n\u001b[1;32m   1978\u001b[0m         na \u001b[38;5;241m=\u001b[39m n \u001b[38;5;241m*\u001b[39m n_el \u001b[38;5;241m+\u001b[39m a\n\u001b[1;32m   1979\u001b[0m         \u001b[38;5;28;01mfor\u001b[39;00m g \u001b[38;5;129;01min\u001b[39;00m \u001b[38;5;28mrange\u001b[39m(n_el):\n\u001b[0;32m-> 1980\u001b[0m             D_ab_loop \u001b[38;5;241m=\u001b[39m np\u001b[38;5;241m.\u001b[39mdot(\u001b[43mlam_array\u001b[49m, mu_array[a,g,:]) \u001b[38;5;241m*\u001b[39m np\u001b[38;5;241m.\u001b[39mdot(lam_array, mu_array[g,a,:])\n\u001b[1;32m   1982\u001b[0m \u001b[38;5;66;03m# 2. Matrix multiplication -> D_mm = d @ d\u001b[39;00m\n\u001b[1;32m   1983\u001b[0m d_ag \u001b[38;5;241m=\u001b[39m np\u001b[38;5;241m.\u001b[39mdot(lam_array, mu_array[a, b, :])\n",
      "\u001b[0;31mNameError\u001b[0m: name 'lam_array' is not defined"
     ]
    }
   ],
   "source": [
    "\n",
    "N_el = 50\n",
    "N_ph = 10\n",
    "omega = 0.12086\n",
    "lambda_vector = np.array([0., 0., 0.05])\n",
    "\n",
    "\n",
    "E_array = np.zeros(N_el)\n",
    "LiH = PFHamiltonianGenerator(mol_str, options_dict, cavity_free_dict)\n",
    "\n",
    "slow_start = time.time()\n",
    "LiH.build_pcqed_pf_hamiltonian(N_el, N_ph, omega, lambda_vector)\n",
    "slow_end = time.time()\n",
    "\n",
    "slow_eigs = np.copy(LiH.PCQED_eigs)\n",
    "\n",
    "fast_start = time.time()\n",
    "LiH.fast_build_pcqed_pf_hamiltonian(N_el, N_ph, omega, lambda_vector)\n",
    "fast_end = time.time()\n",
    "fast_eigs = np.copy(LiH.PCQED_eigs)\n",
    "\n",
    "assert np.allclose(slow_eigs, fast_eigs)\n",
    "print(F\"Slow build took {slow_end-slow_start} seconds\")\n",
    "print(F\"Fast build took {fast_end-fast_start} seconds\")\n",
    "\n",
    "\n"
   ]
  },
  {
   "cell_type": "code",
   "execution_count": null,
   "id": "1d538d6e",
   "metadata": {},
   "outputs": [],
   "source": []
  }
 ],
 "metadata": {
  "kernelspec": {
   "display_name": "Python 3 (ipykernel)",
   "language": "python",
   "name": "python3"
  },
  "language_info": {
   "codemirror_mode": {
    "name": "ipython",
    "version": 3
   },
   "file_extension": ".py",
   "mimetype": "text/x-python",
   "name": "python",
   "nbconvert_exporter": "python",
   "pygments_lexer": "ipython3",
   "version": "3.9.16"
  }
 },
 "nbformat": 4,
 "nbformat_minor": 5
}
