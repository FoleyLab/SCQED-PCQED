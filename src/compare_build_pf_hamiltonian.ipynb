{
 "cells": [
  {
   "cell_type": "code",
   "execution_count": 1,
   "id": "57746595",
   "metadata": {},
   "outputs": [],
   "source": [
    "# import libraries\n",
    "import numpy as np\n",
    "import sys\n",
    "import psi4\n",
    "from helper_PFCI import PFHamiltonianGenerator\n",
    "np.set_printoptions(threshold=sys.maxsize)\n",
    "psi4.core.set_output_file('output.dat', False)\n",
    "import time\n"
   ]
  },
  {
   "cell_type": "code",
   "execution_count": 2,
   "id": "fab14536",
   "metadata": {},
   "outputs": [],
   "source": [
    "# setup basic arguments for qed-ci calculation\n",
    "mol_str = \"\"\"\n",
    "Li\n",
    "H 1 1.8\n",
    "symmetry c1\n",
    "\"\"\"\n",
    "\n",
    "options_dict = {\n",
    "    \"basis\": \"sto-3g\",\n",
    "    \"scf_type\": \"pk\",\n",
    "    \"e_convergence\": 1e-10,\n",
    "    \"d_convergence\": 1e-10,\n",
    "}\n",
    "\n",
    "cavity_dict = {\n",
    "    'omega_value' : 0.12086,\n",
    "    'lambda_vector' : np.array([0, 0, 0.05]),\n",
    "    'ci_level' : 'fci',   \n",
    "    'full_diagonalization' : True,\n",
    "    'number_of_photons' : 0, \n",
    "}\n",
    "\n",
    "\n",
    "cavity_free_dict = {\n",
    "    'omega_value' : 0.0,\n",
    "    'lambda_vector' : np.array([0, 0, 0.0]),\n",
    "    'ci_level' : 'fci',   \n",
    "    'full_diagonalization' : True,\n",
    "    'number_of_photons' : 0, \n",
    "}\n",
    "\n"
   ]
  },
  {
   "cell_type": "code",
   "execution_count": 5,
   "id": "14ad5bb0",
   "metadata": {},
   "outputs": [
    {
     "name": "stdout",
     "output_type": "stream",
     "text": [
      "\n",
      "Start SCF iterations:\n",
      "\n",
      "Canonical RHF One-electron energy = -12.2195250859903002\n",
      "CQED-RHF One-electron energy      = -12.2195250859903002\n",
      "Nuclear repulsion energy          = 0.8819620177833333\n",
      "Dipole energy                     = 0.0000000000000000\n",
      "SCF Iteration   1: Energy = -7.8500186970978660   dE = -7.85002E+00   dRMS = 4.96348E-15\n",
      "SCF Iteration   2: Energy = -7.8500186970978589   dE =  7.10543E-15   dRMS = 1.62218E-15\n",
      "Total time for SCF iterations: 0.000 seconds \n",
      "\n",
      "QED-RHF   energy: -7.85001870 hartree\n",
      "Psi4  SCF energy: -7.85001870 hartree\n",
      " Completed QED-RHF in 0.11297893524169922 seconds\n",
      " Completed 1HSO Build in 4.506111145019531e-05 seconds\n",
      " Completed ERI Build in 0.0011682510375976562 seconds \n",
      " Completed 2D build in 9.584426879882812e-05 seconds\n",
      " Completed 1G build in 1.2874603271484375e-05 seconds\n",
      " Completed the Dipole Matrix Build in 3.409385681152344e-05 seconds\n",
      " Completed determinant list in 0.00039315223693847656 seconds \n",
      " Completed constant offset matrix in 0.00016498565673828125 seconds\n",
      " Completed Hamiltonian build in 0.6189591884613037 seconds\n"
     ]
    },
    {
     "ename": "IndexError",
     "evalue": "index 225 is out of bounds for axis 1 with size 225",
     "output_type": "error",
     "traceback": [
      "\u001b[0;31m---------------------------------------------------------------------------\u001b[0m",
      "\u001b[0;31mIndexError\u001b[0m                                Traceback (most recent call last)",
      "Cell \u001b[0;32mIn[5], line 11\u001b[0m\n\u001b[1;32m      8\u001b[0m LiH \u001b[38;5;241m=\u001b[39m PFHamiltonianGenerator(mol_str, options_dict, cavity_free_dict)\n\u001b[1;32m     10\u001b[0m slow_start \u001b[38;5;241m=\u001b[39m time\u001b[38;5;241m.\u001b[39mtime()\n\u001b[0;32m---> 11\u001b[0m \u001b[43mLiH\u001b[49m\u001b[38;5;241;43m.\u001b[39;49m\u001b[43mbuild_pcqed_pf_hamiltonian\u001b[49m\u001b[43m(\u001b[49m\u001b[43mN_el\u001b[49m\u001b[43m,\u001b[49m\u001b[43m \u001b[49m\u001b[43mN_ph\u001b[49m\u001b[43m,\u001b[49m\u001b[43m \u001b[49m\u001b[43momega\u001b[49m\u001b[43m,\u001b[49m\u001b[43m \u001b[49m\u001b[43mlambda_vector\u001b[49m\u001b[43m)\u001b[49m\n\u001b[1;32m     12\u001b[0m \u001b[38;5;66;03m#print(LiH.PCQED_H_PF)\u001b[39;00m\n\u001b[1;32m     13\u001b[0m slow_end \u001b[38;5;241m=\u001b[39m time\u001b[38;5;241m.\u001b[39mtime()\n",
      "File \u001b[0;32m~/Code/SCQED-PCQED/src/helper_PFCI.py:2112\u001b[0m, in \u001b[0;36mPFHamiltonianGenerator.build_pcqed_pf_hamiltonian\u001b[0;34m(self, n_el, n_ph, omega, lambda_vector)\u001b[0m\n\u001b[1;32m   2087\u001b[0m \u001b[38;5;250m\u001b[39m\u001b[38;5;124;03m\"\"\"\u001b[39;00m\n\u001b[1;32m   2088\u001b[0m \u001b[38;5;124;03mGiven an array of n_el E_R values and an n_ph states with fundamental energy omega\u001b[39;00m\n\u001b[1;32m   2089\u001b[0m \u001b[38;5;124;03mbuild the PF Hamiltonian\u001b[39;00m\n\u001b[0;32m   (...)\u001b[0m\n\u001b[1;32m   2109\u001b[0m \n\u001b[1;32m   2110\u001b[0m \u001b[38;5;124;03m\"\"\"\u001b[39;00m\n\u001b[1;32m   2111\u001b[0m \u001b[38;5;66;03m#H_PF = np.zeros((n_el * n_ph, n_el * n_ph))\u001b[39;00m\n\u001b[0;32m-> 2112\u001b[0m singlet_indices \u001b[38;5;241m=\u001b[39m \u001b[38;5;28;43mself\u001b[39;49m\u001b[38;5;241;43m.\u001b[39;49m\u001b[43msort_dipole_allowed_states\u001b[49m\u001b[43m(\u001b[49m\u001b[43mn_el\u001b[49m\u001b[43m)\u001b[49m\n\u001b[1;32m   2113\u001b[0m \u001b[38;5;66;03m# see how singlets there are from this sorting!\u001b[39;00m\n\u001b[1;32m   2114\u001b[0m num_singlets \u001b[38;5;241m=\u001b[39m \u001b[38;5;28mlen\u001b[39m(singlet_indices)\n",
      "File \u001b[0;32m~/Code/SCQED-PCQED/src/helper_PFCI.py:1885\u001b[0m, in \u001b[0;36mPFHamiltonianGenerator.sort_dipole_allowed_states\u001b[0;34m(self, N_el)\u001b[0m\n\u001b[1;32m   1883\u001b[0m zero_vec \u001b[38;5;241m=\u001b[39m np\u001b[38;5;241m.\u001b[39marray([\u001b[38;5;241m0.0\u001b[39m, \u001b[38;5;241m0.0\u001b[39m, \u001b[38;5;241m0.0\u001b[39m])\n\u001b[1;32m   1884\u001b[0m \u001b[38;5;28;01mwhile\u001b[39;00m _num_kets \u001b[38;5;241m<\u001b[39m N_el \u001b[38;5;241m-\u001b[39m \u001b[38;5;241m1\u001b[39m:\n\u001b[0;32m-> 1885\u001b[0m     _tmp_mu \u001b[38;5;241m=\u001b[39m \u001b[38;5;28;43mself\u001b[39;49m\u001b[38;5;241;43m.\u001b[39;49m\u001b[43mcompute_dipole_moment\u001b[49m\u001b[43m(\u001b[49m\u001b[38;5;241;43m0\u001b[39;49m\u001b[43m,\u001b[49m\u001b[43m \u001b[49m\u001b[43m_ket_idx\u001b[49m\u001b[43m)\u001b[49m\n\u001b[1;32m   1886\u001b[0m     \u001b[38;5;28;01mif\u001b[39;00m np\u001b[38;5;241m.\u001b[39mallclose(zero_vec, _tmp_mu):\n\u001b[1;32m   1887\u001b[0m         _ket_idx \u001b[38;5;241m+\u001b[39m\u001b[38;5;241m=\u001b[39m \u001b[38;5;241m1\u001b[39m\n",
      "File \u001b[0;32m~/Code/SCQED-PCQED/src/helper_PFCI.py:1779\u001b[0m, in \u001b[0;36mPFHamiltonianGenerator.compute_dipole_moment\u001b[0;34m(self, braI, ketJ)\u001b[0m\n\u001b[1;32m   1776\u001b[0m _dm \u001b[38;5;241m=\u001b[39m np\u001b[38;5;241m.\u001b[39mzeros(\u001b[38;5;241m3\u001b[39m)\n\u001b[1;32m   1778\u001b[0m \u001b[38;5;66;03m# x-component\u001b[39;00m\n\u001b[0;32m-> 1779\u001b[0m _tmpX \u001b[38;5;241m=\u001b[39m np\u001b[38;5;241m.\u001b[39mdot(\u001b[38;5;28mself\u001b[39m\u001b[38;5;241m.\u001b[39mMU_X, \u001b[38;5;28;43mself\u001b[39;49m\u001b[38;5;241;43m.\u001b[39;49m\u001b[43mCIvecs\u001b[49m\u001b[43m[\u001b[49m\u001b[43m:\u001b[49m\u001b[43m,\u001b[49m\u001b[43m \u001b[49m\u001b[43mketJ\u001b[49m\u001b[43m]\u001b[49m)\n\u001b[1;32m   1780\u001b[0m _dm[\u001b[38;5;241m0\u001b[39m] \u001b[38;5;241m=\u001b[39m np\u001b[38;5;241m.\u001b[39mdot(\u001b[38;5;28mself\u001b[39m\u001b[38;5;241m.\u001b[39mCIvecs[:, braI]\u001b[38;5;241m.\u001b[39mT, _tmpX)\n\u001b[1;32m   1782\u001b[0m \u001b[38;5;66;03m# y-component\u001b[39;00m\n",
      "\u001b[0;31mIndexError\u001b[0m: index 225 is out of bounds for axis 1 with size 225"
     ]
    }
   ],
   "source": [
    "\n",
    "N_el = 100\n",
    "N_ph = 50\n",
    "omega = 0.12086\n",
    "lambda_vector = np.array([0., 0., 0.05])\n",
    "\n",
    "\n",
    "E_array = np.zeros(N_el)\n",
    "LiH = PFHamiltonianGenerator(mol_str, options_dict, cavity_free_dict)\n",
    "\n",
    "slow_start = time.time()\n",
    "LiH.build_pcqed_pf_hamiltonian(N_el, N_ph, omega, lambda_vector)\n",
    "#print(LiH.PCQED_H_PF)\n",
    "slow_end = time.time()\n",
    "\n",
    "slow_eigs = np.copy(LiH.PCQED_eigs)\n",
    "\n",
    "fast_start = time.time()\n",
    "LiH.fast_build_pcqed_pf_hamiltonian(N_el, N_ph, omega, lambda_vector)\n",
    "#print(LiH.PCQED_H_PF)\n",
    "fast_end = time.time()\n",
    "fast_eigs = np.copy(LiH.PCQED_eigs)\n",
    "\n",
    "assert np.allclose(slow_eigs, fast_eigs)\n",
    "print(F\"Slow build took {slow_end-slow_start} seconds\")\n",
    "print(F\"Fast build took {fast_end-fast_start} seconds\")\n",
    "\n",
    "\n"
   ]
  },
  {
   "cell_type": "code",
   "execution_count": null,
   "id": "1d538d6e",
   "metadata": {},
   "outputs": [],
   "source": []
  }
 ],
 "metadata": {
  "kernelspec": {
   "display_name": "Python 3 (ipykernel)",
   "language": "python",
   "name": "python3"
  },
  "language_info": {
   "codemirror_mode": {
    "name": "ipython",
    "version": 3
   },
   "file_extension": ".py",
   "mimetype": "text/x-python",
   "name": "python",
   "nbconvert_exporter": "python",
   "pygments_lexer": "ipython3",
   "version": "3.9.17"
  }
 },
 "nbformat": 4,
 "nbformat_minor": 5
}
