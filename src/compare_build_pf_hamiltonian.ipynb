{
 "cells": [
  {
   "cell_type": "code",
   "execution_count": 1,
   "id": "57746595",
   "metadata": {},
   "outputs": [],
   "source": [
    "# import libraries\n",
    "import numpy as np\n",
    "import sys\n",
    "import psi4\n",
    "from helper_PFCI import PFHamiltonianGenerator\n",
    "np.set_printoptions(threshold=sys.maxsize)\n",
    "psi4.core.set_output_file('output.dat', False)\n",
    "import time\n"
   ]
  },
  {
   "cell_type": "code",
   "execution_count": 2,
   "id": "fab14536",
   "metadata": {},
   "outputs": [],
   "source": [
    "# setup basic arguments for qed-ci calculation\n",
    "mol_str = \"\"\"\n",
    "Li\n",
    "H 1 1.8\n",
    "symmetry c1\n",
    "\"\"\"\n",
    "\n",
    "options_dict = {\n",
    "    \"basis\": \"sto-3g\",\n",
    "    \"scf_type\": \"pk\",\n",
    "    \"e_convergence\": 1e-10,\n",
    "    \"d_convergence\": 1e-10,\n",
    "}\n",
    "\n",
    "cavity_dict = {\n",
    "    'omega_value' : 0.12086,\n",
    "    'lambda_vector' : np.array([0, 0, 0.05]),\n",
    "    'ci_level' : 'fci',   \n",
    "    'full_diagonalization' : True,\n",
    "    'number_of_photons' : 0, \n",
    "}\n",
    "\n",
    "\n",
    "cavity_free_dict = {\n",
    "    'omega_value' : 0.0,\n",
    "    'lambda_vector' : np.array([0, 0, 0.0]),\n",
    "    'ci_level' : 'fci',   \n",
    "    'full_diagonalization' : True,\n",
    "    'number_of_photons' : 0, \n",
    "}\n",
    "\n"
   ]
  },
  {
   "cell_type": "code",
   "execution_count": null,
   "id": "14ad5bb0",
   "metadata": {},
   "outputs": [
    {
     "name": "stdout",
     "output_type": "stream",
     "text": [
      "\n",
      "Start SCF iterations:\n",
      "\n",
      "Canonical RHF One-electron energy = -12.2195250859903002\n",
      "CQED-RHF One-electron energy      = -12.2195250859903002\n",
      "Nuclear repulsion energy          = 0.8819620177833333\n",
      "Dipole energy                     = 0.0000000000000000\n",
      "SCF Iteration   1: Energy = -7.8500186970978660   dE = -7.85002E+00   dRMS = 4.96348E-15\n",
      "SCF Iteration   2: Energy = -7.8500186970978589   dE =  7.10543E-15   dRMS = 1.62218E-15\n",
      "Total time for SCF iterations: 0.000 seconds \n",
      "\n",
      "QED-RHF   energy: -7.85001870 hartree\n",
      "Psi4  SCF energy: -7.85001870 hartree\n",
      " Completed QED-RHF in 0.12022614479064941 seconds\n",
      " Completed 1HSO Build in 4.696846008300781e-05 seconds\n",
      " Completed ERI Build in 0.0011620521545410156 seconds \n",
      " Completed 2D build in 9.489059448242188e-05 seconds\n",
      " Completed 1G build in 1.5974044799804688e-05 seconds\n",
      " Completed the Dipole Matrix Build in 3.409385681152344e-05 seconds\n",
      " Completed determinant list in 0.0003948211669921875 seconds \n",
      " Completed constant offset matrix in 9.608268737792969e-05 seconds\n",
      " Completed Hamiltonian build in 0.6242549419403076 seconds\n"
     ]
    }
   ],
   "source": [
    "\n",
    "N_el = 75\n",
    "N_ph = 20\n",
    "omega = 0.12086\n",
    "lambda_vector = np.array([0., 0., 0.05])\n",
    "\n",
    "\n",
    "E_array = np.zeros(N_el)\n",
    "\n",
    "# run cas\n",
    "LiH = PFHamiltonianGenerator(mol_str, options_dict, cavity_free_dict)\n",
    "# sort singlets\n",
    "singlet_indices = LiH.sort_dipole_allowed_states(N_el)\n",
    "\n",
    "E_array = LiH.CIeigs[singlet_indices]\n",
    "mu_array = LiH.compute_dipole_moments(singlet_indices)\n",
    "\n",
    "slow_start = time.time()\n",
    "LiH.build_pcqed_pf_hamiltonian(N_el, N_ph, omega, lambda_vector, E_array, mu_array)\n",
    "slow_end = time.time()\n",
    "\n",
    "slow_eigs = np.copy(LiH.PCQED_eigs)\n",
    "\n",
    "fast_start = time.time()\n",
    "LiH.fast_build_pcqed_pf_hamiltonian(N_el, N_ph, omega, lambda_vector, E_array, mu_array)\n",
    "fast_end = time.time()\n",
    "fast_eigs = np.copy(LiH.PCQED_eigs)\n",
    "\n",
    "assert np.allclose(slow_eigs, fast_eigs)\n",
    "print(F\"Slow build took {slow_end-slow_start} seconds\")\n",
    "print(F\"Fast build took {fast_end-fast_start} seconds\")\n",
    "\n",
    "\n"
   ]
  },
  {
   "cell_type": "markdown",
   "id": "279aa319",
   "metadata": {},
   "source": [
    "# Notes on the matrix blocks\n",
    "\n",
    "\\begin{align}\\label{EQN:projected_matrix}\n",
    "{\\bf \\mathcal{H}} =\n",
    "&\\begin{bmatrix}\n",
    "{\\bf E} + {\\bf D}   & -\\sqrt{\\frac{\\omega}{2}} {\\bf d}  & 0 & \\dots & 0 & 0 \\\\\n",
    "-\\sqrt{\\frac{\\omega}{2}}{\\bf d} & {\\bf E} + {\\bf D} + {\\bf \\Omega}   & -\\sqrt{\\omega} {\\bf d}  & \\dots & 0 & 0 \\\\\n",
    "0   &  -\\sqrt{\\omega}{\\bf d} & {\\bf E} + {\\bf D} + 2{\\bf \\Omega} & \\dots & 0  & 0 \\\\\n",
    "\\vdots & \\vdots & \\vdots & \\ddots & \\vdots & \\vdots \\\\\n",
    "0      &      0 &   0    &  \\dots     & {\\bf E} + {\\bf D} + (N-1){\\bf \\Omega}    & -\\sqrt{\\frac{N \\omega}{2}} {\\bf d} \\\\\n",
    "0      &      0 &   0    &  \\dots     & -\\sqrt{\\frac{N \\omega}{2}}{\\bf d}     & {\\bf E} + {\\bf D} + N{\\bf \\Omega}. \n",
    "\\end{bmatrix}\n",
    "\\end{align}\n",
    "\n",
    "\n",
    "Note that there are basically 4 different matrices with shape $(N_{el}, N_{el})$ that appear in this Hamiltonian matrix.  The following outlines the equations for the elements of each matrix along with one or more strategies to assemble them.  \n",
    "\n",
    "### E matrix\n",
    "#### Math\n",
    "$$ E_{\\alpha \\beta} = \\langle \\psi_{\\alpha} | \\mathcal{H}_{el} | \\psi_{\\beta} \\rangle = E_{\\beta} \\delta_{\\alpha \\beta} $$ \n",
    "where $E_{\\beta}$ denote the electronic energy eigenvalues of the molecular system.\n",
    "#### Code\n",
    "If the energy eigenvalues are stored in an array called `E_array`, then we can build ${\\bf E}$ by multiplying these values by an $(N_{el}, N_{el})$ identity matrix $\\mathbb{I}$.\n",
    "\n",
    "##### build N_el x N_el identity matrix\n",
    "`_I = np.eye(N_el)`\n",
    "\n",
    "##### build N_el x N_el _E matrix\n",
    "`_E = E_array * _I`\n",
    "\n",
    "\n"
   ]
  },
  {
   "cell_type": "code",
   "execution_count": null,
   "id": "80a383ae",
   "metadata": {},
   "outputs": [],
   "source": [
    "# code to build E matrix goes here"
   ]
  },
  {
   "cell_type": "markdown",
   "id": "3a346985",
   "metadata": {},
   "source": [
    "### $\\Omega$ matrix\n",
    "#### Math\n",
    "$$ \\Omega_{\\alpha \\beta} = \\langle \\psi_{\\alpha} | \\omega | \\psi_{\\beta} \\rangle  = \\omega \\delta_{\\alpha \\beta}$$ \n",
    "\n",
    "#### Code\n",
    "If the photon frequency is stored in the variable `omega`, then the $(N_{el},N_{el})$ matrix `_O` can be build \n",
    "by multiplying the $\\mathbb{I}$ by $omega$:\n",
    "\n",
    "##### build N_el x N_el _O matrix\n",
    "`_O = omega * _I`\n"
   ]
  },
  {
   "cell_type": "code",
   "execution_count": null,
   "id": "40b14595",
   "metadata": {},
   "outputs": [],
   "source": [
    "# code to build Omega matrix goes here"
   ]
  },
  {
   "cell_type": "markdown",
   "id": "fd6774fe",
   "metadata": {},
   "source": [
    "### d matrix\n",
    "#### Math\n",
    "$$ d_{\\alpha \\beta} = \\lambda \\cdot  \\langle \\psi_{\\alpha} | \\mathcal{\\mu} | \\psi_{\\beta} \\rangle = \\lambda_x \\mathcal{\\mu}_{x, \\alpha \\beta} +  \\lambda_y \\mathcal{\\mu}_{y, \\alpha \\beta} +  \\lambda_z \\mathcal{\\mu}_{z, \\alpha \\beta} $$ \n",
    "where $\\mathcal{\\mu}_{x, \\alpha \\beta}$ denotes the x-component of the (transition) dipole moment between molecular electronic state $\\psi_{\\alpha}$ and $\\psi_{\\beta}$.\n",
    "#### Code\n",
    "If the dipole matrix elements are stored in a $(N_{el}, N_{el}, 3)$  array called `mu_array` and the $\\lambda$ vector is stored in an 3-element array called `\\lambda_vector`, then we can build the\n",
    "$(N_{el}, N_{el})$ array ${\\bf d}$ by [contraction](https://en.wikipedia.org/wiki/Tensor_contraction) using `np.einsum()`:\n",
    "\n",
    "##### build N_el x N_el _d matrix\n",
    "`_d = np.einsum(\"k,ijk->ij\", lambda_vector, mu_array)`"
   ]
  },
  {
   "cell_type": "code",
   "execution_count": null,
   "id": "e8dd7718",
   "metadata": {},
   "outputs": [],
   "source": [
    "# code to build the d matrix goes here"
   ]
  },
  {
   "cell_type": "markdown",
   "id": "cacbeeaf",
   "metadata": {},
   "source": [
    "### D matrix\n",
    "#### Math\n",
    "$$ D_{\\alpha \\beta} = \\frac{1}{2} \\sum_{\\gamma} d_{\\alpha \\gamma} d_{\\gamma \\beta} $$ \n",
    "\n",
    "#### Code\n",
    "We have the $(N_{el}, N_{el})$ elements of the ${\\bf d}$ array stored in `_d`.  We can then build `_D`\n",
    "using matrix-matrix multiplication as follows:\n",
    "\n",
    "`_D = _d @ _d`\n",
    "\n",
    "or using einsum as follows:\n",
    "\n",
    "`_D = np.einsum(\"ik,kj->ij\",_d, _d)`\n"
   ]
  },
  {
   "cell_type": "code",
   "execution_count": null,
   "id": "c8d19877",
   "metadata": {},
   "outputs": [],
   "source": []
  },
  {
   "cell_type": "code",
   "execution_count": null,
   "id": "7ad948f0",
   "metadata": {},
   "outputs": [],
   "source": []
  }
 ],
 "metadata": {
  "kernelspec": {
   "display_name": "Python 3 (ipykernel)",
   "language": "python",
   "name": "python3"
  },
  "language_info": {
   "codemirror_mode": {
    "name": "ipython",
    "version": 3
   },
   "file_extension": ".py",
   "mimetype": "text/x-python",
   "name": "python",
   "nbconvert_exporter": "python",
   "pygments_lexer": "ipython3",
   "version": "3.9.17"
  }
 },
 "nbformat": 4,
 "nbformat_minor": 5
}
