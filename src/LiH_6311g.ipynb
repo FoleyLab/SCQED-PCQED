{
 "cells": [
  {
   "cell_type": "code",
   "execution_count": null,
   "id": "57746595",
   "metadata": {},
   "outputs": [],
   "source": [
    "# import libraries\n",
    "import numpy as np\n",
    "import sys\n",
    "import psi4\n",
    "from helper_PFCI import PFHamiltonianGenerator\n",
    "np.set_printoptions(threshold=sys.maxsize)\n",
    "psi4.core.set_output_file('output.dat', False)\n",
    "import time\n"
   ]
  },
  {
   "cell_type": "markdown",
   "id": "a625f560",
   "metadata": {},
   "source": [
    "We are going to read the energy eigenvalues and dipole matrix elements from .npy files.  We will also still create an instance of the PFHamiltonianGenerator class so we can use its build_pcqed_pf_hamiltonian() method, but it is not really important what details we use to instantiate this class... so we will use LiH in a minimal basis since this is a fast way to instantiate the class!"
   ]
  },
  {
   "cell_type": "code",
   "execution_count": null,
   "id": "12202c36",
   "metadata": {},
   "outputs": [],
   "source": [
    "# read data from .npy files for formaldehyde casci(8,8) calculations\n",
    "\n",
    "# !!! Change this to the correct path on your computer!\n",
    "npy_folder = \"/Users/jfoley19/Code/data_repository/Mapol/LiH/PCQED/6-311G/r_1.4/\"\n",
    "\n",
    "# these file names should still be good\n",
    "E_npy_file = npy_folder + \"LiH_r_1.4_6311g_fci_Energies.npy\"\n",
    "Mu_npy_file = npy_folder + \"LiH_r_1.4_6311g_fci_Dipoles.npy\"\n",
    "\n",
    "# store energy eigenvalues in E_array\n",
    "E_array = np.load(E_npy_file)\n",
    "# store dipole matrix elements in Mu_array\n",
    "Mu_array = np.load(Mu_npy_file)\n",
    "\n",
    "# print their shape so we know how many elements we have\n",
    "print(np.shape(E_array))\n",
    "print(np.shape(Mu_array))\n",
    "\n",
    "# setup basic arguments to create an instance of the PFHamiltonianGenerator class\n",
    "mol_str = \"\"\"\n",
    "Li\n",
    "H 1 1.4\n",
    "symmetry c1\n",
    "\"\"\"\n",
    "\n",
    "options_dict = {\n",
    "    \"basis\": \"sto-3g\",\n",
    "    \"scf_type\": \"pk\",\n",
    "    \"e_convergence\": 1e-10,\n",
    "    \"d_convergence\": 1e-10,\n",
    "}\n",
    "\n",
    "\n",
    "cavity_free_dict = {\n",
    "    'omega_value' : 0.0,\n",
    "    'lambda_vector' : np.array([0, 0, 0.0]),\n",
    "    'ci_level' : 'fci',   \n",
    "    'full_diagonalization' : True,\n",
    "    'number_of_photons' : 0, \n",
    "}\n",
    "\n",
    "# create the instance of our PFHamiltonianGenerator class\n",
    "instance = PFHamiltonianGenerator(mol_str, options_dict, cavity_free_dict)"
   ]
  },
  {
   "cell_type": "code",
   "execution_count": null,
   "id": "14ad5bb0",
   "metadata": {},
   "outputs": [],
   "source": [
    "\n",
    "\n",
    "N_el = 25\n",
    "N_ph = 2\n",
    "omega = 0.12086\n",
    "lambda_vector = np.array([0., 0., 0.01])\n",
    "\n",
    "\n",
    "fast_start = time.time()\n",
    "instance.fast_build_pcqed_pf_hamiltonian(N_el, N_ph, omega, lambda_vector, E_array, Mu_array, neglect_DSE=True)\n",
    "fast_end = time.time()\n",
    "\n",
    "print(F\"Fast build took {fast_end-fast_start} seconds\")\n",
    "\n",
    "print(instance.PCQED_pf_eigs[0])\n"
   ]
  },
  {
   "cell_type": "markdown",
   "id": "0aa8e884-3229-483b-a55b-4e890d44f70e",
   "metadata": {},
   "source": [
    "Here we want to try to analyze the Coherent state transformation from the point of view of a Shrieffer-Wolf transformation.  \n",
    "\n",
    "In a perturbative approach to SW transformations, we have the following unitary transformation:\n",
    "\n",
    "$$ \\hat{U} = {\\rm exp}\\left[ \\epsilon \\hat{S} \\right] \\tag{1} $$\n",
    "\n",
    "that can act on the Hamiltonian that is written as \n",
    "\n",
    "$$ \\hat{H} = \\hat{H}_0 + \\epsilon \\hat{H}' \\tag{2} $$\n",
    "where $\\hat{H}_0$ is diagonal and $\\hat{H}'$ is off-diagonal.  \n",
    "\n",
    "We can write the transformation as \n",
    "\n",
    "$$ \\hat{U} \\hat{H} \\hat{U}^{\\dagger} = \\hat{H} + \\left[ \\hat{S}, \\hat{H} \\right] + \\frac{1}{2} \\left[ \\hat{S}, \\left[ \\hat{S}, \\hat{H} \\right] \\right] + ... \\tag{3} $$\n",
    "\n",
    "If we use the right hand side of Eq. (2) into the expansion and organize by orders of $\\epsilon$, we get\n",
    "\n",
    "$$ \\hat{U} \\hat{H} \\hat{U}^{\\dagger} = \\hat{H}_0 +  \\epsilon \\left( \\hat{H}' + \\left[ \\hat{S}, \\hat{H}_0 \\right]  \\right) + \\epsilon^2  \\left( \\left[ \\hat{S}, \\hat{H}' \\right] + \\frac{1}{2} \\left[ \\hat{S}, \\left[ \\hat{S}, \\hat{H}_0 \\right] \\right] \\right) + ... \\tag{4} $$\n",
    "\n",
    "One strategy is to have the perturbation vanish at 1st order, which is equivalent to having \n",
    "\n",
    "$$  \\left[ \\hat{S}, \\hat{H}_0 \\right] = -\\hat{H}' $$\n",
    "\n",
    "With that, we then see that the second order term becomes\n",
    "\n",
    "\\begin{align}\n",
    "\\left[ \\hat{S}, \\hat{H}' \\right] + \\frac{1}{2} \\left[ \\hat{S}, \\left[ \\hat{S}, \\hat{H}_0 \\right] \\right] &= \\left[ \\hat{S}, \\hat{H}' \\right] - \\frac{1}{2} \\left[ \\hat{S}, \\hat{H}' \\right] \\\\\n",
    "&= \\frac{1}{2} \\left[ \\hat{S}, \\hat{H}' \\right].\n",
    "\\end{align}\n",
    "\n",
    "We then can write an effective Hamiltonian that is second order in $\\epsilon$ as \n",
    "\n",
    "$$ \\hat{H}_{eff} = \\hat{H}_0 + \\frac{1}{2} \\left[ \\hat{S}, \\hat{H}' \\right]. $$\n",
    "\n",
    "The coherent state transformation can be viewed in a similar spirit with $\\hat{S} = -z \\left(\\hat{b}^{\\dagger} - \\hat{b} \\right)$,\n",
    "where $z = \\frac{\\langle d \\rangle}{\\sqrt{2 \\omega}}$.  \n",
    "\n",
    "Let's examine the following quantities:\n",
    "\n",
    "$\\hat{H}_0 = \\hat{H}_{el} + \\hat{H}_{ph}$ and $\\hat{H}' = \\hat{H}_{blc} + \\hat{H}_{dse}$:\n",
    "\n"
   ]
  },
  {
   "cell_type": "code",
   "execution_count": null,
   "id": "6be4d49a-3296-4586-ae5e-bbe5f8b67c18",
   "metadata": {},
   "outputs": [],
   "source": [
    "instance.fast_build_pcqed_pf_hamiltonian(2, 2, omega, lambda_vector, E_array, Mu_array, neglect_DSE=False)\n",
    "\n",
    "print(\"Full PF\")\n",
    "print(instance.PCQED_H_PF)\n",
    "print(\"Electronic\")\n",
    "print(instance.PCQED_H_EL)\n",
    "print(\"Photonic\")\n",
    "print(instance.PCQED_H_PH)\n",
    "print(\"DSE\")\n",
    "print(instance.PCQED_H_DSE)\n",
    "print(\"BLC\")\n",
    "print(instance.PCQED_H_BLC)\n"
   ]
  },
  {
   "cell_type": "code",
   "execution_count": null,
   "id": "f7a3f882-e7ca-45e4-8fc1-feb43a0a57e7",
   "metadata": {},
   "outputs": [],
   "source": [
    "# S matrix as the Coherent State Transformation\n",
    "z = - np.dot(lambda_vector, Mu_array[0,0,:]) / np.sqrt(2 * omega)\n",
    "\n",
    "S = np.array([[0, 0, z, 0],\n",
    "             [0, 0, 0, z],\n",
    "             [-z, 0, 0, 0],\n",
    "             [0, -z, 0, 0]]\n",
    "             )\n",
    "\n",
    "print(S)"
   ]
  },
  {
   "cell_type": "markdown",
   "id": "279aa319",
   "metadata": {},
   "source": [
    "# Notes on the matrix blocks\n",
    "\n",
    "\\begin{align}\\label{EQN:projected_matrix}\n",
    "{\\bf \\mathcal{H}} =\n",
    "&\\begin{bmatrix}\n",
    "{\\bf E} + {\\bf D}   & -\\sqrt{\\frac{\\omega}{2}} {\\bf d}  & 0 & \\dots & 0 & 0 \\\\\n",
    "-\\sqrt{\\frac{\\omega}{2}}{\\bf d} & {\\bf E} + {\\bf D} + {\\bf \\Omega}   & -\\sqrt{\\omega} {\\bf d}  & \\dots & 0 & 0 \\\\\n",
    "0   &  -\\sqrt{\\omega}{\\bf d} & {\\bf E} + {\\bf D} + 2{\\bf \\Omega} & \\dots & 0  & 0 \\\\\n",
    "\\vdots & \\vdots & \\vdots & \\ddots & \\vdots & \\vdots \\\\\n",
    "0      &      0 &   0    &  \\dots     & {\\bf E} + {\\bf D} + (N-1){\\bf \\Omega}    & -\\sqrt{\\frac{N \\omega}{2}} {\\bf d} \\\\\n",
    "0      &      0 &   0    &  \\dots     & -\\sqrt{\\frac{N \\omega}{2}}{\\bf d}     & {\\bf E} + {\\bf D} + N{\\bf \\Omega}. \n",
    "\\end{bmatrix}\n",
    "\\end{align}\n",
    "\n",
    "\n",
    "Note that there are basically 4 different matrices with shape $(N_{el}, N_{el})$ that appear in this Hamiltonian matrix.  The following outlines the equations for the elements of each matrix along with one or more strategies to assemble them.  \n",
    "\n",
    "### E matrix\n",
    "#### Math\n",
    "$$ E_{\\alpha \\beta} = \\langle \\psi_{\\alpha} | \\mathcal{H}_{el} | \\psi_{\\beta} \\rangle = E_{\\beta} \\delta_{\\alpha \\beta} $$ \n",
    "where $E_{\\beta}$ denote the electronic energy eigenvalues of the molecular system.\n",
    "#### Code\n",
    "If the energy eigenvalues are stored in an array called `E_array`, then we can build ${\\bf E}$ by multiplying these values by an $(N_{el}, N_{el})$ identity matrix $\\mathbb{I}$.\n",
    "\n",
    "##### build N_el x N_el identity matrix\n",
    "`_I = np.eye(N_el)`\n",
    "\n",
    "##### build N_el x N_el _E matrix\n",
    "`_E = E_array * _I`\n",
    "\n",
    "\n"
   ]
  },
  {
   "cell_type": "code",
   "execution_count": null,
   "id": "80a383ae",
   "metadata": {},
   "outputs": [],
   "source": [
    "# code to build E matrix goes here"
   ]
  },
  {
   "cell_type": "markdown",
   "id": "3a346985",
   "metadata": {},
   "source": [
    "### $\\Omega$ matrix\n",
    "#### Math\n",
    "$$ \\Omega_{\\alpha \\beta} = \\langle \\psi_{\\alpha} | \\omega | \\psi_{\\beta} \\rangle  = \\omega \\delta_{\\alpha \\beta}$$ \n",
    "\n",
    "#### Code\n",
    "If the photon frequency is stored in the variable `omega`, then the $(N_{el},N_{el})$ matrix `_O` can be build \n",
    "by multiplying the $\\mathbb{I}$ by $omega$:\n",
    "\n",
    "##### build N_el x N_el _O matrix\n",
    "`_O = omega * _I`\n"
   ]
  },
  {
   "cell_type": "code",
   "execution_count": null,
   "id": "40b14595",
   "metadata": {},
   "outputs": [],
   "source": [
    "# code to build Omega matrix goes here"
   ]
  },
  {
   "cell_type": "markdown",
   "id": "fd6774fe",
   "metadata": {},
   "source": [
    "### d matrix\n",
    "#### Math\n",
    "$$ d_{\\alpha \\beta} = \\lambda \\cdot  \\langle \\psi_{\\alpha} | \\mathcal{\\mu} | \\psi_{\\beta} \\rangle = \\lambda_x \\mathcal{\\mu}_{x, \\alpha \\beta} +  \\lambda_y \\mathcal{\\mu}_{y, \\alpha \\beta} +  \\lambda_z \\mathcal{\\mu}_{z, \\alpha \\beta} $$ \n",
    "where $\\mathcal{\\mu}_{x, \\alpha \\beta}$ denotes the x-component of the (transition) dipole moment between molecular electronic state $\\psi_{\\alpha}$ and $\\psi_{\\beta}$.\n",
    "#### Code\n",
    "If the dipole matrix elements are stored in a $(N_{el}, N_{el}, 3)$  array called `mu_array` and the $\\lambda$ vector is stored in an 3-element array called `\\lambda_vector`, then we can build the\n",
    "$(N_{el}, N_{el})$ array ${\\bf d}$ by [contraction](https://en.wikipedia.org/wiki/Tensor_contraction) using `np.einsum()`:\n",
    "\n",
    "##### build N_el x N_el _d matrix\n",
    "`_d = np.einsum(\"k,ijk->ij\", lambda_vector, mu_array)`"
   ]
  },
  {
   "cell_type": "code",
   "execution_count": null,
   "id": "e8dd7718",
   "metadata": {},
   "outputs": [],
   "source": [
    "# code to build the d matrix goes here"
   ]
  },
  {
   "cell_type": "markdown",
   "id": "cacbeeaf",
   "metadata": {},
   "source": [
    "### D matrix\n",
    "#### Math\n",
    "$$ D_{\\alpha \\beta} = \\frac{1}{2} \\sum_{\\gamma} d_{\\alpha \\gamma} d_{\\gamma \\beta} $$ \n",
    "\n",
    "#### Code\n",
    "We have the $(N_{el}, N_{el})$ elements of the ${\\bf d}$ array stored in `_d`.  We can then build `_D`\n",
    "using matrix-matrix multiplication as follows:\n",
    "\n",
    "`_D = _d @ _d`\n",
    "\n",
    "or using einsum as follows:\n",
    "\n",
    "`_D = np.einsum(\"ik,kj->ij\",_d, _d)`\n"
   ]
  },
  {
   "cell_type": "code",
   "execution_count": null,
   "id": "c8d19877",
   "metadata": {},
   "outputs": [],
   "source": []
  },
  {
   "cell_type": "code",
   "execution_count": null,
   "id": "7ad948f0",
   "metadata": {},
   "outputs": [],
   "source": []
  }
 ],
 "metadata": {
  "kernelspec": {
   "display_name": "Python 3 (ipykernel)",
   "language": "python",
   "name": "python3"
  },
  "language_info": {
   "codemirror_mode": {
    "name": "ipython",
    "version": 3
   },
   "file_extension": ".py",
   "mimetype": "text/x-python",
   "name": "python",
   "nbconvert_exporter": "python",
   "pygments_lexer": "ipython3",
   "version": "3.9.18"
  }
 },
 "nbformat": 4,
 "nbformat_minor": 5
}
