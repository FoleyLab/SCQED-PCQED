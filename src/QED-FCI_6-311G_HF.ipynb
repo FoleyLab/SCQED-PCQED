{
 "cells": [
  {
   "cell_type": "code",
   "execution_count": 2,
   "metadata": {},
   "outputs": [],
   "source": [
    "import numpy as np\n",
    "import sys\n",
    "import psi4\n",
    "from helper_PFCI import PFHamiltonianGenerator\n",
    "np.set_printoptions(threshold=sys.maxsize)\n",
    "import scipy"
   ]
  },
  {
   "cell_type": "code",
   "execution_count": 3,
   "metadata": {},
   "outputs": [
    {
     "name": "stdout",
     "output_type": "stream",
     "text": [
      "\n",
      "Scratch directory: /tmp/\n",
      "\n",
      "         ----------------------------------------------------------\n",
      "                                   FINDIF\n",
      "                     R. A. King and Jonathon Misiewicz\n",
      "         ----------------------------------------------------------\n",
      "\n",
      "  Using finite-differences of energies to determine gradients.\n",
      "    Generating geometries for use with 3-point formula.\n",
      "    Displacement size will be 5.00e-03.\n",
      "    Number of atoms is 2.\n",
      "    Number of symmetric SALCs is 1.\n",
      "    Translations projected? 1. Rotations projected? 1.\n",
      "    Number of geometries (including reference) is 3.\n",
      " 3 displacements needed ...\n",
      "\n",
      "  //>>>>>>>>>>>>>>>>>>>>>>>>>>>>>>>>>>>//\n",
      "  //    FiniteDifference Computations  //\n",
      "  //<<<<<<<<<<<<<<<<<<<<<<<<<<<<<<<<<<<//\n",
      "\n"
     ]
    }
   ],
   "source": [
    "mol_str = \"\"\"\n",
    "F\n",
    "H 1 0.90\n",
    "symmetry c1\n",
    "\"\"\"\n",
    "\n",
    "options_dict0 = {'basis': '6-311G',\n",
    "               'save_jk': True, \n",
    "               'scf_type': 'pk',\n",
    "               'e_convergence' : 1e-10,\n",
    "               'd_convergence' : 1e-10\n",
    "               }\n",
    "\n",
    "# let's run a psi4 geometry optimization to get the optimal geometry\n",
    "\n",
    "# set the options\n",
    "psi4.set_options(options_dict0)\n",
    "\n",
    "# first set the coordinates in init_string as the molecule's geometry \n",
    "mol0 = psi4.geometry(mol_str)\n",
    "\n",
    "# now capture the psi4 geometry data with the guess coordinates\n",
    "init_geometry_string = psi4.core.Molecule.create_psi4_string_from_molecule(mol0)\n",
    "\n",
    "# run the geometry optimization\n",
    "psi4.optimize(\"fci\")\n",
    "\n",
    "guess_geometry = mol0.geometry()\n",
    "print(guess_geometry)\n",
    "\n",
    "guess_string = psi4.core.Molecule.create_psi4_string_from_molecule(mol0)"
   ]
  },
  {
   "cell_type": "code",
   "execution_count": null,
   "metadata": {},
   "outputs": [],
   "source": []
  }
 ],
 "metadata": {
  "kernelspec": {
   "display_name": "work",
   "language": "python",
   "name": "python3"
  },
  "language_info": {
   "codemirror_mode": {
    "name": "ipython",
    "version": 3
   },
   "file_extension": ".py",
   "mimetype": "text/x-python",
   "name": "python",
   "nbconvert_exporter": "python",
   "pygments_lexer": "ipython3",
   "version": "3.11.7"
  }
 },
 "nbformat": 4,
 "nbformat_minor": 2
}
