{
 "cells": [
  {
   "cell_type": "code",
   "execution_count": 5,
   "id": "57746595",
   "metadata": {},
   "outputs": [],
   "source": [
    "# import libraries\n",
    "import numpy as np\n",
    "import sys\n",
    "import psi4\n",
    "from helper_PFCI import PFHamiltonianGenerator\n",
    "np.set_printoptions(threshold=sys.maxsize)\n",
    "psi4.core.set_output_file('output.dat', False)\n",
    "import time\n"
   ]
  },
  {
   "cell_type": "code",
   "execution_count": 6,
   "id": "fab14536",
   "metadata": {},
   "outputs": [],
   "source": [
    "# setup basic arguments for qed-ci calculation\n",
    "mol_str = \"\"\"\n",
    "Li\n",
    "H 1 1.8\n",
    "symmetry c1\n",
    "\"\"\"\n",
    "\n",
    "options_dict = {\n",
    "    \"basis\": \"sto-3g\",\n",
    "    \"scf_type\": \"pk\",\n",
    "    \"e_convergence\": 1e-10,\n",
    "    \"d_convergence\": 1e-10,\n",
    "}\n",
    "\n",
    "cavity_dict = {\n",
    "    'omega_value' : 0.12086,\n",
    "    'lambda_vector' : np.array([0, 0, 0.05]),\n",
    "    'ci_level' : 'fci',   \n",
    "    'full_diagonalization' : True,\n",
    "    'number_of_photons' : 0, \n",
    "}\n",
    "\n",
    "\n",
    "cavity_free_dict = {\n",
    "    'omega_value' : 0.0,\n",
    "    'lambda_vector' : np.array([0, 0, 0.0]),\n",
    "    'ci_level' : 'fci',   \n",
    "    'full_diagonalization' : True,\n",
    "    'number_of_photons' : 0, \n",
    "}\n",
    "\n"
   ]
  },
  {
   "cell_type": "code",
   "execution_count": 7,
   "id": "14ad5bb0",
   "metadata": {},
   "outputs": [
    {
     "name": "stdout",
     "output_type": "stream",
     "text": [
      "\n",
      "Start SCF iterations:\n",
      "\n",
      "Canonical RHF One-electron energy = -12.2195250859903002\n",
      "CQED-RHF One-electron energy      = -12.2195250859903002\n",
      "Nuclear repulsion energy          = 0.8819620177833333\n",
      "Dipole energy                     = 0.0000000000000000\n",
      "SCF Iteration   1: Energy = -7.8500186970978660   dE = -7.85002E+00   dRMS = 4.96348E-15\n",
      "SCF Iteration   2: Energy = -7.8500186970978589   dE =  7.10543E-15   dRMS = 1.62218E-15\n",
      "Total time for SCF iterations: 0.000 seconds \n",
      "\n",
      "QED-RHF   energy: -7.85001870 hartree\n",
      "Psi4  SCF energy: -7.85001870 hartree\n",
      " Completed QED-RHF in 0.117279052734375 seconds\n",
      " Completed 1HSO Build in 4.9114227294921875e-05 seconds\n",
      " Completed ERI Build in 0.001194000244140625 seconds \n",
      " Completed 2D build in 0.00011491775512695312 seconds\n",
      " Completed 1G build in 1.2159347534179688e-05 seconds\n",
      " Completed the Dipole Matrix Build in 3.504753112792969e-05 seconds\n",
      " Completed determinant list in 0.0003948211669921875 seconds \n",
      " Completed constant offset matrix in 0.00013899803161621094 seconds\n",
      " Completed Hamiltonian build in 0.6442220211029053 seconds\n",
      "Slow build took 0.0007028579711914062 seconds\n",
      "Fast build took 0.0007028579711914062 seconds\n"
     ]
    }
   ],
   "source": [
    "\n",
    "N_el = 2\n",
    "N_ph = 10\n",
    "omega = 0.12086\n",
    "lambda_vector = np.array([0., 0., 0.05])\n",
    "\n",
    "\n",
    "E_array = np.zeros(N_el)\n",
    "LiH = PFHamiltonianGenerator(mol_str, options_dict, cavity_free_dict)\n",
    "\n",
    "slow_start = time.time()\n",
    "LiH.build_pcqed_pf_hamiltonian(N_el, N_ph, omega, lambda_vector)\n",
    "slow_end = time.time()\n",
    "\n",
    "slow_eigs = np.copy(LiH.PCQED_eigs)\n",
    "\n",
    "fast_start = time.time()\n",
    "LiH.fast_build_pcqed_pf_hamiltonian(N_el, N_ph, omega, lambda_vector)\n",
    "fast_end = time.time()\n",
    "fast_eigs = np.copy(LiH.PCQED_eigs)\n",
    "\n",
    "assert np.allclose(slow_eigs, fast_eigs)\n",
    "print(F\"Slow build took {slow_end-slow_start} seconds\")\n",
    "print(F\"Fast build took {slow_end-slow_start} seconds\")\n",
    "\n",
    "\n"
   ]
  },
  {
   "cell_type": "code",
   "execution_count": null,
   "id": "1d538d6e",
   "metadata": {},
   "outputs": [],
   "source": []
  }
 ],
 "metadata": {
  "kernelspec": {
   "display_name": "Python 3 (ipykernel)",
   "language": "python",
   "name": "python3"
  },
  "language_info": {
   "codemirror_mode": {
    "name": "ipython",
    "version": 3
   },
   "file_extension": ".py",
   "mimetype": "text/x-python",
   "name": "python",
   "nbconvert_exporter": "python",
   "pygments_lexer": "ipython3",
   "version": "3.9.17"
  }
 },
 "nbformat": 4,
 "nbformat_minor": 5
}
