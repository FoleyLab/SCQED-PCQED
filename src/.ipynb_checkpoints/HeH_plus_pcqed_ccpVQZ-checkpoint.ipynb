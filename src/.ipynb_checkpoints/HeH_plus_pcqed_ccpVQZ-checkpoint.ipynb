{
 "cells": [
  {
   "cell_type": "code",
   "execution_count": 1,
   "id": "4f7008d6",
   "metadata": {},
   "outputs": [],
   "source": [
    "# import libraries\n",
    "import numpy as np\n",
    "import sys\n",
    "import psi4\n",
    "from helper_PFCI import PFHamiltonianGenerator\n",
    "np.set_printoptions(threshold=sys.maxsize)\n",
    "psi4.core.set_output_file('output.dat', False)\n",
    "import time\n",
    "import json\n",
    "import matplotlib.pyplot as plt"
   ]
  },
  {
   "cell_type": "code",
   "execution_count": 2,
   "id": "1d9ee7a3",
   "metadata": {},
   "outputs": [
    {
     "name": "stdout",
     "output_type": "stream",
     "text": [
      "(100,)\n",
      "(100, 100, 3)\n"
     ]
    }
   ],
   "source": [
    "# read data from .npy files for formaldehyde casci(8,8) calculations\n",
    "\n",
    "# !!! Change this to the correct path on your computer!\n",
    "npy_folder = \"/Users/rmandern/code/SCQED-PCQED/data/\"\n",
    "\n",
    "# these file names should still be good\n",
    "E_npy_file = npy_folder + \"HHep_fci_cc_pVDZ_Energies.npy\"\n",
    "Mu_npy_file = npy_folder + \"HHep_fci_cc_pVDZ_Dipoles.npy\"\n",
    "\n",
    "# store energy eigenvalues in E_array \n",
    "E_array = np.load(E_npy_file)\n",
    "# store dipole matrix elements in Mu_array\n",
    "Mu_array = np.load(Mu_npy_file)\n",
    "\n",
    "\n",
    "print(np.shape(E_array))\n",
    "print(np.shape(Mu_array))\n",
    "# print(Mu_array[1,1,:,:])\n",
    "# print(E_array)\n",
    "# print(Mu_array)"
   ]
  },
  {
   "cell_type": "code",
   "execution_count": 3,
   "id": "df004c4c",
   "metadata": {},
   "outputs": [
    {
     "name": "stdout",
     "output_type": "stream",
     "text": [
      "\n",
      "Start SCF iterations:\n",
      "\n",
      "Canonical RHF One-electron energy = -5.3139647226479543\n",
      "CQED-RHF One-electron energy      = -5.3139185340151620\n",
      "Nuclear repulsion energy          = 1.3638394576107813\n",
      "Dipole energy                     = 0.0000006276974215\n",
      "SCF Iteration   1: Energy = -2.9235932947844909   dE = -2.92359E+00   dRMS = 4.84500E-06\n",
      "SCF Iteration   2: Energy = -2.9235932961991122   dE = -1.41462E-09   dRMS = 8.01056E-07\n",
      "SCF Iteration   3: Energy = -2.9235932962404800   dE = -4.13678E-11   dRMS = 5.60419E-08\n",
      "SCF Iteration   4: Energy = -2.9235932962406657   dE = -1.85629E-13   dRMS = 3.88673E-09\n",
      "SCF Iteration   5: Energy = -2.9235932962406683   dE = -2.66454E-15   dRMS = 7.59757E-11\n",
      "Total time for SCF iterations: 0.001 seconds \n",
      "\n",
      "QED-RHF   energy: -2.92359330 hartree\n",
      "Psi4  SCF energy: -2.92363917 hartree\n",
      " Completed QED-RHF in 0.21583175659179688 seconds\n",
      " Completed 1HSO Build in 8.0108642578125e-05 seconds\n",
      " Completed ERI Build in 0.0012598037719726562 seconds \n",
      " Completed 2D build in 0.0007259845733642578 seconds\n",
      " Completed 1G build in 1.71661376953125e-05 seconds\n",
      " Completed the Dipole Matrix Build in 8.296966552734375e-05 seconds\n",
      " Completed determinant list in 0.00018095970153808594 seconds \n",
      " Completed constant offset matrix in 6.699562072753906e-05 seconds\n",
      " Completed Hamiltonian build in 0.2255859375 seconds\n"
     ]
    }
   ],
   "source": [
    "# setup basic arguments to create an instance of the PFHamiltonianGenerator class\n",
    "mol_str = \"\"\"          \n",
    "    H            \n",
    "    He 1 0.776011            \n",
    "    1 1\n",
    "    symmetry c1  \n",
    "\"\"\"\n",
    "\n",
    "\n",
    "options_dict = {\n",
    "    \"basis\": \"cc-pVDZ\",\n",
    "    \"scf_type\": \"pk\",\n",
    "    \"e_convergence\": 1e-10,\n",
    "    \"d_convergence\": 1e-10,\n",
    "}\n",
    "\n",
    "\n",
    "cavity_free_dict = {\n",
    "    'omega_value' : 0.9760568251,\n",
    "    'lambda_vector' : np.array([0, 0, 0.01]),\n",
    "    'ci_level' : 'fci',   \n",
    "    'full_diagonalization' : True,\n",
    "    'number_of_photons' : 0, \n",
    "}\n",
    "\n",
    "# create the instance of our PFHamiltonianGenerator class\n",
    "instance = PFHamiltonianGenerator(mol_str, options_dict, cavity_free_dict)"
   ]
  },
  {
   "cell_type": "code",
   "execution_count": 4,
   "id": "956160c5-fc18-4410-be2a-4cba8e4bc4bb",
   "metadata": {},
   "outputs": [
    {
     "name": "stdout",
     "output_type": "stream",
     "text": [
      "[-2.96082056 -2.16533574 -1.98476373 -1.64762091 -1.58323414 -1.12366468\n",
      " -1.12366468 -1.09549003 -1.0026547  -1.0026547  -0.86892779 -0.7006448\n",
      " -0.45854289 -0.35175526 -0.27645472 -0.17469485  0.05261434  0.05261434\n",
      "  0.12043252  0.18212832  0.18212832  0.18533166  0.18533166  0.22506633\n",
      "  0.28919361  0.45824772  0.45824772  0.64455796  0.65378037  0.65378037\n",
      "  0.67918948  0.67918948  0.78842239  0.79223251  1.01950037  1.12635068\n",
      "  1.12635068  1.1569179   1.1569179   1.17514143  1.19153124  1.19153124\n",
      "  1.23718228  1.24362234  1.24362234  1.26834614  1.30359324  1.32244835\n",
      "  1.32244835  1.32612044  1.34625431  1.54757396  1.7149387   1.7149387\n",
      "  1.73395657  1.73395657  1.7797436   1.82833267  1.82833267  1.8744769\n",
      "  1.92872575  1.92872575  2.10834553  2.12416954  2.12416954  2.14167147\n",
      "  2.25914893  2.25914893  2.30157253  2.30157253  2.31372035  2.40346055\n",
      "  2.40742287  2.40742287  2.42489284  2.53334429  2.72134308  2.87914407\n",
      "  2.87914407  2.9048408   2.9148122   2.9148122   2.9764739   3.35421732\n",
      "  3.43291699  3.43291699  3.43918436  3.44695844  3.44695844  3.48957397\n",
      "  3.48957397  3.52308296  3.56789647  4.02642309  4.28510757  4.55181727\n",
      "  4.55181727  4.62263987  4.62263987  5.86696558]\n"
     ]
    }
   ],
   "source": [
    "print(E_array)"
   ]
  },
  {
   "cell_type": "code",
   "execution_count": 9,
   "id": "a75ffe5e-d6a3-4f8f-8f11-a455401cd884",
   "metadata": {},
   "outputs": [],
   "source": [
    "# Define the range and increment\n",
    "start = 0.0\n",
    "stop = 0.02\n",
    "increment = 0.001\n",
    "\n",
    "# Create the array using numpy's arange function\n",
    "lambda_array = np.arange(start, stop + increment, increment)\n",
    "# print(lambda_array)\n",
    "# print(len(lambda_array))\n",
    "\n",
    "\n",
    "N_l = len(lambda_array)\n",
    "N_el = 60\n",
    "N_ph = 10\n",
    "omega = 0.9637811053\n",
    "\n",
    "# create an array of zeros to store the PCQED eigenvalues for each value of d\n",
    "_pcqed_22 = np.zeros((N_l, N_el * N_ph))\n",
    "\n",
    "ctr = 0\n",
    "# loop over the lambda values\n",
    "for i, lambda_val in enumerate(lambda_array):\n",
    "    lambda_vector = np.array([0, 0, lambda_val])\n",
    "    instance.fast_build_pcqed_pf_hamiltonian(N_el, N_ph, omega, lambda_vector, E_array, Mu_array)      # E_array[:,ctr]: 20 energy values for fisrt displacement and so on... \n",
    "    _pcqed_22[ctr, :] = instance.PCQED_pf_eigs\n",
    "    ctr += 1\n"
   ]
  },
  {
   "cell_type": "code",
   "execution_count": 10,
   "id": "43a7b536-f530-4774-8ba0-afadc1e80668",
   "metadata": {},
   "outputs": [
    {
     "name": "stdout",
     "output_type": "stream",
     "text": [
      "[-2.96082056 -2.96082034 -2.96081969 -2.96081861 -2.96081709 -2.96081514\n",
      " -2.96081276 -2.96080994 -2.96080669 -2.96080301 -2.96079889 -2.96079434\n",
      " -2.96078936 -2.96078395 -2.9607781  -2.96077182 -2.9607651  -2.96075795\n",
      " -2.96075037 -2.96074236 -2.96073391]\n"
     ]
    }
   ],
   "source": [
    "# dim = np.ndim(_pcqed_22)\n",
    "# print(np.shape(_pcqed_22))\n",
    "# print(np.shape(_pcqed_22[1,:]))\n",
    "# print(np.ndim(_pcqed_22[:,1]))\n",
    "# print(_pcqed_22)\n",
    "# print(_pcqed_22[0,:])\n",
    "print(_pcqed_22[:,0])\n"
   ]
  },
  {
   "cell_type": "code",
   "execution_count": 11,
   "id": "d38628df-f8c9-4bf2-8624-e1a24fc4f8d4",
   "metadata": {},
   "outputs": [
    {
     "data": {
      "image/png": "[encoded data removed]",
      "text/plain": [
       "<Figure size 640x480 with 1 Axes>"
      ]
     },
     "metadata": {},
     "output_type": "display_data"
    }
   ],
   "source": [
    "from matplotlib import cm\n",
    "from matplotlib import rcParams\n",
    "\n",
    "\n",
    "\n",
    "plt.plot(lambda_array, _pcqed_22[:,0],'b-', marker=\"*\", label= \"Ground State\")\n",
    "plt.plot(lambda_array, _pcqed_22[:,1], 'r-', marker=\"*\",label = \"1st excited state\")\n",
    "plt.plot(lambda_array, _pcqed_22[:,2],'k-', marker=\"*\", label = \"Lower Polariton(2nd state)\")\n",
    "plt.plot(lambda_array, _pcqed_22[:,3],'y-', marker=\"*\", label = \"Upper Polariton(3rd state)\")\n",
    "plt.ylabel('Energy (Hartrees)')\n",
    "plt.xlabel('Coupling Strength')\n",
    "plt.legend()\n",
    "plt.savefig(\"Energy vs Coupling strength\", dpi=150)\n",
    "rcParams['font.family'] = 'serif'\n",
    "rcParams['font.size'] = 12\n",
    "# plt.gca().yaxis.set_major_formatter('{:.12f}'.format)\n",
    "#plt.plot(A0_list, e4, label = \"E4\")\n",
    "\n",
    "plt.show()"
   ]
  },
  {
   "cell_type": "code",
   "execution_count": null,
   "id": "3c5f9390-9e07-4dff-9669-da5d48b6fdea",
   "metadata": {},
   "outputs": [],
   "source": [
    "# # Define the range and increment\n",
    "# start = 0.0\n",
    "# stop = 0.02\n",
    "# increment = 0.001\n",
    "\n",
    "# # Create the array using numpy's arange function\n",
    "# lambda_array = np.arange(start, stop + increment, increment)\n",
    "# print(lambda_array)\n",
    "# print(len(lambda_array))\n",
    "\n",
    "\n",
    "# N_R = 21\n",
    "# d_array = np.linspace(1.4,2.2,N_R)\n",
    "# N_l = len(lambda_array)\n",
    "# N_el = 10\n",
    "# N_ph = 2\n",
    "# omega = 0.9760568251\n",
    "\n",
    "# # create an array of zeros to store the PCQED eigenvalues for each value of d\n",
    "# _pcqed_22 = np.zeros((len(lambda_array),N_l, N_el * N_ph))\n",
    "\n",
    "# # loop over the lambda values\n",
    "# for i, lambda_val in enumerate(lambda_array):\n",
    "#     lambda_vector = np.array([0, 0, lambda_val])\n",
    "#     ctr = 0\n",
    "#     for d in d_array:\n",
    "#         instance.fast_build_pcqed_pf_hamiltonian(N_el, N_ph, omega, lambda_vector , E_array[:,ctr], Mu_array[:,:,:,ctr])      # E_array[:,ctr]: 20 energy values for fisrt displacement and so on... \n",
    "#         _pcqed_22[ctr, :] = instance.PCQED_pf_eigs\n",
    "#         ctr += 1\n"
   ]
  },
  {
   "cell_type": "code",
   "execution_count": null,
   "id": "41a94c9a",
   "metadata": {},
   "outputs": [],
   "source": [
    "N_R = 21\n",
    "\n",
    "d_array = np.linspace(1.0, 3.0, N_R)\n",
    "N_l = len(d_array)\n",
    "N_el = 10\n",
    "N_ph = 2\n",
    "omega = 0.183747027\n",
    "lambda_vector = np.array([0, 0, 0.01])\n",
    "\n",
    "# create an array of zeros to store the PCQED eigenvalues for each value of d\n",
    "_pcqed_22 = np.zeros((N_l, N_el * N_ph))\n",
    "# loop over values of d, build Hamiltonian, capture eigenvalues\n",
    "ctr = 0\n",
    "for d in d_array:\n",
    "    instance.fast_build_pcqed_pf_hamiltonian(N_el, N_ph, omega, lambda_vector , E_array[:,ctr], Mu_array[:,:,:,ctr])      # E_array[:,ctr]: 20 energy values for fisrt displacement and so on... \n",
    "    _pcqed_22[ctr, :] = instance.PCQED_pf_eigs\n",
    "    ctr += 1"
   ]
  },
  {
   "cell_type": "code",
   "execution_count": null,
   "id": "a4d80cc8-724f-4347-ba37-00bf300510b8",
   "metadata": {},
   "outputs": [],
   "source": [
    "# create an array of zeros to store the PCQED eigenvalues for each value of d\n",
    "_pcqed_2002_cs = np.zeros((N_l, N_el * N_ph))\n",
    "# loop over values of d, build Hamiltonian, capture eigenvalues\n",
    "ctr = 0\n",
    "for d in d_array:\n",
    "    instance.fast_build_pcqed_cs_hamiltonian(N_el, N_ph, omega, lambda_vector , E_array[:,ctr], Mu_array[:,:,:,ctr], neglect_DSE= False)      # E_array[:,ctr]: 20 energy values for fisrt displacement and so on... \n",
    "    _pcqed_2002_cs[ctr, :] = instance.PCQED_cs_eigs\n",
    "    ctr += 1\n"
   ]
  },
  {
   "cell_type": "code",
   "execution_count": null,
   "id": "d2ddc8ed-e158-4b12-83c0-f0709896f5f7",
   "metadata": {},
   "outputs": [],
   "source": [
    "N_el = 100\n",
    "N_ph = 4\n",
    "omega = 0.183747027\n",
    "lambda_vector = np.array([0, 0, 0.01])\n",
    "\n",
    "# create an array of zeros to store the PCQED eigenvalues for each value of d\n",
    "_pcqed_24 = np.zeros((N_l, N_el * N_ph))\n",
    "# loop over values of d, build Hamiltonian, capture eigenvalues\n",
    "ctr = 0\n",
    "for d in d_array:\n",
    "    instance.fast_build_pcqed_pf_hamiltonian(N_el, N_ph, omega, lambda_vector , E_array[:,ctr], Mu_array[:,:,:,ctr])      # E_array[:,ctr]: 20 energy values for fisrt displacement and so on... \n",
    "    _pcqed_24[ctr, :] = instance.PCQED_pf_eigs\n",
    "    ctr += 1\n",
    "\n",
    "\n",
    "# create an array of zeros to store the PCQED eigenvalues for each value of d\n",
    "_pcqed_2004_cs = np.zeros((N_l, N_el * N_ph))\n",
    "# loop over values of d, build Hamiltonian, capture eigenvalues\n",
    "ctr = 0\n",
    "for d in d_array:\n",
    "    instance.fast_build_pcqed_cs_hamiltonian(N_el, N_ph, omega, lambda_vector , E_array[:,ctr], Mu_array[:,:,:,ctr], neglect_DSE= False)      # E_array[:,ctr]: 20 energy values for fisrt displacement and so on... \n",
    "    _pcqed_2004_cs[ctr, :] = instance.PCQED_cs_eigs\n",
    "    ctr += 1\n"
   ]
  },
  {
   "cell_type": "code",
   "execution_count": null,
   "id": "8f04bf42-c91d-449b-a127-b6fca2467b67",
   "metadata": {},
   "outputs": [],
   "source": [
    "N_el = 100\n",
    "N_ph = 6\n",
    "omega = 0.183747027\n",
    "lambda_vector = np.array([0, 0, 0.01])\n",
    "\n",
    "# create an array of zeros to store the PCQED eigenvalues for each value of d\n",
    "_pcqed_26 = np.zeros((N_l, N_el * N_ph))\n",
    "# loop over values of d, build Hamiltonian, capture eigenvalues\n",
    "ctr = 0\n",
    "for d in d_array:\n",
    "    instance.fast_build_pcqed_pf_hamiltonian(N_el, N_ph, omega, lambda_vector , E_array[:,ctr], Mu_array[:,:,:,ctr])      # E_array[:,ctr]: 20 energy values for fisrt displacement and so on... \n",
    "    _pcqed_26[ctr, :] = instance.PCQED_pf_eigs\n",
    "    ctr += 1\n",
    "\n",
    "\n",
    "# create an array of zeros to store the PCQED eigenvalues for each value of d\n",
    "_pcqed_2006_cs = np.zeros((N_l, N_el * N_ph))\n",
    "# loop over values of d, build Hamiltonian, capture eigenvalues\n",
    "ctr = 0\n",
    "for d in d_array:\n",
    "    instance.fast_build_pcqed_cs_hamiltonian(N_el, N_ph, omega, lambda_vector , E_array[:,ctr], Mu_array[:,:,:,ctr], neglect_DSE= False)      # E_array[:,ctr]: 20 energy values for fisrt displacement and so on... \n",
    "    _pcqed_2006_cs[ctr, :] = instance.PCQED_cs_eigs\n",
    "    ctr += 1"
   ]
  },
  {
   "cell_type": "code",
   "execution_count": null,
   "id": "61a1a79d-bd3e-473f-a342-d94e78198b86",
   "metadata": {},
   "outputs": [],
   "source": [
    "N_el = 100\n",
    "N_ph = 8\n",
    "omega = 0.183747027\n",
    "lambda_vector = np.array([0, 0, 0.01])\n",
    "\n",
    "# create an array of zeros to store the PCQED eigenvalues for each value of d\n",
    "_pcqed_28 = np.zeros((N_l, N_el * N_ph))\n",
    "# loop over values of d, build Hamiltonian, capture eigenvalues\n",
    "ctr = 0\n",
    "for d in d_array:\n",
    "    instance.fast_build_pcqed_pf_hamiltonian(N_el, N_ph, omega, lambda_vector , E_array[:,ctr], Mu_array[:,:,:,ctr])      # E_array[:,ctr]: 20 energy values for fisrt displacement and so on... \n",
    "    _pcqed_28[ctr, :] = instance.PCQED_pf_eigs\n",
    "    ctr += 1\n",
    "\n",
    "\n",
    "# create an array of zeros to store the PCQED eigenvalues for each value of d\n",
    "_pcqed_2008_cs = np.zeros((N_l, N_el * N_ph))\n",
    "# loop over values of d, build Hamiltonian, capture eigenvalues\n",
    "ctr = 0\n",
    "for d in d_array:\n",
    "    instance.fast_build_pcqed_cs_hamiltonian(N_el, N_ph, omega, lambda_vector , E_array[:,ctr], Mu_array[:,:,:,ctr], neglect_DSE= False)      # E_array[:,ctr]: 20 energy values for fisrt displacement and so on... \n",
    "    _pcqed_2008_cs[ctr, :] = instance.PCQED_cs_eigs\n",
    "    ctr += 1"
   ]
  },
  {
   "cell_type": "code",
   "execution_count": null,
   "id": "101be01f-4f41-4e45-8644-aff7f313559e",
   "metadata": {},
   "outputs": [],
   "source": [
    "# Error = _pcqed_20010_cs[:,0] - _pcqed_210[:,0]\n",
    "# print(Error)\n",
    "\n",
    "# abs_error = np.abs(Error)\n",
    "# mae_10 = np.mean(abs_error)\n",
    "# print(mae_10)"
   ]
  },
  {
   "cell_type": "code",
   "execution_count": null,
   "id": "8bb25f11-2336-441d-b2fd-cd5a2c0f620f",
   "metadata": {},
   "outputs": [],
   "source": [
    "# instance.fast_build_pcqed_cs_hamiltonian(2, 2, 0, lambda_vector, E_array[:,0], Mu_array[:,:,:,0], neglect_DSE=False)\n",
    "# instance.fast_build_pcqed_pf_hamiltonian(2, 2, 0, lambda_vector, E_array[:,0], Mu_array[:,:,:,0], neglect_DSE=False)\n",
    "\n",
    "# print(instance.PCQED_H_CS)\n",
    "# print(instance.PCQED_H_PF)"
   ]
  },
  {
   "cell_type": "code",
   "execution_count": null,
   "id": "b6c13a5f-71fa-4553-897d-7d1323d223db",
   "metadata": {},
   "outputs": [],
   "source": [
    "\n",
    "# Error2 = _pcqed_22[:,0] - _pcqed_2002_cs[:,0]\n",
    "# # print(Error)\n",
    "\n",
    "# Error4 = _pcqed_24[:,0] - _pcqed_2004_cs[:,0]\n",
    "# Error6 = _pcqed_26[:,0] - _pcqed_2006_cs[:,0]\n",
    "# Error8 = _pcqed_28[:,0] - _pcqed_2008_cs[:,0]\n",
    "# Error10 = _pcqed_21[:,0] - _pcqed_2001_cs[:,0]\n",
    "\n",
    "\n",
    "Error2 = _pcqed_22[:,0] - _pcqed_2001_cs[:,0]\n",
    "# print(Error)\n",
    "\n",
    "Error4 = _pcqed_24[:,0] - _pcqed_2001_cs[:,0]\n",
    "Error6 = _pcqed_26[:,0] - _pcqed_2001_cs[:,0]\n",
    "Error8 = _pcqed_28[:,0] - _pcqed_2001_cs[:,0]\n",
    "Error10 = _pcqed_21[:,0] - _pcqed_2001_cs[:,0]"
   ]
  },
  {
   "cell_type": "code",
   "execution_count": null,
   "id": "8ae6aec4-ef07-4fae-b062-42fc093422f0",
   "metadata": {},
   "outputs": [],
   "source": [
    "print(Error10)"
   ]
  },
  {
   "cell_type": "code",
   "execution_count": null,
   "id": "e8bce40e-c1cc-47d7-a2fa-f7668abab8a8",
   "metadata": {},
   "outputs": [],
   "source": [
    "from matplotlib import cm\n",
    "from matplotlib import rcParams\n",
    "\n",
    "\n",
    "# plt.plot(d_array,np.log(Error2+1e-11),'ro-', label='Np = 2')\n",
    "# plt.plot(d_array,np.log(Error4+1e-11),'b-', marker=\"*\", label='Np = 4')\n",
    "# plt.plot(d_array,np.log(Error6+1e-11),'g',  marker=\"o\",label='Np = 6')\n",
    "# plt.plot(d_array,np.log(Error8 + 1e-11),'k',  marker=\"d\",label='Np = 8')\n",
    "# plt.plot(d_array,np.log(Error10 +1e-11),'y',  marker=\".\",label='Np = 10')\n",
    "\n",
    "plt.plot(d_array,Error2+1e-11,'ro-', label='Np = 2')\n",
    "plt.plot(d_array,Error4+1e-11,'b-', marker=\"*\", label='Np = 4')\n",
    "plt.plot(d_array,Error6+1e-11,'g',  marker=\"o\",label='Np = 6')\n",
    "plt.plot(d_array,Error8 + 1e-11,'k',  marker=\"d\",label='Np = 8')\n",
    "plt.plot(d_array,Error10 +1e-11,'y',  marker=\".\",label='Np = 10')\n",
    "plt.xlabel('Displacement(au)')\n",
    "plt.ylabel('Error(Hatree)')\n",
    "plt.yscale('log')\n",
    "plt.legend()\n",
    "plt.savefig(\"error curve new\", dpi=150)\n",
    "rcParams['font.family'] = 'serif'\n",
    "rcParams['font.size'] = 12\n",
    "# plt.gca().yaxis.set_major_formatter('{:.12f}'.format)\n",
    "# plt.ticklabel_format(style='sci', axis='y', scilimits=(0,0))\n",
    "# plt.ylim(-30,0)\n",
    "# plt.xlim(0,20)\n",
    "# plt.grid()\n"
   ]
  },
  {
   "cell_type": "code",
   "execution_count": null,
   "id": "b3b2c757-e19e-49dc-b5b8-50245a29a4a4",
   "metadata": {},
   "outputs": [],
   "source": [
    "Photon_state_basis = [0.0037363329626397706,0.0005036277955904703 , 5.275052548099557e-05, 4.361768495592904e-06, 2.965296325945539e-07, 1.7145714266353893e-08, 1.5631940186722204e-12 ]\n",
    "photons = [2,3,4,5,6,7,10]\n",
    "\n",
    "\n",
    "\n",
    "plt.plot(photons,Photon_state_basis,'ro-', label='Photons number basis vs Coherent state basis')\n",
    "plt.xlabel('No of photons')\n",
    "plt.ylabel('Error')\n",
    "plt.savefig(\"error Photons number basis vs Coherent state basis\", dpi=150)\n",
    "rcParams['font.family'] = 'serif'\n",
    "rcParams['font.size'] = 12\n",
    "plt.gca().yaxis.set_major_formatter('{:.12f}'.format)\n",
    "plt.legend()"
   ]
  },
  {
   "cell_type": "code",
   "execution_count": null,
   "id": "3c0d82d6",
   "metadata": {},
   "outputs": [],
   "source": [
    "# plt.plot(d_array, _pcqed_cs_22[:,0],'ro-', label=\"ground-state_cs\")\n",
    "plt.plot(d_array,_pcqed_22[:,0],'ro-', label='ground-state')\n",
    "plt.plot(d_array,_pcqed_2002_cs[:,0],'bo-', label='ground-state_cs')\n",
    "# plt.plot(d_array,_pcqed_22[:,6], 'bo', label='2rd')\n",
    "# plt.plot(d_array,_pcqed_22[:,7], '-' , label='6th excited')\n",
    "\n",
    "# plt.plot(lambda_val[:,2],_pcqed_502[:,2],'ro-', label='2nd')\n",
    "# plt.plot(lambda_val[:,2],_pcqed_502[:,3],'b', label='3rd')\n",
    "# plt.plot(lambda_val[:,2],_pcqed_502[:,4],'y', label='4th')\n",
    "\n",
    "plt.xlabel('Displacement')\n",
    "plt.ylabel('Energy')\n",
    "# plt.ylim(-113.556, -113.50)\n",
    "# plt.grid()\n",
    "plt.savefig(\"ground state\", dpi=150)\n",
    "#plt.text(1.9, -75.300, \"No. of Photons = 5\", fontsize=8, bbox=dict(facecolor='white', alpha=0.5))\n",
    "plt.legend()\n"
   ]
  },
  {
   "cell_type": "code",
   "execution_count": null,
   "id": "185e5812",
   "metadata": {},
   "outputs": [],
   "source": []
  },
  {
   "cell_type": "code",
   "execution_count": null,
   "id": "dfaa8b50-25ca-4bf4-8794-330e00c86c19",
   "metadata": {},
   "outputs": [],
   "source": []
  },
  {
   "cell_type": "code",
   "execution_count": null,
   "id": "9c74bbd9-5754-422e-ac40-eb1e815e2c1e",
   "metadata": {},
   "outputs": [],
   "source": []
  }
 ],
 "metadata": {
  "kernelspec": {
   "display_name": "Python 3 (ipykernel)",
   "language": "python",
   "name": "python3"
  },
  "language_info": {
   "codemirror_mode": {
    "name": "ipython",
    "version": 3
   },
   "file_extension": ".py",
   "mimetype": "text/x-python",
   "name": "python",
   "nbconvert_exporter": "python",
   "pygments_lexer": "ipython3",
   "version": "3.9.18"
  }
 },
 "nbformat": 4,
 "nbformat_minor": 5
}
