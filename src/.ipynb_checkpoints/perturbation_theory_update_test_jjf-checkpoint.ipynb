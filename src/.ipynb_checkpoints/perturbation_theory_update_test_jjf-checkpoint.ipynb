{
 "cells": [
  {
   "cell_type": "code",
   "execution_count": null,
   "id": "57746595",
   "metadata": {},
   "outputs": [],
   "source": [
    "# import libraries\n",
    "import numpy as np\n",
    "import sys\n",
    "import psi4\n",
    "from helper_PFCI import PFHamiltonianGenerator\n",
    "np.set_printoptions(threshold=sys.maxsize)\n",
    "psi4.core.set_output_file('output.dat', False)\n",
    "import matplotlib.pyplot as plt"
   ]
  },
  {
   "cell_type": "markdown",
   "id": "a625f560",
   "metadata": {},
   "source": [
    "We are going to read the energy eigenvalues and dipole matrix elements from .npy files.  We will also still create an instance of the PFHamiltonianGenerator class so we can use its build_pcqed_pf_hamiltonian() method, but it is not really important what details we use to instantiate this class... so we will use LiH in a minimal basis since this is a fast way to instantiate the class!"
   ]
  },
  {
   "cell_type": "code",
   "execution_count": null,
   "id": "065e3c86",
   "metadata": {},
   "outputs": [],
   "source": [
    "# read data from .npy files for formaldehyde casci(8,8) calculations\n",
    "\n",
    "# !!! Change this to the correct path on your computer!\n",
    "npy_folder = \"/Users/jfoley19/Code/data_repository/NPY_Files/LiH/\"\n",
    "\n",
    "# these file names should still be good\n",
    "E_npy_file = npy_folder + \"LiH_r_1.4_6311g_fci_500_states_Energies.npy\"\n",
    "Mu_npy_file = npy_folder + \"LiH_r_1.4_6311g_fci_500_states_Dipoles.npy\"\n",
    "\n",
    "\n",
    "# store energy eigenvalues in E_array\n",
    "E_array = np.load(E_npy_file)\n",
    "# store dipole matrix elements in Mu_array\n",
    "Mu_array = np.load(Mu_npy_file)\n",
    "\n",
    "print(np.shape(E_array))\n",
    "print(np.shape(Mu_array))\n",
    "\n",
    "# print their shape so we know how many elements we have\n",
    "print(np.shape(E_array))\n",
    "print(np.shape(Mu_array))\n"
   ]
  },
  {
   "cell_type": "code",
   "execution_count": null,
   "id": "674328dc",
   "metadata": {},
   "outputs": [],
   "source": [
    "# setup basic arguments to create an instance of the PFHamiltonianGenerator class\n",
    "mol_str = \"\"\"\n",
    "    Li\n",
    "    H 1 1.4\n",
    "    symmetry c1\n",
    "\"\"\"\n",
    "\n",
    "\n",
    "options_dict = {\n",
    "    \"basis\": \"sto-3g\",\n",
    "    \"scf_type\": \"pk\",\n",
    "    \"e_convergence\": 1e-10,\n",
    "    \"d_convergence\": 1e-10,\n",
    "}\n",
    "\n",
    "\n",
    "cavity_free_dict = {\n",
    "    'omega_value' : 0.12086,\n",
    "    'lambda_vector' : np.array([0, 0, 0.05]),\n",
    "    'ci_level' : 'fci',   \n",
    "    'full_diagonalization' : True,\n",
    "    'number_of_photons' : 10, \n",
    "}\n",
    "\n",
    "# create the instance of our PFHamiltonianGenerator class\n",
    "instance = PFHamiltonianGenerator(mol_str, options_dict, cavity_free_dict)"
   ]
  },
  {
   "cell_type": "code",
   "execution_count": null,
   "id": "8ed563fe-e972-44bc-a286-28cfd3fad134",
   "metadata": {},
   "outputs": [],
   "source": [
    "lambda_vector = np.array([0.0, 0.0, .025])\n",
    "instance.compute_energy_to_second_order(E_array, lambda_vector, Mu_array)"
   ]
  },
  {
   "cell_type": "code",
   "execution_count": null,
   "id": "8a5d17f7-16cf-4c67-81d0-5832b43cb725",
   "metadata": {},
   "outputs": [],
   "source": []
  },
  {
   "cell_type": "code",
   "execution_count": null,
   "id": "40141675-8e5e-4eac-9690-7dff28d26282",
   "metadata": {},
   "outputs": [],
   "source": []
  }
 ],
 "metadata": {
  "kernelspec": {
   "display_name": "Python 3 (ipykernel)",
   "language": "python",
   "name": "python3"
  },
  "language_info": {
   "codemirror_mode": {
    "name": "ipython",
    "version": 3
   },
   "file_extension": ".py",
   "mimetype": "text/x-python",
   "name": "python",
   "nbconvert_exporter": "python",
   "pygments_lexer": "ipython3",
   "version": "3.9.18"
  },
  "vscode": {
   "interpreter": {
    "hash": "fb1a2df4f9282886a9962e4f764279027b68d020a0da7673cd0f95f4da175bfd"
   }
  }
 },
 "nbformat": 4,
 "nbformat_minor": 5
}
