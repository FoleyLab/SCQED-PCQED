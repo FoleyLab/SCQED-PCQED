{
 "cells": [
  {
   "cell_type": "code",
   "execution_count": 2,
   "id": "57746595",
   "metadata": {},
   "outputs": [],
   "source": [
    "# import libraries\n",
    "import numpy as np\n",
    "import sys\n",
    "import psi4\n",
    "from helper_PFCI import PFHamiltonianGenerator\n",
    "np.set_printoptions(threshold=sys.maxsize)\n",
    "import scipy\n",
    "from scipy.optimize import curve_fit\n",
    "from scipy import interpolate\n",
    "from matplotlib import pyplot as plt\n",
    "from scipy import constants\n",
    "from numpy.polynomial import Polynomial\n",
    "import pandas as pd"
   ]
  },
  {
   "cell_type": "code",
   "execution_count": 4,
   "id": "a93e9eea",
   "metadata": {},
   "outputs": [],
   "source": [
    "array_data = \"/Users/ptolley1/Documents/Github/SCQED-PCQED/array_data\"\n",
    "cavity_E_array_0_00 = np.load(array_data + \"/LiF/fci_cavity_arrays_LiF_sto3g0.npy\")\n",
    "cavity_E_array_0_001 = np.load(array_data + \"/LiF/fci_cavity_arrays_LiF_sto3g0_001.npy\")\n",
    "cavity_E_array_0_005 = np.load(array_data + \"/LiF/fci_cavity_arrays_LiF_sto3g0_005.npy\")\n",
    "cavity_E_array_0_01 = np.load(array_data + \"/LiF/fci_cavity_arrays_LiF_sto3g0_01.npy\")\n",
    "cavity_E_array_0_02 = np.load(array_data + \"/LiF/fci_cavity_arrays_LiF_sto3g0_02.npy\")\n",
    "cavity_E_array_0_03 = np.load(array_data + \"/LiF/fci_cavity_arrays_LiF_sto3g0_03.npy\")\n",
    "cavity_E_array_0_04 = np.load(array_data + \"/LiF/fci_cavity_arrays_LiF_sto3g0_04.npy\")\n",
    "cavity_E_array_0_05 = np.load(array_data + \"/LiF/fci_cavity_arrays_LiF_sto3g0_05.npy\")\n",
    "r_data = np.load(array_data + \"/LiF/fci_r_array_LiF.npy\")\n",
    "N_R = r_data.shape[0]"
   ]
  },
  {
   "cell_type": "markdown",
   "id": "3edaef63",
   "metadata": {},
   "source": [
    "## Calculation of k\n",
    "Fit ground state PES of H2 to a quintic polynomial"
   ]
  },
  {
   "cell_type": "code",
   "execution_count": 5,
   "id": "9a682bbf",
   "metadata": {},
   "outputs": [],
   "source": [
    "def find_crossover(array1, array2):\n",
    "    idx = (np.abs(array1 - array2)).argmin()\n",
    "\n",
    "    return idx\n",
    "\n",
    "def compute_full_array(array1, array2, idx1, idx2):\n",
    "    index = find_crossover(array1[idx1,:], array2[idx2,:])\n",
    "    array_1 = array1[idx1,:index]\n",
    "    array_2 = array2[idx2,index:]\n",
    "    array_full = np.concatenate((array_1, array_2), axis=0)    \n",
    "\n",
    "    return array_full\n",
    "\n",
    "S0_array = cavity_E_array_0_00[0,:]\n",
    "S1_array = compute_full_array(cavity_E_array_0_00, cavity_E_array_0_00, 3, 2)\n",
    "\n",
    "LP_0_00 = compute_full_array(cavity_E_array_0_00, cavity_E_array_0_00, 1, 2)\n",
    "LP_0_001 = compute_full_array(cavity_E_array_0_001, cavity_E_array_0_001, 1, 2)\n",
    "LP_0_005 = compute_full_array(cavity_E_array_0_005, cavity_E_array_0_005, 1, 2)\n",
    "LP_0_01 = compute_full_array(cavity_E_array_0_01, cavity_E_array_0_01, 1, 2)\n",
    "LP_0_02 = compute_full_array(cavity_E_array_0_02, cavity_E_array_0_02, 1, 2)\n",
    "LP_0_03 = compute_full_array(cavity_E_array_0_03, cavity_E_array_0_03, 1, 2)\n",
    "LP_0_04 = compute_full_array(cavity_E_array_0_04, cavity_E_array_0_04, 1, 2)\n",
    "LP_0_05 = compute_full_array(cavity_E_array_0_05, cavity_E_array_0_05, 1, 2)\n",
    "\n",
    "UP_0_00 = compute_full_array(cavity_E_array_0_00, cavity_E_array_0_00, 3, 4)\n",
    "UP_0_001 = compute_full_array(cavity_E_array_0_001, cavity_E_array_0_001, 3, 4)\n",
    "UP_0_005 = compute_full_array(cavity_E_array_0_005, cavity_E_array_0_005, 3, 4)\n",
    "UP_0_01 = compute_full_array(cavity_E_array_0_01, cavity_E_array_0_01, 3, 4)\n",
    "UP_0_02 = compute_full_array(cavity_E_array_0_02, cavity_E_array_0_02, 3, 4)\n",
    "UP_0_03 = compute_full_array(cavity_E_array_0_03, cavity_E_array_0_03, 3, 4)\n",
    "UP_0_04 = compute_full_array(cavity_E_array_0_04, cavity_E_array_0_04, 3, 4)\n",
    "UP_0_05 = compute_full_array(cavity_E_array_0_05, cavity_E_array_0_05, 3, 4)\n",
    "\n",
    "LP_arrays = np.array([LP_0_00, \n",
    "            LP_0_001,\n",
    "            LP_0_005,\n",
    "            LP_0_01,\n",
    "            LP_0_02,\n",
    "            LP_0_03,\n",
    "            LP_0_04,\n",
    "            LP_0_05]\n",
    "             )\n",
    "\n",
    "UP_arrays = np.array([UP_0_00, \n",
    "            UP_0_001,\n",
    "            UP_0_005,\n",
    "            UP_0_01,\n",
    "            UP_0_02,\n",
    "            UP_0_03,\n",
    "            UP_0_04,\n",
    "            UP_0_05]\n",
    "             )"
   ]
  },
  {
   "cell_type": "code",
   "execution_count": 6,
   "id": "17ea8b98",
   "metadata": {},
   "outputs": [
    {
     "name": "stdout",
     "output_type": "stream",
     "text": [
      "Min on S0 is 1.4545454545454546\n",
      "Min on S1 is 1.8636363636363638\n",
      "        8         7         6         5         4         3         2\n",
      "0.1443 x - 2.326 x + 16.42 x - 66.39 x + 168.3 x - 274.4 x + 281.5 x - 166.6 x - 61.9\n",
      "390.2323160745095\n"
     ]
    },
    {
     "data": {
      "text/plain": [
       "<function matplotlib.pyplot.show(close=None, block=None)>"
      ]
     },
     "execution_count": 6,
     "metadata": {},
     "output_type": "execute_result"
    },
    {
     "data": {
      "image/png": "[encoded data removed]",
      "text/plain": [
       "<Figure size 640x480 with 1 Axes>"
      ]
     },
     "metadata": {},
     "output_type": "display_data"
    }
   ],
   "source": [
    "\n",
    "min_LP_array = np.zeros((1,8))\n",
    "min_UP_array = np.zeros((1,8))\n",
    "\n",
    "for i in range(8):\n",
    "    min_LP_array[0,i] = np.argmin(LP_arrays[i])\n",
    "    min_UP_array[0,i] = np.argmin(UP_arrays[i])\n",
    "\n",
    "min_S0_loc = np.argmin(S0_array)\n",
    "min_S1_loc = np.argmin(S1_array)\n",
    "\n",
    "r_eq_ang = r_data[min_S0_loc]\n",
    "print(f'Min on S0 is {r_data[min_S0_loc]}')\n",
    "print(f'Min on S1 is {r_data[min_S1_loc]}')\n",
    "#print(f'Min on LP is {r_data[min_LP_loc]}')\n",
    "#print(f'Min on UP is {r_data[min_UP_loc]}')\n",
    "\n",
    "# Fitting S0 PES to a quintic polynomial\n",
    "au_to_SI = (4.35974 * 10 ** (-18)) * 10 ** 20\n",
    "poly = np.poly1d(np.polyfit(r_data, S0_array, 8))\n",
    "print(poly)\n",
    "\n",
    "#Taking first and second derivative of S0 PES and evaluating at r_eq\n",
    "first_derivative = poly.deriv()\n",
    "second_derivative = first_derivative.deriv()\n",
    "k_test_au = second_derivative(r_eq_ang)\n",
    "k_test_SI = k_test_au * au_to_SI\n",
    "print(k_test_SI)\n",
    "\n",
    "#plotting S0 PES and quintic fit\n",
    "plt.plot(r_data, poly(r_data), 'm-', label='fit')\n",
    "plt.plot(r_data, S0_array, 'bo', label='cavity free |g>')\n",
    "plt.show"
   ]
  },
  {
   "cell_type": "markdown",
   "id": "2c595ad2",
   "metadata": {},
   "source": [
    "## Calculation of $ \\text{x}_0 $\n",
    "\n",
    "$$ \\frac{\\hbar}{2}\\sqrt{\\frac{k}{\\mu}} = \\frac{k}{2}(x_0 - x_{eq})^2 + V_0 $$\n",
    "\n",
    "Expanded, solved for $ x_o $, and found zeros using quadratic formula"
   ]
  },
  {
   "cell_type": "code",
   "execution_count": 7,
   "id": "5e921ac8",
   "metadata": {},
   "outputs": [
    {
     "name": "stdout",
     "output_type": "stream",
     "text": [
      "1.3186978259512827\n"
     ]
    }
   ],
   "source": [
    "mu_amu = 1.00784 * 1.00784 / (1.00784 + 1.00784)\n",
    "mu_kg = mu_amu  * 10 ** (-3) / (6.022 * 10 ** 23) \n",
    "r_eq_SI = r_eq_ang * 10 ** (-10)\n",
    "h_bar = constants.hbar\n",
    "V_0_loc = np.argmin(S0_array)\n",
    "V_0 = S0_array[V_0_loc] * 4.35974 * 10 ** (-18)\n",
    "left = (h_bar / 2) * np.sqrt(k_test_SI / mu_kg)\n",
    "a = 0.5 * k_test_SI \n",
    "b = -k_test_SI * r_eq_SI\n",
    "c = 0.5 * k_test_SI * (r_eq_SI ** 2) - left\n",
    "zeros_n = (-b - np.sqrt((b ** 2) - 4 * a * c)) / (2 * a)\n",
    "zeros_p = (-b + np.sqrt((b ** 2) - 4 * a * c)) / (2 * a)\n",
    "x0_angstrom = zeros_n * 10 ** 10\n",
    "x0_au = x0_angstrom / psi4.constants.bohr2angstroms\n",
    "print(x0_angstrom)"
   ]
  },
  {
   "cell_type": "markdown",
   "id": "378388b2",
   "metadata": {},
   "source": [
    "## Calculation of the Huang-Rhys Factor\n",
    "Huang Rhys factor can be calculated by both\n",
    "\n",
    "$$ S = 1/2(\\Delta x / x_0)^2 \\tag{Turner}$$\n",
    "\n",
    "from the mode anharmonicity paper\n",
    "\n",
    "and \n",
    "\n",
    "$$ S = \\frac{m\\omega_{vib} \\Delta x^2}{2 \\hbar} \\tag{Hsu}$$\n",
    "\n",
    "from the polaritonic Huang-Rhys factor paper"
   ]
  },
  {
   "cell_type": "code",
   "execution_count": 8,
   "id": "c247fbde",
   "metadata": {
    "scrolled": true
   },
   "outputs": [
    {
     "name": "stdout",
     "output_type": "stream",
     "text": [
      "|g> and |e> HR Factor\n",
      "4.534250800412585\n",
      "4.534250800412586\n",
      "LP and UP HR Factor\n",
      "[[0.         0.         0.         0.         0.         0.\n",
      "  0.         0.00621982]]\n",
      "[[4.20460019 4.20460019 4.20460019 4.20460019 4.20460019 4.20460019\n",
      "  4.20460019 4.20460019]]\n"
     ]
    }
   ],
   "source": [
    "# Constants and Variables\n",
    "delta_au = (r_data[min_S1_loc] - r_data[min_S0_loc]) / psi4.constants.bohr2angstroms\n",
    "\n",
    "delta_LP_au = np.zeros((1,8))\n",
    "delta_UP_au = np.zeros((1,8))\n",
    "\n",
    "for i in range(8):\n",
    "    delta_LP_au[0,i] = (r_data[int(min_LP_array[0,i])] - r_data[min_S0_loc]) / psi4.constants.bohr2angstroms\n",
    "    delta_UP_au[0,i] = (r_data[int(min_UP_array[0,i])] - r_data[min_S0_loc]) / psi4.constants.bohr2angstroms\n",
    "\n",
    "\n",
    "delta_m = (r_data[min_S1_loc] - r_data[min_S0_loc]) * 10 ** (-10)\n",
    "delta_angstrom = (r_data[min_S1_loc] - r_data[min_S0_loc])\n",
    "omega_vib = np.sqrt(k_test_SI / mu_kg)\n",
    "h_bar = constants.hbar\n",
    "x0_test = np.sqrt(h_bar * omega_vib / k_test_SI)\n",
    "x0_test_au = (x0_test * 10 ** (10))  / psi4.constants.bohr2angstroms\n",
    "\n",
    "# Turner\n",
    "S_Turner = 0.5 * (delta_au / x0_test_au) ** 2\n",
    "\n",
    "# Hsu\n",
    "S_Hsu = mu_kg * omega_vib * delta_m ** 2 / (2 * h_bar)\n",
    "\n",
    "#g and LP \n",
    "\n",
    "HR_LP_array = np.zeros((1,8))\n",
    "HR_UP_array = np.zeros((1,8))\n",
    "\n",
    "for i in range(8):\n",
    "    HR_LP_array[0,i] = 0.5 * (delta_LP_au[0,i] / x0_test_au) ** 2\n",
    "    HR_UP_array[0,i] = 0.5 * (delta_UP_au[0,i] / x0_test_au) ** 2\n",
    "\n",
    "print('|g> and |e> HR Factor')\n",
    "print(S_Turner)\n",
    "print(S_Hsu)\n",
    "\n",
    "print('LP and UP HR Factor')\n",
    "print(HR_LP_array)\n",
    "print(HR_UP_array)\n",
    "\n",
    "\n",
    "df = pd.DataFrame(HR_UP_array.reshape(-1,1))\n",
    "df.to_clipboard()"
   ]
  },
  {
   "cell_type": "markdown",
   "id": "66994e19-bf39-4e81-9e46-b6ad75c797f9",
   "metadata": {},
   "source": [
    "First plot the ground-state potential energy surfaces for $ \\text{H2} $ inside and outisde the cavity.  The effect of the cavity will raise the energy slightly."
   ]
  },
  {
   "cell_type": "code",
   "execution_count": 10,
   "id": "be6ca631-25f0-4ed9-8701-682e1e336cd4",
   "metadata": {},
   "outputs": [
    {
     "data": {
      "image/png": "[encoded data removed]",
      "text/plain": [
       "<Figure size 640x480 with 1 Axes>"
      ]
     },
     "metadata": {},
     "output_type": "display_data"
    }
   ],
   "source": [
    "fci_S0_omega = np.zeros((1, N_R))\n",
    "for i in range(N_R):\n",
    "    fci_S0_omega[0,i] = S0_array[i] + 0.10636387689622495\n",
    "fci_S0_plusw = np.ndarray.flatten(fci_S0_omega)\n",
    "\n",
    "plt.plot(r_data, S0_array, 'r-', label='cavity free |g + $\\omega$>')\n",
    "plt.plot(r_data, S1_array, 'b-', label='cavity free |e>')\n",
    "\"\"\"for i in range(8):\n",
    "    plt.plot(r_data, LP_arrays[i,:])\n",
    "    plt.plot(r_data, UP_arrays[i,:])\n",
    "plt.xlabel('r (Angstrom)')\n",
    "plt.ylabel('E (Hartree)')\"\"\"\n",
    "\n",
    "\n",
    "#plt.xlim(1.5, 2)\n",
    "#plt.ylim(-7.76, -7.72)\n",
    "plt.legend()\n",
    "plt.savefig('ppsurfaces.png',dpi=500)\n",
    "#plt.show()"
   ]
  },
  {
   "cell_type": "code",
   "execution_count": 17,
   "id": "f892c384",
   "metadata": {},
   "outputs": [
    {
     "name": "stdout",
     "output_type": "stream",
     "text": [
      "0.10636387689622495\n",
      "1.606060606060606\n"
     ]
    }
   ],
   "source": [
    "#pd.DataFrame(matrix).to_clipboard()\n",
    "\n",
    "omega_test = np.abs(S1_array[40] - S0_array[40])\n",
    "print(omega_test)\n",
    "print(r_data[40])\n"
   ]
  },
  {
   "cell_type": "code",
   "execution_count": null,
   "id": "6d601c50",
   "metadata": {},
   "outputs": [],
   "source": []
  }
 ],
 "metadata": {
  "kernelspec": {
   "display_name": "Python 3 (ipykernel)",
   "language": "python",
   "name": "python3"
  },
  "language_info": {
   "codemirror_mode": {
    "name": "ipython",
    "version": 3
   },
   "file_extension": ".py",
   "mimetype": "text/x-python",
   "name": "python",
   "nbconvert_exporter": "python",
   "pygments_lexer": "ipython3",
   "version": "3.11.7"
  }
 },
 "nbformat": 4,
 "nbformat_minor": 5
}
