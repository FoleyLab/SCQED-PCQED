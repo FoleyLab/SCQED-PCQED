{
 "cells": [
  {
   "cell_type": "code",
   "execution_count": 1,
   "id": "4f7008d6",
   "metadata": {},
   "outputs": [],
   "source": [
    "# import libraries\n",
    "import numpy as np\n",
    "import sys\n",
    "import psi4\n",
    "from helper_PFCI import PFHamiltonianGenerator\n",
    "np.set_printoptions(threshold=sys.maxsize)\n",
    "psi4.core.set_output_file('output.dat', False)\n",
    "import time\n",
    "import json\n",
    "import matplotlib.pyplot as plt"
   ]
  },
  {
   "cell_type": "code",
   "execution_count": 2,
   "id": "1d9ee7a3",
   "metadata": {},
   "outputs": [
    {
     "name": "stdout",
     "output_type": "stream",
     "text": [
      "(100,)\n",
      "(100, 100, 3)\n"
     ]
    }
   ],
   "source": [
    "# read data from .npy files for formaldehyde casci(8,8) calculations\n",
    "\n",
    "# !!! Change this to the correct path on your computer!\n",
    "npy_folder = \"/Users/rmandern/code/SCQED-PCQED/data/\"\n",
    "\n",
    "# these file names should still be good\n",
    "E_npy_file = npy_folder + \"HHep_fci_cc_pVDZ_Energies.npy\"\n",
    "Mu_npy_file = npy_folder + \"HHep_fci_cc_pVDZ_Dipoles.npy\"\n",
    "\n",
    "# store energy eigenvalues in E_array \n",
    "E_array = np.load(E_npy_file)\n",
    "# store dipole matrix elements in Mu_array\n",
    "Mu_array = np.load(Mu_npy_file)\n",
    "\n",
    "\n",
    "print(np.shape(E_array))\n",
    "print(np.shape(Mu_array))\n",
    "# print(Mu_array[1,1,:,:])\n",
    "# print(E_array)\n",
    "# print(Mu_array)"
   ]
  },
  {
   "cell_type": "code",
   "execution_count": 16,
   "id": "1e390828-f7cd-4bb5-95a9-928264cd7076",
   "metadata": {},
   "outputs": [
    {
     "data": {
      "text/plain": [
       "True"
      ]
     },
     "execution_count": 16,
     "metadata": {},
     "output_type": "execute_result"
    }
   ],
   "source": [
    "trans = np.transpose(Mu_array, (1,0,2))\n",
    "\n",
    "np.allclose(Mu_array,trans)"
   ]
  },
  {
   "cell_type": "code",
   "execution_count": 15,
   "id": "72da23d2-8008-4525-a4e1-f7b805ea7db1",
   "metadata": {},
   "outputs": [
    {
     "name": "stdout",
     "output_type": "stream",
     "text": [
      "[-4.13614545e-16  4.87655225e-17 -6.02173068e-16]\n",
      "[-1.57169729e-15 -1.10470716e-17 -1.13475301e-01]\n"
     ]
    }
   ],
   "source": [
    "UT = np.triu(Mu_array, k=0)  # k=0 means not including main diagional, k =-1 including main diagional. \n",
    "LT = np.tril(Mu_array, k=0)\n",
    "\n",
    "# print(np.ndim(UT))\n",
    "print(LT[4,6])\n",
    "print(UT[10,0])"
   ]
  },
  {
   "cell_type": "code",
   "execution_count": null,
   "id": "df004c4c",
   "metadata": {},
   "outputs": [],
   "source": [
    "# setup basic arguments to create an instance of the PFHamiltonianGenerator class\n",
    "mol_str = \"\"\"          \n",
    "    H            \n",
    "    He 1 0.776011            \n",
    "    1 1\n",
    "    symmetry c1  \n",
    "\"\"\"\n",
    "\n",
    "\n",
    "options_dict = {\n",
    "    \"basis\": \"cc-pVDZ\",\n",
    "    \"scf_type\": \"pk\",\n",
    "    \"e_convergence\": 1e-10,\n",
    "    \"d_convergence\": 1e-10,\n",
    "}\n",
    "\n",
    "\n",
    "cavity_free_dict = {\n",
    "    'omega_value' : 0.9760568251,\n",
    "    'lambda_vector' : np.array([0, 0, 0.01]),\n",
    "    'ci_level' : 'fci',   \n",
    "    'full_diagonalization' : True,\n",
    "    'number_of_photons' : 0, \n",
    "}\n",
    "\n",
    "# create the instance of our PFHamiltonianGenerator class\n",
    "instance = PFHamiltonianGenerator(mol_str, options_dict, cavity_free_dict)"
   ]
  },
  {
   "cell_type": "code",
   "execution_count": null,
   "id": "956160c5-fc18-4410-be2a-4cba8e4bc4bb",
   "metadata": {},
   "outputs": [],
   "source": [
    "print(E_array)"
   ]
  },
  {
   "cell_type": "code",
   "execution_count": null,
   "id": "a75ffe5e-d6a3-4f8f-8f11-a455401cd884",
   "metadata": {},
   "outputs": [],
   "source": [
    "# Define the range and increment\n",
    "start = 0.025\n",
    "stop = 0.1\n",
    "increment = 0.005\n",
    "\n",
    "# Create the array using numpy's arange function\n",
    "lambda_array = np.arange(start, stop + increment, increment)\n",
    "# print(lambda_array)\n",
    "# print(len(lambda_array))\n",
    "\n",
    "\n",
    "N_l = len(lambda_array)\n",
    "N_el = 60\n",
    "N_ph = 10\n",
    "omega = 0.9760568251\n",
    "\n",
    "# create an array of zeros to store the PCQED eigenvalues for each value of d\n",
    "_pcqed_22 = np.zeros((N_l, N_el * N_ph))\n",
    "\n",
    "ctr = 0\n",
    "# loop over the lambda values\n",
    "for i, lambda_val in enumerate(lambda_array):\n",
    "    lambda_vector = np.array([0, 0, lambda_val])\n",
    "    instance.fast_build_pcqed_pf_hamiltonian(N_el, N_ph, omega, lambda_vector, E_array, Mu_array)      # E_array[:,ctr]: 20 energy values for fisrt displacement and so on... \n",
    "    _pcqed_22[ctr, :] = instance.PCQED_pf_eigs\n",
    "    ctr += 1\n"
   ]
  },
  {
   "cell_type": "code",
   "execution_count": null,
   "id": "d68b0a05-02cb-4498-be5d-be7286925a93",
   "metadata": {},
   "outputs": [],
   "source": [
    "# Saving energies in numpy array form\n",
    "E_pcqed_array = np.array(_pcqed_22)\n",
    "\n",
    "# Making list from the array\n",
    "E_list = E_pcqed_array.tolist()\n",
    "\n",
    "# Making list of lambda value from array\n",
    "lamda_val = lambda_array.tolist()\n",
    "\n",
    "# Giving [x, y, z] form to the list\n",
    "lambda_values = [[0, 0, round(val,3)] for val in lamda_val]\n",
    "\n",
    "# set up base dictionary - some of this will be updated with each calculation\n",
    "dictionary = {   \n",
    "    \"molecule\": {\n",
    "        \"molecule_name\": \"HHe+\",\n",
    "        \"geometry\": [\n",
    "            \"\\nH       \\nHE            1    0.776011\\n1 1\\nsymmetry c1\\n\"\n",
    "        ],\n",
    "        \"symbols\": [\n",
    "            \"H\",\n",
    "            \"He\"\n",
    "        ]\n",
    "    },\n",
    "       \n",
    "        \"basis_set\" : \"cc-pVDZ\",\n",
    "        \"Photon basis\" : \"photon_number_basis\", \n",
    "        \"Number Photon States\" : 10,\n",
    "        \"driver\": \"energy\",\n",
    "        \"method\" : \"PCQED\",\n",
    "        \"lambda\" : lambda_values\n",
    "                        ,\n",
    "         \"omega_value\" : '0.9760568251',\n",
    "    \n",
    "        \"return_result\" : E_list,\n",
    "}\n",
    "\n",
    "\n",
    "# function to generate file names based on system details\n",
    "def generate_file_name(dic):\n",
    "    \n",
    "    file_name = dic[\"molecule\"][\"molecule_name\"] + \"_\"\n",
    "    file_name += str(dictionary[\"basis_set\"]) + \"_\"\n",
    "    file_name += str(dictionary[\"method\"]) + \"_\"\n",
    "    file_name += str(dictionary[\"Number Photon States\"]) + \"_\"\n",
    "    file_name += str(dictionary[\"omega_value\"]) + \".json\"\n",
    "    return file_name"
   ]
  },
  {
   "cell_type": "code",
   "execution_count": null,
   "id": "8a7efe03-8881-4ccd-bc97-78359bc42a3c",
   "metadata": {},
   "outputs": [],
   "source": [
    "# write to json file\n",
    "file_name = generate_file_name(dictionary)\n",
    "json_object = json.dumps(dictionary, indent=4)\n",
    "with open(file_name, \"w\") as outfile:\n",
    "    outfile.write(json_object)"
   ]
  },
  {
   "cell_type": "code",
   "execution_count": null,
   "id": "43a7b536-f530-4774-8ba0-afadc1e80668",
   "metadata": {},
   "outputs": [],
   "source": [
    "# dim = np.ndim(_pcqed_22)\n",
    "# print(np.shape(_pcqed_22))\n",
    "# print(np.shape(_pcqed_22[1,:]))\n",
    "# print(np.ndim(_pcqed_22[:,1]))\n",
    "# print(_pcqed_22)\n",
    "# print(_pcqed_22[0,:])\n",
    "print(_pcqed_22[:,0])\n"
   ]
  },
  {
   "cell_type": "code",
   "execution_count": null,
   "id": "d38628df-f8c9-4bf2-8624-e1a24fc4f8d4",
   "metadata": {},
   "outputs": [],
   "source": [
    "from matplotlib import cm\n",
    "from matplotlib import rcParams\n",
    "\n",
    "\n",
    "\n",
    "# plt.plot(lambda_array, _pcqed_22[:,0],'k-', marker=\"*\", label= \"Ground State\")\n",
    "# plt.plot(lambda_array, _pcqed_22[:,1], 'm-', marker=\"*\",label = \"1st excited state\")\n",
    "plt.plot(lambda_array, _pcqed_22[:,2],'b-', marker=\"*\", label = \"LP(2nd state-cc-pVDZ)\")\n",
    "plt.plot(lambda_array, _pcqed_22[:,3],'r-', marker=\"*\", label = \"UP(3rd state-cc-pVDZ)\")\n",
    "plt.legend()\n",
    "plt.ylabel('Energy (Hartrees)')\n",
    "plt.xlabel('Coupling Strength')\n",
    "\n",
    "plt.savefig(\"Energy vs Coupling strength for cc-pVDZ zoomedlambda_0dot1\", dpi=150,bbox_inches='tight')\n",
    "rcParams['font.family'] = 'serif'\n",
    "rcParams['font.size'] = 10\n",
    "# plt.gca().yaxis.set_major_formatter('{:.12f}'.format)\n",
    "#plt.plot(A0_list, e4, label = \"E4\")\n",
    "plt.title(\"Energy vs Coupling strength (0.1)\")\n",
    "plt.show()"
   ]
  },
  {
   "cell_type": "code",
   "execution_count": null,
   "id": "337235ba-c3b4-469b-b27d-e73508c51f5e",
   "metadata": {},
   "outputs": [],
   "source": []
  },
  {
   "cell_type": "code",
   "execution_count": null,
   "id": "6a4ca4bd-8776-4ede-8814-5d9e0f8045e4",
   "metadata": {},
   "outputs": [],
   "source": [
    "import json\n",
    "\n",
    "E_pcqed_array = np.array(_pcqed_22)\n",
    "# E_list = E_pcqed_array.tolist()\n",
    "# np.save(\"HeHp_cc-pVDZ-PCQED\" + str(lambda_array[i]).replace(\".\", \"_\") , E_pcqed_array)\n",
    "E_list = E_pcqed_array.tolist()\n",
    "# print(E_list)\n",
    "# Create an empty dictionary to store energy arrays for different lambda values\n",
    "energy_arrays = {}\n",
    "\n",
    "# Iterate over lambda_array\n",
    "for i, lambda_val in enumerate(lambda_array):\n",
    "    # Construct key for the energy array corresponding to lambda_val\n",
    "    key = \"energy_array_\" + str(lambda_val).replace(\".\", \"_\")\n",
    "    \n",
    "    # Store the energy array in the dictionary\n",
    "    energy_arrays[key] = E_list\n",
    "# print(energy_arrays)\n",
    "# Construct the main dictionary\n",
    "dictionary = {\n",
    "    \"molecule\": {\n",
    "        \"molecule_name\": \"HHe+\",\n",
    "        \"geometry\": [\n",
    "            \"\\nH       \\nHe            1    0.776011\\n1 1\\nsymmetry c1\\n\"\n",
    "        ],\n",
    "        \"symbols\": [\n",
    "            \"H\",\n",
    "            \"He\"\n",
    "        ]\n",
    "    },\n",
    "    \"omega_value\": '0.9760568251',\n",
    "    \"basis_set\": \"cc-pVDZ\",\n",
    "    \"Photon_basis\": \"photon_number_basis\",\n",
    "    \"Number_Photon_States\": 10,\n",
    "    \"energy_arrays\": energy_arrays  \n",
    "}\n",
    "\n",
    "# Save the dictionary as JSON\n",
    "file_name = \"HeHp_cc-pVDZ-PCQED-10-omega-0.9760568251\"\n",
    "json_object = json.dumps(dictionary, indent=4)\n",
    "with open(file_name + \".json\", \"w\") as outfile:\n",
    "    outfile.write(json_object)\n"
   ]
  },
  {
   "cell_type": "code",
   "execution_count": null,
   "id": "3c5f9390-9e07-4dff-9669-da5d48b6fdea",
   "metadata": {},
   "outputs": [],
   "source": [
    "# # Define the range and increment\n",
    "# start = 0.0\n",
    "# stop = 0.02\n",
    "# increment = 0.001\n",
    "\n",
    "# # Create the array using numpy's arange function\n",
    "# lambda_array = np.arange(start, stop + increment, increment)\n",
    "# print(lambda_array)\n",
    "# print(len(lambda_array))\n",
    "\n",
    "\n",
    "# N_R = 21\n",
    "# d_array = np.linspace(1.4,2.2,N_R)\n",
    "# N_l = len(lambda_array)\n",
    "# N_el = 10\n",
    "# N_ph = 2\n",
    "# omega = 0.9760568251\n",
    "\n",
    "# # create an array of zeros to store the PCQED eigenvalues for each value of d\n",
    "# _pcqed_22 = np.zeros((len(lambda_array),N_l, N_el * N_ph))\n",
    "\n",
    "# # loop over the lambda values\n",
    "# for i, lambda_val in enumerate(lambda_array):\n",
    "#     lambda_vector = np.array([0, 0, lambda_val])\n",
    "#     ctr = 0\n",
    "#     for d in d_array:\n",
    "#         instance.fast_build_pcqed_pf_hamiltonian(N_el, N_ph, omega, lambda_vector , E_array[:,ctr], Mu_array[:,:,:,ctr])      # E_array[:,ctr]: 20 energy values for fisrt displacement and so on... \n",
    "#         _pcqed_22[ctr, :] = instance.PCQED_pf_eigs\n",
    "#         ctr += 1\n"
   ]
  },
  {
   "cell_type": "code",
   "execution_count": null,
   "id": "185e5812",
   "metadata": {},
   "outputs": [],
   "source": []
  },
  {
   "cell_type": "code",
   "execution_count": null,
   "id": "dfaa8b50-25ca-4bf4-8794-330e00c86c19",
   "metadata": {},
   "outputs": [],
   "source": []
  },
  {
   "cell_type": "code",
   "execution_count": null,
   "id": "9c74bbd9-5754-422e-ac40-eb1e815e2c1e",
   "metadata": {},
   "outputs": [],
   "source": []
  }
 ],
 "metadata": {
  "kernelspec": {
   "display_name": "Python 3 (ipykernel)",
   "language": "python",
   "name": "python3"
  },
  "language_info": {
   "codemirror_mode": {
    "name": "ipython",
    "version": 3
   },
   "file_extension": ".py",
   "mimetype": "text/x-python",
   "name": "python",
   "nbconvert_exporter": "python",
   "pygments_lexer": "ipython3",
   "version": "3.9.18"
  }
 },
 "nbformat": 4,
 "nbformat_minor": 5
}
