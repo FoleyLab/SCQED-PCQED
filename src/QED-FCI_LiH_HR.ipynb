{
 "cells": [
  {
   "cell_type": "code",
   "execution_count": 1,
   "id": "57746595",
   "metadata": {},
   "outputs": [
    {
     "name": "stderr",
     "output_type": "stream",
     "text": [
      "/var/folders/ss/883k4s4x7qj7sr5ypdpszg9n7510f8/T/ipykernel_98391/4003142107.py:13: DeprecationWarning: \n",
      "Pyarrow will become a required dependency of pandas in the next major release of pandas (pandas 3.0),\n",
      "(to allow more performant data types, such as the Arrow string type, and better interoperability with other libraries)\n",
      "but was not found to be installed on your system.\n",
      "If this would cause problems for you,\n",
      "please provide us feedback at https://github.com/pandas-dev/pandas/issues/54466\n",
      "        \n",
      "  import pandas as pd\n"
     ]
    }
   ],
   "source": [
    "# import libraries\n",
    "import numpy as np\n",
    "import sys\n",
    "import psi4\n",
    "from helper_PFCI import PFHamiltonianGenerator\n",
    "np.set_printoptions(threshold=sys.maxsize)\n",
    "import scipy\n",
    "from scipy.optimize import curve_fit\n",
    "from scipy import interpolate\n",
    "from matplotlib import pyplot as plt\n",
    "from scipy import constants\n",
    "from numpy.polynomial import Polynomial\n",
    "import pandas as pd"
   ]
  },
  {
   "cell_type": "code",
   "execution_count": 2,
   "id": "a93e9eea",
   "metadata": {},
   "outputs": [
    {
     "name": "stdout",
     "output_type": "stream",
     "text": [
      "1000\n"
     ]
    }
   ],
   "source": [
    "array_data = \"/Users/ptolley1/Documents/Github/SCQED-PCQED/array_data\"\n",
    "cavity_E_array_0_00_T = np.load(array_data + \"/LiH/fci_cavity_arrays_LiH_6311G0.npy\").T\n",
    "cavity_E_array_0_001_T = np.load(array_data + \"/LiH/fci_cavity_arrays_LiH_6311G0_001.npy\").T\n",
    "cavity_E_array_0_005_T = np.load(array_data + \"/LiH/fci_cavity_arrays_LiH_6311G0_005.npy\").T\n",
    "cavity_E_array_0_01_T = np.load(array_data + \"/LiH/fci_cavity_arrays_LiH_6311G0_01.npy\").T\n",
    "cavity_E_array_0_02_T = np.load(array_data + \"/LiH/fci_cavity_arrays_LiH_6311G0_02.npy\").T\n",
    "cavity_E_array_0_03_T = np.load(array_data + \"/LiH/fci_cavity_arrays_LiH_6311G0_03.npy\").T\n",
    "cavity_E_array_0_04_T = np.load(array_data + \"/LiH/fci_cavity_arrays_LiH_6311G0_04.npy\").T\n",
    "cavity_E_array_0_05_T = np.load(array_data + \"/LiH/fci_cavity_arrays_LiH_6311G0_05.npy\").T\n",
    "r_data = np.load(array_data + \"/LiH/fci_r_array_LiH.npy\")\n",
    "N_R = r_data.shape[0]\n",
    "print(N_R)"
   ]
  },
  {
   "cell_type": "markdown",
   "id": "3edaef63",
   "metadata": {},
   "source": [
    "## Calculation of k\n",
    "Fit ground state PES of H2 to a quintic polynomial"
   ]
  },
  {
   "cell_type": "code",
   "execution_count": 3,
   "id": "8c6c4263",
   "metadata": {},
   "outputs": [],
   "source": [
    "import warnings\n",
    "def declutter_E_array(E_array, r_data, discontinuity_threshold_std = 1, energy_diff_threshold_std = 2,  num_to_declutter = 2):\n",
    "    E_array = np.copy(E_array)\n",
    "    new_E_array = np.zeros_like(E_array)\n",
    "    for i in range(0,num_to_declutter):\n",
    "        previous_intersection = 0\n",
    "        for z in range(0,50):\n",
    "            for j in range(i+1, E_array.shape[1]):\n",
    "                array1 = E_array[:, i]\n",
    "                array2 = E_array[:, j]\n",
    "                #Only want array from previous intersection so it doesnt get recrossed\n",
    "                array1_from_previous_intersection = array1[previous_intersection:]\n",
    "                array2_from_previous_intersection = array2[previous_intersection:]\n",
    "                #trying to determine how close two energy surfaces get, if they get very close this some evidence that they crossover\n",
    "                diff_array1 = np.diff(array1_from_previous_intersection)\n",
    "                diff_array2 = np.diff(array2_from_previous_intersection)\n",
    "                std1 = np.std(np.abs(diff_array1))\n",
    "                mean1 = np.mean(np.abs(diff_array1))\n",
    "                std2 = np.std(np.abs(diff_array2))\n",
    "                mean2 = np.mean(np.abs(diff_array2))\n",
    "                energy_diff_threshold = ((mean1 + mean2)/2) + (((std1+std2)/2) * energy_diff_threshold_std)\n",
    "                #find closest points\n",
    "                #print(np.abs(np.abs(array1[previous_intersection:]) - np.abs(array2[previous_intersection:])))\n",
    "                closest_indices =np.where(np.abs(np.abs(array1[previous_intersection:]) - np.abs(array2[previous_intersection:])) < energy_diff_threshold)\n",
    "                try:\n",
    "                    #use discontinuties in second derivative, discontinutities defined using standard deviation\n",
    "                    dy_1 = np.abs(np.gradient(np.gradient(array1_from_previous_intersection, r_data[previous_intersection:], edge_order = 2), r_data[previous_intersection:], edge_order = 2))\n",
    "                    std = np.std(abs(np.diff(dy_1)))\n",
    "                    mean = np.mean(abs(np.diff(dy_1)))\n",
    "                    discontinuity_threshold =  mean + (std*discontinuity_threshold_std)\n",
    "                    idx_1 = np.where(abs(np.diff(dy_1)) >  discontinuity_threshold)[0]+2\n",
    "                    dy_2= np.abs(np.gradient(np.gradient(array2_from_previous_intersection, r_data[previous_intersection:], edge_order=2), r_data[previous_intersection:], edge_order=2))\n",
    "                    std = np.std(abs(np.diff(dy_2)))\n",
    "                    mean = np.mean(abs(np.diff(dy_2)))\n",
    "                    discontinuity_threshold =  mean + (std*discontinuity_threshold_std)\n",
    "                    idx_2 = np.where(abs(np.diff(dy_2)) > discontinuity_threshold)[0]+2\n",
    "                    if (len(idx_1)!= 0 and len(idx_2) != 0 ):\n",
    "                        mask_idx1_idx2 = np.isin(idx_1, idx_2)\n",
    "                        indices_idx1_in_idx2 = np.where(mask_idx1_idx2)[0]\n",
    "                        indices_idx1_in_idx2 = idx_1[indices_idx1_in_idx2]\n",
    "                        # indices_idx1_in_idx2  = indices_idx1_in_idx2[ending_index:]\n",
    "                        # starting_index=ending_index\n",
    "                        # ending_index = starting_index\n",
    "                        starting_index = 0\n",
    "                        ending_index = 0\n",
    "                        for elem_index in range(len(indices_idx1_in_idx2)-1):\n",
    "                            #print(\"ayo: \", abs((indices_idx1_in_idx2[elem_index]) - (indices_idx1_in_idx2[elem_index+1])))\n",
    "                            if abs((indices_idx1_in_idx2[elem_index]) - (indices_idx1_in_idx2[elem_index+1])) < 25 :\n",
    "                                ending_index = ending_index+1\n",
    "                            else:\n",
    "                                break\n",
    "                        indices_idx1_in_idx2 = indices_idx1_in_idx2[starting_index:ending_index]\n",
    "                        if(len(indices_idx1_in_idx2) != 0 ):\n",
    "                            mask_discontinuties_energydiff = np.isin(indices_idx1_in_idx2, closest_indices)\n",
    "                            indices_discontinuties_in_energydiff = np.where(mask_discontinuties_energydiff)[0]\n",
    "                            #print(indices_discontinuties_in_energydiff)\n",
    "                            #print(indices_discontinuties_in_energydiff)\n",
    "                            if len(indices_discontinuties_in_energydiff) != 0 :\n",
    "                                for k in range(len(indices_discontinuties_in_energydiff) - 1):\n",
    "                                    idx = indices_idx1_in_idx2[indices_discontinuties_in_energydiff[k]]+ previous_intersection\n",
    "                                    #print(idx)\n",
    "                                    array1_copy = np.array(array1, copy=True)\n",
    "                                    array1 = np.concatenate([array1[:idx],  array2[idx:idx+1], array1[idx+1:]])\n",
    "                                    array2 = np.concatenate([array2[:idx] , array1_copy[idx:idx+1], array2[idx+1:]])\n",
    "                                    E_array[:,i] = array1\n",
    "                                    E_array[:,j] = array2\n",
    "                                idx = indices_idx1_in_idx2[indices_discontinuties_in_energydiff[-1]]+ previous_intersection\n",
    "                                #print(idx)\n",
    "                                array1_copy = np.array(array1, copy=True)\n",
    "                                array1 = np.concatenate([array1[:idx],  array2[idx:]])\n",
    "                                array2 =np.concatenate([array2[:idx] , array1_copy[idx:]])\n",
    "                                #print(indices_idx1_in_idx2)\n",
    "                                fitting_distance=10\n",
    "                                if abs(indices_idx1_in_idx2[-1] - indices_idx1_in_idx2[0]) < fitting_distance:\n",
    "                                    array1 = array1.tolist()\n",
    "                                    array2 = array2.tolist()\n",
    "                                    r_data_list = r_data.tolist()\n",
    "                                    #fitting region\n",
    "                                    end_discontinuity = indices_idx1_in_idx2[indices_discontinuties_in_energydiff[-1]]+ previous_intersection\n",
    "                                    start_discontinuity = indices_idx1_in_idx2[indices_discontinuties_in_energydiff[0]]+ previous_intersection\n",
    "                                    fit_E_data_end = min(end_discontinuity+fitting_distance, len(array1))\n",
    "                                    fit_E_data_start= max(start_discontinuity-fitting_distance, 0)\n",
    "                                    # print(fit_E_data_start)\n",
    "                                    # print(fit_E_data_end)\n",
    "                                    fitting_E_data = array1[fit_E_data_start: start_discontinuity] + array1[end_discontinuity: fit_E_data_end]\n",
    "                                    fitting_r_data = r_data_list[fit_E_data_start: start_discontinuity] + r_data_list[end_discontinuity:fit_E_data_end]\n",
    "                                    with warnings.catch_warnings():\n",
    "                                        warnings.simplefilter(\"ignore\")\n",
    "                                        poly = np.poly1d(np.polyfit(fitting_r_data, fitting_E_data, 12))\n",
    "                                    r_data_fitting_list =  r_data_list[fit_E_data_start:fit_E_data_end]\n",
    "                                    polyvals = np.polyval(np.asarray(poly),r_data_fitting_list )\n",
    "                                    array1 = array1[:fit_E_data_start] + polyvals.tolist() + array1[fit_E_data_end:]\n",
    "                                    fitting_E_data = array2[fit_E_data_start: start_discontinuity] + array2[end_discontinuity: fit_E_data_end]\n",
    "                                    fitting_r_data = r_data_list[fit_E_data_start: start_discontinuity] + r_data_list[end_discontinuity:fit_E_data_end]\n",
    "                                    with warnings.catch_warnings():\n",
    "                                        warnings.simplefilter(\"ignore\")\n",
    "                                        poly = np.poly1d(np.polyfit(fitting_r_data, fitting_E_data, 12))\n",
    "                                    r_data_fitting_list =  r_data_list[fit_E_data_start:fit_E_data_end]\n",
    "                                    polyvals = np.polyval(np.asarray(poly),r_data_fitting_list )\n",
    "                                    array2 = array2[:fit_E_data_start] + polyvals.tolist() + array2[fit_E_data_end:]\n",
    "                                E_array[:,i] = array1\n",
    "                                E_array[:,j] = array2\n",
    "                                previous_intersection = idx\n",
    "                except():\n",
    "                    print(\"uh oh\")\n",
    "        new_E_array[:,i ] = E_array[:,i]\n",
    "    return new_E_array"
   ]
  },
  {
   "cell_type": "code",
   "execution_count": 4,
   "id": "a58e1aa9",
   "metadata": {},
   "outputs": [
    {
     "data": {
      "image/png": "[encoded data removed]",
      "text/plain": [
       "<Figure size 640x480 with 1 Axes>"
      ]
     },
     "metadata": {},
     "output_type": "display_data"
    },
    {
     "data": {
      "image/png": "[encoded data removed]",
      "text/plain": [
       "<Figure size 640x480 with 1 Axes>"
      ]
     },
     "metadata": {},
     "output_type": "display_data"
    }
   ],
   "source": [
    "plt.plot(np.gradient(cavity_E_array_0_03_T[:, 1], r_data, edge_order=2))\n",
    "plt.plot(np.gradient(cavity_E_array_0_03_T[:, 2], r_data, edge_order=2))\n",
    "plt.show()\n",
    "plt.plot( r_data, np.gradient(np.gradient(cavity_E_array_0_03_T[:, 1], r_data, edge_order=2), r_data, edge_order=2))\n",
    "plt.plot( r_data, np.gradient( np.gradient(np.gradient(cavity_E_array_0_03_T[:, 2], r_data, edge_order=2), r_data, edge_order=2)) )\n",
    "plt.show()"
   ]
  },
  {
   "cell_type": "code",
   "execution_count": 5,
   "id": "ebabfe84",
   "metadata": {},
   "outputs": [],
   "source": [
    "for i in range(4):\n",
    "    cavity_E_array_0_00  = declutter_E_array(cavity_E_array_0_00_T, r_data, 1.5, 1,num_to_declutter=9)\n",
    "    cavity_E_array_0_001  = declutter_E_array(cavity_E_array_0_001_T, r_data, 1.5, 1,num_to_declutter=9)\n",
    "    cavity_E_array_0_005  = declutter_E_array(cavity_E_array_0_005_T, r_data, 1.5, 1,num_to_declutter=9)\n",
    "    cavity_E_array_0_01  = declutter_E_array(cavity_E_array_0_01_T, r_data, 1.5, 1,num_to_declutter=9)\n",
    "    cavity_E_array_0_02  = declutter_E_array(cavity_E_array_0_02_T, r_data, 1.5, 1,num_to_declutter=9)\n",
    "    cavity_E_array_0_03  = declutter_E_array(cavity_E_array_0_03_T, r_data, 1.5, 1,num_to_declutter=9)\n",
    "    cavity_E_array_0_04  = declutter_E_array(cavity_E_array_0_04_T, r_data, 1.5, 1,num_to_declutter=9)\n",
    "    cavity_E_array_0_05  = declutter_E_array(cavity_E_array_0_05_T, r_data, 1.5, 1,num_to_declutter=9)\n"
   ]
  },
  {
   "cell_type": "code",
   "execution_count": 6,
   "id": "9a682bbf",
   "metadata": {},
   "outputs": [],
   "source": [
    "S0_array = cavity_E_array_0_00[:,0]\n",
    "S1_array = cavity_E_array_0_00[:,3]\n",
    "\n",
    "\n",
    "LP_arrays = np.array([cavity_E_array_0_00[:,2], \n",
    "            cavity_E_array_0_001[:,2],\n",
    "            cavity_E_array_0_005[:,2],\n",
    "            cavity_E_array_0_01[:,2],\n",
    "            cavity_E_array_0_02[:,2],\n",
    "            cavity_E_array_0_03[:,2],\n",
    "            cavity_E_array_0_04[:,2],\n",
    "            cavity_E_array_0_05[:,2]]\n",
    "             )\n",
    "\n",
    "UP_arrays = np.array([cavity_E_array_0_00[:,3],\n",
    "            cavity_E_array_0_001[:,3],\n",
    "            cavity_E_array_0_005[:,3],\n",
    "            cavity_E_array_0_01[:,3],\n",
    "            cavity_E_array_0_02[:,3],\n",
    "            cavity_E_array_0_03[:,3],\n",
    "            cavity_E_array_0_04[:,3],\n",
    "            cavity_E_array_0_05[:,3]]\n",
    "             )"
   ]
  },
  {
   "cell_type": "code",
   "execution_count": 24,
   "id": "17ea8b98",
   "metadata": {},
   "outputs": [
    {
     "name": "stdout",
     "output_type": "stream",
     "text": [
      "Min on S0 is 1.6286286286286287\n",
      "Min on S1 is 2.4374374374374375\n",
      "           14             13             12           11            10\n",
      "4.423e-06 x  - 9.543e-05 x  + 0.0008749 x  - 0.00418 x  + 0.008716 x \n",
      "            9          8         7          6        5         4\n",
      " + 0.01217 x - 0.1171 x + 0.181 x + 0.7381 x - 4.65 x + 12.57 x\n",
      "          3         2\n",
      " - 20.91 x + 22.45 x - 14.62 x - 3.588\n",
      "92.70927762145084\n"
     ]
    },
    {
     "name": "stderr",
     "output_type": "stream",
     "text": [
      "/var/folders/ss/883k4s4x7qj7sr5ypdpszg9n7510f8/T/ipykernel_98391/3402429172.py:21: RankWarning: Polyfit may be poorly conditioned\n",
      "  poly = np.poly1d(np.polyfit(r_data, S0_array, 14))\n"
     ]
    },
    {
     "data": {
      "text/plain": [
       "<function matplotlib.pyplot.show(close=None, block=None)>"
      ]
     },
     "execution_count": 24,
     "metadata": {},
     "output_type": "execute_result"
    },
    {
     "data": {
      "image/png": "[encoded data removed]",
      "text/plain": [
       "<Figure size 640x480 with 1 Axes>"
      ]
     },
     "metadata": {},
     "output_type": "display_data"
    }
   ],
   "source": [
    "\n",
    "min_S0_loc = np.argmin(S0_array[:])\n",
    "min_S1_loc = np.argmin(S1_array[:])\n",
    "\n",
    "min_LP_array = np.zeros((1,8))\n",
    "min_UP_array = np.zeros((1,8))\n",
    "\n",
    "for i in range(8):\n",
    "    min_LP_array[0,i] = np.argmin(LP_arrays[i])\n",
    "    min_UP_array[0,i] = np.argmin(UP_arrays[i])\n",
    "\n",
    "\n",
    "\n",
    "r_eq_ang = r_data[min_S0_loc]\n",
    "print(f'Min on S0 is {r_data[min_S0_loc]}')\n",
    "print(f'Min on S1 is {r_data[min_S1_loc]}')\n",
    "#print(f'Min on LP is {r_data[min_LP_loc]}')\n",
    "#print(f'Min on UP is {r_data[min_UP_loc]}')\n",
    "\n",
    "# Fitting S0 PES to a quintic polynomial\n",
    "au_to_SI = (4.35974 * 10 ** (-18)) * 10 ** 20\n",
    "poly = np.poly1d(np.polyfit(r_data, S0_array, 8))\n",
    "fit, res, _, _, _ = np.polyfit(r_data, S0_array, 8, full=True)\n",
    "print(poly)\n",
    "\n",
    "#Taking first and second derivative of S0 PES and evaluating at r_eq\n",
    "first_derivative = poly.deriv()\n",
    "second_derivative = first_derivative.deriv()\n",
    "k_test_au = second_derivative(r_eq_ang)\n",
    "k_test_SI = k_test_au * au_to_SI\n",
    "print(k_test_SI)\n",
    "\n",
    "#plotting S0 PES and quintic fit\n",
    "plt.plot(r_data, poly(r_data), 'm-', label='fit')\n",
    "plt.plot(r_data, S0_array[:], 'bo', label='cavity free |g>')\n",
    "plt.show"
   ]
  },
  {
   "cell_type": "code",
   "execution_count": 25,
   "id": "916fbfe8",
   "metadata": {},
   "outputs": [
    {
     "name": "stdout",
     "output_type": "stream",
     "text": [
      "[]\n"
     ]
    }
   ],
   "source": [
    "for i in range(N_R):\n",
    "    residuals = (S0_array[i] - poly(r_data[i])) ** 2\n",
    "DOF = N_R - 1\n",
    "std_dev = np.sqrt(res / DOF)\n",
    "print(std_dev)"
   ]
  },
  {
   "cell_type": "markdown",
   "id": "2c595ad2",
   "metadata": {},
   "source": [
    "## Calculation of $ \\text{x}_0 $\n",
    "\n",
    "$$ \\frac{\\hbar}{2}\\sqrt{\\frac{k}{\\mu}} = \\frac{k}{2}(x_0 - x_{eq})^2 + V_0 $$\n",
    "\n",
    "Expanded, solved for $ x_o $, and found zeros using quadratic formula"
   ]
  },
  {
   "cell_type": "code",
   "execution_count": null,
   "id": "5e921ac8",
   "metadata": {},
   "outputs": [],
   "source": [
    "mu_amu = 1.00784 * 1.00784 / (1.00784 + 1.00784)\n",
    "mu_kg = mu_amu  * 10 ** (-3) / (6.022 * 10 ** 23) \n",
    "r_eq_SI = r_eq_ang * 10 ** (-10)\n",
    "h_bar = constants.hbar\n",
    "V_0_loc = np.argmin(S0_array)\n",
    "V_0 = S0_array[V_0_loc] * 4.35974 * 10 ** (-18)\n",
    "left = (h_bar / 2) * np.sqrt(k_test_SI / mu_kg)\n",
    "a = 0.5 * k_test_SI \n",
    "b = -k_test_SI * r_eq_SI\n",
    "c = 0.5 * k_test_SI * (r_eq_SI ** 2) - left\n",
    "zeros_n = (-b - np.sqrt((b ** 2) - 4 * a * c)) / (2 * a)\n",
    "zeros_p = (-b + np.sqrt((b ** 2) - 4 * a * c)) / (2 * a)\n",
    "x0_angstrom = zeros_n * 10 ** 10\n",
    "x0_au = x0_angstrom / psi4.constants.bohr2angstroms\n",
    "print(x0_angstrom)\n",
    "for i in range(8):\n",
    "    print(r_data[[int(min_UP_array[0,i])]])"
   ]
  },
  {
   "cell_type": "markdown",
   "id": "378388b2",
   "metadata": {},
   "source": [
    "## Calculation of the Huang-Rhys Factor\n",
    "Huang Rhys factor can be calculated by both\n",
    "\n",
    "$$ S = 1/2(\\Delta x / x_0)^2 \\tag{Turner}$$\n",
    "\n",
    "from the mode anharmonicity paper\n",
    "\n",
    "and \n",
    "\n",
    "$$ S = \\frac{m\\omega_{vib} \\Delta x^2}{2 \\hbar} \\tag{Hsu}$$\n",
    "\n",
    "from the polaritonic Huang-Rhys factor paper"
   ]
  },
  {
   "cell_type": "code",
   "execution_count": null,
   "id": "c247fbde",
   "metadata": {
    "scrolled": true
   },
   "outputs": [],
   "source": [
    "# Constants and Variables\n",
    "delta_au = (r_data[min_S1_loc] - r_data[min_S0_loc]) / psi4.constants.bohr2angstroms\n",
    "\n",
    "delta_LP_au = np.zeros((1,8))\n",
    "delta_UP_au = np.zeros((1,8))\n",
    "\n",
    "for i in range(8):\n",
    "    delta_LP_au[0,i] = (r_data[int(min_LP_array[0,i])] - r_data[min_S0_loc]) / psi4.constants.bohr2angstroms\n",
    "    delta_UP_au[0,i] = (r_data[int(min_UP_array[0,i])] - r_data[min_S0_loc]) / psi4.constants.bohr2angstroms\n",
    "\n",
    "\n",
    "delta_m = (r_data[min_S1_loc] - r_data[min_S0_loc]) * 10 ** (-10)\n",
    "delta_angstrom = (r_data[min_S1_loc] - r_data[min_S0_loc])\n",
    "omega_vib = np.sqrt(k_test_SI / mu_kg)\n",
    "h_bar = constants.hbar\n",
    "x0_test = np.sqrt(h_bar * omega_vib / k_test_SI)\n",
    "x0_test_au = (x0_test * 10 ** (10))  / psi4.constants.bohr2angstroms\n",
    "\n",
    "# Turner\n",
    "S_Turner = 0.5 * (delta_au / x0_test_au) ** 2\n",
    "\n",
    "# Hsu\n",
    "S_Hsu = mu_kg * omega_vib * delta_m ** 2 / (2 * h_bar)\n",
    "\n",
    "#g and LP \n",
    "\n",
    "HR_LP_array = np.zeros((1,8))\n",
    "HR_UP_array = np.zeros((1,8))\n",
    "\n",
    "for i in range(8):\n",
    "    HR_LP_array[0,i] = 0.5 * (delta_LP_au[0,i] / x0_test_au) ** 2\n",
    "    HR_UP_array[0,i] = 0.5 * (delta_UP_au[0,i] / x0_test_au) ** 2\n",
    "\n",
    "print('|g> and |e> HR Factor')\n",
    "print(S_Turner)\n",
    "print(S_Hsu)\n",
    "\n",
    "print('LP and UP HR Factor')\n",
    "print(HR_LP_array)\n",
    "print(HR_UP_array)\n",
    "\n",
    "\n",
    "df = pd.DataFrame(HR_UP_array.reshape(-1,1))\n",
    "df.to_clipboard()"
   ]
  },
  {
   "cell_type": "markdown",
   "id": "66994e19-bf39-4e81-9e46-b6ad75c797f9",
   "metadata": {},
   "source": [
    "First plot the ground-state potential energy surfaces for $ \\text{H2} $ inside and outisde the cavity.  The effect of the cavity will raise the energy slightly."
   ]
  },
  {
   "cell_type": "code",
   "execution_count": null,
   "id": "be6ca631-25f0-4ed9-8701-682e1e336cd4",
   "metadata": {},
   "outputs": [],
   "source": [
    "lambda_list = [0, 0.001, 0.005, 0.01, 0.02, 0.03, 0.04, 0.05]\n",
    "fci_S0_omega = np.zeros((1, N_R))\n",
    "for i in range(N_R):\n",
    "    fci_S0_omega[0,i] = S0_array[i] + 0.12086\n",
    "fci_S0_plusw = np.ndarray.flatten(fci_S0_omega)\n",
    "\n",
    "color_list_1 = ['grey','violet','indigo','blue','green','yellow','orange','red']\n",
    "\n",
    "plt.plot(r_data, fci_S0_plusw, linestyle='dashed', color='gray', label=f'$\\lambda$ = 0')\n",
    "plt.plot(r_data, S1_array, linestyle='--', color='gray')\n",
    "\n",
    "for i in range(2,8):\n",
    "    plt.plot(r_data, LP_arrays[i,:], f'{color_list_1[i]}', label=f'$\\lambda$ = {lambda_list[i]}')\n",
    "for k in range(2,8):\n",
    "        plt.plot(r_data, UP_arrays[k,:], f'{color_list_1[k]}',)\n",
    "\n",
    "plt.xlabel('r (Angstrom)')\n",
    "plt.ylabel('E (Hartree)')\n",
    "\n",
    "\n",
    "#plt.xlim(1.5, 2)\n",
    "#plt.ylim(-7.76, -7.72)\n",
    "plt.legend(loc = 'upper right', ncols = 3, fontsize = 'small')\n",
    "plt.savefig('polariton_surfaces_LiH.png',dpi=500)\n",
    "#plt.show()"
   ]
  },
  {
   "cell_type": "code",
   "execution_count": null,
   "id": "3961aef8",
   "metadata": {},
   "outputs": [],
   "source": [
    "plt.plot(lambda_list[1:], HR_UP_array[0,1:], 'ro-', label='UP')\n",
    "plt.plot(lambda_list[1:], HR_LP_array[0,1:], 'bo-', label='LP')\n",
    "plt.legend()\n",
    "plt.xlabel('Lambda')\n",
    "plt.ylabel('S')\n",
    "plt.savefig('LiH_trends.png', dpi=1000)"
   ]
  },
  {
   "cell_type": "code",
   "execution_count": null,
   "id": "f892c384",
   "metadata": {},
   "outputs": [],
   "source": [
    "#pd.DataFrame(matrix).to_clipboard()\n",
    "\n",
    "omega_test = np.abs(fci_S0[100] - fci_S1[100])\n",
    "print(omega_test)\n",
    "print(r_data[100])\n"
   ]
  },
  {
   "cell_type": "code",
   "execution_count": null,
   "id": "6d601c50",
   "metadata": {},
   "outputs": [],
   "source": [
    "lambda_list = [0, 0.001, 0.005, 0.01, 0.02, 0.03, 0.04, 0.05]\n",
    "fci_S0_omega = np.zeros((1, N_R))\n",
    "for i in range(N_R):\n",
    "    fci_S0_omega[0,i] = S0_array[i] + 0.12086\n",
    "fci_S0_plusw = np.ndarray.flatten(fci_S0_omega)\n",
    "\n",
    "color_list_1 = ['grey','violet','indigo','blue','green','yellow','orange','red']\n",
    "\n",
    "plt.plot(r_data, fci_S0_plusw, linestyle='dashed', color='gray', label=f'$\\lambda$ = 0')\n",
    "plt.plot(r_data, S1_array, linestyle='--', color='gray')\n",
    "\n",
    "for i in range(2,8):\n",
    "    plt.plot(r_data, LP_arrays[i,:], f'{color_list_1[i]}', label=f'$\\lambda$ = {lambda_list[i]}')\n",
    "for k in range(2,8):\n",
    "        plt.plot(r_data, UP_arrays[k,:], f'{color_list_1[k]}',)\n",
    "\n",
    "plt.xlabel('r (Angstrom)')\n",
    "plt.ylabel('E (Hartree)')\n",
    "\n",
    "\n",
    "#plt.xlim(1.5, 2)\n",
    "#plt.ylim(-7.76, -7.72)\n",
    "#plt.legend(loc = 'upper right', ncols = 3, fontsize = 'small')\n",
    "plt.axis('off')\n",
    "plt.savefig('polariton_surfaces_LiH_No_Background.png', transparent=True, dpi=500)\n",
    "#plt.show()"
   ]
  },
  {
   "cell_type": "code",
   "execution_count": null,
   "id": "d42f18c4",
   "metadata": {},
   "outputs": [],
   "source": []
  }
 ],
 "metadata": {
  "kernelspec": {
   "display_name": "Python 3 (ipykernel)",
   "language": "python",
   "name": "python3"
  },
  "language_info": {
   "codemirror_mode": {
    "name": "ipython",
    "version": 3
   },
   "file_extension": ".py",
   "mimetype": "text/x-python",
   "name": "python",
   "nbconvert_exporter": "python",
   "pygments_lexer": "ipython3",
   "version": "3.11.7"
  }
 },
 "nbformat": 4,
 "nbformat_minor": 5
}
