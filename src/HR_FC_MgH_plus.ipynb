{
 "cells": [
  {
   "cell_type": "code",
   "execution_count": null,
   "id": "57746595",
   "metadata": {},
   "outputs": [],
   "source": [
    "# import libraries\n",
    "import numpy as np\n",
    "import sys\n",
    "import psi4\n",
    "#from helper_PFCI import PFHamiltonianGenerator\n",
    "np.set_printoptions(threshold=sys.maxsize)\n",
    "import scipy\n",
    "from scipy.optimize import curve_fit\n",
    "from scipy import interpolate\n",
    "from matplotlib import pyplot as plt\n",
    "import matplotlib\n",
    "from scipy import constants\n",
    "from numpy.polynomial import Polynomial\n",
    "matplotlib.rcParams.update(matplotlib.rcParamsDefault)"
   ]
  },
  {
   "cell_type": "code",
   "execution_count": null,
   "id": "91e73501",
   "metadata": {},
   "outputs": [],
   "source": [
    "import os\n",
    "print(os.path.abspath(\".\"))"
   ]
  },
  {
   "cell_type": "code",
   "execution_count": null,
   "id": "883cf278",
   "metadata": {},
   "outputs": [],
   "source": [
    "\n",
    "cavity_free_E_array = np.load(\"/Users/proden/Code/SCQED-PCQED/array_data/MgHplus/fci_cavity_free_array_MgH_631g.npy\")\n",
    "cavity_E_array  = np.load(\"/Users/proden/Code/SCQED-PCQED/array_data/MgHplus/fci_cavity_arrays_MgH_631g.npy\")\n",
    "r_data = np.load(\"/Users/proden/Code/SCQED-PCQED/array_data/MgHplus/fci_r_array_MgH_631G.npy\")\n",
    "\n",
    "\n",
    "cavity_free_E_array = np.load(\"/Users/proden/Code/SCQED-PCQED/array_data/MgHplus/cis_cavity_free_array_MgH_ccpvdz.npy\")\n",
    "cavity_E_array  = np.load(\"/Users/proden/Code/SCQED-PCQED/array_data/MgHplus/cis_cavity_arrays_MgH_ccpvdz.npy\")\n",
    "r_data = np.load(\"/Users/proden/Code/SCQED-PCQED/array_data/MgHplus/cis_r_array_MgH_ccpvdz.npy\")\n",
    "\n",
    "\n",
    "\n",
    "cavity_free_E_array = np.load(\"/Users/proden/Code/SCQED-PCQED/array_data/MgHplus/cis_cavity_free_array_MgH_ccpvtz.npy\")\n",
    "cavity_E_array  = np.load(\"/Users/proden/Code/SCQED-PCQED/array_data/MgHplus/cis_cavity_arrays_MgH_ccpvtz.npy\")\n",
    "r_data = np.load(\"/Users/proden/Code/SCQED-PCQED/array_data/MgHplus/cis_r_array_MgH_ccpvtz.npy\")"
   ]
  },
  {
   "cell_type": "markdown",
   "id": "ae96dfcc",
   "metadata": {},
   "source": [
    "##  Scan centered around ground state PES minimum"
   ]
  },
  {
   "cell_type": "code",
   "execution_count": null,
   "id": "62b7cd2b",
   "metadata": {},
   "outputs": [],
   "source": []
  },
  {
   "cell_type": "code",
   "execution_count": null,
   "id": "91e886fa",
   "metadata": {},
   "outputs": [],
   "source": [
    "print(r_data[33])"
   ]
  },
  {
   "cell_type": "code",
   "execution_count": null,
   "id": "88a5512a",
   "metadata": {},
   "outputs": [],
   "source": [
    "\n",
    "plt.plot(r_data, cavity_free_E_array[:, :])\n",
    "plt.legend()\n",
    "plt.show()\n",
    "plt.plot(r_data, cavity_E_array[:, :])\n",
    "plt.legend()\n",
    "plt.show()\n",
    "\n",
    "\n",
    "fci_S0 = cavity_free_E_array[:, 0]\n",
    "fci_S1 = cavity_free_E_array[:, 3]\n",
    "\n",
    "\n",
    "print(cavity_free_E_array[:, 1].argmin())\n",
    "\n",
    "plt.plot(r_data, fci_S0)\n",
    "plt.plot(r_data,fci_S1)\n",
    "plt.legend()\n",
    "plt.show()\n",
    "\n",
    "plt.plot(r_data, fci_S0 + 0.20)\n",
    "plt.plot(r_data, cavity_E_array[:, :])\n",
    "plt.legend()\n",
    "plt.show()"
   ]
  },
  {
   "cell_type": "code",
   "execution_count": null,
   "id": "40e14212",
   "metadata": {},
   "outputs": [],
   "source": [
    "np.argmin(cavity_free_E_array[:, 2])\n",
    "np.argmin(cavity_free_E_array[:, 1])\n",
    "\n",
    "\n",
    "print(r_data[35])\n",
    "print(cavity_E_array[35, 2] - cavity_E_array[35, 0])\n",
    "\n"
   ]
  },
  {
   "cell_type": "markdown",
   "id": "4fbd4d4d",
   "metadata": {},
   "source": []
  },
  {
   "cell_type": "code",
   "execution_count": null,
   "id": "3a4ca07b",
   "metadata": {},
   "outputs": [],
   "source": [
    "\n",
    "plt.plot(r_data, cavity_free_E_array[:,0] + 0.1693322251699385)\n",
    "plt.plot(r_data, cavity_free_E_array[:,2])\n",
    "plt.legend()\n",
    "plt.show()"
   ]
  },
  {
   "cell_type": "code",
   "execution_count": null,
   "id": "e9da2064",
   "metadata": {},
   "outputs": [],
   "source": [
    "\"\"\"\n",
    "delta = 0.0005\n",
    "for i in range(0,1):\n",
    "    for j in range( 0, int(cavity_E_array_HH.shape[1]/2)):\n",
    "        array1 = cavity_E_array_HH[:, j]\n",
    "        array2 = cavity_E_array_HH[:, j+1]\n",
    "\n",
    "        #find closest points\n",
    "        idx =(np.abs(array1 - array2)).argmin()\n",
    "\n",
    "        #assume they crossover if they get really close\n",
    "        if np.abs(array1[idx]- array2[idx]) < delta:\n",
    "\n",
    "            print(j)\n",
    "            print(j+1)\n",
    "                \n",
    "            #copy one of the arrays\n",
    "            array1_copy = np.array(array1, copy=True)\n",
    "\n",
    "            print(array1)\n",
    "\n",
    "            array1 = np.concatenate([array2[:idx],  array1[idx:]])\n",
    "            array2 =np.concatenate([array1_copy[:idx] , array2[idx:]])\n",
    "\n",
    "            print(array1)\n",
    "\n",
    "            cavity_E_array_HH[:,j] = array1\n",
    "            cavity_E_array_HH[:,j+1] = array2\n",
    "    \n",
    "\n",
    "    \n",
    "\n",
    "\n",
    "\"\"\""
   ]
  },
  {
   "cell_type": "code",
   "execution_count": null,
   "id": "4be6ac4a",
   "metadata": {},
   "outputs": [],
   "source": [
    "def declutter_E_array(E_array, discontinuity_threshold=0.0001, energy_diff_threshold = 0.02,  num_to_declutter = 2):\n",
    "\n",
    "    E_array = np.copy(E_array)\n",
    "    new_E_array = np.zeros_like(E_array)\n",
    "\n",
    "    for i in range(0,num_to_declutter):\n",
    "        previous_intersection = 0\n",
    "        for z in range(0,50):\n",
    "            for j in range(i+1, E_array.shape[1]):\n",
    "                array1 = E_array[:, i]\n",
    "                array2 = E_array[:, j]\n",
    "\n",
    "                array1_from_previous_intersection = array1[previous_intersection:]\n",
    "                array2_from_previous_intersection = array2[previous_intersection:]\n",
    "\n",
    "\n",
    "                #find closest points\n",
    "                closest_indices =np.where(np.abs(array1[previous_intersection:] - array2[previous_intersection:]) < energy_diff_threshold)\n",
    "                if np.shape(closest_indices)[1] != 0:\n",
    "                    #print(i)\n",
    "                    #print(closest_indices)\n",
    "                    pass\n",
    "\n",
    "\n",
    "                try:\n",
    "                    dy_1 = np.gradient(array1_from_previous_intersection)\n",
    "                    idx_1 = np.where(abs(np.diff(dy_1)) >  discontinuity_threshold)[0]+1\n",
    "\n",
    "                    dy_2= np.gradient(array2_from_previous_intersection)\n",
    "                    idx_2 = np.where(abs(np.diff(dy_2)) > discontinuity_threshold)[0]+1\n",
    "\n",
    "                    if (len(idx_1)!= 0 and len(idx_2) != 0 ):\n",
    "\n",
    "                        mask_idx1_idx2 = np.isin(idx_1, idx_2)\n",
    "                        indices_idx1_in_idx2 = np.where(mask_idx1_idx2)[0]\n",
    "                        indices_idx1_in_idx2 = idx_1[indices_idx1_in_idx2]\n",
    "                        #print(indices_idx1_in_idx2)\n",
    "\n",
    "\n",
    "                        starting_index=0\n",
    "                        for elem_index in range(len(indices_idx1_in_idx2)-1):\n",
    "                            if indices_idx1_in_idx2[elem_index]+1 == indices_idx1_in_idx2[elem_index+1]:\n",
    "                                starting_index = elem_index+1\n",
    "                        indices_idx1_in_idx2 = indices_idx1_in_idx2[starting_index:]\n",
    "                        \n",
    "                            \n",
    "                        \n",
    "\n",
    "                        if(len(indices_idx1_in_idx2) != 0 ):\n",
    "\n",
    "                            mask_discontinuties_energydiff = np.isin(indices_idx1_in_idx2, closest_indices)\n",
    "                            indices_discontinuties_in_energydiff = np.where(mask_discontinuties_energydiff)[0]\n",
    "                            #print(indices_discontinuties_in_energydiff)\n",
    "\n",
    "                            if len(indices_discontinuties_in_energydiff) != 0 :\n",
    "\n",
    "                                idx = indices_idx1_in_idx2[indices_discontinuties_in_energydiff[0]]+ previous_intersection\n",
    "                                #print(idx)\n",
    "\n",
    "                                array1_copy = np.array(array1, copy=True)\n",
    "\n",
    "                                array1 = np.concatenate([array1[:idx],  array2[idx:]])\n",
    "                                array2 =np.concatenate([array2[:idx] , array1_copy[idx:]])\n",
    "\n",
    "\n",
    "                                E_array[:,i] = array1\n",
    "                                E_array[:,j] = array2\n",
    "\n",
    "\n",
    "                                previous_intersection = idx\n",
    "                except():\n",
    "                    print(i)\n",
    "\n",
    "        new_E_array[:,i ] = E_array[:,i]\n",
    "\n",
    "    return new_E_array"
   ]
  },
  {
   "cell_type": "code",
   "execution_count": null,
   "id": "eea68eb7",
   "metadata": {},
   "outputs": [],
   "source": [
    "cavity_E_array_0_05  = declutter_E_array(cavity_E_array, 0.00001, 0.002,num_to_declutter=12)"
   ]
  },
  {
   "cell_type": "code",
   "execution_count": null,
   "id": "8391e9fb",
   "metadata": {},
   "outputs": [],
   "source": [
    "plt.plot(cavity_E_array_0_05)\n",
    "plt.ylim(-199.9, -199.5)\n",
    "plt.show()"
   ]
  },
  {
   "cell_type": "markdown",
   "id": "832e332e",
   "metadata": {},
   "source": [
    "## Scan centered around excited state PES minimum"
   ]
  },
  {
   "cell_type": "markdown",
   "id": "352360c7",
   "metadata": {},
   "source": [
    "## Permanent Dipole Moment Calculations"
   ]
  },
  {
   "cell_type": "markdown",
   "id": "3edaef63",
   "metadata": {},
   "source": [
    "## Calculation of k\n",
    "Fit ground state PES of H2 to a quintic polynomial"
   ]
  }
 ],
 "metadata": {
  "kernelspec": {
   "display_name": "Python 3.8.16 ('psi4')",
   "language": "python",
   "name": "python3"
  },
  "language_info": {
   "codemirror_mode": {
    "name": "ipython",
    "version": 3
   },
   "file_extension": ".py",
   "mimetype": "text/x-python",
   "name": "python",
   "nbconvert_exporter": "python",
   "pygments_lexer": "ipython3",
   "version": "3.12.1"
  },
  "vscode": {
   "interpreter": {
    "hash": "fb1a2df4f9282886a9962e4f764279027b68d020a0da7673cd0f95f4da175bfd"
   }
  }
 },
 "nbformat": 4,
 "nbformat_minor": 5
}
