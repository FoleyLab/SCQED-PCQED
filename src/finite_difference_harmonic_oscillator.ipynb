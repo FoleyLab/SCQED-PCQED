{
 "cells": [
  {
   "cell_type": "markdown",
   "id": "5c5eb95c-83b5-4f42-9c15-10b1893a75c7",
   "metadata": {},
   "source": [
    "Following notes from this page: https://medium.com/modern-physics/finite-difference-solution-of-the-schrodinger-equation-c49039d161a8"
   ]
  },
  {
   "cell_type": "code",
   "execution_count": 6,
   "id": "82202e21-5531-47a6-bffc-e5d8bb2263bf",
   "metadata": {},
   "outputs": [
    {
     "name": "stdout",
     "output_type": "stream",
     "text": [
      "[0.4999955  1.4999775  2.4999415  3.4998875  4.49981549]\n"
     ]
    }
   ],
   "source": [
    "import numpy as np\n",
    "# define smallest and largest bondlengths in atomic units (here x=0 is the equilibrium value)\n",
    "x_min = -6\n",
    "x_max = 6\n",
    "\n",
    "# number of grid points \n",
    "N = 1001\n",
    "\n",
    "# define grid\n",
    "x = np.linspace(x_min, x_max, N)\n",
    "\n",
    "# define grid spacing h\n",
    "h = x[1]-x[0]\n",
    "\n",
    "# compute Harmonic potential with k = 1\n",
    "def Vpot(x):\n",
    "    return  1/2 * x ** 2\n",
    "\n",
    "# create arrays for T, V, and H - we truncate the smallest and largest grid points where \n",
    "# the centered finite difference derivatives cannot be defined\n",
    "T = np.zeros((N-2, N-2))\n",
    "V = np.zeros((N-2, N-2))\n",
    "H = np.zeros((N-2, N-2))\n",
    "\n",
    "# this uses the 3 point stencil; we can adapt to use a 5 point and it might improve accuracy\n",
    "for i in range(N-2):\n",
    "    for j in range(N-2):\n",
    "        if i==j:\n",
    "            T[i,j]= -2\n",
    "        elif np.abs(i-j)==1:\n",
    "            T[i,j]=1\n",
    "        else:\n",
    "            T[i,j]=0\n",
    "\n",
    "\n",
    "\n",
    "for i in range(N-2):\n",
    "    for j in range(N-2):\n",
    "        if i==j:\n",
    "            V[i,j]= Vpot(x[i+1])\n",
    "        else:\n",
    "            V[i,j]=0\n",
    "            \n",
    "H = -T/(2*h**2) + V\n",
    "\n",
    "vals, vecs = np.linalg.eigh(H)\n",
    "print(vals[:5])"
   ]
  },
  {
   "cell_type": "code",
   "execution_count": null,
   "id": "512c16fa-b2a7-4dc5-b58b-159fa5d870e7",
   "metadata": {},
   "outputs": [],
   "source": []
  }
 ],
 "metadata": {
  "kernelspec": {
   "display_name": "Python 3 (ipykernel)",
   "language": "python",
   "name": "python3"
  },
  "language_info": {
   "codemirror_mode": {
    "name": "ipython",
    "version": 3
   },
   "file_extension": ".py",
   "mimetype": "text/x-python",
   "name": "python",
   "nbconvert_exporter": "python",
   "pygments_lexer": "ipython3",
   "version": "3.9.18"
  }
 },
 "nbformat": 4,
 "nbformat_minor": 5
}
