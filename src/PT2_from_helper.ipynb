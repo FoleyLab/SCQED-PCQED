{
 "cells": [
  {
   "cell_type": "code",
   "execution_count": null,
   "id": "88f2b2cc-2149-4982-b24c-21b2a0500697",
   "metadata": {},
   "outputs": [],
   "source": [
    "# import libraries\n",
    "import numpy as np\n",
    "import sys\n",
    "import psi4\n",
    "sys.path.append(\"/Users/jfoley19/Code/SCQED-PCQED/src/\")\n",
    "from helper_PFCI import PFHamiltonianGenerator\n",
    "np.set_printoptions(threshold=sys.maxsize)\n",
    "psi4.core.set_output_file('output.dat', False)\n",
    "import matplotlib.pyplot as plt"
   ]
  },
  {
   "cell_type": "code",
   "execution_count": null,
   "id": "43f4bc98-b518-4294-ac29-2f112045391c",
   "metadata": {},
   "outputs": [],
   "source": [
    "# read data from .npy files for formaldehyde casci(8,8) calculations\n",
    "\n",
    "# !!! Change this to the correct path on your computer!\n",
    "npy_folder = \"/Users/jfoley19/Code/data_repository/NPY_Files/LiH/\"\n",
    "\n",
    "# these file names should still be good\n",
    "E_npy_file = npy_folder + \"LiH_r_1.4_6311g_fci_500_states_Energies.npy\"\n",
    "Mu_npy_file = npy_folder + \"LiH_r_1.4_6311g_fci_500_states_Dipoles.npy\"\n",
    "\n",
    "# store energy eigenvalues in E_array\n",
    "E_array = np.load(E_npy_file)\n",
    "# store dipole matrix elements in Mu_array\n",
    "Mu_array = np.load(Mu_npy_file)\n",
    "\n",
    "# print their shape so we know how many elements we have\n",
    "print(np.shape(E_array))\n",
    "print(np.shape(Mu_array))"
   ]
  },
  {
   "cell_type": "code",
   "execution_count": null,
   "id": "1aaa07de-fefd-414b-9fb4-981371f1dfe1",
   "metadata": {},
   "outputs": [],
   "source": [
    "# setup basic arguments to create an instance of the PFHamiltonianGenerator class\n",
    "mol_str = \"\"\"\n",
    "    Li\n",
    "    H 1 1.4\n",
    "    symmetry c1\n",
    "\"\"\"\n",
    "\n",
    "\n",
    "options_dict = {\n",
    "    \"basis\": \"sto-3g\",\n",
    "    \"scf_type\": \"pk\",\n",
    "    \"e_convergence\": 1e-10,\n",
    "    \"d_convergence\": 1e-10,\n",
    "}\n",
    "\n",
    "\n",
    "cavity_free_dict = {\n",
    "    'omega_value' : 0.12086,\n",
    "    'lambda_vector' : np.array([0, 0, 0.0]),\n",
    "    'ci_level' : 'fci',   \n",
    "    'full_diagonalization' : True,\n",
    "    'number_of_photons' : 10, \n",
    "}\n",
    "\n",
    "# create the instance of our PFHamiltonianGenerator class\n",
    "instance = PFHamiltonianGenerator(mol_str, options_dict, cavity_free_dict)"
   ]
  },
  {
   "cell_type": "code",
   "execution_count": null,
   "id": "10352bd0-8154-4c25-8616-1559a87ed072",
   "metadata": {},
   "outputs": [],
   "source": [
    "n_el = len(E_array)\n",
    "\n",
    "# lambda vector in atomic units - set this as a parameter!\n",
    "lambda_vec = np.array([0.0, 0.0, 0.001])\n",
    "\n",
    "# photon frequency in atomic units\n",
    "omega = 0.12086 \n",
    "\n",
    "instance.build_d_array(n_el, lambda_vec, Mu_array)\n"
   ]
  },
  {
   "cell_type": "code",
   "execution_count": null,
   "id": "f306075a-ceb2-4ee5-a20e-9b9e290a2ff3",
   "metadata": {},
   "outputs": [],
   "source": [
    "#compute_first_order_correction(self, E_array, omega, neglect_DSE=False ):\n",
    "instance.compute_first_order_correction(E_array, omega)\n"
   ]
  },
  {
   "cell_type": "code",
   "execution_count": null,
   "id": "87b9f0ad-6d04-4109-9202-e112b32f32e8",
   "metadata": {},
   "outputs": [],
   "source": [
    "print(instance.first_order_energy_correction)"
   ]
  },
  {
   "cell_type": "code",
   "execution_count": null,
   "id": "bc138296-b4e5-4963-bde2-fb7c9e1bd1ae",
   "metadata": {},
   "outputs": [],
   "source": []
  }
 ],
 "metadata": {
  "kernelspec": {
   "display_name": "Python 3 (ipykernel)",
   "language": "python",
   "name": "python3"
  },
  "language_info": {
   "codemirror_mode": {
    "name": "ipython",
    "version": 3
   },
   "file_extension": ".py",
   "mimetype": "text/x-python",
   "name": "python",
   "nbconvert_exporter": "python",
   "pygments_lexer": "ipython3",
   "version": "3.9.18"
  }
 },
 "nbformat": 4,
 "nbformat_minor": 5
}
