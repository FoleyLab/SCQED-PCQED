{
 "cells": [
  {
   "cell_type": "code",
   "execution_count": 1,
   "id": "57746595",
   "metadata": {},
   "outputs": [],
   "source": [
    "# import libraries\n",
    "import numpy as np\n",
    "import sys\n",
    "import psi4\n",
    "from helper_PFCI import PFHamiltonianGenerator\n",
    "np.set_printoptions(threshold=sys.maxsize)\n",
    "psi4.core.set_output_file('output.dat', False)\n",
    "import time\n",
    "import json\n",
    "import matplotlib.pyplot as plt"
   ]
  },
  {
   "cell_type": "markdown",
   "id": "a625f560",
   "metadata": {},
   "source": [
    "We are going to read the energy eigenvalues and dipole matrix elements from .npy files.  We will also still create an instance of the PFHamiltonianGenerator class so we can use its build_pcqed_pf_hamiltonian() method, but it is not really important what details we use to instantiate this class... so we will use LiH in a minimal basis since this is a fast way to instantiate the class!"
   ]
  },
  {
   "cell_type": "code",
   "execution_count": 2,
   "id": "b94625f2",
   "metadata": {},
   "outputs": [],
   "source": [
    "# # Set the molecule and bond length\n",
    "# mol = psi4.geometry(\"\"\"\n",
    "# 0 1\n",
    "# O\n",
    "# H 1 1.0\n",
    "# \"\"\")\n",
    "\n",
    "# # Optimize the geometry to obtain the new coordinates\n",
    "# psi4.optimize('scf/cc-pvdz')\n",
    "\n",
    "# # Get the new optimized coordinates\n",
    "# new_coordinates = mol.geometry()\n",
    "\n",
    "# # Print the new coordinates\n",
    "# print(new_coordinates)"
   ]
  },
  {
   "cell_type": "code",
   "execution_count": 3,
   "id": "12202c36",
   "metadata": {},
   "outputs": [
    {
     "name": "stdout",
     "output_type": "stream",
     "text": [
      "(250,)\n",
      "(250, 250, 3)\n",
      "[-8.01219476 -7.899962   -7.88593596 -7.86104863 -7.86104863 -7.84851087\n",
      " -7.84851087 -7.80693549 -7.78459936 -7.76702524 -7.76342939 -7.75827098\n",
      " -7.75827098 -7.75123644 -7.75123644 -7.72171149 -7.68303148 -7.53167595\n",
      " -7.46183148 -7.44561152 -7.44561152 -7.44122102 -7.41700688 -7.41700688\n",
      " -7.41499491 -7.41499491 -7.40506676 -7.40302238 -7.39081209 -7.38221021\n",
      " -7.38221021 -7.37219855 -7.37219855 -7.36897222 -7.36897222 -7.35609042\n",
      " -7.35609042 -7.33714534 -7.33343267 -7.32130747 -7.31448363 -7.31448363\n",
      " -7.306799   -7.306799   -7.30583178 -7.30363511 -7.29983049 -7.29983049\n",
      " -7.29710106 -7.28736609 -7.28736609 -7.27939388 -7.27254896 -7.26716866\n",
      " -7.26189291 -7.26189291 -7.26028229 -7.26028229 -7.24463063 -7.24419397\n",
      " -7.24419397 -7.24111323 -7.23094221 -7.22795844 -7.22795844 -7.2276023\n",
      " -7.2276023  -7.21883619 -7.21553431 -7.20683738 -7.20683738 -7.19644038\n",
      " -7.18180272 -7.17656251 -7.15921998 -7.15921998 -7.15824942 -7.15347534\n",
      " -7.15347534 -7.14947376 -7.14947376 -7.13886123 -7.13784362 -7.1332009\n",
      " -7.1332009  -7.13217495 -7.12743811 -7.12743811 -7.12449798 -7.12449798\n",
      " -7.1221051  -7.09488639 -7.09488639 -7.08060791 -7.08020046 -7.05378563\n",
      " -7.03746815 -7.02450934 -7.01781032 -7.01781032 -7.00893386 -7.00893386\n",
      " -7.00604249 -7.00537816 -6.99590117 -6.98668788 -6.98668788 -6.98480406\n",
      " -6.98480406 -6.97981024 -6.97397696 -6.96482868 -6.96482868 -6.96175038\n",
      " -6.95170952 -6.95170952 -6.94279811 -6.94083928 -6.94083928 -6.93712403\n",
      " -6.93712403 -6.92696572 -6.92696572 -6.92169957 -6.92169957 -6.91331236\n",
      " -6.90851393 -6.90033805 -6.88990583 -6.88393433 -6.88312416 -6.88312416\n",
      " -6.875655   -6.86519968 -6.86519968 -6.85236749 -6.85236749 -6.84663978\n",
      " -6.84608112 -6.84608112 -6.83908011 -6.83908011 -6.82507744 -6.82507744\n",
      " -6.82440273 -6.82060629 -6.80785968 -6.80785968 -6.80327039 -6.79374099\n",
      " -6.78999006 -6.78794515 -6.78794515 -6.72872628 -6.72872628 -6.72060524\n",
      " -6.71962974 -6.71962974 -6.6773033  -6.62707918 -6.50771691 -6.46797094\n",
      " -6.46797094 -6.45552398 -6.45552398 -6.4352606  -6.41570495 -6.41570495\n",
      " -6.32945987 -5.95901912 -5.92793765 -5.88773311 -5.88773311 -5.86088002\n",
      " -5.86088002 -5.79605124 -5.79605124 -5.77139123 -5.75257473 -5.7521764\n",
      " -5.74985669 -5.74985669 -5.74429968 -5.74429968 -5.74058408 -5.7351683\n",
      " -5.72621124 -5.72621124 -5.72616675 -5.72405306 -5.72405306 -5.7239868\n",
      " -5.71476325 -5.71476325 -5.69284331 -5.68905864 -5.68571423 -5.68571423\n",
      " -5.68118678 -5.68118678 -5.67250495 -5.66716468 -5.66655349 -5.66319452\n",
      " -5.66319452 -5.65987294 -5.65987294 -5.64988719 -5.63686501 -5.62187347\n",
      " -5.61869354 -5.61812646 -5.61776817 -5.61477382 -5.61477382 -5.61114931\n",
      " -5.61114931 -5.60552758 -5.60226121 -5.59813856 -5.59813856 -5.59783455\n",
      " -5.59305746 -5.59149922 -5.59149922 -5.58985874 -5.58651295 -5.58651295\n",
      " -5.58590136 -5.58590136 -5.58557857 -5.58557857 -5.58475404 -5.58475404\n",
      " -5.58105987 -5.57773439 -5.57243217 -5.57194617 -5.5712496  -5.5712496\n",
      " -5.5683954  -5.56823718 -5.5679246  -5.5679246  -5.56681083 -5.56681083\n",
      " -5.56604701 -5.56604701 -5.56394935 -5.56394935]\n"
     ]
    }
   ],
   "source": [
    "# read data from .npy files for formaldehyde casci(8,8) calculations\n",
    "\n",
    "# !!! Change this to the correct path on your computer!\n",
    "npy_folder = \"/Users/jfoley19/Code/data_repository/Mapol/LiH/PCQED/6-311G/r_1.4/\"\n",
    "\n",
    "# these file names should still be good\n",
    "E_npy_file = npy_folder + \"LiH_r_1.4_6311g_fci_Energies.npy\"\n",
    "Mu_npy_file = npy_folder + \"LiH_r_1.4_6311g_fci_Dipoles.npy\"\n",
    "\n",
    "# store energy eigenvalues in E_array\n",
    "E_array = np.load(E_npy_file)\n",
    "# store dipole matrix elements in Mu_array\n",
    "Mu_array = np.load(Mu_npy_file)\n",
    "\n",
    "# print their shape so we know how many elements we have\n",
    "print(np.shape(E_array))\n",
    "print(np.shape(Mu_array))\n",
    "print(E_array)"
   ]
  },
  {
   "cell_type": "code",
   "execution_count": 4,
   "id": "674328dc",
   "metadata": {},
   "outputs": [
    {
     "name": "stdout",
     "output_type": "stream",
     "text": [
      "\n",
      "Start SCF iterations:\n",
      "\n",
      "Canonical RHF One-electron energy = -12.6946346236295895\n",
      "CQED-RHF One-electron energy      = -12.6912246781500926\n",
      "Nuclear repulsion energy          = 1.1339511657214287\n",
      "Dipole energy                     = 0.0032271304319229\n",
      "SCF Iteration   1: Energy = -7.8595725022589402   dE = -7.85957E+00   dRMS = 8.01325E-05\n",
      "SCF Iteration   2: Energy = -7.8595728148569677   dE = -3.12598E-07   dRMS = 9.74325E-06\n",
      "SCF Iteration   3: Energy = -7.8595728258670885   dE = -1.10101E-08   dRMS = 3.56735E-06\n",
      "SCF Iteration   4: Energy = -7.8595728281752013   dE = -2.30811E-09   dRMS = 4.53151E-08\n",
      "SCF Iteration   5: Energy = -7.8595728281752510   dE = -4.97380E-14   dRMS = 1.23024E-10\n",
      "SCF Iteration   6: Energy = -7.8595728281752510   dE =  0.00000E+00   dRMS = 8.29882E-12\n",
      "Total time for SCF iterations: 0.001 seconds \n",

      "\n",
      "QED-RHF   energy: -7.86053866 hartree\n",
      "Psi4  SCF energy: -7.86053866 hartree\n",

      " Completed QED-RHF in 0.22067928314208984 seconds\n",
      " Completed 1HSO Build in 5.412101745605469e-05 seconds\n",
      " Completed ERI Build in 0.0011568069458007812 seconds \n",
      " Completed 2D build in 0.00010395050048828125 seconds\n",
      " Completed 1G build in 1.4066696166992188e-05 seconds\n",
      " Completed the Dipole Matrix Build in 3.790855407714844e-05 seconds\n",
      " Completed determinant list in 0.0004782676696777344 seconds \n",
      " Completed constant offset matrix in 0.00018095970153808594 seconds\n",
      " Completed Hamiltonian build in 0.6924581527709961 seconds\n"
     ]
    }
   ],
   "source": [
    "# setup basic arguments to create an instance of the PFHamiltonianGenerator class\n",
    "mol_str = \"\"\"\n",
    "    Li\n",
    "    H 1 1.4\n",
    "    symmetry c1\n",
    "\"\"\"\n",
    "\n",
    "\n",
    "options_dict = {\n",
    "    \"basis\": \"sto-3g\",\n",
    "    \"scf_type\": \"pk\",\n",
    "    \"e_convergence\": 1e-10,\n",
    "    \"d_convergence\": 1e-10,\n",
    "}\n",
    "\n",
    "\n",
    "cavity_free_dict = {\n",
    "    'omega_value' : 0.12086,\n",
    "    'lambda_vector' : np.array([0, 0, 0.0]),\n",
    "    'ci_level' : 'fci',   \n",
    "    'full_diagonalization' : True,\n",
    "    'number_of_photons' : 10, \n",
    "}\n",
    "\n",
    "# create the instance of our PFHamiltonianGenerator class\n",
    "instance = PFHamiltonianGenerator(mol_str, options_dict, cavity_free_dict)"
   ]
  },
  {
   "cell_type": "code",
   "execution_count": 5,
   "id": "72c9fc3f",
   "metadata": {},
   "outputs": [],
   "source": [
    "N_R = 21\n",
    "d_array = np.linspace(0, 20, N_R)\n",
    "N_l = len(d_array)\n",
    "N_el = 50\n",
    "N_ph = 10\n",
    "omega = 0.12086\n",
    "lambda_vector = np.array([0, 0, 0.0])\n",
    "\n",
    "# create an array of zeros to store the PCQED eigenvalues for each value of d\n",
    "_pcqed_22 = np.zeros((N_l, N_el * N_ph))\n",
    "# loop over values of d, build Hamiltonian, capture eigenvalues\n",
    "ctr = 0\n",
    "for d in d_array:\n",
    "    instance.fast_build_pcqed_pf_hamiltonian(N_el, N_ph, omega, lambda_vector , E_array, Mu_array, neglect_DSE=False)      # E_array[:,ctr]: 20 energy values for fisrt displacement and so on... \n",
    "    _pcqed_22[ctr, :] = instance.PCQED_pf_eigs\n",
    "    ctr += 1"
   ]
  },
  {
   "cell_type": "code",
   "execution_count": 6,
   "id": "2409be19",
   "metadata": {},
   "outputs": [
    {
     "name": "stdout",
     "output_type": "stream",
     "text": [
      "Ground state-8.012194758187\n"
     ]
    }
   ],
   "source": [
    "# E_pcqed_22 = instance.PCQED_pf_eigs\n",
    "print(f\"Ground state{_pcqed_22[0,0]:.12f}\")\n",
    "# print(_pcqed_22)"
   ]
  },
  {
   "cell_type": "code",
   "execution_count": null,
   "id": "83de107c",
   "metadata": {},
   "outputs": [],
   "source": []
  },
  {
   "cell_type": "code",
   "execution_count": null,
   "id": "fef8392e",
   "metadata": {},
   "outputs": [],
   "source": []
  }
 ],
 "metadata": {
  "kernelspec": {
   "display_name": "Python 3 (ipykernel)",
   "language": "python",
   "name": "python3"
  },
  "language_info": {
   "codemirror_mode": {
    "name": "ipython",
    "version": 3
   },
   "file_extension": ".py",
   "mimetype": "text/x-python",
   "name": "python",
   "nbconvert_exporter": "python",
   "pygments_lexer": "ipython3",
   "version": "3.12.0"
  }
 },
 "nbformat": 4,
 "nbformat_minor": 5
}
