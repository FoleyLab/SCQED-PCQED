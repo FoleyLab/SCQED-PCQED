{
 "cells": [
  {
   "cell_type": "code",
   "execution_count": 1,
   "id": "57746595",
   "metadata": {},
   "outputs": [],
   "source": [
    "# import libraries\n",
    "import numpy as np\n",
    "import sys\n",
    "import psi4\n",
    "from helper_PFCI import PFHamiltonianGenerator\n",
    "np.set_printoptions(threshold=sys.maxsize)\n",
    "psi4.core.set_output_file('output.dat', False)\n",
    "import time\n",
    "import json\n",
    "import matplotlib.pyplot as plt\n",
    "import json\n",
    "import os"
   ]
  },
  {
   "cell_type": "markdown",
   "id": "a625f560",
   "metadata": {},
   "source": [
    "We are going to read the energy eigenvalues and dipole matrix elements from .npy files.  We will also still create an instance of the PFHamiltonianGenerator class so we can use its build_pcqed_pf_hamiltonian() method, but it is not really important what details we use to instantiate this class... so we will use LiH in a minimal basis since this is a fast way to instantiate the class!"
   ]
  },
  {
   "cell_type": "code",
   "execution_count": 2,
   "id": "b94625f2",
   "metadata": {},
   "outputs": [],
   "source": [
    "# # Set the molecule and bond length\n",
    "# mol = psi4.geometry(\"\"\"\n",
    "# 0 1\n",
    "# O\n",
    "# H 1 1.0\n",
    "# \"\"\")\n",
    "\n",
    "# # Optimize the geometry to obtain the new coordinates\n",
    "# psi4.optimize('scf/cc-pvdz')\n",
    "\n",
    "# # Get the new optimized coordinates\n",
    "# new_coordinates = mol.geometry()\n",
    "\n",
    "# # Print the new coordinates\n",
    "# print(new_coordinates)"
   ]
  },
  {
   "cell_type": "code",
   "execution_count": 3,
   "id": "12202c36",
   "metadata": {},
   "outputs": [
    {
     "name": "stdout",
     "output_type": "stream",
     "text": [
      "(500, 25)\n",
      "(500, 500, 3, 25)\n"
     ]
    }
   ],
   "source": [
    "# read data from .npy files for formaldehyde casci(8,8) calculations\n",
    "\n",
    "# !!! Change this to the correct path on your computer!\n",
    "npy_folder = \"/Users/rmandern/code/SCQED-PCQED/LiH_data/\"\n",
    "\n",
    "# these file names should still be good\n",
    "E_npy_file = npy_folder + \"LiH_r_scan_6311g_fci_Energies.npy\"\n",
    "Mu_npy_file = npy_folder + \"LiH_r_scan_6311g_fci_Dipoles.npy\"\n",
    "\n",
    "# store energy eigenvalues in E_array\n",
    "E_array = np.load(E_npy_file)\n",
    "# store dipole matrix elements in Mu_array\n",
    "Mu_array = np.load(Mu_npy_file)\n",
    "\n",
    "# print their shape so we know how many elements we have\n",
    "print(np.shape(E_array))\n",
    "print(np.shape(Mu_array))\n",
    "# print(E_array)"
   ]
  },
  {
   "cell_type": "code",
   "execution_count": 4,
   "id": "674328dc",
   "metadata": {},
   "outputs": [
    {
     "name": "stdout",
     "output_type": "stream",
     "text": [
      "\n",
      "Start SCF iterations:\n",
      "\n",
      "Canonical RHF One-electron energy = -12.6946346236296037\n",
      "CQED-RHF One-electron energy      = -12.6946346236296037\n",
      "Nuclear repulsion energy          = 1.1339511657214287\n",
      "Dipole energy                     = 0.0000000000000000\n",
      "SCF Iteration   1: Energy = -7.8605386610570473   dE = -7.86054E+00   dRMS = 1.78805E-13\n",
      "SCF Iteration   2: Energy = -7.8605386610570385   dE =  8.88178E-15   dRMS = 3.97663E-14\n",
      "Total time for SCF iterations: 0.000 seconds \n",
      "\n",
      "QED-RHF   energy: -7.86053866 hartree\n",
      "Psi4  SCF energy: -7.86053866 hartree\n",
      " Completed QED-RHF in 0.23531103134155273 seconds\n",
      " Completed 1HSO Build in 5.507469177246094e-05 seconds\n",
      " Completed ERI Build in 0.0011620521545410156 seconds \n",
      " Completed 2D build in 7.295608520507812e-05 seconds\n",
      " Completed 1G build in 1.4066696166992188e-05 seconds\n",
      " Completed the Dipole Matrix Build in 4.291534423828125e-05 seconds\n",
      " Completed determinant list in 0.00044798851013183594 seconds \n",
      " Completed constant offset matrix in 8.0108642578125e-05 seconds\n",
      " Completed Hamiltonian build in 0.6692218780517578 seconds\n"
     ]
    }
   ],
   "source": [
    "# setup basic arguments to create an instance of the PFHamiltonianGenerator class\n",
    "mol_str = \"\"\"\n",
    "    Li\n",
    "    H 1 1.4\n",
    "    symmetry c1\n",
    "\"\"\"\n",
    "\n",
    "\n",
    "options_dict = {\n",
    "    \"basis\": \"sto-3g\",\n",
    "    \"scf_type\": \"pk\",\n",
    "    \"e_convergence\": 1e-10,\n",
    "    \"d_convergence\": 1e-10,\n",
    "}\n",
    "\n",
    "\n",
    "cavity_free_dict = {\n",
    "    'omega_value' : 0.12086,\n",
    "    'lambda_vector' : np.array([0, 0, 0.0]),\n",
    "    'ci_level' : 'fci',   \n",
    "    'full_diagonalization' : True,\n",
    "    'number_of_photons' : 10, \n",
    "}\n",
    "\n",
    "# create the instance of our PFHamiltonianGenerator class\n",
    "instance = PFHamiltonianGenerator(mol_str, options_dict, cavity_free_dict)"
   ]
  },
  {
   "cell_type": "code",
   "execution_count": 12,
   "id": "72c9fc3f",
   "metadata": {},
   "outputs": [],
   "source": [
    "N_R = 21\n",
    "d_array = np.linspace(0, 20, N_R)\n",
    "N_l = len(d_array)\n",
    "N_el = 500\n",
    "N_ph = 10\n",
    "omega = 0.12086\n",
    "lambda_vector = np.array([0, 0, 0.01])\n",
    "\n",
    "# create an array of zeros to store the PCQED eigenvalues for each value of d\n",
    "_pcqed_40010_dse = np.zeros((N_l, N_el * N_ph))\n",
    "# loop over values of d, build Hamiltonian, capture eigenvalues\n",
    "ctr = 0\n",
    "for d in d_array:\n",
    "    instance.fast_build_pcqed_pf_hamiltonian(N_el, N_ph, omega, lambda_vector , E_array[:,ctr], Mu_array[:,:,:,ctr], neglect_DSE=False)      # E_array[:,ctr]: 20 energy values for fisrt displacement and so on... \n",
    "    _pcqed_40010_dse[ctr, :] = instance.PCQED_pf_eigs\n",
    "    ctr += 1"
   ]
  },
  {
   "cell_type": "code",
   "execution_count": 10,
   "id": "10c79037",
   "metadata": {},
   "outputs": [],
   "source": [
    "N_R = 21\n",
    "d_array = np.linspace(0, 20, N_R)\n",
    "N_l = len(d_array)\n",
    "N_el = 300\n",
    "N_ph = 10\n",
    "omega = 0.12086\n",
    "lambda_vector = np.array([0, 0, 0.01])\n",
    "\n",
    "# create an array of zeros to store the PCQED eigenvalues for each value of d\n",
    "_pcqed_30010_dse = np.zeros((N_l, N_el * N_ph))\n",
    "# loop over values of d, build Hamiltonian, capture eigenvalues\n",
    "ctr = 0\n",
    "for d in d_array:\n",
    "    instance.fast_build_pcqed_pf_hamiltonian(N_el, N_ph, omega, lambda_vector , E_array[:,ctr], Mu_array[:,:,:,ctr], neglect_DSE=False)      # E_array[:,ctr]: 20 energy values for fisrt displacement and so on... \n",
    "    _pcqed_30010_dse[ctr, :] = instance.PCQED_pf_eigs\n",
    "    ctr += 1"
   ]
  },
  {
   "cell_type": "code",
   "execution_count": 17,
   "id": "593dfde6",
   "metadata": {},
   "outputs": [
    {
     "name": "stdout",
     "output_type": "stream",
     "text": [
      "[-8.71173356e-10 -8.91034801e-10 -9.11908771e-10 -9.33821909e-10\n",
      " -9.56802637e-10 -9.80852732e-10 -1.00603437e-09 -1.03268505e-09\n",
      " -1.06042286e-09 -1.08897247e-09 -1.11884191e-09 -1.14958354e-09\n",
      " -1.18073906e-09 -1.21013599e-09 -1.23949739e-09 -1.26579813e-09\n",
      " -1.28768818e-09 -1.30433975e-09 -1.31551126e-09 -1.32214417e-09\n",
      " -1.32532563e-09]\n",
      "[-8.01219489 -8.01443775 -8.01621169 -8.01756729 -8.01854998 -8.01920058\n",
      " -8.01955584 -8.01964882 -8.0195093  -8.01916409 -8.01863737 -8.01795094\n",
      " -8.01712442 -8.01617551 -8.01512015 -8.0139727  -8.01274607 -8.01145188\n",
      " -8.01010057 -8.00870151 -8.00726313]\n"
     ]
    },
    {
     "data": {
      "text/plain": [
       "<matplotlib.legend.Legend at 0x152356700>"
      ]
     },
     "execution_count": 17,
     "metadata": {},
     "output_type": "execute_result"
    },
    {
     "data": {
      "image/png": "[encoded data removed]",
      "text/plain": [
       "<Figure size 640x480 with 1 Axes>"
      ]
     },
     "metadata": {},
     "output_type": "display_data"
    }
   ],
   "source": [
    "difference =_pcqed_40010_dse[:,0] - _pcqed_30010_dse[:,0]\n",
    "print(difference)\n",
    "plt.plot(d_array, _pcqed_40010_dse[:,0],'ro-', label=\"Dse_nocs(300,10)\")\n",
    "# plt.plot(d_array,_pcqed_22_cs[:,0], label='Dse_cs')\n",
    "plt.plot(d_array,_pcqed_30010_dse[:,0], 'bo-', label='no_Dse(300,10)')\n",
    "# plt.plot(d_array,_pcqed_22_withoutdse_cs[:,0], label='noDse_cs')\n",
    "\n",
    "# plt.plot(lambda_val[:,2],_pcqed_502[:,2],'ro-', label='2nd')\n",
    "\n",
    "plt.xlabel('Bondlength')\n",
    "plt.ylabel('Energy')\n",
    "plt.grid()\n",
    "plt.legend()"
   ]
  },
  {
   "cell_type": "code",
   "execution_count": null,
   "id": "101ce726",
   "metadata": {},
   "outputs": [],
   "source": [
    "N_R = 21\n",
    "d_array = np.linspace(0, 20, N_R)\n",
    "N_l = len(d_array)\n",
    "N_el = 400\n",
    "N_ph = 10\n",
    "omega = 0.12086\n",
    "lambda_vector = np.array([0, 0, 0.01])\n",
    "\n",
    "# create an array of zeros to store the PCQED eigenvalues for each value of d\n",
    "_pcqed_22_withoutdse = np.zeros((N_l, N_el * N_ph))\n",
    "# loop over values of d, build Hamiltonian, capture eigenvalues\n",
    "ctr = 0\n",
    "for d in d_array:\n",
    "    instance.fast_build_pcqed_pf_hamiltonian(N_el, N_ph, omega, lambda_vector ,E_array[:,ctr], Mu_array[:,:,:,ctr], neglect_DSE=True)      # E_array[:,ctr]: 20 energy values for fisrt displacement and so on... \n",
    "    _pcqed_22_withoutdse[ctr, :] = instance.PCQED_pf_eigs\n",
    "    ctr += 1"
   ]
  },
  {
   "cell_type": "code",
   "execution_count": null,
   "id": "fd93494b",
   "metadata": {},
   "outputs": [],
   "source": [
    "# print(_pcqed_22_dse)\n",
    "# print(_pcqed_22_dse[:,0])\n",
    "print(np.shape(_pcqed_22_dse[:,0]))\n",
    "print(np.shape(d_array))"
   ]
  },
  {
   "cell_type": "code",
   "execution_count": null,
   "id": "83de107c",
   "metadata": {},
   "outputs": [],
   "source": [
    "plt.plot(d_array, _pcqed_22_dse[:,0],'ro-', label=\"Dse_nocs(300,10)\")\n",
    "# plt.plot(d_array,_pcqed_22_cs[:,0], label='Dse_cs')\n",
    "plt.plot(d_array,_pcqed_22_withoutdse[:,0], 'bo-', label='no_Dse(300,10)')\n",
    "# plt.plot(d_array,_pcqed_22_withoutdse_cs[:,0], label='noDse_cs')\n",
    "\n",
    "# plt.plot(lambda_val[:,2],_pcqed_502[:,2],'ro-', label='2nd')\n",
    "# plt.plot(lambda_val[:,2],_pcqed_502[:,3],'b', label='3rd')\n",
    "# plt.plot(lambda_val[:,2],_pcqed_502[:,4],'y', label='4th')\n",
    "\n",
    "plt.xlabel('Bondlength')\n",
    "plt.ylabel('Energy')\n",
    "# plt.ylim(-0.0003, -0.0001)\n",
    "plt.grid()\n",
    "plt.legend()\n",
    "plt.savefig('LiH_0.03.png')"
   ]
  },
  {
   "cell_type": "code",
   "execution_count": null,
   "id": "fef8392e",
   "metadata": {},
   "outputs": [],
   "source": [
    "                                       "
   ]
  },
  {
   "cell_type": "code",
   "execution_count": null,
   "id": "bdf6f856",
   "metadata": {},
   "outputs": [],
   "source": []
  },
  {
   "cell_type": "code",
   "execution_count": null,
   "id": "c255885b",
   "metadata": {},
   "outputs": [],
   "source": []
  }
 ],
 "metadata": {
  "kernelspec": {
   "display_name": "Python 3 (ipykernel)",
   "language": "python",
   "name": "python3"
  },
  "language_info": {
   "codemirror_mode": {
    "name": "ipython",
    "version": 3
   },
   "file_extension": ".py",
   "mimetype": "text/x-python",
   "name": "python",
   "nbconvert_exporter": "python",
   "pygments_lexer": "ipython3",
   "version": "3.9.15"
  }
 },
 "nbformat": 4,
 "nbformat_minor": 5
}
