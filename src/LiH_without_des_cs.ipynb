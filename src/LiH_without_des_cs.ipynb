{
 "cells": [
  {
   "cell_type": "code",
   "execution_count": 2,
   "id": "57746595",
   "metadata": {},
   "outputs": [],
   "source": [
    "# import libraries\n",
    "import numpy as np\n",
    "import sys\n",
    "import psi4\n",
    "from helper_PFCI import PFHamiltonianGenerator\n",
    "np.set_printoptions(threshold=sys.maxsize)\n",
    "psi4.core.set_output_file('output.dat', False)\n",
    "import time\n",
    "import json\n",
    "import matplotlib.pyplot as plt\n",
    "import json\n",
    "import os"
   ]
  },
  {
   "cell_type": "markdown",
   "id": "a625f560",
   "metadata": {},
   "source": [
    "We are going to read the energy eigenvalues and dipole matrix elements from .npy files.  We will also still create an instance of the PFHamiltonianGenerator class so we can use its build_pcqed_pf_hamiltonian() method, but it is not really important what details we use to instantiate this class... so we will use LiH in a minimal basis since this is a fast way to instantiate the class!"
   ]
  },
  {
   "cell_type": "code",
   "execution_count": 3,
   "id": "b94625f2",
   "metadata": {},
   "outputs": [],
   "source": [
    "# # Set the molecule and bond length\n",
    "# mol = psi4.geometry(\"\"\"\n",
    "# 0 1\n",
    "# O\n",
    "# H 1 1.0\n",
    "# \"\"\")\n",
    "\n",
    "# # Optimize the geometry to obtain the new coordinates\n",
    "# psi4.optimize('scf/cc-pvdz')\n",
    "\n",
    "# # Get the new optimized coordinates\n",
    "# new_coordinates = mol.geometry()\n",
    "\n",
    "# # Print the new coordinates\n",
    "# print(new_coordinates)"
   ]
  },
  {
   "cell_type": "code",
   "execution_count": 8,
   "id": "b281b3e5",
   "metadata": {},
   "outputs": [
    {
     "ename": "FileNotFoundError",
     "evalue": "[Errno 2] No such file or directory: '/Users/rmandern/code/SCQED-PCQED/src/data.json'",
     "output_type": "error",
     "traceback": [
      "\u001b[0;31m---------------------------------------------------------------------------\u001b[0m",
      "\u001b[0;31mFileNotFoundError\u001b[0m                         Traceback (most recent call last)",
      "Cell \u001b[0;32mIn[8], line 7\u001b[0m\n\u001b[1;32m      5\u001b[0m relative_path \u001b[38;5;241m=\u001b[39m \u001b[38;5;124m'\u001b[39m\u001b[38;5;124mdata.json\u001b[39m\u001b[38;5;124m'\u001b[39m\n\u001b[1;32m      6\u001b[0m absolute_path \u001b[38;5;241m=\u001b[39m os\u001b[38;5;241m.\u001b[39mpath\u001b[38;5;241m.\u001b[39mabspath(relative_path)\n\u001b[0;32m----> 7\u001b[0m \u001b[38;5;28;01mwith\u001b[39;00m \u001b[38;5;28;43mopen\u001b[39;49m\u001b[43m(\u001b[49m\u001b[43mabsolute_path\u001b[49m\u001b[43m,\u001b[49m\u001b[43m \u001b[49m\u001b[38;5;124;43m'\u001b[39;49m\u001b[38;5;124;43mr\u001b[39;49m\u001b[38;5;124;43m'\u001b[39;49m\u001b[43m)\u001b[49m \u001b[38;5;28;01mas\u001b[39;00m file:\n\u001b[1;32m      8\u001b[0m     data \u001b[38;5;241m=\u001b[39m json\u001b[38;5;241m.\u001b[39mload(file)\n",
      "File \u001b[0;32m~/miniforge3/envs/p4env/lib/python3.9/site-packages/IPython/core/interactiveshell.py:282\u001b[0m, in \u001b[0;36m_modified_open\u001b[0;34m(file, *args, **kwargs)\u001b[0m\n\u001b[1;32m    275\u001b[0m \u001b[38;5;28;01mif\u001b[39;00m file \u001b[38;5;129;01min\u001b[39;00m {\u001b[38;5;241m0\u001b[39m, \u001b[38;5;241m1\u001b[39m, \u001b[38;5;241m2\u001b[39m}:\n\u001b[1;32m    276\u001b[0m     \u001b[38;5;28;01mraise\u001b[39;00m \u001b[38;5;167;01mValueError\u001b[39;00m(\n\u001b[1;32m    277\u001b[0m         \u001b[38;5;124mf\u001b[39m\u001b[38;5;124m\"\u001b[39m\u001b[38;5;124mIPython won\u001b[39m\u001b[38;5;124m'\u001b[39m\u001b[38;5;124mt let you open fd=\u001b[39m\u001b[38;5;132;01m{\u001b[39;00mfile\u001b[38;5;132;01m}\u001b[39;00m\u001b[38;5;124m by default \u001b[39m\u001b[38;5;124m\"\u001b[39m\n\u001b[1;32m    278\u001b[0m         \u001b[38;5;124m\"\u001b[39m\u001b[38;5;124mas it is likely to crash IPython. If you know what you are doing, \u001b[39m\u001b[38;5;124m\"\u001b[39m\n\u001b[1;32m    279\u001b[0m         \u001b[38;5;124m\"\u001b[39m\u001b[38;5;124myou can use builtins\u001b[39m\u001b[38;5;124m'\u001b[39m\u001b[38;5;124m open.\u001b[39m\u001b[38;5;124m\"\u001b[39m\n\u001b[1;32m    280\u001b[0m     )\n\u001b[0;32m--> 282\u001b[0m \u001b[38;5;28;01mreturn\u001b[39;00m \u001b[43mio_open\u001b[49m\u001b[43m(\u001b[49m\u001b[43mfile\u001b[49m\u001b[43m,\u001b[49m\u001b[43m \u001b[49m\u001b[38;5;241;43m*\u001b[39;49m\u001b[43margs\u001b[49m\u001b[43m,\u001b[49m\u001b[43m \u001b[49m\u001b[38;5;241;43m*\u001b[39;49m\u001b[38;5;241;43m*\u001b[39;49m\u001b[43mkwargs\u001b[49m\u001b[43m)\u001b[49m\n",
      "\u001b[0;31mFileNotFoundError\u001b[0m: [Errno 2] No such file or directory: '/Users/rmandern/code/SCQED-PCQED/src/data.json'"
     ]
    }
   ],
   "source": [
    "# json_file = os.path.join(\"/Users/rmandern/code/SCQED-PCQED/\", 'to', 'data.json')\n",
    "# with open(json_file, 'r') as file:\n",
    "#     data = json.load(file)\n",
    "    \n",
    "relative_path = 'data.json'\n",
    "absolute_path = os.path.abspath(relative_path)\n",
    "with open(absolute_path, 'r') as file:\n",
    "    data = json.load(file)"
   ]
  },
  {
   "cell_type": "code",
   "execution_count": null,
   "id": "c307e088",
   "metadata": {},
   "outputs": [],
   "source": []
  },
  {
   "cell_type": "code",
   "execution_count": 9,
   "id": "12202c36",
   "metadata": {},
   "outputs": [
    {
     "ename": "FileNotFoundError",
     "evalue": "[Errno 2] No such file or directory: '/Users/rmandern/code/SCQED-PCQED/LiH_data/LiH_r_scan_6311g_fci_Energies.npy'",
     "output_type": "error",
     "traceback": [
      "\u001b[0;31m---------------------------------------------------------------------------\u001b[0m",
      "\u001b[0;31mFileNotFoundError\u001b[0m                         Traceback (most recent call last)",
      "Cell \u001b[0;32mIn[9], line 11\u001b[0m\n\u001b[1;32m      8\u001b[0m Mu_npy_file \u001b[38;5;241m=\u001b[39m npy_folder \u001b[38;5;241m+\u001b[39m \u001b[38;5;124m\"\u001b[39m\u001b[38;5;124mLiH_r_scan_6311g_fci_Dipoles.npy\u001b[39m\u001b[38;5;124m\"\u001b[39m\n\u001b[1;32m     10\u001b[0m \u001b[38;5;66;03m# store energy eigenvalues in E_array\u001b[39;00m\n\u001b[0;32m---> 11\u001b[0m E_array \u001b[38;5;241m=\u001b[39m \u001b[43mnp\u001b[49m\u001b[38;5;241;43m.\u001b[39;49m\u001b[43mload\u001b[49m\u001b[43m(\u001b[49m\u001b[43mE_npy_file\u001b[49m\u001b[43m)\u001b[49m\n\u001b[1;32m     12\u001b[0m \u001b[38;5;66;03m# store dipole matrix elements in Mu_array\u001b[39;00m\n\u001b[1;32m     13\u001b[0m Mu_array \u001b[38;5;241m=\u001b[39m np\u001b[38;5;241m.\u001b[39mload(Mu_npy_file)\n",
      "File \u001b[0;32m~/miniforge3/envs/p4env/lib/python3.9/site-packages/numpy/lib/npyio.py:405\u001b[0m, in \u001b[0;36mload\u001b[0;34m(file, mmap_mode, allow_pickle, fix_imports, encoding, max_header_size)\u001b[0m\n\u001b[1;32m    403\u001b[0m     own_fid \u001b[38;5;241m=\u001b[39m \u001b[38;5;28;01mFalse\u001b[39;00m\n\u001b[1;32m    404\u001b[0m \u001b[38;5;28;01melse\u001b[39;00m:\n\u001b[0;32m--> 405\u001b[0m     fid \u001b[38;5;241m=\u001b[39m stack\u001b[38;5;241m.\u001b[39menter_context(\u001b[38;5;28;43mopen\u001b[39;49m\u001b[43m(\u001b[49m\u001b[43mos_fspath\u001b[49m\u001b[43m(\u001b[49m\u001b[43mfile\u001b[49m\u001b[43m)\u001b[49m\u001b[43m,\u001b[49m\u001b[43m \u001b[49m\u001b[38;5;124;43m\"\u001b[39;49m\u001b[38;5;124;43mrb\u001b[39;49m\u001b[38;5;124;43m\"\u001b[39;49m\u001b[43m)\u001b[49m)\n\u001b[1;32m    406\u001b[0m     own_fid \u001b[38;5;241m=\u001b[39m \u001b[38;5;28;01mTrue\u001b[39;00m\n\u001b[1;32m    408\u001b[0m \u001b[38;5;66;03m# Code to distinguish from NumPy binary files and pickles.\u001b[39;00m\n",
      "\u001b[0;31mFileNotFoundError\u001b[0m: [Errno 2] No such file or directory: '/Users/rmandern/code/SCQED-PCQED/LiH_data/LiH_r_scan_6311g_fci_Energies.npy'"
     ]
    }
   ],
   "source": [
    "# read data from .npy files for formaldehyde casci(8,8) calculations\n",
    "\n",
    "# !!! Change this to the correct path on your computer!\n",
    "npy_folder = \"/Users/rmandern/code/SCQED-PCQED/LiH_data/\"\n",
    "\n",
    "# these file names should still be good\n",
    "E_npy_file = npy_folder + \"LiH_r_scan_6311g_fci_Energies.npy\"\n",
    "Mu_npy_file = npy_folder + \"LiH_r_scan_6311g_fci_Dipoles.npy\"\n",
    "\n",
    "# store energy eigenvalues in E_array\n",
    "E_array = np.load(E_npy_file)\n",
    "# store dipole matrix elements in Mu_array\n",
    "Mu_array = np.load(Mu_npy_file)\n",
    "\n",
    "# print their shape so we know how many elements we have\n",
    "print(np.shape(E_array))\n",
    "print(np.shape(Mu_array))\n",
    "# print(E_array)"
   ]
  },
  {
   "cell_type": "code",
   "execution_count": null,
   "id": "674328dc",
   "metadata": {},
   "outputs": [],
   "source": [
    "# setup basic arguments to create an instance of the PFHamiltonianGenerator class\n",
    "mol_str = \"\"\"\n",
    "    Li\n",
    "    H 1 1.4\n",
    "    symmetry c1\n",
    "\"\"\"\n",
    "\n",
    "\n",
    "options_dict = {\n",
    "    \"basis\": \"sto-3g\",\n",
    "    \"scf_type\": \"pk\",\n",
    "    \"e_convergence\": 1e-10,\n",
    "    \"d_convergence\": 1e-10,\n",
    "}\n",
    "\n",
    "\n",
    "cavity_free_dict = {\n",
    "    'omega_value' : 0.12086,\n",
    "    'lambda_vector' : np.array([0, 0, 0.0]),\n",
    "    'ci_level' : 'fci',   \n",
    "    'full_diagonalization' : True,\n",
    "    'number_of_photons' : 10, \n",
    "}\n",
    "\n",
    "# create the instance of our PFHamiltonianGenerator class\n",
    "instance = PFHamiltonianGenerator(mol_str, options_dict, cavity_free_dict)"
   ]
  },
  {
   "cell_type": "code",
   "execution_count": null,
   "id": "72c9fc3f",
   "metadata": {},
   "outputs": [],
   "source": [
    "N_R = 21\n",
    "d_array = np.linspace(0, 20, N_R)\n",
    "N_l = len(d_array)\n",
    "N_el = 300\n",
    "N_ph = 10\n",
    "omega = 0.12086\n",
    "lambda_vector = np.array([0, 0, 0.01])\n",
    "\n",
    "# create an array of zeros to store the PCQED eigenvalues for each value of d\n",
    "_pcqed_22_dse = np.zeros((N_l, N_el * N_ph))\n",
    "# loop over values of d, build Hamiltonian, capture eigenvalues\n",
    "ctr = 0\n",
    "for d in d_array:\n",
    "    instance.fast_build_pcqed_pf_hamiltonian(N_el, N_ph, omega, lambda_vector , E_array[:,ctr], Mu_array[:,:,:,ctr], neglect_DSE=False)      # E_array[:,ctr]: 20 energy values for fisrt displacement and so on... \n",
    "    _pcqed_22_dse[ctr, :] = instance.PCQED_pf_eigs\n",
    "    ctr += 1"
   ]
  },
  {
   "cell_type": "code",
   "execution_count": null,
   "id": "f600c131",
   "metadata": {},
   "outputs": [],
   "source": [
    "# N_R = 21\n",
    "# d_array = np.linspace(0, 20, N_R)\n",
    "# N_l = len(d_array)\n",
    "# N_el = 300\n",
    "# N_ph = 10\n",
    "# omega = 0.12086\n",
    "# lambda_vector = np.array([0, 0, 0.01])\n",
    "\n",
    "# # create an array of zeros to store the PCQED eigenvalues for each value of d\n",
    "# _pcqed_22_cs = np.zeros((N_l, N_el * N_ph))\n",
    "# # loop over values of d, build Hamiltonian, capture eigenvalues\n",
    "# ctr = 0\n",
    "# for d in d_array:\n",
    "#     instance.fast_build_pcqed_cs_hamiltonian(N_el, N_ph, omega, lambda_vector , E_array[:,ctr], Mu_array[:,:,:,ctr], neglect_DSE=False)      # E_array[:,ctr]: 20 energy values for fisrt displacement and so on... \n",
    "#     _pcqed_22_cs[ctr, :] = instance.PCQED_pf_eigs\n",
    "#     ctr += 1"
   ]
  },
  {
   "cell_type": "code",
   "execution_count": null,
   "id": "101ce726",
   "metadata": {},
   "outputs": [],
   "source": [
    "N_R = 21\n",
    "d_array = np.linspace(0, 20, N_R)\n",
    "N_l = len(d_array)\n",
    "N_el = 300\n",
    "N_ph = 10\n",
    "omega = 0.12086\n",
    "lambda_vector = np.array([0, 0, 0.01])\n",
    "\n",
    "# create an array of zeros to store the PCQED eigenvalues for each value of d\n",
    "_pcqed_22_withoutdse = np.zeros((N_l, N_el * N_ph))\n",
    "# loop over values of d, build Hamiltonian, capture eigenvalues\n",
    "ctr = 0\n",
    "for d in d_array:\n",
    "    instance.fast_build_pcqed_pf_hamiltonian(N_el, N_ph, omega, lambda_vector ,E_array[:,ctr], Mu_array[:,:,:,ctr], neglect_DSE=True)      # E_array[:,ctr]: 20 energy values for fisrt displacement and so on... \n",
    "    _pcqed_22_withoutdse[ctr, :] = instance.PCQED_pf_eigs\n",
    "    ctr += 1"
   ]
  },
  {
   "cell_type": "code",
   "execution_count": null,
   "id": "8c29ee2a",
   "metadata": {},
   "outputs": [],
   "source": [
    "# N_R = 21\n",
    "# d_array = np.linspace(0, 20, N_R)\n",
    "# N_l = len(d_array)\n",
    "# N_el = 300\n",
    "# N_ph = 10\n",
    "# omega = 0.12086\n",
    "# lambda_vector = np.array([0, 0, 0.01])\n",
    "\n",
    "# # create an array of zeros to store the PCQED eigenvalues for each value of d\n",
    "# _pcqed_22_withoutdse_cs = np.zeros((N_l, N_el * N_ph))\n",
    "# # loop over values of d, build Hamiltonian, capture eigenvalues\n",
    "# ctr = 0\n",
    "# for d in d_array:\n",
    "#     instance.fast_build_pcqed_cs_hamiltonian(N_el, N_ph, omega, lambda_vector , E_array, Mu_array, neglect_DSE=True)      # E_array[:,ctr]: 20 energy values for fisrt displacement and so on... \n",
    "#     _pcqed_22_withoutdse_cs[ctr, :] = instance.PCQED_pf_eigs\n",
    "#     ctr += 1"
   ]
  },
  {
   "cell_type": "code",
   "execution_count": null,
   "id": "83de107c",
   "metadata": {},
   "outputs": [],
   "source": [
    "\n",
    "plt.plot(d_array, _pcqed_22_dse[:,0],'ro-', label=\"Dse_nocs(300,10)\")\n",
    "# plt.plot(d_array,_pcqed_22_cs[:,0], label='Dse_cs')\n",
    "plt.plot(d_array,_pcqed_22_withoutdse[:,0], 'bo-', label='no_Dse(300,10)')\n",
    "# plt.plot(d_array,_pcqed_22_withoutdse_cs[:,0], label='noDse_cs')\n",
    "\n",
    "# plt.plot(lambda_val[:,2],_pcqed_502[:,2],'ro-', label='2nd')\n",
    "# plt.plot(lambda_val[:,2],_pcqed_502[:,3],'b', label='3rd')\n",
    "# plt.plot(lambda_val[:,2],_pcqed_502[:,4],'y', label='4th')\n",
    "\n",
    "plt.xlabel('Displacement')\n",
    "plt.ylabel('Energy')\n",
    "# plt.ylim(-0.0003, -0.0001)\n",
    "plt.grid()\n",
    "plt.legend()\n",
    "plt.savefig('LiH.png')"
   ]
  },
  {
   "cell_type": "code",
   "execution_count": null,
   "id": "fef8392e",
   "metadata": {},
   "outputs": [],
   "source": [
    "                                       "
   ]
  },
  {
   "cell_type": "code",
   "execution_count": null,
   "id": "bdf6f856",
   "metadata": {},
   "outputs": [],
   "source": []
  }
 ],
 "metadata": {
  "kernelspec": {
   "display_name": "Python 3 (ipykernel)",
   "language": "python",
   "name": "python3"
  },
  "language_info": {
   "codemirror_mode": {
    "name": "ipython",
    "version": 3
   },
   "file_extension": ".py",
   "mimetype": "text/x-python",
   "name": "python",
   "nbconvert_exporter": "python",
   "pygments_lexer": "ipython3",
   "version": "3.9.15"
  }
 },
 "nbformat": 4,
 "nbformat_minor": 5
}
