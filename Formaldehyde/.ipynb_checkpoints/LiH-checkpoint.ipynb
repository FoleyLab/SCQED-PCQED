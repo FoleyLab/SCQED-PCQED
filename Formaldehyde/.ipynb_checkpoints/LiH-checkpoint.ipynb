{
 "cells": [
  {
   "cell_type": "code",
   "execution_count": 1,
   "id": "57746595",
   "metadata": {},
   "outputs": [],
   "source": [
    "# import libraries\n",
    "import numpy as np\n",
    "import sys\n",
    "import psi4\n",
    "from helper_PFCI import PFHamiltonianGenerator\n",
    "np.set_printoptions(threshold=sys.maxsize)\n",
    "psi4.core.set_output_file('output.dat', False)\n",
    "import time\n",
    "import json\n",
    "import matplotlib.pyplot as plt"
   ]
  },
  {
   "cell_type": "markdown",
   "id": "a625f560",
   "metadata": {},
   "source": [
    "We are going to read the energy eigenvalues and dipole matrix elements from .npy files.  We will also still create an instance of the PFHamiltonianGenerator class so we can use its build_pcqed_pf_hamiltonian() method, but it is not really important what details we use to instantiate this class... so we will use LiH in a minimal basis since this is a fast way to instantiate the class!"
   ]
  },
  {
   "cell_type": "code",
   "execution_count": 2,
   "id": "b94625f2",
   "metadata": {},
   "outputs": [],
   "source": [
    "# # Set the molecule and bond length\n",
    "# mol = psi4.geometry(\"\"\"\n",
    "# 0 1\n",
    "# O\n",
    "# H 1 1.0\n",
    "# \"\"\")\n",
    "\n",
    "# # Optimize the geometry to obtain the new coordinates\n",
    "# psi4.optimize('scf/cc-pvdz')\n",
    "\n",
    "# # Get the new optimized coordinates\n",
    "# new_coordinates = mol.geometry()\n",
    "\n",
    "# # Print the new coordinates\n",
    "# print(new_coordinates)"
   ]
  },
  {
   "cell_type": "code",
   "execution_count": 3,
   "id": "12202c36",
   "metadata": {},
   "outputs": [
    {
     "name": "stdout",
     "output_type": "stream",
     "text": [
      "(50,)\n",
      "(50, 50, 3)\n",
      "[-8.01219476 -7.899962   -7.88593596 -7.86104863 -7.86104863 -7.84851087\n",
      " -7.84851087 -7.80693549 -7.78459936 -7.76702524 -7.76342939 -7.75827098\n",
      " -7.75827098 -7.75123644 -7.75123644 -7.72171149 -7.68303148 -7.53167595\n",
      " -7.46183148 -7.44561152 -7.44561152 -7.44122102 -7.41700688 -7.41700688\n",
      " -7.41499491 -7.41499491 -7.40506676 -7.40302238 -7.39081209 -7.38221021\n",
      " -7.38221021 -7.37219855 -7.37219855 -7.36897222 -7.36897222 -7.35609042\n",
      " -7.35609042 -7.33714534 -7.33343267 -7.32130747 -7.31448363 -7.31448363\n",
      " -7.306799   -7.306799   -7.30583178 -7.30363511 -7.29983049 -7.29983049\n",
      " -7.29710106 -7.28736609]\n"
     ]
    }
   ],
   "source": [
    "# read data from .npy files for formaldehyde casci(8,8) calculations\n",
    "\n",
    "# !!! Change this to the correct path on your computer!\n",
    "npy_folder = \"/Users/rmandern/code/SCQED-PCQED/LiH/\"\n",
    "\n",
    "# these file names should still be good\n",
    "E_npy_file = npy_folder + \"LiH_r_1.4_6311g_fci_Energies_3.npy\"\n",
    "Mu_npy_file = npy_folder + \"LiH_r_1.4_6311g_fci_Dipoles_3.npy\"\n",
    "\n",
    "# store energy eigenvalues in E_array\n",
    "E_array = np.load(E_npy_file)\n",
    "# store dipole matrix elements in Mu_array\n",
    "Mu_array = np.load(Mu_npy_file)\n",
    "\n",
    "# print their shape so we know how many elements we have\n",
    "print(np.shape(E_array))\n",
    "print(np.shape(Mu_array))\n",
    "print(E_array)"
   ]
  },
  {
   "cell_type": "code",
   "execution_count": 4,
   "id": "674328dc",
   "metadata": {},
   "outputs": [
    {
     "name": "stdout",
     "output_type": "stream",
     "text": [
      "\n",
      "Start SCF iterations:\n",
      "\n",
      "Canonical RHF One-electron energy = -12.6946346236296037\n",
      "CQED-RHF One-electron energy      = -12.6912246781501068\n",
      "Nuclear repulsion energy          = 1.1339511657214287\n",
      "Dipole energy                     = 0.0032271304319229\n",
      "SCF Iteration   1: Energy = -7.8595725022589473   dE = -7.85957E+00   dRMS = 8.01325E-05\n",
      "SCF Iteration   2: Energy = -7.8595728148569606   dE = -3.12598E-07   dRMS = 9.74325E-06\n",
      "SCF Iteration   3: Energy = -7.8595728258670849   dE = -1.10101E-08   dRMS = 3.56735E-06\n",
      "SCF Iteration   4: Energy = -7.8595728281751942   dE = -2.30811E-09   dRMS = 4.53151E-08\n",
      "SCF Iteration   5: Energy = -7.8595728281752475   dE = -5.32907E-14   dRMS = 1.23024E-10\n",
      "SCF Iteration   6: Energy = -7.8595728281752457   dE =  1.77636E-15   dRMS = 8.29877E-12\n",
      "Total time for SCF iterations: 0.001 seconds \n",
      "\n",
      "QED-RHF   energy: -7.85957283 hartree\n",
      "Psi4  SCF energy: -7.86053866 hartree\n",
      " Completed QED-RHF in 0.3514580726623535 seconds\n",
      " Completed 1HSO Build in 6.079673767089844e-05 seconds\n",
      " Completed ERI Build in 0.0011620521545410156 seconds \n",
      " Completed 2D build in 0.00014901161193847656 seconds\n",
      " Completed 1G build in 1.3113021850585938e-05 seconds\n",
      " Completed the Dipole Matrix Build in 3.7670135498046875e-05 seconds\n",
      " Completed determinant list in 0.00044608116149902344 seconds \n",
      " Completed constant offset matrix in 0.00017404556274414062 seconds\n",
      " Completed Hamiltonian build in 0.6707110404968262 seconds\n"
     ]
    }
   ],
   "source": [
    "# setup basic arguments to create an instance of the PFHamiltonianGenerator class\n",
    "mol_str = \"\"\"\n",
    "    Li\n",
    "    H 1 1.4\n",
    "    symmetry c1\n",
    "\"\"\"\n",
    "\n",
    "\n",
    "options_dict = {\n",
    "    \"basis\": \"sto-3g\",\n",
    "    \"scf_type\": \"pk\",\n",
    "    \"e_convergence\": 1e-10,\n",
    "    \"d_convergence\": 1e-10,\n",
    "}\n",
    "\n",
    "\n",
    "cavity_free_dict = {\n",
    "    'omega_value' : 0.12086,\n",
    "    'lambda_vector' : np.array([0, 0, 0.025]),\n",
    "    'ci_level' : 'fci',   \n",
    "    'full_diagonalization' : True,\n",
    "    'number_of_photons' : 0, \n",
    "}\n",
    "\n",
    "# create the instance of our PFHamiltonianGenerator class\n",
    "instance = PFHamiltonianGenerator(mol_str, options_dict, cavity_free_dict)"
   ]
  },
  {
   "cell_type": "code",
   "execution_count": 5,
   "id": "72c9fc3f",
   "metadata": {},
   "outputs": [],
   "source": [
    "N_R = 21\n",
    "d_array = np.linspace(0, 20, N_R)\n",
    "N_l = len(d_array)\n",
    "N_el = 50\n",
    "N_ph = 10\n",
    "omega = 0.12086\n",
    "lambda_vector = np.array([0, 0, 0.025])\n",
    "\n",
    "# create an array of zeros to store the PCQED eigenvalues for each value of d\n",
    "_pcqed_22 = np.zeros((N_l, N_el * N_ph))\n",
    "# loop over values of d, build Hamiltonian, capture eigenvalues\n",
    "ctr = 0\n",
    "for d in d_array:\n",
    "    instance.fast_build_pcqed_pf_hamiltonian(N_el, N_ph, omega, lambda_vector , E_array, Mu_array)      # E_array[:,ctr]: 20 energy values for fisrt displacement and so on... \n",
    "    _pcqed_22[ctr, :] = instance.PCQED_pf_eigs\n",
    "    ctr += 1"
   ]
  },
  {
   "cell_type": "code",
   "execution_count": 6,
   "id": "2409be19",
   "metadata": {},
   "outputs": [
    {
     "name": "stdout",
     "output_type": "stream",
     "text": [
      "Ground state-8.011624307755\n"
     ]
    }
   ],
   "source": [
    "# E_pcqed_22 = instance.PCQED_pf_eigs\n",
    "print(f\"Ground state{_pcqed_22[0,0]:.12f}\")"
   ]
  }
 ],
 "metadata": {
  "kernelspec": {
   "display_name": "Python 3 (ipykernel)",
   "language": "python",
   "name": "python3"
  },
  "language_info": {
   "codemirror_mode": {
    "name": "ipython",
    "version": 3
   },
   "file_extension": ".py",
   "mimetype": "text/x-python",
   "name": "python",
   "nbconvert_exporter": "python",
   "pygments_lexer": "ipython3",
   "version": "3.9.15"
  }
 },
 "nbformat": 4,
 "nbformat_minor": 5
}
