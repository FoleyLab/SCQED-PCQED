{
 "cells": [
  {
   "cell_type": "code",
   "execution_count": 21,
   "id": "57746595",
   "metadata": {},
   "outputs": [],
   "source": [
    "import numpy as np\n",
    "import sys\n",
    "np.set_printoptions(precision=10, linewidth=200, suppress=True)\n",
    "import psi4\n",
    "from helper_PFCI import PFHamiltonianGenerator\n",
    "from helper_PFCI import Determinant\n",
    "from helper_cqed_rhf import cqed_rhf\n",
    "np.set_printoptions(threshold=sys.maxsize)\n",
    "psi4.core.set_output_file('output.dat', False)\n",
    "import os\n",
    "import json"
   ]
  },
  {
   "cell_type": "code",
   "execution_count": 22,
   "id": "01d32a9d",
   "metadata": {},
   "outputs": [],
   "source": [
    "# options for mgf\n",
    "mol_str = \"\"\"\n",
    "Li\n",
    "H 1 1.5\n",
    "symmetry c1\n",
    "\"\"\"\n",
    "\n",
    "options_dict = {\n",
    "    \"basis\": \"6-31G\",\n",
    "    \"scf_type\": \"pk\",\n",
    "    \"e_convergence\": 1e-10,\n",
    "    \"d_convergence\": 1e-10,\n",
    "    \"save_jk\" : True\n",
    "}\n",
    "\n",
    "\n",
    "psi4.set_options(options_dict)\n",
    "mol = psi4.geometry(mol_str)\n"
   ]
  },
  {
   "cell_type": "code",
   "execution_count": 23,
   "id": "14ad5bb0",
   "metadata": {},
   "outputs": [],
   "source": [
    "mol_tmpl = \"\"\"\n",
    "Li\n",
    "H 1 **R**\n",
    "symmetry c1\n",
    "\"\"\"\n",
    "\n",
    "mol_str = \"\"\"\n",
    "Li\n",
    "H 1 1.5\n",
    "symmetry c1\n",
    "\"\"\"\n",
    "\n",
    "N_R = 200\n",
    "# N_el = 50\n",
    "# all_states = np.linspace(0, N_el-1, N_el, dtype=int)\n",
    "r_array = np.linspace(1.4, 2.2, N_R)\n",
    "\n",
    "# E_array = np.zeros((N_R, N_el))\n",
    "# Mu_array = np.zeros((N_R, N_el, N_el, 3))\n",
    "# psi4.set_options(options_dict)\n",
    "\n",
    "# r_idx = 0\n",
    "# for r in r_array:\n",
    "#     mol_str = mol_tmpl.replace(\"**R**\", str(r))\n",
    "#     print(mol_str)\n",
    "#     mol = psi4.geometry(mol_str)\n",
    "#     #scf_e, wfn = psi4.energy('SCF', return_wfn=True)\n",
    "#     #fci_energy = psi4.energy('fci',ref_wfn=wfn)\n",
    "    \n",
    "#     LiH = PFHamiltonianGenerator(mol_str, options_dict, cavity_free_dict)\n",
    "#     #assert np.isclose(fci_energy, LiH.CIeigs[0], 1e-7)\n",
    "#     # sort out states with dipole-allowed transition from ground state\n",
    "#     singlet_states = LiH.sort_dipole_allowed_states( N_el)\n",
    "#     print(singlet_states)\n",
    "    \n",
    "#     E_array[r_idx, :] = LiH.CIeigs[singlet_states]\n",
    "#     Mu_array[r_idx, :, :, :] = LiH.compute_dipole_moments(singlet_states)\n",
    "    \n",
    "#     # uncomment to try not sorting singlet states\n",
    "#     #E_array[r_idx, :] = LiH.CIeigs[all_states]\n",
    "#     #Mu_array[r_idx, :, :, :] = LiH.compute_dipole_moments(all_states)\n",
    "    \n",
    "#     r_idx += 1\n",
    "\n"
   ]
  },
  {
   "cell_type": "code",
   "execution_count": 24,
   "id": "ce8c52f4",
   "metadata": {
    "scrolled": true
   },
   "outputs": [
    {
     "name": "stdout",
     "output_type": "stream",
     "text": [
      "/Users/rmandern/code/SCQED-PCQED/Formaldehyde\n"
     ]
    }
   ],
   "source": [
    "from matplotlib import pyplot as plt\n",
    "somedir=os.getcwd()\n",
    "print(somedir)"
   ]
  },
  {
   "cell_type": "code",
   "execution_count": 25,
   "id": "5c22fc19-2547-4c74-85c7-01296abbd7ce",
   "metadata": {
    "tags": []
   },
   "outputs": [],
   "source": [
    "# np.save(\"LiH_631G_FCI_E_array\", E_array)\n",
    "# np.save(\"LiH_631G_Mu_array\", Mu_array)"
   ]
  },
  {
   "cell_type": "code",
   "execution_count": 26,
   "id": "a176dfc0",
   "metadata": {},
   "outputs": [
    {
     "name": "stdout",
     "output_type": "stream",
     "text": [
      "/Users/rmandern/code/SCQED-PCQED/Formaldehyde\n"
     ]
    }
   ],
   "source": [
    "print(os.path.abspath(\".\"))\n",
    "\n",
    "#E_array = np.load(LiH_631G_FCI_E_Array.npy)\n",
    "E_array_F = np.load('E_formaldehyde_rCO_1p30_cas_88_dipole_allowed_transitions.npy')\n",
    "Mu_array_F = np.load('Mu_formaldehyde_rCO_1p30_cas_88_dipole_allowed_transitions.npy')\n",
    "# r_array = np.load('LiH_r_array.npy')"
   ]
  },
  {
   "cell_type": "code",
   "execution_count": 44,
   "id": "357bc70d",
   "metadata": {},
   "outputs": [
    {
     "name": "stdout",
     "output_type": "stream",
     "text": [
      "(200, 200, 3)\n",
      "[[0.0, 0.0, 0.0], [0.0, 0.0, 0.005], [0.0, 0.0, 0.01], [0.0, 0.0, 0.015], [0.0, 0.0, 0.02], [0.0, 0.0, 0.025], [0.0, 0.0, 0.03], [0.0, 0.0, 0.035], [0.0, 0.0, 0.04], [0.0, 0.0, 0.045], [0.0, 0.0, 0.05]]\n",
      "(11, 3)\n"
     ]
    }
   ],
   "source": [
    "# print(E_array_F.shape)\n",
    "print(Mu_array_F.shape)\n",
    "print(lambdas)\n",
    "lam_np1 = [0.0, 0.0, 0.005]\n",
    "print(lam_np.shape)\n",
    "d_ag = np.matmul(Mu_array_F, lam_np1)\n",
    "# print(d_ag)"
   ]
  },
  {
   "cell_type": "code",
   "execution_count": 43,
   "id": "3f0cd52c",
   "metadata": {},
   "outputs": [
    {
     "ename": "FileNotFoundError",
     "evalue": "[Errno 2] No such file or directory: 'CH2O_CO_r_1.3_casci_cc-pVDZ_n_act_els_8_n_act_orbs_8_dipole_allowed.json'",
     "output_type": "error",
     "traceback": [
      "\u001b[0;31m---------------------------------------------------------------------------\u001b[0m",
      "\u001b[0;31mFileNotFoundError\u001b[0m                         Traceback (most recent call last)",
      "Cell \u001b[0;32mIn[43], line 2\u001b[0m\n\u001b[1;32m      1\u001b[0m \u001b[38;5;66;03m# open json file\u001b[39;00m\n\u001b[0;32m----> 2\u001b[0m f \u001b[38;5;241m=\u001b[39m \u001b[38;5;28;43mopen\u001b[39;49m\u001b[43m(\u001b[49m\u001b[38;5;124;43m\"\u001b[39;49m\u001b[38;5;124;43mCH2O_CO_r_1.3_casci_cc-pVDZ_n_act_els_8_n_act_orbs_8_dipole_allowed.json\u001b[39;49m\u001b[38;5;124;43m\"\u001b[39;49m\u001b[43m)\u001b[49m\n\u001b[1;32m      3\u001b[0m data \u001b[38;5;241m=\u001b[39m json\u001b[38;5;241m.\u001b[39mload(f)\n",
      "File \u001b[0;32m~/miniforge3/envs/p4env/lib/python3.9/site-packages/IPython/core/interactiveshell.py:282\u001b[0m, in \u001b[0;36m_modified_open\u001b[0;34m(file, *args, **kwargs)\u001b[0m\n\u001b[1;32m    275\u001b[0m \u001b[38;5;28;01mif\u001b[39;00m file \u001b[38;5;129;01min\u001b[39;00m {\u001b[38;5;241m0\u001b[39m, \u001b[38;5;241m1\u001b[39m, \u001b[38;5;241m2\u001b[39m}:\n\u001b[1;32m    276\u001b[0m     \u001b[38;5;28;01mraise\u001b[39;00m \u001b[38;5;167;01mValueError\u001b[39;00m(\n\u001b[1;32m    277\u001b[0m         \u001b[38;5;124mf\u001b[39m\u001b[38;5;124m\"\u001b[39m\u001b[38;5;124mIPython won\u001b[39m\u001b[38;5;124m'\u001b[39m\u001b[38;5;124mt let you open fd=\u001b[39m\u001b[38;5;132;01m{\u001b[39;00mfile\u001b[38;5;132;01m}\u001b[39;00m\u001b[38;5;124m by default \u001b[39m\u001b[38;5;124m\"\u001b[39m\n\u001b[1;32m    278\u001b[0m         \u001b[38;5;124m\"\u001b[39m\u001b[38;5;124mas it is likely to crash IPython. If you know what you are doing, \u001b[39m\u001b[38;5;124m\"\u001b[39m\n\u001b[1;32m    279\u001b[0m         \u001b[38;5;124m\"\u001b[39m\u001b[38;5;124myou can use builtins\u001b[39m\u001b[38;5;124m'\u001b[39m\u001b[38;5;124m open.\u001b[39m\u001b[38;5;124m\"\u001b[39m\n\u001b[1;32m    280\u001b[0m     )\n\u001b[0;32m--> 282\u001b[0m \u001b[38;5;28;01mreturn\u001b[39;00m \u001b[43mio_open\u001b[49m\u001b[43m(\u001b[49m\u001b[43mfile\u001b[49m\u001b[43m,\u001b[49m\u001b[43m \u001b[49m\u001b[38;5;241;43m*\u001b[39;49m\u001b[43margs\u001b[49m\u001b[43m,\u001b[49m\u001b[43m \u001b[49m\u001b[38;5;241;43m*\u001b[39;49m\u001b[38;5;241;43m*\u001b[39;49m\u001b[43mkwargs\u001b[49m\u001b[43m)\u001b[49m\n",
      "\u001b[0;31mFileNotFoundError\u001b[0m: [Errno 2] No such file or directory: 'CH2O_CO_r_1.3_casci_cc-pVDZ_n_act_els_8_n_act_orbs_8_dipole_allowed.json'"
     ]
    }
   ],
   "source": [
    "# open json file\n",
    "f = open(\"CH2O_CO_r_1.3_casci_cc-pVDZ_n_act_els_8_n_act_orbs_8_dipole_allowed.json\")\n",
    "data = json.load(f)\n"
   ]
  },
  {
   "cell_type": "code",
   "execution_count": 30,
   "id": "61dbf673",
   "metadata": {},
   "outputs": [
    {
     "name": "stdout",
     "output_type": "stream",
     "text": [
      "[[0.0, 0.0, 0.0], [0.0, 0.0, 0.005], [0.0, 0.0, 0.01], [0.0, 0.0, 0.015], [0.0, 0.0, 0.02], [0.0, 0.0, 0.025], [0.0, 0.0, 0.03], [0.0, 0.0, 0.035], [0.0, 0.0, 0.04], [0.0, 0.0, 0.045], [0.0, 0.0, 0.05]]\n",
      "[[0.    0.    0.   ]\n",
      " [0.    0.    0.005]\n",
      " [0.    0.    0.01 ]\n",
      " [0.    0.    0.015]\n",
      " [0.    0.    0.02 ]\n",
      " [0.    0.    0.025]\n",
      " [0.    0.    0.03 ]\n",
      " [0.    0.    0.035]\n",
      " [0.    0.    0.04 ]\n",
      " [0.    0.    0.045]\n",
      " [0.    0.    0.05 ]]\n"
     ]
    }
   ],
   "source": [
    "# get the array of lambda values from the json file\n",
    "lambdas = data[\"model\"][\"lambda_vector\"]\n",
    "print(lambdas)\n",
    "lam_np = np.array(lambdas)\n",
    "print(lam_np)"
   ]
  },
  {
   "cell_type": "code",
   "execution_count": null,
   "id": "e3cbec67",
   "metadata": {},
   "outputs": [],
   "source": [
    "# get the omega value from the json file\n",
    "omega_cav = data[\"model\"][\"omega\"]"
   ]
  },
  {
   "cell_type": "code",
   "execution_count": null,
   "id": "f2241054",
   "metadata": {},
   "outputs": [],
   "source": [
    "# determine how many lambda values will be in the scan\n",
    "N_l = len(lambdas)\n",
    "print(N_l)"
   ]
  },
  {
   "cell_type": "markdown",
   "id": "47aec2ff",
   "metadata": {},
   "source": [
    "\\begin{equation}\n",
    "\\hat{H}_{\\alpha n, \\beta m} = \\left( E_{\\alpha}(R) + n \\omega \\right) \\delta_{\\alpha \\beta} \\delta_{nm} + \\sqrt{\\frac{\\omega}{2}} \\lambda \\cdot \\mu_{\\alpha \\beta}(R) \\left(\\sqrt{n} \\delta_{n,m-1} + \\sqrt{n+1} \\delta_{n,m+1} \\right)  \\\\\n",
    "+\\frac{1}{2} \\sum_{\\gamma = 1}^N \\lambda \\cdot \\mu_{\\alpha, \\gamma}(R) \\lambda \\cdot \\mu_{\\gamma, \\beta} \\delta_{nm}\n",
    "\\end{equation}\n"
   ]
  },
  {
   "cell_type": "code",
   "execution_count": null,
   "id": "ca8b9959",
   "metadata": {},
   "outputs": [],
   "source": [
    "def build_pf_hamiltonian(n_el, n_ph, E_R, omega, lamvec, mu):\n",
    "    \"\"\"\n",
    "    Given an array of n_el E_R values and an n_ph states with fundamental energy omega\n",
    "    build the PF Hamiltonian\n",
    "    \n",
    "    n_el : int\n",
    "        the number of electronic states (n_el = 1 means only ground-state)\n",
    "    \n",
    "    n_ph : int\n",
    "        the number of photon occupation states (n_ph = 1 means only the |0> state)\n",
    "    \n",
    "    E_R : np.array of floats\n",
    "        the electronic energies\n",
    "        \n",
    "    omega : float\n",
    "        the energy of the photonic mode\n",
    "        \n",
    "    lamvec : np.array of floats\n",
    "        the lambda vector\n",
    "        \n",
    "    mu : (n_el x n_el x 3) np.array of floats \n",
    "        mu[i, j, k] is the kth cartesian component of the dipole moment expectation value between \n",
    "        state i and state j\n",
    "    \n",
    "    \"\"\"\n",
    "    H_PF = np.zeros((n_el * n_ph, n_el * n_ph))\n",
    "    \n",
    "    # take care of the diagonals first\n",
    "    # bare electronic and photonic energy\n",
    "    for n in range(n_ph):\n",
    "        for a in range(n_el):\n",
    "            na = n * n_el + a\n",
    "            H_PF[na,na] = E_R[a] + n * omega\n",
    "        \n",
    "    # diagonal dipole self energy\n",
    "    for n in range(n_ph):\n",
    "        for a in range(n_el):\n",
    "            na = n * n_el + a\n",
    "            for g in range(n_el):\n",
    "                H_PF[na,na] += 0.5 * np.dot(lamvec, mu[a,g,:]) * np.dot(lamvec, mu[g,a,:])\n",
    "            \n",
    "    # off-diagonal dipole self energy\n",
    "    for n in range(n_ph):\n",
    "        for a in range(n_el):\n",
    "            na = n * n_el + a\n",
    "            for b in range(n_el):\n",
    "                nb = n * n_el + b\n",
    "                for g in range(n_el):\n",
    "                    if a != b:\n",
    "                        H_PF[na, nb] += 0.5 * np.dot(lamvec, mu[a,g,:]) * np.dot(lamvec, mu[g, b, :])\n",
    "                \n",
    "    # off-diagonal bilinear coupling\n",
    "    for n in range(n_ph):\n",
    "        for a in range(n_el):\n",
    "            na = n * n_el + a\n",
    "            \n",
    "            for m in range(n_ph):\n",
    "                for b in range(n_el):\n",
    "                    mb = m * n_el + b\n",
    "                    \n",
    "                    if n == (m-1) and a != b:\n",
    "                        #print(n, a, na, m, b, mb)\n",
    "                        H_PF[na,mb] = -np.sqrt(omega / 2) * np.dot(lamvec, mu[a,b,:]) * np.sqrt(m) \n",
    "                        H_PF[mb, na] = -np.sqrt(omega / 2) * np.dot(lamvec, mu[a,b,:]) * np.sqrt(m) \n",
    "                        \n",
    "                    elif n == (m+1) and a != b:\n",
    "                        #print(n, a, na, m, b, mb)\n",
    "                        H_PF[na, mb] = -np.sqrt(omega / 2) * np.dot(lamvec, mu[a,b,:]) * np.sqrt(m+1) \n",
    "                        H_PF[mb, na] = -np.sqrt(omega / 2) * np.dot(lamvec, mu[a,b,:]) * np.sqrt(m+1)\n",
    "                        \n",
    "    \n",
    "    return H_PF"
   ]
  },
  {
   "cell_type": "markdown",
   "id": "33aa978e",
   "metadata": {},
   "source": [
    "\\begin{equation}\n",
    "\\hat{H}_{\\alpha n, \\beta m} = \\left( E_{\\alpha}(R) + n \\omega \\right) \\delta_{\\alpha \\beta} \\delta_{nm} + \\sqrt{\\frac{\\omega}{2}} \\lambda \\cdot \\mu_{\\alpha \\beta}(R) \\left(\\sqrt{n} \\delta_{n,m-1} + \\sqrt{n+1} \\delta_{n,m+1} \\right)  \\\\\n",
    "+\\frac{1}{2} \\sum_{\\gamma = 1}^N \\lambda \\cdot \\mu_{\\alpha, \\gamma}(R) \\lambda \\cdot \\mu_{\\gamma, \\beta} \\delta_{nm}\n",
    "\\end{equation}\n"
   ]
  },
  {
   "cell_type": "code",
   "execution_count": null,
   "id": "7117b419",
   "metadata": {},
   "outputs": [],
   "source": [
    "np.set_printoptions(precision=6, linewidth=200, suppress=True)\n",
    "omega_cav = 0.3582 \n",
    "# lambda_vector = np.array([0.0, 0.0, 0.005])"
   ]
  },
  {
   "cell_type": "markdown",
   "id": "277bdded",
   "metadata": {},
   "source": [
    "We want to investigate the mean absolute error of a given polariton potential energy surface as a \n",
    "function of electronic and photonic truncation:\n",
    "\n",
    "$$ {\\rm MAE} = \\frac{1}{N_R} \\sum_i^{N_R} \\left| E(R_i) - E^{'}(R_i) \\right| $$\n",
    "\n",
    "where $E^{'}(R_i)$ is a value of the polaritonic PES for a truncated level of theory and $E(R_i)$ is the exact value."
   ]
  },
  {
   "cell_type": "code",
   "execution_count": null,
   "id": "7339d644",
   "metadata": {},
   "outputs": [],
   "source": [
    "# def MAE(E, Ep):\n",
    "#     \"\"\"\n",
    "#     function to return the mean absolute error of the approximate PES stored in Ep relative to \n",
    "#     the exact PES stored in E\n",
    "#     \"\"\"\n",
    "#     # get length\n",
    "#     _NR = len(E)\n",
    "    \n",
    "#     # take element-by-element difference\n",
    "#     _diff = E - Ep\n",
    "    \n",
    "#     # compute absolute value of differences\n",
    "#     _absdiff = np.abs(_diff)\n",
    "    \n",
    "#     # return sum divided by _NR\n",
    "#     return np.sum(_absdiff) / _NR\n",
    "\n",
    "    "
   ]
  },
  {
   "cell_type": "code",
   "execution_count": null,
   "id": "365d22eb",
   "metadata": {},
   "outputs": [],
   "source": [
    "# set the electronic and photonic basis\n",
    "N_el = 2\n",
    "N_ph = 2\n",
    "\n",
    "# create an array of zeros to store the PCQED eigenvalues for each value of lambda\n",
    "_pcqed_22 = np.zeros((N_l, N_el * N_ph))\n",
    "# loop over values of lambda, build Hamiltonian, capture eigenvalues\n",
    "ctr = 0\n",
    "for lam in lambdas:\n",
    "    _HPF = build_pf_hamiltonian(N_el, N_ph, E_array_F, omega_cav, lam, Mu_array_F)\n",
    "    pf_e, pf_c = np.linalg.eigh(_HPF)\n",
    "    _pcqed_22[ctr, :] = pf_e\n",
    "    ctr += 1\n"
   ]
  },
  {
   "cell_type": "code",
   "execution_count": null,
   "id": "4f8b4781",
   "metadata": {},
   "outputs": [],
   "source": [
    "print(np.shape(lambdas))\n",
    "print(np.shape(_pcqed_22))\n",
    "print(lambdas)\n",
    "print(_pcqed_22)"
   ]
  },
  {
   "cell_type": "code",
   "execution_count": null,
   "id": "b23fe0a7",
   "metadata": {},
   "outputs": [],
   "source": [
    "lam_np = np.array(lambdas)\n",
    "print(np.shape(lambdas))\n",
    "# plt.plot(lam_np[:,2], _pcqed_22[:,0], label=\"ground-state\")\n",
    "# plt.plot(lam_np[:,2],_pcqed_22[:,1], label='first_excited_state')\n",
    "# plt.plot(lam_np[:,2],_pcqed_22[:,2], label='second_excited_state')\n",
    "plt.plot(lam_np[:,2],_pcqed_22[:,3], label='Third_excited_state')\n",
    "# plt.plot(lambdas[:,2],_pcqed_22[:,4], label='fourth_excited_state')\n",
    "# plt.ylim(-0.0002, -0.0007)\n",
    "# plt.ylim(-113.556, -113.50)\n",
    "# plt.grid()\n",
    "plt.legend()"
   ]
  },
  {
   "cell_type": "code",
   "execution_count": null,
   "id": "c20332ae",
   "metadata": {},
   "outputs": [],
   "source": [
    "\n",
    "N_el = 4\n",
    "N_ph = 2\n",
    "\n",
    "# create an array of zeros to store the PCQED eigenvalues for each value of lambda\n",
    "_pcqed_42 = np.zeros((N_l, N_el * N_ph))\n",
    "# loop over values of lambda, build Hamiltonian, capture eigenvalues\n",
    "ctr = 0\n",
    "for lam in lambdas:\n",
    "    _HPF = build_pf_hamiltonian(N_el, N_ph, E_array_F, omega_cav, lam, Mu_array_F)\n",
    "    pf_e, pf_c = np.linalg.eigh(_HPF)\n",
    "    _pcqed_42[ctr, :] = pf_e\n",
    "    ctr += 1\n"
   ]
  },
  {
   "cell_type": "code",
   "execution_count": null,
   "id": "84edfd40",
   "metadata": {},
   "outputs": [],
   "source": [
    "# plt.plot(lam_np[:,2], _pcqed_42[:,0], label=\"ground-state\")\n",
    "plt.plot(lam_np[:,2],_pcqed_42[:,1], label='first_excited_state')\n",
    "plt.plot(lam_np[:,2],_pcqed_42[:,2], label='second_excited_state')\n",
    "plt.plot(lam_np[:,2],_pcqed_42[:,3], label='Third_excited_state')\n",
    "plt.plot(lam_np[:,2],_pcqed_42[:,4], label='fourth_excited_state')\n",
    "plt.xlabel('lambda')\n",
    "plt.ylabel('Energy')\n",
    "# plt.ylim(-0.0002, -0.0007)\n",
    "# plt.ylim(-113.556, -113.50)\n",
    "# plt.grid()\n",
    "plt.legend()\n"
   ]
  },
  {
   "cell_type": "code",
   "execution_count": null,
   "id": "6bf8d29f",
   "metadata": {},
   "outputs": [],
   "source": [
    "N_el = 50\n",
    "N_ph = 5\n",
    "\n",
    "# create an array of zeros to store the PCQED eigenvalues for each value of lambda\n",
    "_pcqed_505 = np.zeros((N_l, N_el * N_ph))\n",
    "# loop over values of lambda, build Hamiltonian, capture eigenvalues\n",
    "ctr = 0\n",
    "for lam in lambdas:\n",
    "    _HPF = build_pf_hamiltonian(N_el, N_ph, E_array_F, omega_cav, lam, Mu_array_F)\n",
    "    pf_e, pf_c = np.linalg.eigh(_HPF)\n",
    "    _pcqed_505[ctr, :] = pf_e\n",
    "    ctr += 1"
   ]
  },
  {
   "cell_type": "code",
   "execution_count": null,
   "id": "04d8b7e1",
   "metadata": {},
   "outputs": [],
   "source": [
    "# plt.plot(lam_np[:,2], _pcqed_42[:,0], label=\"ground-state\")\n",
    "plt.plot(lam_np[:,2],_pcqed_505[:,1], label='first_excited_state')\n",
    "plt.plot(lam_np[:,2],_pcqed_505[:,2], label='second_excited_state')\n",
    "plt.plot(lam_np[:,2],_pcqed_505[:,3], label='Third_excited_state')\n",
    "plt.plot(lam_np[:,2],_pcqed_505[:,4], label='fourth_excited_state')\n",
    "plt.xlabel('lambda')\n",
    "plt.ylabel('Energy')\n",
    "# plt.ylim(-0.0002, -0.0007)\n",
    "# plt.ylim(-113.556, -113.50)\n",
    "# plt.grid()\n",
    "plt.legend()"
   ]
  },
  {
   "cell_type": "code",
   "execution_count": null,
   "id": "7e546077",
   "metadata": {},
   "outputs": [],
   "source": [
    "# data_42 = data\n",
    "# #print(data_52[\"return_result\"])\n",
    "# data_42[\"model\"][\"number_of_electronic_states\"] = 4\n",
    "# data_42[\"model\"][\"number_of_photonic_states\"] = 2\n",
    "\n",
    "# # loop over the different lambda values\n",
    "# energies = []\n",
    "# for i in range(len(_pcqed_42[:,0])):\n",
    "#     sub_energies = []\n",
    "#     for j in range(len(_pcqed_42[0,:])):\n",
    "#         sub_energies.append(_pcqed_42[i,j])\n",
    "#     energies.append(sub_energies)\n",
    "\n",
    "# print(energies)\n",
    "\n",
    "# data_42[\"return_result\"] = energies\n",
    "\n",
    "# file_name = \"CH2O_CO_r_1.3_pcqed_42.json\"\n",
    "# json_object = json.dumps(data_42, indent=4)\n",
    "# with open(file_name, \"w\") as outfile:\n",
    "#     outfile.write(json_object)"
   ]
  },
  {
   "cell_type": "code",
   "execution_count": null,
   "id": "3fd8ab8b",
   "metadata": {},
   "outputs": [],
   "source": [
    "#comment"
   ]
  },
  {
   "cell_type": "code",
   "execution_count": null,
   "id": "5fcee13c",
   "metadata": {},
   "outputs": [],
   "source": [
    "N_el = 50\n",
    "N_ph = 10\n",
    "\n",
    "# create an array of zeros to store the PCQED eigenvalues for each value of lambda\n",
    "_pcqed_5010 = np.zeros((N_l, N_el * N_ph))\n",
    "# loop over values of lambda, build Hamiltonian, capture eigenvalues\n",
    "ctr = 0\n",
    "for lam in lambdas:\n",
    "    _HPF = build_pf_hamiltonian(N_el, N_ph, E_array_F, omega_cav, lam, Mu_array_F)\n",
    "    pf_e, pf_c = np.linalg.eigh(_HPF)\n",
    "    _pcqed_5010[ctr, :] = pf_e\n",
    "    ctr += 1\n"
   ]
  },
  {
   "cell_type": "code",
   "execution_count": null,
   "id": "e7f61826",
   "metadata": {},
   "outputs": [],
   "source": [
    "# plt.plot(lam_np[:,2], _pcqed_72[:,0], label=\"ground-state\")\n",
    "plt.plot(lam_np[:,2],_pcqed_5010[:,1], label='first_excited_state')\n",
    "plt.plot(lam_np[:,2],_pcqed_5010[:,2], label='second_excited_state')\n",
    "plt.plot(lam_np[:,2],_pcqed_5010[:,3], label='Third_excited_state')\n",
    "plt.plot(lam_np[:,2],_pcqed_5010[:,4], label='fourth_excited_state')\n",
    "# plt.plot(lambdas[:,2],_pcqed_72[:,5], label='fifth_excited_state')\n",
    "plt.xlabel('lambda')\n",
    "plt.ylabel('Energy')\n",
    "# plt.ylim(-0.0002, -0.0007)\n",
    "# plt.ylim(-113.556, -113.50)\n",
    "# plt.grid()\n",
    "plt.legend()"
   ]
  },
  {
   "cell_type": "code",
   "execution_count": null,
   "id": "7a922f0a",
   "metadata": {},
   "outputs": [],
   "source": [
    "plt.plot(lam_np[:,2],_pcqed_5010[:,0],'ro-', label='g_state_5010')\n",
    "# plt.plot(lam_np[:,2],_pcqed_5010[:,2], label='second_excited_state')\n",
    "plt.plot(lam_np[:,2],_pcqed_505[:,0],'bo', label='g_state_505')\n",
    "plt.xlabel('lambda')\n",
    "plt.ylabel('Energy')\n",
    "# plt.ylim(-0.0002, -0.0007)\n",
    "# plt.ylim(-113.556, -113.50)\n",
    "# plt.grid()\n",
    "plt.legend()\n",
    "print(_pcqed_5010[:,0])\n",
    "print(_pcqed_505[:,0])"
   ]
  },
  {
   "cell_type": "code",
   "execution_count": null,
   "id": "fd3e2bdb",
   "metadata": {},
   "outputs": [],
   "source": [
    "# # data_5010 = data\n",
    "# #print(data_52[\"return_result\"])\n",
    "# data_5010[\"model\"][\"number_of_electronic_states\"] = 50\n",
    "# data_5010[\"model\"][\"number_of_photonic_states\"] = 10\n",
    "\n",
    "# # loop over the different lambda values\n",
    "# energies = []\n",
    "# for i in range(len(_pcqed_5010[:,0])):\n",
    "#     sub_energies = []\n",
    "#     for j in range(len(_pcqed_5010[0,:])):\n",
    "#         sub_energies.append(_pcqed_5010[i,j])\n",
    "#     energies.append(sub_energies)\n",
    "\n",
    "# print(energies)\n",
    "\n",
    "# data_5010[\"return_result\"] = energies\n",
    "\n",
    "# file_name = \"CH2O_CO_r_1.3_pcqed_5010.json\"\n",
    "# json_object = json.dumps(data_5010, indent=4)\n",
    "# with open(file_name, \"w\") as outfile:\n",
    "#     outfile.write(json_object)"
   ]
  },
  {
   "cell_type": "code",
   "execution_count": null,
   "id": "217b57c9-d992-445f-8470-ec6dc6a377ba",
   "metadata": {
    "tags": []
   },
   "outputs": [],
   "source": [
    "N_el = 200\n",
    "N_ph = 5\n",
    "\n",
    "# create an array of zeros to store the PCQED eigenvalues for each value of lambda\n",
    "_pcqed_2005 = np.zeros((N_l, N_el * N_ph))\n",
    "# loop over values of lambda, build Hamiltonian, capture eigenvalues\n",
    "ctr = 0\n",
    "for lam in lambdas:\n",
    "    _HPF = build_pf_hamiltonian(N_el, N_ph, E_array_F, omega_cav, lam, Mu_array_F)\n",
    "    pf_e, pf_c = np.linalg.eigh(_HPF)\n",
    "    _pcqed_2005[ctr, :] = pf_e\n",
    "    ctr += 1\n"
   ]
  },
  {
   "cell_type": "code",
   "execution_count": null,
   "id": "69bd2ea5-bd6d-43f5-8321-91e9fdb41deb",
   "metadata": {
    "tags": []
   },
   "outputs": [],
   "source": [
    "# plt.plot(lam_np[:,2], _pcqed_72[:,0], label=\"ground-state\")\n",
    "plt.plot(lam_np[:,2],_pcqed_2005[:,0], label='g_excited_state_2005')\n",
    "# plt.plot(lam_np[:,2],_pcqed_2005[:,1], label='first_excited_state')\n",
    "# plt.plot(lam_np[:,2],_pcqed_2005[:,2], label='second_excited_state')\n",
    "# plt.plot(lam_np[:,2],_pcqed_2005[:,3], label='third_excited_state')\n",
    "# plt.plot(lam_np[:,2],_pcqed_2005[:,4], label='fourth_excited_state')\n",
    "# plt.plot(lam_np[:,2],_pcqed_2005[:,5], label='fourth_excited_state')\n",
    "plt.plot(lam_np[:,2],_pcqed_505[:,0],'ro-', label='g_state_505')\n",
    "plt.plot(lam_np[:,2],_pcqed_42[:,0],'b', label='g_state_42')\n",
    "plt.plot(lam_np[:,2],_pcqed_5010[:,0],'y', label='g_state_5010')\n",
    "\n",
    "plt.xlabel('lambda')\n",
    "plt.ylabel('Energy')\n",
    "# plt.ylim(-0.0002, -0.0007)\n",
    "# plt.ylim(-113.556, -113.50)\n",
    "# plt.grid()\n",
    "plt.legend()"
   ]
  },
  {
   "cell_type": "code",
   "execution_count": null,
   "id": "e076a4bb-f902-4ada-886f-e788a7791f55",
   "metadata": {
    "tags": []
   },
   "outputs": [],
   "source": [
    "data_2005 = data\n",
    "print(data_2005[\"return_result\"])\n",
    "data_2005[\"model\"][\"number_of_electronic_states\"] = 200\n",
    "data_2005[\"model\"][\"number_of_photonic_states\"] = 5\n",
    "\n",
    "# loop over the different lambda values\n",
    "energies = []\n",
    "for i in range(len(_pcqed_2005[:,0])):\n",
    "    sub_energies = []\n",
    "    for j in range(len(_pcqed_2005[0,:])):\n",
    "        sub_energies.append(_pcqed_2005[i,j])\n",
    "    energies.append(sub_energies)\n",
    "\n",
    "print(energies)\n",
    "\n",
    "data_2005[\"return_result\"] = energies\n",
    "\n",
    "file_name = \"CH2O_CO_r_1.3_pcqed_2005.json\"\n",
    "json_object = json.dumps(data_2005, indent=4)\n",
    "with open(file_name, \"w\") as outfile:\n",
    "    outfile.write(json_object)"
   ]
  },
  {
   "cell_type": "code",
   "execution_count": null,
   "id": "e2db4c85",
   "metadata": {},
   "outputs": [],
   "source": [
    "\n"
   ]
  },
  {
   "cell_type": "code",
   "execution_count": null,
   "id": "e7f95a8f",
   "metadata": {},
   "outputs": [],
   "source": []
  },
  {
   "cell_type": "code",
   "execution_count": null,
   "id": "4daf273d",
   "metadata": {},
   "outputs": [],
   "source": []
  },
  {
   "cell_type": "code",
   "execution_count": null,
   "id": "a9689e85",
   "metadata": {},
   "outputs": [],
   "source": []
  },
  {
   "cell_type": "code",
   "execution_count": null,
   "id": "2b9ae278",
   "metadata": {},
   "outputs": [],
   "source": []
  },
  {
   "cell_type": "code",
   "execution_count": null,
   "id": "fc0fdfc6",
   "metadata": {},
   "outputs": [],
   "source": [
    "\n",
    "#plt.plot(r_array, Eg_QED_FCI_Np_1)\n",
    "# plt.plot(r_array, E_array[:,0],'bo',  label=\"No cavity\")\n",
    "# plt.plot(r_array, pf_array_3_2[:,0],'y^' ,label=\"PCQED_nel3_np2_E0\")\n",
    "# plt.plot(r_array, pf_array_10_5[:,0],'bs' , ms=8,mfc='none',label=\"PCQED_nel10_np5_E0\")\n",
    "# plt.plot(r_array, pf_array_30_2[:,0],'md' , ms=7,mfc='none',label=\"PCQED_nel30_np2_E0\")\n",
    "plt.plot(r_array, pf_array_30_30[:,0],label=\"PCQED_nel30_np30_E0\")\n",
    "plt.plot(r_array, pf_array_50_10[:,0],label=\"PCQED_nel50_np10_E0\")\n",
    "plt.plot(r_array, pf_array_50_20[:,0],label=\"PCQED_005_nel30_np20_E0\")\n",
    "# plt.plot(r_array, pf_array[:,1],label=\"LP\")\n",
    "# plt.plot(r_array, E_array[:,0]+omega_cav, label=\"E0 + omega\")\n",
    "# plt.plot(r_array, E_array[:,1], label=\"E1\")\n",
    "# plt.plot(r_array, pf_array[:,2],'ro', label=\"UP\")\n",
    "# plt.plot(r_array, pf_array[:,3],'bo', label=\"UP+1\")\n",
    "# plt.plot(r_array, pf_array[:,4],'yo', label=\"UP+2\")\n",
    "# plt.plot(QEDCI_001_np1_s0[:,0], QEDCI_001_np1_s0[:,1],'rv' , ms=7,mfc='none', label=\"QEDCI_001_np1_s0\")\n",
    "# plt.plot(QEDCI_001_np5_s0[:,0], QEDCI_001_np5_s0[:,1],'ms' , ms=7,mfc='none', label=\"QEDCI_001_np5_s0\")\n",
    "# plt.plot(QEDCI_001_np10_s0[:,0], QEDCI_001_np10_s0[:,1],linestyle=\"dashdot\" ,label=\"QEDCI_001_np10_s0\")\n",
    "# plt.plot(QEDCI_005_np1_s0[:,0], QEDCI_005_np1_s0[:,1],'ro',ms = 6, mfc = 'none', label=\"QEDCI_005_np1_s0\")\n",
    "# plt.plot(QEDCI_005_np5_s0[:,0], QEDCI_005_np5_s0[:,1],'bo',ms=3,mfc ='none', label=\"QEDCI_005_np5_s0\")\n",
    "# plt.plot(QEDCI_005_np10_s0[:,0], QEDCI_005_np10_s0[:,1],'ys' , ms=7,mfc='none', label=\"QEDCI_005_np10_s0\")\n",
    "# plt.plot(QEDCI_001_np1_s1[:,0], QEDCI_001_np1_s1[:,1], label=\"QEDCI_001_s1\",color='black',linestyle='dotted')\n",
    "# plt.plot(QEDCI_001_np1_s1[:,0], QEDCI_001_np1_s2[:,1], label=\"QEDCI_001_s2\",color='pink',linestyle='dotted')\n",
    "# plt.xlim(1.4, 2.0)\n",
    "# plt.ylim(-8.000, -7.980)\n",
    "# plt.ylim(-8.000, -7.9875)\n",
    "#lt.title(\"nel_3__np_40\")\n",
    "#plt.plot(r_array, pf_array[:,4])\n",
    "plt.legend()\n",
    "# plt.savefig(\"LiH_0.05_comparsion.png\")\n"
   ]
  },
  {
   "cell_type": "code",
   "execution_count": null,
   "id": "c0defdf6",
   "metadata": {
    "scrolled": false
   },
   "outputs": [],
   "source": [
    "\n"
   ]
  },
  {
   "cell_type": "code",
   "execution_count": null,
   "id": "e1c3e34a",
   "metadata": {},
   "outputs": [],
   "source": []
  },
  {
   "cell_type": "code",
   "execution_count": null,
   "id": "eb8fa49a",
   "metadata": {},
   "outputs": [],
   "source": []
  },
  {
   "cell_type": "code",
   "execution_count": null,
   "id": "26940369",
   "metadata": {},
   "outputs": [],
   "source": []
  },
  {
   "cell_type": "code",
   "execution_count": null,
   "id": "6e7d0e60",
   "metadata": {},
   "outputs": [],
   "source": []
  },
  {
   "cell_type": "code",
   "execution_count": null,
   "id": "2a6d8bf6-ae87-4edf-a878-85f3eeb83da8",
   "metadata": {
    "tags": []
   },
   "outputs": [],
   "source": []
  },
  {
   "cell_type": "code",
   "execution_count": null,
   "id": "f32c2ba8-7afc-4ce2-9895-7d5bfca6bf9e",
   "metadata": {
    "tags": []
   },
   "outputs": [],
   "source": []
  },
  {
   "cell_type": "code",
   "execution_count": null,
   "id": "3fb55877",
   "metadata": {},
   "outputs": [],
   "source": []
  },
  {
   "cell_type": "code",
   "execution_count": null,
   "id": "55b5ccef",
   "metadata": {},
   "outputs": [],
   "source": []
  },
  {
   "cell_type": "code",
   "execution_count": null,
   "id": "7514347c",
   "metadata": {},
   "outputs": [],
   "source": []
  },
  {
   "cell_type": "code",
   "execution_count": null,
   "id": "150df11b",
   "metadata": {},
   "outputs": [],
   "source": [
    "#plt.plot(r_array, PF_2020[:,0], 'black', label=\"LP - 20-20\")\n",
    "#plt.plot(r_array, PF_WTRIP[:,0], 'ro', label=\"LP - 2-2\")\n",
    "plt.plot(r_array, PF_2020[:,1], 'r--', label=\"LP - 20-2\")\n",
    "plt.plot(r_array, PF_WTRIP[:,2], 'purple', label=\"UP - 20-20\")\n",
    "plt.plot(r_array, PF_2020[:,2], 'b--', label=\"UP - 20-2\")\n",
    "plt.plot(r_array, PF_WTRIP[:,3], 'bo', label=\"UP - 2-2\")\n",
    "plt.legend()\n",
    "plt.show()\n"
   ]
  },
  {
   "cell_type": "code",
   "execution_count": null,
   "id": "c34ef6fb",
   "metadata": {},
   "outputs": [],
   "source": []
  },
  {
   "cell_type": "code",
   "execution_count": null,
   "id": "01be5847",
   "metadata": {},
   "outputs": [],
   "source": []
  },
  {
   "cell_type": "code",
   "execution_count": null,
   "id": "03f135cd",
   "metadata": {},
   "outputs": [],
   "source": []
  },
  {
   "cell_type": "code",
   "execution_count": null,
   "id": "7661d999",
   "metadata": {},
   "outputs": [],
   "source": []
  },
  {
   "cell_type": "code",
   "execution_count": null,
   "id": "f1f39d55",
   "metadata": {},
   "outputs": [],
   "source": []
  },
  {
   "cell_type": "code",
   "execution_count": null,
   "id": "1d3c8558",
   "metadata": {},
   "outputs": [],
   "source": []
  }
 ],
 "metadata": {
  "kernelspec": {
   "display_name": "Python 3 (ipykernel)",
   "language": "python",
   "name": "python3"
  },
  "language_info": {
   "codemirror_mode": {
    "name": "ipython",
    "version": 3
   },
   "file_extension": ".py",
   "mimetype": "text/x-python",
   "name": "python",
   "nbconvert_exporter": "python",
   "pygments_lexer": "ipython3",
   "version": "3.9.15"
  }
 },
 "nbformat": 4,
 "nbformat_minor": 5
}
