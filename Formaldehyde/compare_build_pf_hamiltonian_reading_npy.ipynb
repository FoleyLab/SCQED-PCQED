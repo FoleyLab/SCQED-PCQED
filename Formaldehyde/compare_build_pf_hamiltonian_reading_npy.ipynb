{
 "cells": [
  {
   "cell_type": "code",
   "execution_count": null,
   "id": "57746595",
   "metadata": {},
   "outputs": [],
   "source": [
    "# import libraries\n",
    "import numpy as np\n",
    "import sys\n",
    "import psi4\n",
    "from helper_PFCI import PFHamiltonianGenerator\n",
    "np.set_printoptions(threshold=sys.maxsize)\n",
    "psi4.core.set_output_file('output.dat', False)\n",
    "import time\n",
    "import json"
   ]
  },
  {
   "cell_type": "markdown",
   "id": "a625f560",
   "metadata": {},
   "source": [
    "We are going to read the energy eigenvalues and dipole matrix elements from .npy files.  We will also still create an instance of the PFHamiltonianGenerator class so we can use its build_pcqed_pf_hamiltonian() method, but it is not really important what details we use to instantiate this class... so we will use LiH in a minimal basis since this is a fast way to instantiate the class!"
   ]
  },
  {
   "cell_type": "code",
   "execution_count": null,
   "id": "12202c36",
   "metadata": {},
   "outputs": [],
   "source": [
    "# read data from .npy files for formaldehyde casci(8,8) calculations\n",
    "\n",
    "# !!! Change this to the correct path on your computer!\n",
    "npy_folder = \"/Users/rmandern/code/SCQED-PCQED/Formaldehyde/\"\n",
    "\n",
    "# these file names should still be good\n",
    "E_npy_file = npy_folder + \"CH2O_ccpVDZ_CASCI_88_1000_dipole_allowed_E_Array.npy\"\n",
    "Mu_npy_file = npy_folder + \"CH2O_ccpVDZ_CASCI_88_1000_dipole_allowed_Mu_Array.npy\"\n",
    "\n",
    "# store energy eigenvalues in E_array\n",
    "E_array = np.load(E_npy_file)\n",
    "# store dipole matrix elements in Mu_array\n",
    "Mu_array = np.load(Mu_npy_file)\n",
    "\n",
    "# print their shape so we know how many elements we have\n",
    "print(np.shape(E_array))\n",
    "print(np.shape(Mu_array))\n",
    "\n",
    "# setup basic arguments to create an instance of the PFHamiltonianGenerator class\n",
    "mol_str = \"\"\"\n",
    "Li\n",
    "H 1 1.8\n",
    "symmetry c1\n",
    "\"\"\"\n",
    "\n",
    "options_dict = {\n",
    "    \"basis\": \"sto-3g\",\n",
    "    \"scf_type\": \"pk\",\n",
    "    \"e_convergence\": 1e-10,\n",
    "    \"d_convergence\": 1e-10,\n",
    "}\n",
    "\n",
    "\n",
    "cavity_free_dict = {\n",
    "    'omega_value' : 0.0,\n",
    "    'lambda_vector' : np.array([0, 0, 0.0]),\n",
    "    'ci_level' : 'fci',   \n",
    "    'full_diagonalization' : True,\n",
    "    'number_of_photons' : 0, \n",
    "}\n",
    "\n",
    "# create the instance of our PFHamiltonianGenerator class\n",
    "instance = PFHamiltonianGenerator(mol_str, options_dict, cavity_free_dict)"
   ]
  },
  {
   "cell_type": "code",
   "execution_count": null,
   "id": "b99ac6ba",
   "metadata": {},
   "outputs": [],
   "source": [
    "# open json file\n",
    "f = open(\"CH2O_CO_r_1.3_casci_cc-pVDZ_n_act_els_8_n_act_orbs_8_dipole_allowed.json\")\n",
    "data = json.load(f)"
   ]
  },
  {
   "cell_type": "code",
   "execution_count": null,
   "id": "add71e63",
   "metadata": {},
   "outputs": [],
   "source": [
    "# get the array of lambda values from the json file\n",
    "lambdas = data[\"model\"][\"lambda_vector\"]\n",
    "\n",
    "# determine how many lambda values will be in the scan\n",
    "N_l = len(lambdas)\n",
    "print(N_l)"
   ]
  },
  {
   "cell_type": "code",
   "execution_count": null,
   "id": "da6cbf02",
   "metadata": {},
   "outputs": [],
   "source": [
    "fast_start = time.time()\n",
    "# instance.fast_build_pcqed_pf_hamiltonian(N_el, N_ph, omega, lambda_vector, E_array, Mu_array)\n",
    "fast_end = time.time()\n",
    "print(F\"Fast build took {fast_end-fast_start} seconds\")"
   ]
  },
  {
   "cell_type": "code",
   "execution_count": null,
   "id": "14ad5bb0",
   "metadata": {},
   "outputs": [],
   "source": [
    "# add lambda values from jason file \n",
    "# cal energy by looping and save them agian in jason file \n",
    "\n",
    "\n",
    "\n",
    "N_el = 5\n",
    "N_ph = 2\n",
    "omega = 0.12086\n",
    "lambda_vector = np.array([0., 0., 0.05])\n",
    "\n",
    "fast_start = time.time()\n",
    "# create an array of zeros to store the PCQED eigenvalues for each value of lambda\n",
    "# _pcqed_52 = np.zeros((N_l, N_el * N_ph))\n",
    "# loop over values of lambda, build Hamiltonian, capture eigenvalues\n",
    "ctr = 0\n",
    "for lam in lambdas:\n",
    "    _HPF = instance.fast_build_pcqed_pf_hamiltonian(N_el, N_ph, omega, lambda_vector, E_array, Mu_array)\n",
    "#     pf_e, pf_c = np.linalg.eigh(_HPF)\n",
    "#     _pcqed_52[ctr, :] = pf_e\n",
    "    ctr += 1\n",
    "# instance.PCQED_HF_PF\n",
    "E_pcqed_52 = instance.PCQED_eigs\n",
    "# instance.PCQED_vecs\n",
    "print(E_pcqed_52)\n",
    "fast_end = time.time()\n",
    "print(F\"Fast build took {fast_end-fast_start} seconds\")"
   ]
  },
  {
   "cell_type": "code",
   "execution_count": null,
   "id": "bc04d85b",
   "metadata": {},
   "outputs": [],
   "source": [
    "N_el = 200\n",
    "N_ph = 2\n",
    "omega = 0.12086\n",
    "lambda_vector = np.array([0., 0., 0.05])\n",
    "\n",
    "fast_start = time.time()\n",
    "# create an array of zeros to store the PCQED eigenvalues for each value of lambda\n",
    "# _pcqed_52 = np.zeros((N_l, N_el * N_ph))\n",
    "# loop over values of lambda, build Hamiltonian, capture eigenvalues\n",
    "ctr = 0\n",
    "for lam in lambdas:\n",
    "    _HPF = instance.fast_build_pcqed_pf_hamiltonian(N_el, N_ph, omega, lambda_vector, E_array, Mu_array)\n",
    "#     pf_e, pf_c = np.linalg.eigh(_HPF)\n",
    "#     _pcqed_52[ctr, :] = pf_e\n",
    "    ctr += 1\n",
    "# instance.PCQED_HF_PF\n",
    "E_pcqed_2002 = instance.PCQED_eigs\n",
    "# instance.PCQED_vecs\n",
    "print(E_pcqed_2002)\n",
    "fast_end = time.time()\n",
    "print(F\"Fast build took {fast_end-fast_start} seconds\")"
   ]
  },
  {
   "cell_type": "code",
   "execution_count": null,
   "id": "0a10c6ac",
   "metadata": {},
   "outputs": [],
   "source": [
    "data_2002 = data\n",
    "#print(data_52[\"return_result\"])\n",
    "data_2002[\"model\"][\"number_of_electronic_states\"] = 200\n",
    "data_2002[\"model\"][\"number_of_photonic_states\"] = 2\n",
    "\n",
    "# loop over the different lambda values\n",
    "energies = []\n",
    "for i in range(len(E_pcqed_2002[:,0])):\n",
    "    sub_energies = []\n",
    "    for j in range(len(E_pcqed_2002[0,:])):\n",
    "        sub_energies.append(E_pcqed_2002[i,j])\n",
    "    energies.append(sub_energies)\n",
    "\n",
    "print(energies)\n",
    "\n",
    "data_2002[\"return_result\"] = energies\n",
    "\n",
    "file_name = \"CH2O_CO_r_1.3_pcqed_2002.json\"\n",
    "json_object = json.dumps(data_2002, indent=4)\n",
    "with open(file_name, \"w\") as outfile:\n",
    "    outfile.write(json_object)"
   ]
  },
  {
   "cell_type": "code",
   "execution_count": null,
   "id": "77e9ff2f",
   "metadata": {},
   "outputs": [],
   "source": [
    "N_el = 500\n",
    "N_ph = 2\n",
    "omega = 0.12086\n",
    "# lambda_vector = np.array([0., 0., 0.05])\n",
    "\n",
    "fast_start = time.time()\n",
    "# create an array of zeros to store the PCQED eigenvalues for each value of lambda\n",
    "# _pcqed_52 = np.zeros((N_l, N_el * N_ph))\n",
    "# loop over values of lambda, build Hamiltonian, capture eigenvalues\n",
    "ctr = 0\n",
    "for lam in lambdas:\n",
    "    _HPF = instance.fast_build_pcqed_pf_hamiltonian(N_el, N_ph, omega, lambda_vector, E_array, Mu_array)\n",
    "#     pf_e, pf_c = np.linalg.eigh(_HPF)\n",
    "#     _pcqed_52[ctr, :] = pf_e\n",
    "    ctr += 1\n",
    "# instance.PCQED_HF_PF\n",
    "E_pcqed_5002 = instance.PCQED_eigs\n",
    "# instance.PCQED_vecs\n",
    "print(E_pcqed_5002)\n",
    "fast_end = time.time()\n",
    "print(F\"Fast build took {fast_end-fast_start} seconds\")"
   ]
  },
  {
   "cell_type": "code",
   "execution_count": null,
   "id": "4ac13111",
   "metadata": {},
   "outputs": [],
   "source": [
    "data_42 = data\n",
    "#print(data_52[\"return_result\"])\n",
    "data_42[\"model\"][\"number_of_electronic_states\"] = 4\n",
    "data_42[\"model\"][\"number_of_photonic_states\"] = 2\n",
    "\n",
    "# loop over the different lambda values\n",
    "energies = []\n",
    "for i in range(len(_pcqed_42[:,0])):\n",
    "    sub_energies = []\n",
    "    for j in range(len(_pcqed_42[0,:])):\n",
    "        sub_energies.append(_pcqed_42[i,j])\n",
    "    energies.append(sub_energies)\n",
    "\n",
    "print(energies)\n",
    "\n",
    "data_42[\"return_result\"] = energies\n",
    "\n",
    "file_name = \"CH2O_CO_r_1.3_pcqed_42.json\"\n",
    "json_object = json.dumps(data_42, indent=4)\n",
    "with open(file_name, \"w\") as outfile:\n",
    "    outfile.write(json_object)"
   ]
  },
  {
   "cell_type": "markdown",
   "id": "279aa319",
   "metadata": {},
   "source": [
    "# Notes on the matrix blocks\n",
    "\n",
    "\\begin{align}\\label{EQN:projected_matrix}\n",
    "{\\bf \\mathcal{H}} =\n",
    "&\\begin{bmatrix}\n",
    "{\\bf E} + {\\bf D}   & -\\sqrt{\\frac{\\omega}{2}} {\\bf d}  & 0 & \\dots & 0 & 0 \\\\\n",
    "-\\sqrt{\\frac{\\omega}{2}}{\\bf d} & {\\bf E} + {\\bf D} + {\\bf \\Omega}   & -\\sqrt{\\omega} {\\bf d}  & \\dots & 0 & 0 \\\\\n",
    "0   &  -\\sqrt{\\omega}{\\bf d} & {\\bf E} + {\\bf D} + 2{\\bf \\Omega} & \\dots & 0  & 0 \\\\\n",
    "\\vdots & \\vdots & \\vdots & \\ddots & \\vdots & \\vdots \\\\\n",
    "0      &      0 &   0    &  \\dots     & {\\bf E} + {\\bf D} + (N-1){\\bf \\Omega}    & -\\sqrt{\\frac{N \\omega}{2}} {\\bf d} \\\\\n",
    "0      &      0 &   0    &  \\dots     & -\\sqrt{\\frac{N \\omega}{2}}{\\bf d}     & {\\bf E} + {\\bf D} + N{\\bf \\Omega}. \n",
    "\\end{bmatrix}\n",
    "\\end{align}\n",
    "\n",
    "\n",
    "Note that there are basically 4 different matrices with shape $(N_{el}, N_{el})$ that appear in this Hamiltonian matrix.  The following outlines the equations for the elements of each matrix along with one or more strategies to assemble them.  \n",
    "\n",
    "### E matrix\n",
    "#### Math\n",
    "$$ E_{\\alpha \\beta} = \\langle \\psi_{\\alpha} | \\mathcal{H}_{el} | \\psi_{\\beta} \\rangle = E_{\\beta} \\delta_{\\alpha \\beta} $$ \n",
    "where $E_{\\beta}$ denote the electronic energy eigenvalues of the molecular system.\n",
    "#### Code\n",
    "If the energy eigenvalues are stored in an array called `E_array`, then we can build ${\\bf E}$ by multiplying these values by an $(N_{el}, N_{el})$ identity matrix $\\mathbb{I}$.\n",
    "\n",
    "##### build N_el x N_el identity matrix\n",
    "`_I = np.eye(N_el)`\n",
    "\n",
    "##### build N_el x N_el _E matrix\n",
    "`_E = E_array * _I`\n",
    "\n",
    "\n"
   ]
  },
  {
   "cell_type": "code",
   "execution_count": null,
   "id": "39ffe226",
   "metadata": {},
   "outputs": [],
   "source": []
  },
  {
   "cell_type": "code",
   "execution_count": null,
   "id": "1eb29eed",
   "metadata": {},
   "outputs": [],
   "source": []
  },
  {
   "cell_type": "code",
   "execution_count": null,
   "id": "80a383ae",
   "metadata": {},
   "outputs": [],
   "source": [
    "# code to build E matrix goes here\n",
    "_I = np.eye(N_el)\n",
    "_A = E_array[:N_el] * _I"
   ]
  },
  {
   "cell_type": "markdown",
   "id": "3a346985",
   "metadata": {},
   "source": [
    "### $\\Omega$ matrix\n",
    "#### Math\n",
    "$$ \\Omega_{\\alpha \\beta} = \\langle \\psi_{\\alpha} | \\omega | \\psi_{\\beta} \\rangle  = \\omega \\delta_{\\alpha \\beta}$$ \n",
    "\n",
    "#### Code\n",
    "If the photon frequency is stored in the variable `omega`, then the $(N_{el},N_{el})$ matrix `_O` can be build \n",
    "by multiplying the $\\mathbb{I}$ by $omega$:\n",
    "\n",
    "##### build N_el x N_el _O matrix\n",
    "`_O = omega * _I`\n"
   ]
  },
  {
   "cell_type": "code",
   "execution_count": null,
   "id": "40b14595",
   "metadata": {},
   "outputs": [],
   "source": [
    "# code to build Omega matrix goes here\n",
    "_O = omega * _I"
   ]
  },
  {
   "cell_type": "markdown",
   "id": "fd6774fe",
   "metadata": {},
   "source": [
    "### d matrix\n",
    "#### Math\n",
    "$$ d_{\\alpha \\beta} = \\lambda \\cdot  \\langle \\psi_{\\alpha} | \\mathcal{\\mu} | \\psi_{\\beta} \\rangle = \\lambda_x \\mathcal{\\mu}_{x, \\alpha \\beta} +  \\lambda_y \\mathcal{\\mu}_{y, \\alpha \\beta} +  \\lambda_z \\mathcal{\\mu}_{z, \\alpha \\beta} $$ \n",
    "where $\\mathcal{\\mu}_{x, \\alpha \\beta}$ denotes the x-component of the (transition) dipole moment between molecular electronic state $\\psi_{\\alpha}$ and $\\psi_{\\beta}$.\n",
    "#### Code\n",
    "If the dipole matrix elements are stored in a $(N_{el}, N_{el}, 3)$  array called `mu_array` and the $\\lambda$ vector is stored in an 3-element array called `\\lambda_vector`, then we can build the\n",
    "$(N_{el}, N_{el})$ array ${\\bf d}$ by [contraction](https://en.wikipedia.org/wiki/Tensor_contraction) using `np.einsum()`:\n",
    "\n",
    "##### build N_el x N_el _d matrix\n",
    "`_d = np.einsum(\"k,ijk->ij\", lambda_vector, mu_array)`"
   ]
  },
  {
   "cell_type": "code",
   "execution_count": null,
   "id": "e8dd7718",
   "metadata": {},
   "outputs": [],
   "source": [
    "# code to build the d matrix goes here\n",
    "_d = np.einsum(\"k,ijk->ij\", lambda_vector, Mu_array)"
   ]
  },
  {
   "cell_type": "markdown",
   "id": "cacbeeaf",
   "metadata": {},
   "source": [
    "### D matrix\n",
    "#### Math\n",
    "$$ D_{\\alpha \\beta} = \\frac{1}{2} \\sum_{\\gamma} d_{\\alpha \\gamma} d_{\\gamma \\beta} $$ \n",
    "\n",
    "#### Code\n",
    "We have the $(N_{el}, N_{el})$ elements of the ${\\bf d}$ array stored in `_d`.  We can then build `_D`\n",
    "using matrix-matrix multiplication as follows:\n",
    "\n",
    "`_D = _d @ _d`\n",
    "\n",
    "or using einsum as follows:\n",
    "\n",
    "`_D = np.einsum(\"ik,kj->ij\",_d, _d)`\n"
   ]
  },
  {
   "cell_type": "code",
   "execution_count": null,
   "id": "c8d19877",
   "metadata": {},
   "outputs": [],
   "source": [
    "# code to build the D matrix goes here\n",
    "_D = _d @ _d\n",
    "# _D = np.einsum(\"ik,kj->ij\",_d, _d)"
   ]
  },
  {
   "cell_type": "code",
   "execution_count": null,
   "id": "7ad948f0",
   "metadata": {},
   "outputs": [],
   "source": []
  },
  {
   "cell_type": "code",
   "execution_count": null,
   "id": "efbba554",
   "metadata": {},
   "outputs": [],
   "source": []
  }
 ],
 "metadata": {
  "kernelspec": {
   "display_name": "Python 3 (ipykernel)",
   "language": "python",
   "name": "python3"
  },
  "language_info": {
   "codemirror_mode": {
    "name": "ipython",
    "version": 3
   },
   "file_extension": ".py",
   "mimetype": "text/x-python",
   "name": "python",
   "nbconvert_exporter": "python",
   "pygments_lexer": "ipython3",
   "version": "3.9.15"
  }
 },
 "nbformat": 4,
 "nbformat_minor": 5
}
