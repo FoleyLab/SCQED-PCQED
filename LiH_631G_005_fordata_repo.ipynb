{
 "cells": [
  {
   "cell_type": "code",
   "execution_count": 1,
   "id": "57746595",
   "metadata": {},
   "outputs": [],
   "source": [
    "import numpy as np\n",
    "import sys\n",
    "np.set_printoptions(precision=10, linewidth=200, suppress=True)\n",
    "import psi4\n",
    "from helper_PFCI import PFHamiltonianGenerator\n",
    "from helper_PFCI import Determinant\n",
    "from helper_cqed_rhf import cqed_rhf\n",
    "np.set_printoptions(threshold=sys.maxsize)\n",
    "psi4.core.set_output_file('output.dat', False)\n",
    "import os"
   ]
  },
  {
   "cell_type": "code",
   "execution_count": 2,
   "id": "68fc7316",
   "metadata": {},
   "outputs": [],
   "source": [
    "# import psutil"
   ]
  },
  {
   "cell_type": "code",
   "execution_count": 3,
   "id": "095f41c0",
   "metadata": {},
   "outputs": [],
   "source": [
    "# def get_memory_usage():\n",
    "#     process = psutil.Process()\n",
    "#     mem_info = process.memory_info()\n",
    "#     return mem_info.rss / 1024 / 1024"
   ]
  },
  {
   "cell_type": "code",
   "execution_count": 4,
   "id": "43dbae27",
   "metadata": {},
   "outputs": [],
   "source": [
    "# options for mgf\n",
    "mol_str = \"\"\"\n",
    "Li\n",
    "H 1 1.5\n",
    "symmetry c1\n",
    "\"\"\"\n",
    "\n",
    "options_dict = {\n",
    "    \"basis\": \"6-31G\",\n",
    "    \"scf_type\": \"pk\",\n",
    "    \"e_convergence\": 1e-10,\n",
    "    \"d_convergence\": 1e-10,\n",
    "    \"save_jk\" : True\n",
    "}\n",
    "\n",
    "\n",
    "psi4.set_options(options_dict)\n",
    "mol = psi4.geometry(mol_str)\n"
   ]
  },
  {
   "cell_type": "code",
   "execution_count": 5,
   "id": "fab14536",
   "metadata": {},
   "outputs": [],
   "source": [
    "# mol_str = \"\"\"\n",
    "# Li\n",
    "# H 1 1.5\n",
    "# symmetry c1\n",
    "# \"\"\"\n",
    "\n",
    "# options_dict = {\n",
    "#     \"basis\": \"6-31G\",\n",
    "#     \"scf_type\": \"pk\",\n",
    "#     \"e_convergence\": 1e-10,\n",
    "#     \"d_convergence\": 1e-10,\n",
    "# }\n",
    "\n",
    "# cavity_free_dict = {\n",
    "#     'omega_value' : 0.0,\n",
    "#     'lambda_vector' : np.array([0, 0, 0.0]),\n",
    "#     'ci_level' : 'cas',\n",
    "#     'nact_orbs' : 11, \n",
    "#     'nact_els' : 4,\n",
    "#     'full_diagonalization' : True,\n",
    "#     'number_of_photons' : 0\n",
    "# }\n",
    "\n",
    "# # Need to determine appropriate omega later~\n",
    "# #cavity_dict = {\n",
    "# #    'omega_value' : 0.0,\n",
    "# #    'lambda_vector' : np.array([0, 0, 0.0]),\n",
    "# #    'ci_level' : 'cas',\n",
    "# #    'nact_orbs' : 11, \n",
    "# #    'nact_els' : 4,\n",
    "# #    'full_diagonalization' : True,\n",
    "# #    'number_of_photons' : 0\n",
    "# #}\n",
    "\n",
    "# mol = psi4.geometry(mol_str)\n",
    "# psi4.set_options(options_dict)\n",
    "\n",
    "# test_pf = PFHamiltonianGenerator(\n",
    "#     mol_str,\n",
    "#     options_dict,\n",
    "#     cavity_free_dict\n",
    "# )\n",
    "\n"
   ]
  },
  {
   "cell_type": "code",
   "execution_count": 6,
   "id": "14ad5bb0",
   "metadata": {},
   "outputs": [],
   "source": [
    "mol_tmpl = \"\"\"\n",
    "Li\n",
    "H 1 **R**\n",
    "symmetry c1\n",
    "\"\"\"\n",
    "\n",
    "mol_str = \"\"\"\n",
    "Li\n",
    "H 1 1.5\n",
    "symmetry c1\n",
    "\"\"\"\n",
    "\n",
    "N_R = 50\n",
    "N_el = 50\n",
    "all_states = np.linspace(0, N_el-1, N_el, dtype=int)\n",
    "r_array = np.linspace(1.4, 2.2, N_R)\n",
    "\n",
    "# E_array = np.zeros((N_R, N_el))\n",
    "# Mu_array = np.zeros((N_R, N_el, N_el, 3))\n",
    "# psi4.set_options(options_dict)\n",
    "\n",
    "# r_idx = 0\n",
    "# for r in r_array:\n",
    "#     mol_str = mol_tmpl.replace(\"**R**\", str(r))\n",
    "#     print(mol_str)\n",
    "#     mol = psi4.geometry(mol_str)\n",
    "#     #scf_e, wfn = psi4.energy('SCF', return_wfn=True)\n",
    "#     #fci_energy = psi4.energy('fci',ref_wfn=wfn)\n",
    "    \n",
    "#     LiH = PFHamiltonianGenerator(mol_str, options_dict, cavity_free_dict)\n",
    "#     #assert np.isclose(fci_energy, LiH.CIeigs[0], 1e-7)\n",
    "#     # sort out states with dipole-allowed transition from ground state\n",
    "#     singlet_states = LiH.sort_dipole_allowed_states( N_el)\n",
    "#     print(singlet_states)\n",
    "    \n",
    "#     E_array[r_idx, :] = LiH.CIeigs[singlet_states]\n",
    "#     Mu_array[r_idx, :, :, :] = LiH.compute_dipole_moments(singlet_states)\n",
    "    \n",
    "#     # uncomment to try not sorting singlet states\n",
    "#     #E_array[r_idx, :] = LiH.CIeigs[all_states]\n",
    "#     #Mu_array[r_idx, :, :, :] = LiH.compute_dipole_moments(all_states)\n",
    "    \n",
    "#     r_idx += 1\n",
    "\n"
   ]
  },
  {
   "cell_type": "code",
   "execution_count": 7,
   "id": "ce8c52f4",
   "metadata": {
    "scrolled": true
   },
   "outputs": [
    {
     "name": "stdout",
     "output_type": "stream",
     "text": [
      "/Users/rmandern/code/SCQED-PCQED\n"
     ]
    }
   ],
   "source": [
    "from matplotlib import pyplot as plt\n",
    "somedir=os.getcwd()\n",
    "print(somedir)"
   ]
  },
  {
   "cell_type": "code",
   "execution_count": 8,
   "id": "5c22fc19-2547-4c74-85c7-01296abbd7ce",
   "metadata": {
    "tags": []
   },
   "outputs": [],
   "source": [
    "# np.save(\"LiH_631G_FCI_E_array\", E_array)\n",
    "# np.save(\"LiH_631G_Mu_array\", Mu_array)"
   ]
  },
  {
   "cell_type": "code",
   "execution_count": 9,
   "id": "a176dfc0",
   "metadata": {},
   "outputs": [
    {
     "name": "stdout",
     "output_type": "stream",
     "text": [
      "/Users/rmandern/code/SCQED-PCQED\n"
     ]
    }
   ],
   "source": [
    "print(os.path.abspath(\".\"))\n",
    "\n",
    "#E_array = np.load(LiH_631G_FCI_E_Array.npy)\n",
    "E_array = np.load('LiH_631G_FCI_E_array.npy')\n",
    "Mu_array = np.load('LiH_631G_Mu_array.npy')\n",
    "# r_array = np.load('LiH_r_array.npy')"
   ]
  },
  {
   "cell_type": "code",
   "execution_count": 10,
   "id": "a1c0e13e",
   "metadata": {},
   "outputs": [],
   "source": [
    "QEDCI_001_np10_s0 = np.loadtxt(\"lih/001/10p/singlet0\")\n",
    "QEDCI_001_np10_s1 = np.loadtxt(\"lih/001/10p/singlet1\")\n",
    "QEDCI_001_np10_s2 = np.loadtxt(\"lih/001/10p/singlet2\")\n",
    "\n",
    "\n",
    "QEDCI_005_np10_s0 = np.loadtxt(\"lih/005/10p/singlet0\")\n",
    "QEDCI_005_np10_s1 = np.loadtxt(\"lih/005/10p/singlet1\")\n",
    "QEDCI_005_np10_s2 = np.loadtxt(\"lih/005/10p/singlet2\")\n"
   ]
  },
  {
   "cell_type": "code",
   "execution_count": 11,
   "id": "6497e715",
   "metadata": {},
   "outputs": [
    {
     "data": {
      "text/plain": [
       "[<matplotlib.lines.Line2D at 0x15ef90af0>]"
      ]
     },
     "execution_count": 11,
     "metadata": {},
     "output_type": "execute_result"
    },
    {
     "data": {
      "image/png": "[encoded data removed]",
      "text/plain": [
       "<Figure size 640x480 with 1 Axes>"
      ]
     },
     "metadata": {},
     "output_type": "display_data"
    }
   ],
   "source": [
    "plt.plot(QEDCI_001_np10_s0[:,0], QEDCI_001_np10_s0[:,1], label=\"QEDCI_001_np10_s0\")\n",
    "plt.plot(QEDCI_001_np10_s1[:,0], QEDCI_001_np10_s1[:,1], label=\"QEDCI_001_np10_s1\")\n",
    "plt.plot(QEDCI_001_np10_s2[:,0], QEDCI_001_np10_s2[:,1], label=\"QEDCI_001_np10_s2\")\n",
    "\n",
    "plt.plot(QEDCI_005_np10_s0[:,0], QEDCI_005_np10_s0[:,1],linestyle=\"dashed\", label=\"QEDCI_s0\")\n",
    "plt.plot(QEDCI_005_np10_s1[:,0], QEDCI_005_np10_s1[:,1],linestyle=\"dashed\", label=\"QEDCI_005_np10_s1\")\n",
    "plt.plot(QEDCI_005_np10_s2[:,0], QEDCI_005_np10_s2[:,1],linestyle=\"dashed\", label=\"QEDCI_005_np10_s2\")"
   ]
  },
  {
   "cell_type": "code",
   "execution_count": 12,
   "id": "84e414a1",
   "metadata": {},
   "outputs": [],
   "source": [
    "QEDCI_001_np5_s0 = np.loadtxt(\"lih/001/5p/singlet0\")\n",
    "QEDCI_001_np5_s1 = np.loadtxt(\"lih/001/5p/singlet1\")\n",
    "QEDCI_001_np5_s2 = np.loadtxt(\"lih/001/5p/singlet2\")\n",
    "\n",
    "QEDCI_005_np5_s0 = np.loadtxt(\"lih/005/5p/singlet0\")\n",
    "QEDCI_005_np5_s1 = np.loadtxt(\"lih/005/5p/singlet1\")\n",
    "QEDCI_005_np5_s2 = np.loadtxt(\"lih/005/5p/singlet2\")"
   ]
  },
  {
   "cell_type": "code",
   "execution_count": 13,
   "id": "104e88e3",
   "metadata": {},
   "outputs": [
    {
     "data": {
      "text/plain": [
       "[<matplotlib.lines.Line2D at 0x15f0bc730>]"
      ]
     },
     "execution_count": 13,
     "metadata": {},
     "output_type": "execute_result"
    },
    {
     "data": {
      "image/png": "[encoded data removed]",
      "text/plain": [
       "<Figure size 640x480 with 1 Axes>"
      ]
     },
     "metadata": {},
     "output_type": "display_data"
    }
   ],
   "source": [
    "plt.plot(QEDCI_001_np5_s0[:,0], QEDCI_001_np5_s0[:,1], label=\"QEDCI_s0\")\n",
    "plt.plot(QEDCI_001_np5_s1[:,0], QEDCI_001_np5_s1[:,1], label=\"QEDCI_s1\")\n",
    "plt.plot(QEDCI_001_np5_s2[:,0], QEDCI_001_np5_s2[:,1], label=\"QEDCI_s2\")\n",
    "\n",
    "plt.plot(QEDCI_005_np5_s0[:,0], QEDCI_005_np5_s0[:,1],linestyle=\"dashed\", label=\"QEDCI_s0\")\n",
    "plt.plot(QEDCI_005_np5_s1[:,0], QEDCI_005_np5_s1[:,1],linestyle=\"dashed\", label=\"QEDCI_s1\")\n",
    "plt.plot(QEDCI_005_np5_s2[:,0], QEDCI_005_np5_s2[:,1],linestyle=\"dashed\", label=\"QEDCI_s2\")"
   ]
  },
  {
   "cell_type": "code",
   "execution_count": 14,
   "id": "759ae179",
   "metadata": {},
   "outputs": [],
   "source": [
    "QEDCI_001_np1_s0 = np.loadtxt(\"lih/001/1p/singlet0\")\n",
    "QEDCI_001_np1_s1 = np.loadtxt(\"lih/001/1p/singlet1\")\n",
    "QEDCI_001_np1_s2 = np.loadtxt(\"lih/001/1p/singlet2\")\n",
    "\n",
    "QEDCI_005_np1_s0 = np.loadtxt(\"lih/005/1p/singlet0\")\n",
    "QEDCI_005_np1_s1 = np.loadtxt(\"lih/005/1p/singlet1\")\n",
    "QEDCI_005_np1_s2 = np.loadtxt(\"lih/005/1p/singlet2\")"
   ]
  },
  {
   "cell_type": "code",
   "execution_count": 15,
   "id": "87707474",
   "metadata": {},
   "outputs": [
    {
     "data": {
      "text/plain": [
       "[<matplotlib.lines.Line2D at 0x15f15e0a0>]"
      ]
     },
     "execution_count": 15,
     "metadata": {},
     "output_type": "execute_result"
    },
    {
     "data": {
      "image/png": "[encoded data removed]",
      "text/plain": [
       "<Figure size 640x480 with 1 Axes>"
      ]
     },
     "metadata": {},
     "output_type": "display_data"
    }
   ],
   "source": [
    "plt.plot(QEDCI_001_np1_s0[:,0], QEDCI_001_np1_s0[:,1], label=\"QEDCI_s0\")\n",
    "plt.plot(QEDCI_001_np1_s1[:,0], QEDCI_001_np1_s1[:,1], label=\"QEDCI_s1\")\n",
    "plt.plot(QEDCI_001_np1_s2[:,0], QEDCI_001_np1_s2[:,1], label=\"QEDCI_s2\")\n",
    "\n",
    "plt.plot(QEDCI_005_np1_s0[:,0], QEDCI_005_np1_s0[:,1],linestyle=\"dashed\", label=\"QEDCI_s0\")\n",
    "plt.plot(QEDCI_005_np1_s1[:,0], QEDCI_005_np1_s1[:,1],linestyle=\"dashed\", label=\"QEDCI_s1\")\n",
    "plt.plot(QEDCI_005_np1_s2[:,0], QEDCI_005_np1_s2[:,1],linestyle=\"dashed\", label=\"QEDCI_s2\")"
   ]
  },
  {
   "cell_type": "code",
   "execution_count": 16,
   "id": "723dfae0",
   "metadata": {},
   "outputs": [
    {
     "data": {
      "image/png": "[encoded data removed]",
      "text/plain": [
       "<Figure size 640x480 with 1 Axes>"
      ]
     },
     "metadata": {},
     "output_type": "display_data"
    }
   ],
   "source": [
    "# print(r_array)\n",
    "# print(E_array[:,1]-E_array[:,0])\n",
    "\n",
    "plt.plot(r_array, E_array[:,0]+0.12086, label=\"E0\")\n",
    "plt.plot(r_array, E_array[:,1], label=\"E1\")\n",
    "plt.plot(r_array, E_array[:,2], label=\"E2\")\n",
    "plt.plot(r_array, E_array[:,3], label=\"E3\")\n",
    "plt.plot(r_array, E_array[:,4], label=\"E4\")\n",
    "plt.plot(r_array, E_array[:,5], label=\"E5\")\n",
    "plt.plot(r_array, E_array[:,6], label=\"E6\")\n",
    "plt.plot(r_array, E_array[:,7], label=\"E7\")\n",
    "plt.legend()\n",
    "#plt.xlim(1.79, 1.81)\n",
    "plt.show()"
   ]
  },
  {
   "cell_type": "code",
   "execution_count": 17,
   "id": "b68a4396-d3cb-4691-9562-d480c36d8d6e",
   "metadata": {
    "tags": []
   },
   "outputs": [
    {
     "data": {
      "image/png": "[encoded data removed]",
      "text/plain": [
       "<Figure size 640x480 with 1 Axes>"
      ]
     },
     "metadata": {},
     "output_type": "display_data"
    }
   ],
   "source": [
    "\n",
    "plt.plot(r_array, np.abs(Mu_array[:,0,1,2]), label=\"muz_0\")\n",
    "plt.plot(r_array, Mu_array[:,1,2,2], label=\"muz_1\")\n",
    "plt.plot(r_array, Mu_array[:,2,3,2], label=\"muz_2\")\n",
    "plt.plot(r_array, Mu_array[:,3,4,2], label=\"muz_3\")\n",
    "plt.plot(r_array, Mu_array[:,4,5,2], label=\"muz_4\")\n",
    "\n",
    "plt.legend()\n",
    "#plt.xlim(1.79, 1.81)\n",
    "plt.show()"
   ]
  },
  {
   "cell_type": "markdown",
   "id": "47aec2ff",
   "metadata": {},
   "source": [
    "\\begin{equation}\n",
    "\\hat{H}_{\\alpha n, \\beta m} = \\left( E_{\\alpha}(R) + n \\omega \\right) \\delta_{\\alpha \\beta} \\delta_{nm} + \\sqrt{\\frac{\\omega}{2}} \\lambda \\cdot \\mu_{\\alpha \\beta}(R) \\left(\\sqrt{n} \\delta_{n,m-1} + \\sqrt{n+1} \\delta_{n,m+1} \\right)  \\\\\n",
    "+\\frac{1}{2} \\sum_{\\gamma = 1}^N \\lambda \\cdot \\mu_{\\alpha, \\gamma}(R) \\lambda \\cdot \\mu_{\\gamma, \\beta} \\delta_{nm}\n",
    "\\end{equation}\n"
   ]
  },
  {
   "cell_type": "code",
   "execution_count": 18,
   "id": "ca8b9959",
   "metadata": {},
   "outputs": [],
   "source": [
    "def build_pf_hamiltonian(n_el, n_ph, E_R, omega, lamvec, mu):\n",
    "    \"\"\"\n",
    "    Given an array of n_el E_R values and an n_ph states with fundamental energy omega\n",
    "    build the PF Hamiltonian\n",
    "    \n",
    "    n_el : int\n",
    "        the number of electronic states (n_el = 1 means only ground-state)\n",
    "    \n",
    "    n_ph : int\n",
    "        the number of photon occupation states (n_ph = 1 means only the |0> state)\n",
    "    \n",
    "    E_R : np.array of floats\n",
    "        the electronic energies\n",
    "        \n",
    "    omega : float\n",
    "        the energy of the photonic mode\n",
    "        \n",
    "    lamvec : np.array of floats\n",
    "        the lambda vector\n",
    "        \n",
    "    mu : (n_el x n_el x 3) np.array of floats \n",
    "        mu[i, j, k] is the kth cartesian component of the dipole moment expectation value between \n",
    "        state i and state j\n",
    "    \n",
    "    \"\"\"\n",
    "    H_PF = np.zeros((n_el * n_ph, n_el * n_ph))\n",
    "    \n",
    "    # take care of the diagonals first\n",
    "    # bare electronic and photonic energy\n",
    "    for n in range(n_ph):\n",
    "        for a in range(n_el):\n",
    "            na = n * n_el + a\n",
    "            H_PF[na,na] = E_R[a] + n * omega\n",
    "        \n",
    "    # diagonal dipole self energy\n",
    "    for n in range(n_ph):\n",
    "        for a in range(n_el):\n",
    "            na = n * n_el + a\n",
    "            for g in range(n_el):\n",
    "                H_PF[na,na] += 0.5 * np.dot(lamvec, mu[a,g,:]) * np.dot(lamvec, mu[g,a,:])\n",
    "            \n",
    "    # off-diagonal dipole self energy\n",
    "    for n in range(n_ph):\n",
    "        for a in range(n_el):\n",
    "            na = n * n_el + a\n",
    "            for b in range(n_el):\n",
    "                nb = n * n_el + b\n",
    "                for g in range(n_el):\n",
    "                    if a != b:\n",
    "                        H_PF[na, nb] += 0.5 * np.dot(lamvec, mu[a,g,:]) * np.dot(lamvec, mu[g, b, :])\n",
    "                \n",
    "    # off-diagonal bilinear coupling\n",
    "    for n in range(n_ph):\n",
    "        for a in range(n_el):\n",
    "            na = n * n_el + a\n",
    "            \n",
    "            for m in range(n_ph):\n",
    "                for b in range(n_el):\n",
    "                    mb = m * n_el + b\n",
    "                    \n",
    "                    if n == (m-1) and a != b:\n",
    "                        #print(n, a, na, m, b, mb)\n",
    "                        H_PF[na,mb] = -np.sqrt(omega / 2) * np.dot(lamvec, mu[a,b,:]) * np.sqrt(m) \n",
    "                        H_PF[mb, na] = -np.sqrt(omega / 2) * np.dot(lamvec, mu[a,b,:]) * np.sqrt(m) \n",
    "                        \n",
    "                    elif n == (m+1) and a != b:\n",
    "                        #print(n, a, na, m, b, mb)\n",
    "                        H_PF[na, mb] = -np.sqrt(omega / 2) * np.dot(lamvec, mu[a,b,:]) * np.sqrt(m+1) \n",
    "                        H_PF[mb, na] = -np.sqrt(omega / 2) * np.dot(lamvec, mu[a,b,:]) * np.sqrt(m+1)\n",
    "                        \n",
    "    \n",
    "    return H_PF\n",
    "                \n",
    "            \n",
    "    \n",
    "        \n",
    "    \n",
    "    "
   ]
  },
  {
   "cell_type": "markdown",
   "id": "33aa978e",
   "metadata": {},
   "source": [
    "\\begin{equation}\n",
    "\\hat{H}_{\\alpha n, \\beta m} = \\left( E_{\\alpha}(R) + n \\omega \\right) \\delta_{\\alpha \\beta} \\delta_{nm} + \\sqrt{\\frac{\\omega}{2}} \\lambda \\cdot \\mu_{\\alpha \\beta}(R) \\left(\\sqrt{n} \\delta_{n,m-1} + \\sqrt{n+1} \\delta_{n,m+1} \\right)  \\\\\n",
    "+\\frac{1}{2} \\sum_{\\gamma = 1}^N \\lambda \\cdot \\mu_{\\alpha, \\gamma}(R) \\lambda \\cdot \\mu_{\\gamma, \\beta} \\delta_{nm}\n",
    "\\end{equation}\n"
   ]
  },
  {
   "cell_type": "code",
   "execution_count": 19,
   "id": "7117b419",
   "metadata": {},
   "outputs": [],
   "source": [
    "np.set_printoptions(precision=6, linewidth=200, suppress=True)\n",
    "omega_cav = 0.12086\n",
    "lambda_vector = np.array([0., 0., 0.05])"
   ]
  },
  {
   "cell_type": "markdown",
   "id": "277bdded",
   "metadata": {},
   "source": [
    "We want to investigate the mean absolute error of a given polariton potential energy surface as a \n",
    "function of electronic and photonic truncation:\n",
    "\n",
    "$$ {\\rm MAE} = \\frac{1}{N_R} \\sum_i^{N_R} \\left| E(R_i) - E^{'}(R_i) \\right| $$\n",
    "\n",
    "where $E^{'}(R_i)$ is a value of the polaritonic PES for a truncated level of theory and $E(R_i)$ is the exact value."
   ]
  },
  {
   "cell_type": "code",
   "execution_count": 20,
   "id": "7339d644",
   "metadata": {},
   "outputs": [],
   "source": [
    "def MAE(E, Ep):\n",
    "    \"\"\"\n",
    "    function to return the mean absolute error of the approximate PES stored in Ep relative to \n",
    "    the exact PES stored in E\n",
    "    \"\"\"\n",
    "    # get length\n",
    "    _NR = len(E)\n",
    "    \n",
    "    # take element-by-element difference\n",
    "    _diff = E - Ep\n",
    "    \n",
    "    # compute absolute value of differences\n",
    "    _absdiff = np.abs(_diff)\n",
    "    \n",
    "    # return sum divided by _NR\n",
    "    return np.sum(_absdiff) / _NR\n",
    "\n",
    "    "
   ]
  },
  {
   "cell_type": "code",
   "execution_count": 21,
   "id": "719ce520",
   "metadata": {},
   "outputs": [
    {
     "data": {
      "text/plain": [
       "'\\nAll states starting from nel = 2 to 50 and nph = 1 to 10 \\n\\n'"
      ]
     },
     "execution_count": 21,
     "metadata": {},
     "output_type": "execute_result"
    }
   ],
   "source": [
    "\"\"\"\n",
    "All states starting from nel = 2 to 50 and nph = 1 to 10 \n",
    "\n",
    "\"\"\""
   ]
  },
  {
   "cell_type": "code",
   "execution_count": 22,
   "id": "365d22eb",
   "metadata": {},
   "outputs": [
    {
     "name": "stdout",
     "output_type": "stream",
     "text": [
      "(6, 6)\n"
     ]
    }
   ],
   "source": [
    "N_el = 3\n",
    "N_ph = 2\n",
    "pf_array_3_2 = np.zeros((N_R, N_el * N_ph ))\n",
    "for k in range(N_R):           \n",
    "    _HPF = build_pf_hamiltonian(N_el, N_ph, E_array[k,:], omega_cav, lambda_vector, Mu_array[k, :, :, :])\n",
    "    pf_e, pf_c = np.linalg.eigh(_HPF)\n",
    "    pf_array_3_2[k,:] = pf_e\n",
    "\n",
    "print(np.shape(_HPF))\n"
   ]
  },
  {
   "cell_type": "code",
   "execution_count": 23,
   "id": "84edfd40",
   "metadata": {},
   "outputs": [
    {
     "data": {
      "text/plain": [
       "<matplotlib.legend.Legend at 0x15f439610>"
      ]
     },
     "execution_count": 23,
     "metadata": {},
     "output_type": "execute_result"
    },
    {
     "data": {
      "image/png": "[encoded data removed]",
      "text/plain": [
       "<Figure size 640x480 with 1 Axes>"
      ]
     },
     "metadata": {},
     "output_type": "display_data"
    }
   ],
   "source": [
    "plt.plot(r_array, E_array[:,0]+omega_cav, label=\"E0 + omega\")\n",
    "plt.plot(r_array, pf_array_3_2[:,0],label=\"PCQED_005_nel3_np2_E0\")\n",
    "plt.plot(r_array, pf_array_3_2[:,1],label=\"LP\")\n",
    "#plt.plot(r_array, E3_QED_FCI_Np_1, label=\"QED-FCI\")\n",
    "#plt.plot(r_array, E3_QED_FCI_Np_5, label=\"QED-FCI\")\n",
    "plt.plot(r_array, pf_array_3_2[:,2],'ro', label=\"UP\")\n",
    "plt.plot(r_array, pf_array_3_2[:,3],'bo', label=\"UP+1\")\n",
    "plt.legend()\n"
   ]
  },
  {
   "cell_type": "code",
   "execution_count": 24,
   "id": "7766a0d0",
   "metadata": {},
   "outputs": [
    {
     "name": "stdout",
     "output_type": "stream",
     "text": [
      "(10, 10)\n"
     ]
    }
   ],
   "source": [
    "N_el = 2\n",
    "N_ph = 5\n",
    "pf_array_2_5 = np.zeros((N_R, N_el * N_ph ))\n",
    "for k in range(N_R):           \n",
    "    _HPF = build_pf_hamiltonian(N_el, N_ph, E_array[k,:], omega_cav, lambda_vector, Mu_array[k, :, :, :])\n",
    "    pf_e, pf_c = np.linalg.eigh(_HPF)\n",
    "    pf_array_2_5[k,:] = pf_e\n",
    "\n",
    "print(np.shape(_HPF))"
   ]
  },
  {
   "cell_type": "code",
   "execution_count": 25,
   "id": "97eb9764",
   "metadata": {},
   "outputs": [
    {
     "name": "stdout",
     "output_type": "stream",
     "text": [
      "(20, 20)\n"
     ]
    }
   ],
   "source": [
    "N_el = 2\n",
    "N_ph = 10\n",
    "pf_array_2_10 = np.zeros((N_R, N_el * N_ph ))\n",
    "for k in range(N_R):           \n",
    "    _HPF = build_pf_hamiltonian(N_el, N_ph, E_array[k,:], omega_cav, lambda_vector, Mu_array[k, :, :, :])\n",
    "    pf_e, pf_c = np.linalg.eigh(_HPF)\n",
    "    pf_array_2_10[k,:] = pf_e\n",
    "\n",
    "print(np.shape(_HPF))"
   ]
  },
  {
   "cell_type": "code",
   "execution_count": 26,
   "id": "ac8a985c",
   "metadata": {},
   "outputs": [
    {
     "name": "stdout",
     "output_type": "stream",
     "text": [
      "(25, 25)\n"
     ]
    }
   ],
   "source": [
    "N_el = 5\n",
    "N_ph = 5\n",
    "pf_array_5_5 = np.zeros((N_R, N_el * N_ph ))\n",
    "for k in range(N_R):           \n",
    "    _HPF = build_pf_hamiltonian(N_el, N_ph, E_array[k,:], omega_cav, lambda_vector, Mu_array[k, :, :, :])\n",
    "    pf_e, pf_c = np.linalg.eigh(_HPF)\n",
    "    pf_array_5_5[k,:] = pf_e\n",
    "\n",
    "print(np.shape(_HPF))"
   ]
  },
  {
   "cell_type": "code",
   "execution_count": 27,
   "id": "0be90314",
   "metadata": {},
   "outputs": [
    {
     "name": "stdout",
     "output_type": "stream",
     "text": [
      "(50, 50)\n"
     ]
    }
   ],
   "source": [
    "N_el = 5\n",
    "N_ph = 10\n",
    "pf_array_5_10 = np.zeros((N_R, N_el * N_ph ))\n",
    "for k in range(N_R):           \n",
    "    _HPF = build_pf_hamiltonian(N_el, N_ph, E_array[k,:], omega_cav, lambda_vector, Mu_array[k, :, :, :])\n",
    "    pf_e, pf_c = np.linalg.eigh(_HPF)\n",
    "    pf_array_5_10[k,:] = pf_e\n",
    "\n",
    "print(np.shape(_HPF))"
   ]
  },
  {
   "cell_type": "code",
   "execution_count": 28,
   "id": "5fcee13c",
   "metadata": {},
   "outputs": [
    {
     "name": "stdout",
     "output_type": "stream",
     "text": [
      "(50, 50)\n"
     ]
    }
   ],
   "source": [
    "N_el = 10\n",
    "N_ph = 5\n",
    "pf_array_10_5 = np.zeros((N_R, N_el * N_ph ))\n",
    "for k in range(N_R):           \n",
    "    _HPF = build_pf_hamiltonian(N_el, N_ph, E_array[k,:], omega_cav, lambda_vector, Mu_array[k, :, :, :])\n",
    "    pf_e, pf_c = np.linalg.eigh(_HPF)\n",
    "    pf_array_10_5[k,:] = pf_e\n",
    "\n",
    "print(np.shape(_HPF))\n",
    "# np.save(\"LiH_631G(005)_FCI_pf_array_10_5\", pf_array_10_5)"
   ]
  },
  {
   "cell_type": "code",
   "execution_count": 29,
   "id": "e800c9ea",
   "metadata": {},
   "outputs": [
    {
     "ename": "NameError",
     "evalue": "name 'pf_array_10_10' is not defined",
     "output_type": "error",
     "traceback": [
      "\u001b[0;31m---------------------------------------------------------------------------\u001b[0m",
      "\u001b[0;31mNameError\u001b[0m                                 Traceback (most recent call last)",
      "Cell \u001b[0;32mIn[29], line 7\u001b[0m\n\u001b[1;32m      5\u001b[0m     _HPF \u001b[38;5;241m=\u001b[39m build_pf_hamiltonian(N_el, N_ph, E_array[k,:], omega_cav, lambda_vector, Mu_array[k, :, :, :])\n\u001b[1;32m      6\u001b[0m     pf_e, pf_c \u001b[38;5;241m=\u001b[39m np\u001b[38;5;241m.\u001b[39mlinalg\u001b[38;5;241m.\u001b[39meigh(_HPF)\n\u001b[0;32m----> 7\u001b[0m     \u001b[43mpf_array_10_10\u001b[49m[k,:] \u001b[38;5;241m=\u001b[39m pf_e\n\u001b[1;32m      9\u001b[0m \u001b[38;5;28mprint\u001b[39m(np\u001b[38;5;241m.\u001b[39mshape(_HPF))\n",
      "\u001b[0;31mNameError\u001b[0m: name 'pf_array_10_10' is not defined"
     ]
    }
   ],
   "source": [
    "N_el = 10\n",
    "N_ph = 10\n",
    "pf_array_10_19 = np.zeros((N_R, N_el * N_ph ))\n",
    "for k in range(N_R):           \n",
    "    _HPF = build_pf_hamiltonian(N_el, N_ph, E_array[k,:], omega_cav, lambda_vector, Mu_array[k, :, :, :])\n",
    "    pf_e, pf_c = np.linalg.eigh(_HPF)\n",
    "    pf_array_10_10[k,:] = pf_e\n",
    "\n",
    "print(np.shape(_HPF))\n"
   ]
  },
  {
   "cell_type": "code",
   "execution_count": null,
   "id": "061320de",
   "metadata": {},
   "outputs": [],
   "source": [
    "N_el = 15\n",
    "N_ph = 5\n",
    "pf_array_15_5 = np.zeros((N_R, N_el * N_ph ))\n",
    "for k in range(N_R):           \n",
    "    _HPF = build_pf_hamiltonian(N_el, N_ph, E_array[k,:], omega_cav, lambda_vector, Mu_array[k, :, :, :])\n",
    "    pf_e, pf_c = np.linalg.eigh(_HPF)\n",
    "    pf_array_15_5[k,:] = pf_e\n",
    "\n",
    "print(np.shape(_HPF))\n",
    "# np.save(\"LiH_631G(005)_FCI_pf_array_10_5\", pf_array_10_5)"
   ]
  },
  {
   "cell_type": "code",
   "execution_count": null,
   "id": "963eb407",
   "metadata": {},
   "outputs": [],
   "source": [
    "N_el = 15\n",
    "N_ph = 10\n",
    "pf_array_10_19 = np.zeros((N_R, N_el * N_ph ))\n",
    "for k in range(N_R):           \n",
    "    _HPF = build_pf_hamiltonian(N_el, N_ph, E_array[k,:], omega_cav, lambda_vector, Mu_array[k, :, :, :])\n",
    "    pf_e, pf_c = np.linalg.eigh(_HPF)\n",
    "    pf_array_15_10[k,:] = pf_e\n",
    "\n",
    "print(np.shape(_HPF))"
   ]
  },
  {
   "cell_type": "code",
   "execution_count": null,
   "id": "d6de03b0",
   "metadata": {},
   "outputs": [],
   "source": [
    "N_el = 20\n",
    "N_ph = 5\n",
    "pf_array_20_5 = np.zeros((N_R, N_el * N_ph ))\n",
    "for k in range(N_R):           \n",
    "    _HPF = build_pf_hamiltonian(N_el, N_ph, E_array[k,:], omega_cav, lambda_vector, Mu_array[k, :, :, :])\n",
    "    pf_e, pf_c = np.linalg.eigh(_HPF)\n",
    "    pf_array_20_5[k,:] = pf_e\n",
    "\n",
    "print(np.shape(_HPF))\n",
    "# np.save(\"LiH_631G(005)_FCI_pf_array_10_5\", pf_array_10_5)"
   ]
  },
  {
   "cell_type": "code",
   "execution_count": null,
   "id": "e3113851",
   "metadata": {},
   "outputs": [],
   "source": [
    "N_el = 20\n",
    "N_ph = 10\n",
    "pf_array_20_10 = np.zeros((N_R, N_el * N_ph ))\n",
    "for k in range(N_R):           \n",
    "    _HPF = build_pf_hamiltonian(N_el, N_ph, E_array[k,:], omega_cav, lambda_vector, Mu_array[k, :, :, :])\n",
    "    pf_e, pf_c = np.linalg.eigh(_HPF)\n",
    "    pf_array_20_10[k,:] = pf_e\n",
    "\n",
    "print(np.shape(_HPF))"
   ]
  },
  {
   "cell_type": "code",
   "execution_count": null,
   "id": "62659197",
   "metadata": {},
   "outputs": [],
   "source": [
    "N_el = 25\n",
    "N_ph = 5\n",
    "pf_array_25_5 = np.zeros((N_R, N_el * N_ph ))\n",
    "for k in range(N_R):           \n",
    "    _HPF = build_pf_hamiltonian(N_el, N_ph, E_array[k,:], omega_cav, lambda_vector, Mu_array[k, :, :, :])\n",
    "    pf_e, pf_c = np.linalg.eigh(_HPF)\n",
    "    pf_array_25_5[k,:] = pf_e\n",
    "\n",
    "print(np.shape(_HPF))\n",
    "# np.save(\"LiH_631G(005)_FCI_pf_array_10_5\", pf_array_10_5)"
   ]
  },
  {
   "cell_type": "code",
   "execution_count": null,
   "id": "10734243",
   "metadata": {},
   "outputs": [],
   "source": [
    " N_el = 25\n",
    "N_ph = 10\n",
    "pf_array_25_10 = np.zeros((N_R, N_el * N_ph ))\n",
    "for k in range(N_R):           \n",
    "    _HPF = build_pf_hamiltonian(N_el, N_ph, E_array[k,:], omega_cav, lambda_vector, Mu_array[k, :, :, :])\n",
    "    pf_e, pf_c = np.linalg.eigh(_HPF)\n",
    "    pf_array_25_10[k,:] = pf_e\n",
    "\n",
    "print(np.shape(_HPF))"
   ]
  },
  {
   "cell_type": "code",
   "execution_count": null,
   "id": "867ba4a2",
   "metadata": {},
   "outputs": [],
   "source": [
    "N_el = 30\n",
    "N_ph = 5\n",
    "pf_array_30_5 = np.zeros((N_R, N_el * N_ph ))\n",
    "for k in range(N_R):           \n",
    "    _HPF = build_pf_hamiltonian(N_el, N_ph, E_array[k,:], omega_cav, lambda_vector, Mu_array[k, :, :, :])\n",
    "    pf_e, pf_c = np.linalg.eigh(_HPF)\n",
    "    pf_array_30_5[k,:] = pf_e\n",
    "\n",
    "print(np.shape(_HPF))"
   ]
  },
  {
   "cell_type": "code",
   "execution_count": null,
   "id": "b8e7aaf2",
   "metadata": {},
   "outputs": [],
   "source": [
    "N_el = 30\n",
    "N_ph = 10\n",
    "pf_array_30_10 = np.zeros((N_R, N_el * N_ph ))\n",
    "for k in range(N_R):           \n",
    "    _HPF = build_pf_hamiltonian(N_el, N_ph, E_array[k,:], omega_cav, lambda_vector, Mu_array[k, :, :, :])\n",
    "    pf_e, pf_c = np.linalg.eigh(_HPF)\n",
    "    pf_array_30_10[k,:] = pf_e\n",
    "\n",
    "print(np.shape(_HPF))"
   ]
  },
  {
   "cell_type": "code",
   "execution_count": null,
   "id": "95af59f0",
   "metadata": {},
   "outputs": [],
   "source": [
    "N_el = 35\n",
    "N_ph = 5\n",
    "pf_array_35_5 = np.zeros((N_R, N_el * N_ph ))\n",
    "for k in range(N_R):           \n",
    "    _HPF = build_pf_hamiltonian(N_el, N_ph, E_array[k,:], omega_cav, lambda_vector, Mu_array[k, :, :, :])\n",
    "    pf_e, pf_c = np.linalg.eigh(_HPF)\n",
    "    pf_array_35_5[k,:] = pf_e\n",
    "\n",
    "print(np.shape(_HPF))"
   ]
  },
  {
   "cell_type": "code",
   "execution_count": null,
   "id": "74926f64",
   "metadata": {},
   "outputs": [],
   "source": [
    "N_el = 35\n",
    "N_ph = 10\n",
    "pf_array_35_10 = np.zeros((N_R, N_el * N_ph ))\n",
    "for k in range(N_R):           \n",
    "    _HPF = build_pf_hamiltonian(N_el, N_ph, E_array[k,:], omega_cav, lambda_vector, Mu_array[k, :, :, :])\n",
    "    pf_e, pf_c = np.linalg.eigh(_HPF)\n",
    "    pf_array_35_10[k,:] = pf_e\n",
    "\n",
    "print(np.shape(_HPF))"
   ]
  },
  {
   "cell_type": "code",
   "execution_count": null,
   "id": "ece9d242",
   "metadata": {},
   "outputs": [],
   "source": [
    "N_el = 40\n",
    "N_ph = 5\n",
    "pf_array_40_5 = np.zeros((N_R, N_el * N_ph ))\n",
    "for k in range(N_R):           \n",
    "    _HPF = build_pf_hamiltonian(N_el, N_ph, E_array[k,:], omega_cav, lambda_vector, Mu_array[k, :, :, :])\n",
    "    pf_e, pf_c = np.linalg.eigh(_HPF)\n",
    "    pf_array_40_5[k,:] = pf_e\n",
    "\n",
    "print(np.shape(_HPF))"
   ]
  },
  {
   "cell_type": "code",
   "execution_count": null,
   "id": "799deacf",
   "metadata": {},
   "outputs": [],
   "source": [
    "N_el = 40\n",
    "N_ph = 10\n",
    "pf_array_40_10 = np.zeros((N_R, N_el * N_ph ))\n",
    "for k in range(N_R):           \n",
    "    _HPF = build_pf_hamiltonian(N_el, N_ph, E_array[k,:], omega_cav, lambda_vector, Mu_array[k, :, :, :])\n",
    "    pf_e, pf_c = np.linalg.eigh(_HPF)\n",
    "    pf_array_40_10[k,:] = pf_e\n",
    "\n",
    "print(np.shape(_HPF))"
   ]
  },
  {
   "cell_type": "code",
   "execution_count": null,
   "id": "2d2a78df",
   "metadata": {},
   "outputs": [],
   "source": [
    "N_el = 45\n",
    "N_ph = 5\n",
    "pf_array_45_5 = np.zeros((N_R, N_el * N_ph ))\n",
    "for k in range(N_R):           \n",
    "    _HPF = build_pf_hamiltonian(N_el, N_ph, E_array[k,:], omega_cav, lambda_vector, Mu_array[k, :, :, :])\n",
    "    pf_e, pf_c = np.linalg.eigh(_HPF)\n",
    "    pf_array_45_5[k,:] = pf_e\n",
    "\n",
    "print(np.shape(_HPF))"
   ]
  },
  {
   "cell_type": "code",
   "execution_count": null,
   "id": "daa58018",
   "metadata": {},
   "outputs": [],
   "source": [
    "N_el = 45\n",
    "N_ph = 10\n",
    "pf_array_45_10 = np.zeros((N_R, N_el * N_ph ))\n",
    "for k in range(N_R):           \n",
    "    _HPF = build_pf_hamiltonian(N_el, N_ph, E_array[k,:], omega_cav, lambda_vector, Mu_array[k, :, :, :])\n",
    "    pf_e, pf_c = np.linalg.eigh(_HPF)\n",
    "    pf_array_45_10[k,:] = pf_e\n",
    "\n",
    "print(np.shape(_HPF))"
   ]
  },
  {
   "cell_type": "code",
   "execution_count": null,
   "id": "8cd022e0",
   "metadata": {},
   "outputs": [],
   "source": [
    "N_el = 50\n",
    "N_ph = 5\n",
    "pf_array_50_5 = np.zeros((N_R, N_el * N_ph ))\n",
    "for k in range(N_R):           \n",
    "    _HPF = build_pf_hamiltonian(N_el, N_ph, E_array[k,:], omega_cav, lambda_vector, Mu_array[k, :, :, :])\n",
    "    pf_e, pf_c = np.linalg.eigh(_HPF)\n",
    "    pf_array_50_5[k,:] = pf_e\n",
    "\n",
    "print(np.shape(_HPF))"
   ]
  },
  {
   "cell_type": "code",
   "execution_count": null,
   "id": "6a19bf66",
   "metadata": {},
   "outputs": [],
   "source": [
    "N_el = 50\n",
    "N_ph = 10\n",
    "pf_array_50_10 = np.zeros((N_R, N_el * N_ph ))\n",
    "for k in range(N_R):           \n",
    "    _HPF = build_pf_hamiltonian(N_el, N_ph, E_array[k,:], omega_cav, lambda_vector, Mu_array[k, :, :, :])\n",
    "    pf_e, pf_c = np.linalg.eigh(_HPF)\n",
    "    pf_array_50_10[k,:] = pf_e\n",
    "\n",
    "print(np.shape(_HPF))"
   ]
  },
  {
   "cell_type": "code",
   "execution_count": null,
   "id": "217b57c9-d992-445f-8470-ec6dc6a377ba",
   "metadata": {
    "tags": []
   },
   "outputs": [],
   "source": [
    "N_el = 30\n",
    "N_ph = 2\n",
    "pf_array_30_2 = np.zeros((N_R, N_el * N_ph ))\n",
    "for k in range(N_R):           \n",
    "    _HPF = build_pf_hamiltonian(N_el, N_ph, E_array[k,:], omega_cav, lambda_vector, Mu_array[k, :, :, :])\n",
    "    pf_e, pf_c = np.linalg.eigh(_HPF)\n",
    "    pf_array_30_2[k,:] = pf_e\n",
    "\n",
    "print(np.shape(_HPF))\n",
    "np.save(\"LiH_631G(005)_FCI_pf_array_30_2\", pf_array_30_2)"
   ]
  },
  {
   "cell_type": "code",
   "execution_count": null,
   "id": "69bd2ea5-bd6d-43f5-8321-91e9fdb41deb",
   "metadata": {
    "tags": []
   },
   "outputs": [],
   "source": []
  },
  {
   "cell_type": "code",
   "execution_count": null,
   "id": "e076a4bb-f902-4ada-886f-e788a7791f55",
   "metadata": {
    "tags": []
   },
   "outputs": [],
   "source": [
    "N_el = 30\n",
    "N_ph = 30\n",
    "pf_array_30_30 = np.zeros((N_R, N_el * N_ph ))\n",
    "for k in range(N_R):           \n",
    "    _HPF = build_pf_hamiltonian(N_el, N_ph, E_array[k,:], omega_cav, lambda_vector, Mu_array[k, :, :, :])\n",
    "    pf_e, pf_c = np.linalg.eigh(_HPF)\n",
    "    pf_array_30_30[k,:] = pf_e\n",
    "\n",
    "print(np.shape(_HPF))\n"
   ]
  },
  {
   "cell_type": "code",
   "execution_count": null,
   "id": "e2db4c85",
   "metadata": {},
   "outputs": [],
   "source": []
  },
  {
   "cell_type": "code",
   "execution_count": null,
   "id": "a9689e85",
   "metadata": {},
   "outputs": [],
   "source": [
    "N_el = 50\n",
    "N_ph = 20\n",
    "pf_array_50_20 = np.zeros((N_R, N_el * N_ph ))\n",
    "for k in range(N_R):           \n",
    "    _HPF = build_pf_hamiltonian(N_el, N_ph, E_array[k,:], omega_cav, lambda_vector, Mu_array[k, :, :, :])\n",
    "    pf_e, pf_c = np.linalg.eigh(_HPF)\n",
    "    pf_array_50_20[k,:] = pf_e\n",
    "    \n"
   ]
  },
  {
   "cell_type": "code",
   "execution_count": null,
   "id": "2b9ae278",
   "metadata": {},
   "outputs": [],
   "source": []
  },
  {
   "cell_type": "code",
   "execution_count": null,
   "id": "fc0fdfc6",
   "metadata": {},
   "outputs": [],
   "source": [
    "\n",
    "#plt.plot(r_array, Eg_QED_FCI_Np_1)\n",
    "# plt.plot(r_array, E_array[:,0],'bo',  label=\"No cavity\")\n",
    "# plt.plot(r_array, pf_array_3_2[:,0],'y^' ,label=\"PCQED_nel3_np2_E0\")\n",
    "# plt.plot(r_array, pf_array_10_5[:,0],'bs' , ms=8,mfc='none',label=\"PCQED_nel10_np5_E0\")\n",
    "# plt.plot(r_array, pf_array_30_2[:,0],'md' , ms=7,mfc='none',label=\"PCQED_nel30_np2_E0\")\n",
    "plt.plot(r_array, pf_array_30_30[:,0],label=\"PCQED_nel30_np30_E0\")\n",
    "plt.plot(r_array, pf_array_50_10[:,0],label=\"PCQED_nel50_np10_E0\")\n",
    "plt.plot(r_array, pf_array_50_20[:,0],label=\"PCQED_005_nel30_np20_E0\")\n",
    "# plt.plot(r_array, pf_array[:,1],label=\"LP\")\n",
    "# plt.plot(r_array, E_array[:,0]+omega_cav, label=\"E0 + omega\")\n",
    "# plt.plot(r_array, E_array[:,1], label=\"E1\")\n",
    "# plt.plot(r_array, pf_array[:,2],'ro', label=\"UP\")\n",
    "# plt.plot(r_array, pf_array[:,3],'bo', label=\"UP+1\")\n",
    "# plt.plot(r_array, pf_array[:,4],'yo', label=\"UP+2\")\n",
    "# plt.plot(QEDCI_001_np1_s0[:,0], QEDCI_001_np1_s0[:,1],'rv' , ms=7,mfc='none', label=\"QEDCI_001_np1_s0\")\n",
    "# plt.plot(QEDCI_001_np5_s0[:,0], QEDCI_001_np5_s0[:,1],'ms' , ms=7,mfc='none', label=\"QEDCI_001_np5_s0\")\n",
    "# plt.plot(QEDCI_001_np10_s0[:,0], QEDCI_001_np10_s0[:,1],linestyle=\"dashdot\" ,label=\"QEDCI_001_np10_s0\")\n",
    "# plt.plot(QEDCI_005_np1_s0[:,0], QEDCI_005_np1_s0[:,1],'ro',ms = 6, mfc = 'none', label=\"QEDCI_005_np1_s0\")\n",
    "# plt.plot(QEDCI_005_np5_s0[:,0], QEDCI_005_np5_s0[:,1],'bo',ms=3,mfc ='none', label=\"QEDCI_005_np5_s0\")\n",
    "# plt.plot(QEDCI_005_np10_s0[:,0], QEDCI_005_np10_s0[:,1],'ys' , ms=7,mfc='none', label=\"QEDCI_005_np10_s0\")\n",
    "# plt.plot(QEDCI_001_np1_s1[:,0], QEDCI_001_np1_s1[:,1], label=\"QEDCI_001_s1\",color='black',linestyle='dotted')\n",
    "# plt.plot(QEDCI_001_np1_s1[:,0], QEDCI_001_np1_s2[:,1], label=\"QEDCI_001_s2\",color='pink',linestyle='dotted')\n",
    "# plt.xlim(1.4, 2.0)\n",
    "# plt.ylim(-8.000, -7.980)\n",
    "# plt.ylim(-8.000, -7.9875)\n",
    "#lt.title(\"nel_3__np_40\")\n",
    "#plt.plot(r_array, pf_array[:,4])\n",
    "plt.legend()\n",
    "# plt.savefig(\"LiH_0.05_comparsion.png\")\n"
   ]
  },
  {
   "cell_type": "code",
   "execution_count": null,
   "id": "c0defdf6",
   "metadata": {
    "scrolled": false
   },
   "outputs": [],
   "source": [
    "#plt.plot(r_array, Eg_QED_FCI_Np_1)\n",
    "# plt.plot(r_array, E_array[:,0],'bo',  label=\"No cavity\")\n",
    "\n",
    "# State nel=3 and nph =2, all pf_energy(pcqed) surfaces\n",
    "# plt.plot(r_array, pf_array_3_2[:,0],'k*' ,label=\"PCQED_nel3_np2_E0\")\n",
    "# plt.plot(r_array, pf_array_3_2[:,1],'k*' ,label=\"PCQED_nel3_np2_E1,LP\")\n",
    "plt.plot(r_array, pf_array_3_2[:,2],'k*' ,label=\"PCQED_nel3_np2_E2,UP\")\n",
    "plt.plot(r_array, pf_array_3_2[:,3],'ko' ,label=\"PCQED_nel3_np2_E3,UP+1\")\n",
    "# State nel=10 and nph =5, all pf_energy(pcqed) surfaces\n",
    "# plt.plot(r_array, pf_array_10_5[:,0],'ms' , ms=8,mfc='none',label=\"PCQED_nel10_np5_E0\")\n",
    "# plt.plot(r_array, pf_array_10_5[:,1],'ms' , ms=8,mfc='none',label=\"PCQED_nel10_np5_E1, LP\")\n",
    "plt.plot(r_array, pf_array_10_5[:,2],'ms' , ms=8,mfc='none',label=\"PCQED_nel10_np5_E2, UP\")\n",
    "# plt.plot(r_array, pf_array_10_5[:,4],'mo' , ms=8,mfc='none',label=\"PCQED_nel10_np5_E3, UP+1\")\n",
    "# State nel=50 and nph =10, all pf_energy(pcqed) surfaces\n",
    "# plt.plot(r_array, pf_array_50_10[:,0],'g^',label=\"PCQED_nel50_np10_E0\")\n",
    "# plt.plot(r_array, pf_array_50_10[:,1],'g^',label=\"PCQED_nel50_np10_E1,LP\")\n",
    "plt.plot(r_array, pf_array_50_10[:,2],'g^',label=\"PCQED_nel50_np10_E2,UP\")\n",
    "# plt.plot(r_array, pf_array_50_10[:,4],'go',label=\"PCQED_nel50_np10_E3,UP+1\")\n",
    "# plt.plot(QEDCI_005_np1_s1[:,0], QEDCI_005_np1_s1[:,1],'yo',ms = 6, mfc = 'none', label=\"QEDCI_005_np1_s1\")\n",
    "# plt.plot(QEDCI_005_np5_s1[:,0], QEDCI_005_np5_s1[:,1],'yo',ms=3,mfc ='none', label=\"QEDCI_005_np5_s1\")\n",
    "# plt.plot(QEDCI_005_np10_s1[:,0], QEDCI_005_np10_s1[:,1],'y',linestyle=\"dashed\", label=\"QEDCI_005_np10_s1\")\n",
    "# plt.plot(QEDCI_005_np1_s2[:,0], QEDCI_005_np1_s2[:,1],'ro',ms = 6, mfc = 'none', label=\"QEDCI_005_np1_s2\")\n",
    "# plt.plot(QEDCI_005_np5_s2[:,0], QEDCI_005_np5_s2[:,1],'ro',ms=3,mfc ='none', label=\"QEDCI_005_np5_s2\")\n",
    "# plt.plot(QEDCI_005_np10_s2[:,0], QEDCI_005_np10_s2[:,1],'r',linestyle=\"dashed\", label=\"QEDCI_005_np10_s2\")\n",
    "# plt.ylim(-7.84, -7.86)\n",
    "#lt.title(\"nel_3__np_40\")\n",
    "#plt.plot(r_array, pf_array[:,4])\n",
    "plt.legend()\n",
    "# plt.savefig(\"LiH_0.05_LPUP.png\")\n",
    "# print(pf_array_3_2[:,2])\n",
    "# print(E2_array[:,4][-14:])\n",
    "# print(E4_array[:,2][-14:])\n",
    "# # print(pf_array)\n",
    "# print(np.shape(E4_array))\n"
   ]
  },
  {
   "cell_type": "code",
   "execution_count": null,
   "id": "e1c3e34a",
   "metadata": {},
   "outputs": [],
   "source": []
  },
  {
   "cell_type": "code",
   "execution_count": null,
   "id": "eb8fa49a",
   "metadata": {},
   "outputs": [],
   "source": []
  },
  {
   "cell_type": "code",
   "execution_count": null,
   "id": "26940369",
   "metadata": {},
   "outputs": [],
   "source": []
  },
  {
   "cell_type": "code",
   "execution_count": null,
   "id": "6e7d0e60",
   "metadata": {},
   "outputs": [],
   "source": []
  },
  {
   "cell_type": "code",
   "execution_count": null,
   "id": "2a6d8bf6-ae87-4edf-a878-85f3eeb83da8",
   "metadata": {
    "tags": []
   },
   "outputs": [],
   "source": []
  },
  {
   "cell_type": "code",
   "execution_count": null,
   "id": "f32c2ba8-7afc-4ce2-9895-7d5bfca6bf9e",
   "metadata": {
    "tags": []
   },
   "outputs": [],
   "source": []
  },
  {
   "cell_type": "code",
   "execution_count": null,
   "id": "3fb55877",
   "metadata": {},
   "outputs": [],
   "source": []
  },
  {
   "cell_type": "code",
   "execution_count": null,
   "id": "55b5ccef",
   "metadata": {},
   "outputs": [],
   "source": []
  },
  {
   "cell_type": "code",
   "execution_count": null,
   "id": "7514347c",
   "metadata": {},
   "outputs": [],
   "source": []
  },
  {
   "cell_type": "code",
   "execution_count": null,
   "id": "150df11b",
   "metadata": {},
   "outputs": [],
   "source": []
  },
  {
   "cell_type": "code",
   "execution_count": null,
   "id": "c34ef6fb",
   "metadata": {},
   "outputs": [],
   "source": []
  },
  {
   "cell_type": "code",
   "execution_count": null,
   "id": "01be5847",
   "metadata": {},
   "outputs": [],
   "source": []
  },
  {
   "cell_type": "code",
   "execution_count": null,
   "id": "03f135cd",
   "metadata": {},
   "outputs": [],
   "source": []
  },
  {
   "cell_type": "code",
   "execution_count": null,
   "id": "7661d999",
   "metadata": {},
   "outputs": [],
   "source": []
  },
  {
   "cell_type": "code",
   "execution_count": null,
   "id": "f1f39d55",
   "metadata": {},
   "outputs": [],
   "source": []
  },
  {
   "cell_type": "code",
   "execution_count": null,
   "id": "1d3c8558",
   "metadata": {},
   "outputs": [],
   "source": []
  }
 ],
 "metadata": {
  "kernelspec": {
   "display_name": "Python 3 (ipykernel)",
   "language": "python",
   "name": "python3"
  },
  "language_info": {
   "codemirror_mode": {
    "name": "ipython",
    "version": 3
   },
   "file_extension": ".py",
   "mimetype": "text/x-python",
   "name": "python",
   "nbconvert_exporter": "python",
   "pygments_lexer": "ipython3",
   "version": "3.9.15"
  }
 },
 "nbformat": 4,
 "nbformat_minor": 5
}
