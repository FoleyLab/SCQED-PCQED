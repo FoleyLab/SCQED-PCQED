{
 "cells": [
  {
   "cell_type": "code",
   "execution_count": null,
   "id": "57746595",
   "metadata": {},
   "outputs": [],
   "source": [
    "import numpy as np\n",
    "import sys\n",
    "np.set_printoptions(precision=10, linewidth=200, suppress=True)\n",
    "import psi4\n",
    "from helper_PFCI import PFHamiltonianGenerator\n",
    "from helper_cqed_rhf import cqed_rhf\n"
   ]
  },
  {
   "cell_type": "code",
   "execution_count": null,
   "id": "43dbae27",
   "metadata": {},
   "outputs": [],
   "source": [
    "# options for mgf\n",
    "mol_str = \"\"\"\n",
    "Li\n",
    "H 1 2.2\n",
    "symmetry c1\n",
    "\"\"\"\n",
    "\n",
    "psi4_options_dict = {\n",
    "    \"basis\": \"6-31G\",\n",
    "    \"scf_type\": \"pk\",\n",
    "    \"e_convergence\": 1e-10,\n",
    "    \"d_convergence\": 1e-10,\n",
    "    \"save_jk\" : True,\n",
    "    'num_roots': 4\n",
    "\n",
    "}\n",
    "\n",
    "\n",
    "psi4.set_options(psi4_options_dict)\n",
    "mol = psi4.geometry(mol_str)\n",
    "scf_e, wfn = psi4.energy('SCF', return_wfn=True)\n",
    "fci_energy = psi4.energy('fci',ref_wfn=wfn)\n"
   ]
  },
  {
   "cell_type": "code",
   "execution_count": null,
   "id": "bd140d55",
   "metadata": {},
   "outputs": [],
   "source": [
    "r_array = np.array([1.4, 1.5, 1.6, 1.7, 1.8, 1.9, 2.0, 2.1, 2.2])\n",
    "fci_energy_array = np.array([[-8.026148328647,-7.889499785846,-7.851992279633,-7.851992279633],\n",
    "                            [-8.030737549150, -7.898392217202,-7.861044776270,-7.861044776269],\n",
    "                            [-8.031953728797, -7.904570165465, -7.867295558580, -7.867295558580],\n",
    "                           [-8.030803226956,-7.908819359796,-7.871565738450,-7.871565738449],\n",
    "                           [-8.028015682253,-7.911701694565,-7.874442346308,-7.874442346308],\n",
    "                           [-8.024121312576,-7.913618733951,-7.876345298053,-7.876345298053],\n",
    "                           [-8.019506948902,-7.914856746463,-7.877574864396,-7.877574864395],\n",
    "                           [-8.014456447122,-7.915618698712,-7.878345347133,-7.878345347133],\n",
    "                           [-8.009179528248,-7.916046978494,-7.878808986221,-7.878808986221]])"
   ]
  },
  {
   "cell_type": "code",
   "execution_count": null,
   "id": "9e296c04",
   "metadata": {},
   "outputs": [],
   "source": [
    "import matplotlib.pyplot as plt\n",
    "\n",
    "plt.plot(r_array, fci_energy_array[:,0])\n",
    "plt.plot(r_array, fci_energy_array[:,1])\n",
    "plt.plot(r_array, fci_energy_array[:,2])\n",
    "plt.show()"
   ]
  },
  {
   "cell_type": "code",
   "execution_count": null,
   "id": "fab14536",
   "metadata": {},
   "outputs": [],
   "source": [
    "mol_str = \"\"\"\n",
    "Li\n",
    "H 1 1.5\n",
    "symmetry c1\n",
    "\"\"\"\n",
    "\n",
    "options_dict = {\n",
    "    \"basis\": \"6-311G**\",\n",
    "    \"scf_type\": \"pk\",\n",
    "    \"e_convergence\": 1e-10,\n",
    "    \"d_convergence\": 1e-10,\n",
    "    \n",
    "}\n",
    "\n",
    "cavity_dict = {\n",
    "    'omega_value' : 0.0,\n",
    "    'lambda_vector' : np.array([0, 0, 0.00]),\n",
    "    'ci_level' : 'cas',\n",
    "    'nact_orbs' : 6, \n",
    "    'nact_els' : 4,\n",
    "    'full_diagonalization' : True,\n",
    "    'number_of_photons' : 0\n",
    "}\n",
    "\n",
    "\n",
    "mol = psi4.geometry(mol_str)\n",
    "\n",
    "\n",
    "test_pf = PFHamiltonianGenerator(\n",
    "    mol_str,\n",
    "    options_dict,\n",
    "    cavity_dict\n",
    ")\n",
    "\n",
    "\n",
    "\n"
   ]
  },
  {
   "cell_type": "code",
   "execution_count": null,
   "id": "97d93a76",
   "metadata": {},
   "outputs": [],
   "source": [
    "scf_e, wfn = psi4.energy('SCF', return_wfn=True)\n",
    "fci_energy, wfn = psi4.energy('fci',ref_wfn=wfn, return_wfn=True)\n",
    "\n",
    "#print(fci_energy)\n",
    "#print(wfn.keys())\n"
   ]
  },
  {
   "cell_type": "code",
   "execution_count": null,
   "id": "c2ae9d5a",
   "metadata": {},
   "outputs": [],
   "source": [
    "print(fci_energy)\n",
    "\n",
    "#print(test_pf.CIeigs[2])"
   ]
  },
  {
   "cell_type": "code",
   "execution_count": null,
   "id": "1d3c8558",
   "metadata": {},
   "outputs": [],
   "source": [
    "singlet_states = test_pf.sort_dipole_allowed_states(10)\n",
    "print(singlet_states)\n",
    "print(test_pf.CIeigs[singlet_states])"
   ]
  },
  {
   "cell_type": "code",
   "execution_count": null,
   "id": "2da4b3fb",
   "metadata": {},
   "outputs": [],
   "source": []
  }
 ],
 "metadata": {
  "kernelspec": {
   "display_name": "Python 3 (ipykernel)",
   "language": "python",
   "name": "python3"
  },
  "language_info": {
   "codemirror_mode": {
    "name": "ipython",
    "version": 3
   },
   "file_extension": ".py",
   "mimetype": "text/x-python",
   "name": "python",
   "nbconvert_exporter": "python",
   "pygments_lexer": "ipython3",
   "version": "3.9.13"
  }
 },
 "nbformat": 4,
 "nbformat_minor": 5
}
